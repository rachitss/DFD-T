{
 "cells": [
  {
   "cell_type": "code",
   "execution_count": 2,
   "id": "69efea60",
   "metadata": {},
   "outputs": [
    {
     "name": "stdout",
     "output_type": "stream",
     "text": [
      "Running on device: cuda:0\n"
     ]
    }
   ],
   "source": [
    "from transformers import EfficientNetImageProcessor, EfficientNetForImageClassification\n",
    "from PIL import Image\n",
    "import requests\n",
    "import pandas as pd\n",
    "import os\n",
    "from tqdm.auto import tqdm\n",
    "import glob\n",
    "import multiprocessing as mp\n",
    "import numpy as np\n",
    "from sklearn.model_selection import train_test_split\n",
    "import torch\n",
    "from torch.utils.data import TensorDataset, DataLoader\n",
    "import torch.nn as nn\n",
    "import matplotlib.pyplot as plt\n",
    "from torchviz import make_dot\n",
    "from ptflops import get_model_complexity_info\n",
    "import time\n",
    "import sys\n",
    "\n",
    "\n",
    "device = 'cuda:0' if torch.cuda.is_available() else 'cpu'\n",
    "print(f'Running on device: {device}')\n"
   ]
  },
  {
   "cell_type": "markdown",
   "id": "08a4cda5",
   "metadata": {},
   "source": [
    "# Training Data"
   ]
  },
  {
   "cell_type": "code",
   "execution_count": 2,
   "id": "204f32de",
   "metadata": {},
   "outputs": [
    {
     "data": {
      "text/html": [
       "<div>\n",
       "<style scoped>\n",
       "    .dataframe tbody tr th:only-of-type {\n",
       "        vertical-align: middle;\n",
       "    }\n",
       "\n",
       "    .dataframe tbody tr th {\n",
       "        vertical-align: top;\n",
       "    }\n",
       "\n",
       "    .dataframe thead th {\n",
       "        text-align: right;\n",
       "    }\n",
       "</style>\n",
       "<table border=\"1\" class=\"dataframe\">\n",
       "  <thead>\n",
       "    <tr style=\"text-align: right;\">\n",
       "      <th></th>\n",
       "      <th>filename</th>\n",
       "      <th>label</th>\n",
       "      <th>split</th>\n",
       "      <th>original</th>\n",
       "      <th>path</th>\n",
       "    </tr>\n",
       "  </thead>\n",
       "  <tbody>\n",
       "    <tr>\n",
       "      <th>0</th>\n",
       "      <td>aagfhgtpmv.mp4</td>\n",
       "      <td>FAKE</td>\n",
       "      <td>train</td>\n",
       "      <td>vudstovrck.mp4</td>\n",
       "      <td>D:\\W\\VS\\VS Folder\\DFD\\DFDC MTCNN Extracted\\aag...</td>\n",
       "    </tr>\n",
       "    <tr>\n",
       "      <th>1</th>\n",
       "      <td>aapnvogymq.mp4</td>\n",
       "      <td>FAKE</td>\n",
       "      <td>train</td>\n",
       "      <td>jdubbvfswz.mp4</td>\n",
       "      <td>D:\\W\\VS\\VS Folder\\DFD\\DFDC MTCNN Extracted\\aap...</td>\n",
       "    </tr>\n",
       "    <tr>\n",
       "      <th>2</th>\n",
       "      <td>abarnvbtwb.mp4</td>\n",
       "      <td>REAL</td>\n",
       "      <td>train</td>\n",
       "      <td>NaN</td>\n",
       "      <td>D:\\W\\VS\\VS Folder\\DFD\\DFDC MTCNN Extracted\\aba...</td>\n",
       "    </tr>\n",
       "    <tr>\n",
       "      <th>3</th>\n",
       "      <td>abofeumbvv.mp4</td>\n",
       "      <td>FAKE</td>\n",
       "      <td>train</td>\n",
       "      <td>atvmxvwyns.mp4</td>\n",
       "      <td>D:\\W\\VS\\VS Folder\\DFD\\DFDC MTCNN Extracted\\abo...</td>\n",
       "    </tr>\n",
       "    <tr>\n",
       "      <th>4</th>\n",
       "      <td>abqwwspghj.mp4</td>\n",
       "      <td>FAKE</td>\n",
       "      <td>train</td>\n",
       "      <td>qzimuostzz.mp4</td>\n",
       "      <td>D:\\W\\VS\\VS Folder\\DFD\\DFDC MTCNN Extracted\\abq...</td>\n",
       "    </tr>\n",
       "    <tr>\n",
       "      <th>...</th>\n",
       "      <td>...</td>\n",
       "      <td>...</td>\n",
       "      <td>...</td>\n",
       "      <td>...</td>\n",
       "      <td>...</td>\n",
       "    </tr>\n",
       "    <tr>\n",
       "      <th>395</th>\n",
       "      <td>etejaapnxh.mp4</td>\n",
       "      <td>FAKE</td>\n",
       "      <td>train</td>\n",
       "      <td>wtreibcmgm.mp4</td>\n",
       "      <td>D:\\W\\VS\\VS Folder\\DFD\\DFDC MTCNN Extracted\\ete...</td>\n",
       "    </tr>\n",
       "    <tr>\n",
       "      <th>396</th>\n",
       "      <td>etmcruaihe.mp4</td>\n",
       "      <td>FAKE</td>\n",
       "      <td>train</td>\n",
       "      <td>afoovlsmtx.mp4</td>\n",
       "      <td>D:\\W\\VS\\VS Folder\\DFD\\DFDC MTCNN Extracted\\etm...</td>\n",
       "    </tr>\n",
       "    <tr>\n",
       "      <th>397</th>\n",
       "      <td>etohcvnzbj.mp4</td>\n",
       "      <td>FAKE</td>\n",
       "      <td>train</td>\n",
       "      <td>bdnaqemxmr.mp4</td>\n",
       "      <td>D:\\W\\VS\\VS Folder\\DFD\\DFDC MTCNN Extracted\\eto...</td>\n",
       "    </tr>\n",
       "    <tr>\n",
       "      <th>398</th>\n",
       "      <td>eudeqjhdfd.mp4</td>\n",
       "      <td>REAL</td>\n",
       "      <td>train</td>\n",
       "      <td>NaN</td>\n",
       "      <td>D:\\W\\VS\\VS Folder\\DFD\\DFDC MTCNN Extracted\\eud...</td>\n",
       "    </tr>\n",
       "    <tr>\n",
       "      <th>399</th>\n",
       "      <td>eukvucdetx.mp4</td>\n",
       "      <td>FAKE</td>\n",
       "      <td>train</td>\n",
       "      <td>gjypopglvi.mp4</td>\n",
       "      <td>D:\\W\\VS\\VS Folder\\DFD\\DFDC MTCNN Extracted\\euk...</td>\n",
       "    </tr>\n",
       "  </tbody>\n",
       "</table>\n",
       "<p>400 rows × 5 columns</p>\n",
       "</div>"
      ],
      "text/plain": [
       "           filename label  split        original  \\\n",
       "0    aagfhgtpmv.mp4  FAKE  train  vudstovrck.mp4   \n",
       "1    aapnvogymq.mp4  FAKE  train  jdubbvfswz.mp4   \n",
       "2    abarnvbtwb.mp4  REAL  train             NaN   \n",
       "3    abofeumbvv.mp4  FAKE  train  atvmxvwyns.mp4   \n",
       "4    abqwwspghj.mp4  FAKE  train  qzimuostzz.mp4   \n",
       "..              ...   ...    ...             ...   \n",
       "395  etejaapnxh.mp4  FAKE  train  wtreibcmgm.mp4   \n",
       "396  etmcruaihe.mp4  FAKE  train  afoovlsmtx.mp4   \n",
       "397  etohcvnzbj.mp4  FAKE  train  bdnaqemxmr.mp4   \n",
       "398  eudeqjhdfd.mp4  REAL  train             NaN   \n",
       "399  eukvucdetx.mp4  FAKE  train  gjypopglvi.mp4   \n",
       "\n",
       "                                                  path  \n",
       "0    D:\\W\\VS\\VS Folder\\DFD\\DFDC MTCNN Extracted\\aag...  \n",
       "1    D:\\W\\VS\\VS Folder\\DFD\\DFDC MTCNN Extracted\\aap...  \n",
       "2    D:\\W\\VS\\VS Folder\\DFD\\DFDC MTCNN Extracted\\aba...  \n",
       "3    D:\\W\\VS\\VS Folder\\DFD\\DFDC MTCNN Extracted\\abo...  \n",
       "4    D:\\W\\VS\\VS Folder\\DFD\\DFDC MTCNN Extracted\\abq...  \n",
       "..                                                 ...  \n",
       "395  D:\\W\\VS\\VS Folder\\DFD\\DFDC MTCNN Extracted\\ete...  \n",
       "396  D:\\W\\VS\\VS Folder\\DFD\\DFDC MTCNN Extracted\\etm...  \n",
       "397  D:\\W\\VS\\VS Folder\\DFD\\DFDC MTCNN Extracted\\eto...  \n",
       "398  D:\\W\\VS\\VS Folder\\DFD\\DFDC MTCNN Extracted\\eud...  \n",
       "399  D:\\W\\VS\\VS Folder\\DFD\\DFDC MTCNN Extracted\\euk...  \n",
       "\n",
       "[400 rows x 5 columns]"
      ]
     },
     "execution_count": 2,
     "metadata": {},
     "output_type": "execute_result"
    }
   ],
   "source": [
    "train_dir = 'D:\\\\W\\\\VS\\\\VS Folder\\\\DFD\\\\DFDC MTCNN Extracted\\\\'\n",
    "train_df = pd.read_csv(os.path.join(train_dir, 'metadata.csv'))\n",
    "train_df['path'] = train_df['filename'].apply(lambda x: os.path.join(train_dir, x.split('.')[0]))\n",
    "\n",
    "# Remove empty folders\n",
    "train_df = train_df[train_df['path'].map(lambda x: os.path.exists(x))]\n",
    "train_df"
   ]
  },
  {
   "cell_type": "code",
   "execution_count": 3,
   "id": "23dbafc7",
   "metadata": {},
   "outputs": [
    {
     "data": {
      "application/vnd.jupyter.widget-view+json": {
       "model_id": "8bd44ed227f646da9869e1a4e179ef88",
       "version_major": 2,
       "version_minor": 0
      },
      "text/plain": [
       "  0%|          | 0/400 [00:00<?, ?it/s]"
      ]
     },
     "metadata": {},
     "output_type": "display_data"
    }
   ],
   "source": [
    "valid_train_df = pd.DataFrame(columns=['filename', 'label', 'split', 'original', 'path'])\n",
    "\n",
    "# for row_idx, row in tqdm(train_df.iterrows()):\n",
    "for row_idx in tqdm(train_df.index):\n",
    "    row = train_df.loc[row_idx]\n",
    "    img_dir = row['path']\n",
    "    face_paths = glob.glob(f'{img_dir}/*.png')\n",
    "\n",
    "    if len(face_paths) >= 5: # Satisfy the minimum requirement for the number of faces\n",
    "        face_indices = [\n",
    "            path.split('\\\\')[-1].split('.')[0].split('_')[0]\n",
    "            for path in face_paths\n",
    "        ]\n",
    "        max_idx = np.max(np.array(face_indices, dtype=np.uint32))\n",
    "\n",
    "        selected_paths = []\n",
    "\n",
    "        for i in range(5):\n",
    "            stride = int((max_idx + 1)/(5**2))\n",
    "            sample = np.linspace(i*stride, max_idx + i*stride, 5).astype(int)\n",
    "\n",
    "            # Get faces\n",
    "            for idx in sample:\n",
    "                paths = glob.glob(f'{img_dir}/{idx}*.png')\n",
    "\n",
    "                selected_paths.extend(paths)\n",
    "                if len(selected_paths) >= 5: # Get enough faces\n",
    "                    break\n",
    "\n",
    "            if len(selected_paths) >= 5:  # Get enough faces\n",
    "                valid_train_df = pd.concat([valid_train_df, pd.DataFrame([row])], ignore_index=True)\n",
    "                break"
   ]
  },
  {
   "cell_type": "code",
   "execution_count": 16,
   "id": "e89472c9",
   "metadata": {},
   "outputs": [
    {
     "name": "stderr",
     "output_type": "stream",
     "text": [
      "C:\\Users\\rachi\\AppData\\Local\\Temp\\ipykernel_21020\\3380636837.py:1: FutureWarning: Downcasting behavior in `replace` is deprecated and will be removed in a future version. To retain the old behavior, explicitly call `result.infer_objects(copy=False)`. To opt-in to the future behavior, set `pd.set_option('future.no_silent_downcasting', True)`\n",
      "  valid_train_df['label']=valid_train_df['label'].replace({'FAKE': 1, 'REAL': 0})\n"
     ]
    },
    {
     "data": {
      "text/html": [
       "<div>\n",
       "<style scoped>\n",
       "    .dataframe tbody tr th:only-of-type {\n",
       "        vertical-align: middle;\n",
       "    }\n",
       "\n",
       "    .dataframe tbody tr th {\n",
       "        vertical-align: top;\n",
       "    }\n",
       "\n",
       "    .dataframe thead th {\n",
       "        text-align: right;\n",
       "    }\n",
       "</style>\n",
       "<table border=\"1\" class=\"dataframe\">\n",
       "  <thead>\n",
       "    <tr style=\"text-align: right;\">\n",
       "      <th></th>\n",
       "      <th>filename</th>\n",
       "      <th>label</th>\n",
       "      <th>split</th>\n",
       "      <th>original</th>\n",
       "      <th>path</th>\n",
       "    </tr>\n",
       "  </thead>\n",
       "  <tbody>\n",
       "    <tr>\n",
       "      <th>0</th>\n",
       "      <td>aagfhgtpmv.mp4</td>\n",
       "      <td>1</td>\n",
       "      <td>train</td>\n",
       "      <td>vudstovrck.mp4</td>\n",
       "      <td>D:\\W\\VS\\VS Folder\\DFD\\DFDC MTCNN Extracted\\aag...</td>\n",
       "    </tr>\n",
       "    <tr>\n",
       "      <th>1</th>\n",
       "      <td>aapnvogymq.mp4</td>\n",
       "      <td>1</td>\n",
       "      <td>train</td>\n",
       "      <td>jdubbvfswz.mp4</td>\n",
       "      <td>D:\\W\\VS\\VS Folder\\DFD\\DFDC MTCNN Extracted\\aap...</td>\n",
       "    </tr>\n",
       "    <tr>\n",
       "      <th>2</th>\n",
       "      <td>abarnvbtwb.mp4</td>\n",
       "      <td>0</td>\n",
       "      <td>train</td>\n",
       "      <td>NaN</td>\n",
       "      <td>D:\\W\\VS\\VS Folder\\DFD\\DFDC MTCNN Extracted\\aba...</td>\n",
       "    </tr>\n",
       "    <tr>\n",
       "      <th>3</th>\n",
       "      <td>abqwwspghj.mp4</td>\n",
       "      <td>1</td>\n",
       "      <td>train</td>\n",
       "      <td>qzimuostzz.mp4</td>\n",
       "      <td>D:\\W\\VS\\VS Folder\\DFD\\DFDC MTCNN Extracted\\abq...</td>\n",
       "    </tr>\n",
       "    <tr>\n",
       "      <th>4</th>\n",
       "      <td>acifjvzvpm.mp4</td>\n",
       "      <td>1</td>\n",
       "      <td>train</td>\n",
       "      <td>kbvibjhfzo.mp4</td>\n",
       "      <td>D:\\W\\VS\\VS Folder\\DFD\\DFDC MTCNN Extracted\\aci...</td>\n",
       "    </tr>\n",
       "  </tbody>\n",
       "</table>\n",
       "</div>"
      ],
      "text/plain": [
       "         filename  label  split        original  \\\n",
       "0  aagfhgtpmv.mp4      1  train  vudstovrck.mp4   \n",
       "1  aapnvogymq.mp4      1  train  jdubbvfswz.mp4   \n",
       "2  abarnvbtwb.mp4      0  train             NaN   \n",
       "3  abqwwspghj.mp4      1  train  qzimuostzz.mp4   \n",
       "4  acifjvzvpm.mp4      1  train  kbvibjhfzo.mp4   \n",
       "\n",
       "                                                path  \n",
       "0  D:\\W\\VS\\VS Folder\\DFD\\DFDC MTCNN Extracted\\aag...  \n",
       "1  D:\\W\\VS\\VS Folder\\DFD\\DFDC MTCNN Extracted\\aap...  \n",
       "2  D:\\W\\VS\\VS Folder\\DFD\\DFDC MTCNN Extracted\\aba...  \n",
       "3  D:\\W\\VS\\VS Folder\\DFD\\DFDC MTCNN Extracted\\abq...  \n",
       "4  D:\\W\\VS\\VS Folder\\DFD\\DFDC MTCNN Extracted\\aci...  "
      ]
     },
     "metadata": {},
     "output_type": "display_data"
    },
    {
     "name": "stdout",
     "output_type": "stream",
     "text": [
      "label\n",
      "0     76\n",
      "1    306\n",
      "Name: filename, dtype: int64\n"
     ]
    }
   ],
   "source": [
    "valid_train_df['label']=valid_train_df['label'].replace({'FAKE': 1, 'REAL': 0})\n",
    "display(valid_train_df.head())\n",
    "\n",
    "label_count = valid_train_df.groupby('label').count()['filename']\n",
    "print(label_count)\n",
    "\n",
    "x = valid_train_df['path'].to_numpy()\n",
    "y = valid_train_df['label'].to_numpy()\n",
    "\n",
    "x_train, x_val, y_train, y_val = train_test_split(x, y, test_size=0.3, random_state=224, stratify=y)\n",
    "\n",
    "np.savez('train_test_split.npz',\n",
    "         x_train=x_train,\n",
    "         x_val=x_val,\n",
    "         y_train=y_train,\n",
    "         y_val=y_val)"
   ]
  },
  {
   "cell_type": "markdown",
   "id": "8cbd86ca",
   "metadata": {},
   "source": [
    "# Training - Feature extraction and classifier"
   ]
  },
  {
   "cell_type": "code",
   "execution_count": 2,
   "id": "89cafb83",
   "metadata": {},
   "outputs": [],
   "source": [
    "data = np.load('train_test_split.npz', allow_pickle=True)\n",
    "x_train = data['x_train']\n",
    "y_train = data['y_train']"
   ]
  },
  {
   "cell_type": "markdown",
   "id": "c67fd378",
   "metadata": {},
   "source": [
    "### Model"
   ]
  },
  {
   "cell_type": "code",
   "execution_count": 3,
   "id": "1967d768",
   "metadata": {},
   "outputs": [
    {
     "name": "stderr",
     "output_type": "stream",
     "text": [
      "Some weights of EfficientNetForImageClassification were not initialized from the model checkpoint at google/efficientnet-b0 and are newly initialized because the shapes did not match:\n",
      "- classifier.weight: found shape torch.Size([1000, 1280]) in the checkpoint and torch.Size([1, 1280]) in the model instantiated\n",
      "- classifier.bias: found shape torch.Size([1000]) in the checkpoint and torch.Size([1]) in the model instantiated\n",
      "You should probably TRAIN this model on a down-stream task to be able to use it for predictions and inference.\n"
     ]
    }
   ],
   "source": [
    "processor = EfficientNetImageProcessor.from_pretrained(\"google/efficientnet-b0\")\n",
    "model = EfficientNetForImageClassification.from_pretrained(\"google/efficientnet-b0\", num_labels=1, ignore_mismatched_sizes=True)\n",
    "# classifier = nn.Linear(768, 1)\n",
    "criterion = nn.BCEWithLogitsLoss()  # For binary classification\n"
   ]
  },
  {
   "cell_type": "code",
   "execution_count": 6,
   "id": "6e117591",
   "metadata": {},
   "outputs": [
    {
     "name": "stdout",
     "output_type": "stream",
     "text": [
      "EfficientNetForImageClassification(\n",
      "  (efficientnet): EfficientNetModel(\n",
      "    (embeddings): EfficientNetEmbeddings(\n",
      "      (padding): ZeroPad2d((0, 1, 0, 1))\n",
      "      (convolution): Conv2d(3, 32, kernel_size=(3, 3), stride=(2, 2), padding=valid, bias=False)\n",
      "      (batchnorm): BatchNorm2d(32, eps=0.001, momentum=0.99, affine=True, track_running_stats=True)\n",
      "      (activation): SiLU()\n",
      "    )\n",
      "    (encoder): EfficientNetEncoder(\n",
      "      (blocks): ModuleList(\n",
      "        (0): EfficientNetBlock(\n",
      "          (depthwise_conv): EfficientNetDepthwiseLayer(\n",
      "            (depthwise_conv_pad): ZeroPad2d((0, 1, 0, 1))\n",
      "            (depthwise_conv): EfficientNetDepthwiseConv2d(32, 32, kernel_size=(3, 3), stride=(1, 1), padding=same, groups=32, bias=False)\n",
      "            (depthwise_norm): BatchNorm2d(32, eps=0.001, momentum=0.99, affine=True, track_running_stats=True)\n",
      "            (depthwise_act): SiLU()\n",
      "          )\n",
      "          (squeeze_excite): EfficientNetSqueezeExciteLayer(\n",
      "            (squeeze): AdaptiveAvgPool2d(output_size=1)\n",
      "            (reduce): Conv2d(32, 8, kernel_size=(1, 1), stride=(1, 1), padding=same)\n",
      "            (expand): Conv2d(8, 32, kernel_size=(1, 1), stride=(1, 1), padding=same)\n",
      "            (act_reduce): SiLU()\n",
      "            (act_expand): Sigmoid()\n",
      "          )\n",
      "          (projection): EfficientNetFinalBlockLayer(\n",
      "            (project_conv): Conv2d(32, 16, kernel_size=(1, 1), stride=(1, 1), padding=same, bias=False)\n",
      "            (project_bn): BatchNorm2d(16, eps=0.001, momentum=0.99, affine=True, track_running_stats=True)\n",
      "            (dropout): Dropout(p=0.0, inplace=False)\n",
      "          )\n",
      "        )\n",
      "        (1): EfficientNetBlock(\n",
      "          (expansion): EfficientNetExpansionLayer(\n",
      "            (expand_conv): Conv2d(16, 96, kernel_size=(1, 1), stride=(1, 1), padding=same, bias=False)\n",
      "            (expand_bn): BatchNorm2d(96, eps=0.001, momentum=0.1, affine=True, track_running_stats=True)\n",
      "            (expand_act): SiLU()\n",
      "          )\n",
      "          (depthwise_conv): EfficientNetDepthwiseLayer(\n",
      "            (depthwise_conv_pad): ZeroPad2d((0, 1, 0, 1))\n",
      "            (depthwise_conv): EfficientNetDepthwiseConv2d(96, 96, kernel_size=(3, 3), stride=(2, 2), padding=valid, groups=96, bias=False)\n",
      "            (depthwise_norm): BatchNorm2d(96, eps=0.001, momentum=0.99, affine=True, track_running_stats=True)\n",
      "            (depthwise_act): SiLU()\n",
      "          )\n",
      "          (squeeze_excite): EfficientNetSqueezeExciteLayer(\n",
      "            (squeeze): AdaptiveAvgPool2d(output_size=1)\n",
      "            (reduce): Conv2d(96, 4, kernel_size=(1, 1), stride=(1, 1), padding=same)\n",
      "            (expand): Conv2d(4, 96, kernel_size=(1, 1), stride=(1, 1), padding=same)\n",
      "            (act_reduce): SiLU()\n",
      "            (act_expand): Sigmoid()\n",
      "          )\n",
      "          (projection): EfficientNetFinalBlockLayer(\n",
      "            (project_conv): Conv2d(96, 24, kernel_size=(1, 1), stride=(1, 1), padding=same, bias=False)\n",
      "            (project_bn): BatchNorm2d(24, eps=0.001, momentum=0.99, affine=True, track_running_stats=True)\n",
      "            (dropout): Dropout(p=0.0125, inplace=False)\n",
      "          )\n",
      "        )\n",
      "        (2): EfficientNetBlock(\n",
      "          (expansion): EfficientNetExpansionLayer(\n",
      "            (expand_conv): Conv2d(24, 144, kernel_size=(1, 1), stride=(1, 1), padding=same, bias=False)\n",
      "            (expand_bn): BatchNorm2d(144, eps=0.001, momentum=0.1, affine=True, track_running_stats=True)\n",
      "            (expand_act): SiLU()\n",
      "          )\n",
      "          (depthwise_conv): EfficientNetDepthwiseLayer(\n",
      "            (depthwise_conv_pad): ZeroPad2d((0, 1, 0, 1))\n",
      "            (depthwise_conv): EfficientNetDepthwiseConv2d(144, 144, kernel_size=(3, 3), stride=(1, 1), padding=same, groups=144, bias=False)\n",
      "            (depthwise_norm): BatchNorm2d(144, eps=0.001, momentum=0.99, affine=True, track_running_stats=True)\n",
      "            (depthwise_act): SiLU()\n",
      "          )\n",
      "          (squeeze_excite): EfficientNetSqueezeExciteLayer(\n",
      "            (squeeze): AdaptiveAvgPool2d(output_size=1)\n",
      "            (reduce): Conv2d(144, 6, kernel_size=(1, 1), stride=(1, 1), padding=same)\n",
      "            (expand): Conv2d(6, 144, kernel_size=(1, 1), stride=(1, 1), padding=same)\n",
      "            (act_reduce): SiLU()\n",
      "            (act_expand): Sigmoid()\n",
      "          )\n",
      "          (projection): EfficientNetFinalBlockLayer(\n",
      "            (project_conv): Conv2d(144, 24, kernel_size=(1, 1), stride=(1, 1), padding=same, bias=False)\n",
      "            (project_bn): BatchNorm2d(24, eps=0.001, momentum=0.99, affine=True, track_running_stats=True)\n",
      "            (dropout): Dropout(p=0.025, inplace=False)\n",
      "          )\n",
      "        )\n",
      "        (3): EfficientNetBlock(\n",
      "          (expansion): EfficientNetExpansionLayer(\n",
      "            (expand_conv): Conv2d(24, 144, kernel_size=(1, 1), stride=(1, 1), padding=same, bias=False)\n",
      "            (expand_bn): BatchNorm2d(144, eps=0.001, momentum=0.1, affine=True, track_running_stats=True)\n",
      "            (expand_act): SiLU()\n",
      "          )\n",
      "          (depthwise_conv): EfficientNetDepthwiseLayer(\n",
      "            (depthwise_conv_pad): ZeroPad2d((1, 2, 1, 2))\n",
      "            (depthwise_conv): EfficientNetDepthwiseConv2d(144, 144, kernel_size=(5, 5), stride=(2, 2), padding=valid, groups=144, bias=False)\n",
      "            (depthwise_norm): BatchNorm2d(144, eps=0.001, momentum=0.99, affine=True, track_running_stats=True)\n",
      "            (depthwise_act): SiLU()\n",
      "          )\n",
      "          (squeeze_excite): EfficientNetSqueezeExciteLayer(\n",
      "            (squeeze): AdaptiveAvgPool2d(output_size=1)\n",
      "            (reduce): Conv2d(144, 6, kernel_size=(1, 1), stride=(1, 1), padding=same)\n",
      "            (expand): Conv2d(6, 144, kernel_size=(1, 1), stride=(1, 1), padding=same)\n",
      "            (act_reduce): SiLU()\n",
      "            (act_expand): Sigmoid()\n",
      "          )\n",
      "          (projection): EfficientNetFinalBlockLayer(\n",
      "            (project_conv): Conv2d(144, 40, kernel_size=(1, 1), stride=(1, 1), padding=same, bias=False)\n",
      "            (project_bn): BatchNorm2d(40, eps=0.001, momentum=0.99, affine=True, track_running_stats=True)\n",
      "            (dropout): Dropout(p=0.037500000000000006, inplace=False)\n",
      "          )\n",
      "        )\n",
      "        (4): EfficientNetBlock(\n",
      "          (expansion): EfficientNetExpansionLayer(\n",
      "            (expand_conv): Conv2d(40, 240, kernel_size=(1, 1), stride=(1, 1), padding=same, bias=False)\n",
      "            (expand_bn): BatchNorm2d(240, eps=0.001, momentum=0.1, affine=True, track_running_stats=True)\n",
      "            (expand_act): SiLU()\n",
      "          )\n",
      "          (depthwise_conv): EfficientNetDepthwiseLayer(\n",
      "            (depthwise_conv_pad): ZeroPad2d((1, 2, 1, 2))\n",
      "            (depthwise_conv): EfficientNetDepthwiseConv2d(240, 240, kernel_size=(5, 5), stride=(1, 1), padding=same, groups=240, bias=False)\n",
      "            (depthwise_norm): BatchNorm2d(240, eps=0.001, momentum=0.99, affine=True, track_running_stats=True)\n",
      "            (depthwise_act): SiLU()\n",
      "          )\n",
      "          (squeeze_excite): EfficientNetSqueezeExciteLayer(\n",
      "            (squeeze): AdaptiveAvgPool2d(output_size=1)\n",
      "            (reduce): Conv2d(240, 10, kernel_size=(1, 1), stride=(1, 1), padding=same)\n",
      "            (expand): Conv2d(10, 240, kernel_size=(1, 1), stride=(1, 1), padding=same)\n",
      "            (act_reduce): SiLU()\n",
      "            (act_expand): Sigmoid()\n",
      "          )\n",
      "          (projection): EfficientNetFinalBlockLayer(\n",
      "            (project_conv): Conv2d(240, 40, kernel_size=(1, 1), stride=(1, 1), padding=same, bias=False)\n",
      "            (project_bn): BatchNorm2d(40, eps=0.001, momentum=0.99, affine=True, track_running_stats=True)\n",
      "            (dropout): Dropout(p=0.05, inplace=False)\n",
      "          )\n",
      "        )\n",
      "        (5): EfficientNetBlock(\n",
      "          (expansion): EfficientNetExpansionLayer(\n",
      "            (expand_conv): Conv2d(40, 240, kernel_size=(1, 1), stride=(1, 1), padding=same, bias=False)\n",
      "            (expand_bn): BatchNorm2d(240, eps=0.001, momentum=0.1, affine=True, track_running_stats=True)\n",
      "            (expand_act): SiLU()\n",
      "          )\n",
      "          (depthwise_conv): EfficientNetDepthwiseLayer(\n",
      "            (depthwise_conv_pad): ZeroPad2d((0, 1, 0, 1))\n",
      "            (depthwise_conv): EfficientNetDepthwiseConv2d(240, 240, kernel_size=(3, 3), stride=(2, 2), padding=valid, groups=240, bias=False)\n",
      "            (depthwise_norm): BatchNorm2d(240, eps=0.001, momentum=0.99, affine=True, track_running_stats=True)\n",
      "            (depthwise_act): SiLU()\n",
      "          )\n",
      "          (squeeze_excite): EfficientNetSqueezeExciteLayer(\n",
      "            (squeeze): AdaptiveAvgPool2d(output_size=1)\n",
      "            (reduce): Conv2d(240, 10, kernel_size=(1, 1), stride=(1, 1), padding=same)\n",
      "            (expand): Conv2d(10, 240, kernel_size=(1, 1), stride=(1, 1), padding=same)\n",
      "            (act_reduce): SiLU()\n",
      "            (act_expand): Sigmoid()\n",
      "          )\n",
      "          (projection): EfficientNetFinalBlockLayer(\n",
      "            (project_conv): Conv2d(240, 80, kernel_size=(1, 1), stride=(1, 1), padding=same, bias=False)\n",
      "            (project_bn): BatchNorm2d(80, eps=0.001, momentum=0.99, affine=True, track_running_stats=True)\n",
      "            (dropout): Dropout(p=0.0625, inplace=False)\n",
      "          )\n",
      "        )\n",
      "        (6): EfficientNetBlock(\n",
      "          (expansion): EfficientNetExpansionLayer(\n",
      "            (expand_conv): Conv2d(80, 480, kernel_size=(1, 1), stride=(1, 1), padding=same, bias=False)\n",
      "            (expand_bn): BatchNorm2d(480, eps=0.001, momentum=0.1, affine=True, track_running_stats=True)\n",
      "            (expand_act): SiLU()\n",
      "          )\n",
      "          (depthwise_conv): EfficientNetDepthwiseLayer(\n",
      "            (depthwise_conv_pad): ZeroPad2d((0, 1, 0, 1))\n",
      "            (depthwise_conv): EfficientNetDepthwiseConv2d(480, 480, kernel_size=(3, 3), stride=(1, 1), padding=same, groups=480, bias=False)\n",
      "            (depthwise_norm): BatchNorm2d(480, eps=0.001, momentum=0.99, affine=True, track_running_stats=True)\n",
      "            (depthwise_act): SiLU()\n",
      "          )\n",
      "          (squeeze_excite): EfficientNetSqueezeExciteLayer(\n",
      "            (squeeze): AdaptiveAvgPool2d(output_size=1)\n",
      "            (reduce): Conv2d(480, 20, kernel_size=(1, 1), stride=(1, 1), padding=same)\n",
      "            (expand): Conv2d(20, 480, kernel_size=(1, 1), stride=(1, 1), padding=same)\n",
      "            (act_reduce): SiLU()\n",
      "            (act_expand): Sigmoid()\n",
      "          )\n",
      "          (projection): EfficientNetFinalBlockLayer(\n",
      "            (project_conv): Conv2d(480, 80, kernel_size=(1, 1), stride=(1, 1), padding=same, bias=False)\n",
      "            (project_bn): BatchNorm2d(80, eps=0.001, momentum=0.99, affine=True, track_running_stats=True)\n",
      "            (dropout): Dropout(p=0.07500000000000001, inplace=False)\n",
      "          )\n",
      "        )\n",
      "        (7): EfficientNetBlock(\n",
      "          (expansion): EfficientNetExpansionLayer(\n",
      "            (expand_conv): Conv2d(80, 480, kernel_size=(1, 1), stride=(1, 1), padding=same, bias=False)\n",
      "            (expand_bn): BatchNorm2d(480, eps=0.001, momentum=0.1, affine=True, track_running_stats=True)\n",
      "            (expand_act): SiLU()\n",
      "          )\n",
      "          (depthwise_conv): EfficientNetDepthwiseLayer(\n",
      "            (depthwise_conv_pad): ZeroPad2d((0, 1, 0, 1))\n",
      "            (depthwise_conv): EfficientNetDepthwiseConv2d(480, 480, kernel_size=(3, 3), stride=(1, 1), padding=same, groups=480, bias=False)\n",
      "            (depthwise_norm): BatchNorm2d(480, eps=0.001, momentum=0.99, affine=True, track_running_stats=True)\n",
      "            (depthwise_act): SiLU()\n",
      "          )\n",
      "          (squeeze_excite): EfficientNetSqueezeExciteLayer(\n",
      "            (squeeze): AdaptiveAvgPool2d(output_size=1)\n",
      "            (reduce): Conv2d(480, 20, kernel_size=(1, 1), stride=(1, 1), padding=same)\n",
      "            (expand): Conv2d(20, 480, kernel_size=(1, 1), stride=(1, 1), padding=same)\n",
      "            (act_reduce): SiLU()\n",
      "            (act_expand): Sigmoid()\n",
      "          )\n",
      "          (projection): EfficientNetFinalBlockLayer(\n",
      "            (project_conv): Conv2d(480, 80, kernel_size=(1, 1), stride=(1, 1), padding=same, bias=False)\n",
      "            (project_bn): BatchNorm2d(80, eps=0.001, momentum=0.99, affine=True, track_running_stats=True)\n",
      "            (dropout): Dropout(p=0.08750000000000001, inplace=False)\n",
      "          )\n",
      "        )\n",
      "        (8): EfficientNetBlock(\n",
      "          (expansion): EfficientNetExpansionLayer(\n",
      "            (expand_conv): Conv2d(80, 480, kernel_size=(1, 1), stride=(1, 1), padding=same, bias=False)\n",
      "            (expand_bn): BatchNorm2d(480, eps=0.001, momentum=0.1, affine=True, track_running_stats=True)\n",
      "            (expand_act): SiLU()\n",
      "          )\n",
      "          (depthwise_conv): EfficientNetDepthwiseLayer(\n",
      "            (depthwise_conv_pad): ZeroPad2d((1, 2, 1, 2))\n",
      "            (depthwise_conv): EfficientNetDepthwiseConv2d(480, 480, kernel_size=(5, 5), stride=(1, 1), padding=same, groups=480, bias=False)\n",
      "            (depthwise_norm): BatchNorm2d(480, eps=0.001, momentum=0.99, affine=True, track_running_stats=True)\n",
      "            (depthwise_act): SiLU()\n",
      "          )\n",
      "          (squeeze_excite): EfficientNetSqueezeExciteLayer(\n",
      "            (squeeze): AdaptiveAvgPool2d(output_size=1)\n",
      "            (reduce): Conv2d(480, 20, kernel_size=(1, 1), stride=(1, 1), padding=same)\n",
      "            (expand): Conv2d(20, 480, kernel_size=(1, 1), stride=(1, 1), padding=same)\n",
      "            (act_reduce): SiLU()\n",
      "            (act_expand): Sigmoid()\n",
      "          )\n",
      "          (projection): EfficientNetFinalBlockLayer(\n",
      "            (project_conv): Conv2d(480, 112, kernel_size=(1, 1), stride=(1, 1), padding=same, bias=False)\n",
      "            (project_bn): BatchNorm2d(112, eps=0.001, momentum=0.99, affine=True, track_running_stats=True)\n",
      "            (dropout): Dropout(p=0.1, inplace=False)\n",
      "          )\n",
      "        )\n",
      "        (9): EfficientNetBlock(\n",
      "          (expansion): EfficientNetExpansionLayer(\n",
      "            (expand_conv): Conv2d(112, 672, kernel_size=(1, 1), stride=(1, 1), padding=same, bias=False)\n",
      "            (expand_bn): BatchNorm2d(672, eps=0.001, momentum=0.1, affine=True, track_running_stats=True)\n",
      "            (expand_act): SiLU()\n",
      "          )\n",
      "          (depthwise_conv): EfficientNetDepthwiseLayer(\n",
      "            (depthwise_conv_pad): ZeroPad2d((1, 2, 1, 2))\n",
      "            (depthwise_conv): EfficientNetDepthwiseConv2d(672, 672, kernel_size=(5, 5), stride=(1, 1), padding=same, groups=672, bias=False)\n",
      "            (depthwise_norm): BatchNorm2d(672, eps=0.001, momentum=0.99, affine=True, track_running_stats=True)\n",
      "            (depthwise_act): SiLU()\n",
      "          )\n",
      "          (squeeze_excite): EfficientNetSqueezeExciteLayer(\n",
      "            (squeeze): AdaptiveAvgPool2d(output_size=1)\n",
      "            (reduce): Conv2d(672, 28, kernel_size=(1, 1), stride=(1, 1), padding=same)\n",
      "            (expand): Conv2d(28, 672, kernel_size=(1, 1), stride=(1, 1), padding=same)\n",
      "            (act_reduce): SiLU()\n",
      "            (act_expand): Sigmoid()\n",
      "          )\n",
      "          (projection): EfficientNetFinalBlockLayer(\n",
      "            (project_conv): Conv2d(672, 112, kernel_size=(1, 1), stride=(1, 1), padding=same, bias=False)\n",
      "            (project_bn): BatchNorm2d(112, eps=0.001, momentum=0.99, affine=True, track_running_stats=True)\n",
      "            (dropout): Dropout(p=0.1125, inplace=False)\n",
      "          )\n",
      "        )\n",
      "        (10): EfficientNetBlock(\n",
      "          (expansion): EfficientNetExpansionLayer(\n",
      "            (expand_conv): Conv2d(112, 672, kernel_size=(1, 1), stride=(1, 1), padding=same, bias=False)\n",
      "            (expand_bn): BatchNorm2d(672, eps=0.001, momentum=0.1, affine=True, track_running_stats=True)\n",
      "            (expand_act): SiLU()\n",
      "          )\n",
      "          (depthwise_conv): EfficientNetDepthwiseLayer(\n",
      "            (depthwise_conv_pad): ZeroPad2d((1, 2, 1, 2))\n",
      "            (depthwise_conv): EfficientNetDepthwiseConv2d(672, 672, kernel_size=(5, 5), stride=(1, 1), padding=same, groups=672, bias=False)\n",
      "            (depthwise_norm): BatchNorm2d(672, eps=0.001, momentum=0.99, affine=True, track_running_stats=True)\n",
      "            (depthwise_act): SiLU()\n",
      "          )\n",
      "          (squeeze_excite): EfficientNetSqueezeExciteLayer(\n",
      "            (squeeze): AdaptiveAvgPool2d(output_size=1)\n",
      "            (reduce): Conv2d(672, 28, kernel_size=(1, 1), stride=(1, 1), padding=same)\n",
      "            (expand): Conv2d(28, 672, kernel_size=(1, 1), stride=(1, 1), padding=same)\n",
      "            (act_reduce): SiLU()\n",
      "            (act_expand): Sigmoid()\n",
      "          )\n",
      "          (projection): EfficientNetFinalBlockLayer(\n",
      "            (project_conv): Conv2d(672, 112, kernel_size=(1, 1), stride=(1, 1), padding=same, bias=False)\n",
      "            (project_bn): BatchNorm2d(112, eps=0.001, momentum=0.99, affine=True, track_running_stats=True)\n",
      "            (dropout): Dropout(p=0.125, inplace=False)\n",
      "          )\n",
      "        )\n",
      "        (11): EfficientNetBlock(\n",
      "          (expansion): EfficientNetExpansionLayer(\n",
      "            (expand_conv): Conv2d(112, 672, kernel_size=(1, 1), stride=(1, 1), padding=same, bias=False)\n",
      "            (expand_bn): BatchNorm2d(672, eps=0.001, momentum=0.1, affine=True, track_running_stats=True)\n",
      "            (expand_act): SiLU()\n",
      "          )\n",
      "          (depthwise_conv): EfficientNetDepthwiseLayer(\n",
      "            (depthwise_conv_pad): ZeroPad2d((1, 2, 1, 2))\n",
      "            (depthwise_conv): EfficientNetDepthwiseConv2d(672, 672, kernel_size=(5, 5), stride=(2, 2), padding=valid, groups=672, bias=False)\n",
      "            (depthwise_norm): BatchNorm2d(672, eps=0.001, momentum=0.99, affine=True, track_running_stats=True)\n",
      "            (depthwise_act): SiLU()\n",
      "          )\n",
      "          (squeeze_excite): EfficientNetSqueezeExciteLayer(\n",
      "            (squeeze): AdaptiveAvgPool2d(output_size=1)\n",
      "            (reduce): Conv2d(672, 28, kernel_size=(1, 1), stride=(1, 1), padding=same)\n",
      "            (expand): Conv2d(28, 672, kernel_size=(1, 1), stride=(1, 1), padding=same)\n",
      "            (act_reduce): SiLU()\n",
      "            (act_expand): Sigmoid()\n",
      "          )\n",
      "          (projection): EfficientNetFinalBlockLayer(\n",
      "            (project_conv): Conv2d(672, 192, kernel_size=(1, 1), stride=(1, 1), padding=same, bias=False)\n",
      "            (project_bn): BatchNorm2d(192, eps=0.001, momentum=0.99, affine=True, track_running_stats=True)\n",
      "            (dropout): Dropout(p=0.1375, inplace=False)\n",
      "          )\n",
      "        )\n",
      "        (12): EfficientNetBlock(\n",
      "          (expansion): EfficientNetExpansionLayer(\n",
      "            (expand_conv): Conv2d(192, 1152, kernel_size=(1, 1), stride=(1, 1), padding=same, bias=False)\n",
      "            (expand_bn): BatchNorm2d(1152, eps=0.001, momentum=0.1, affine=True, track_running_stats=True)\n",
      "            (expand_act): SiLU()\n",
      "          )\n",
      "          (depthwise_conv): EfficientNetDepthwiseLayer(\n",
      "            (depthwise_conv_pad): ZeroPad2d((1, 2, 1, 2))\n",
      "            (depthwise_conv): EfficientNetDepthwiseConv2d(1152, 1152, kernel_size=(5, 5), stride=(1, 1), padding=same, groups=1152, bias=False)\n",
      "            (depthwise_norm): BatchNorm2d(1152, eps=0.001, momentum=0.99, affine=True, track_running_stats=True)\n",
      "            (depthwise_act): SiLU()\n",
      "          )\n",
      "          (squeeze_excite): EfficientNetSqueezeExciteLayer(\n",
      "            (squeeze): AdaptiveAvgPool2d(output_size=1)\n",
      "            (reduce): Conv2d(1152, 48, kernel_size=(1, 1), stride=(1, 1), padding=same)\n",
      "            (expand): Conv2d(48, 1152, kernel_size=(1, 1), stride=(1, 1), padding=same)\n",
      "            (act_reduce): SiLU()\n",
      "            (act_expand): Sigmoid()\n",
      "          )\n",
      "          (projection): EfficientNetFinalBlockLayer(\n",
      "            (project_conv): Conv2d(1152, 192, kernel_size=(1, 1), stride=(1, 1), padding=same, bias=False)\n",
      "            (project_bn): BatchNorm2d(192, eps=0.001, momentum=0.99, affine=True, track_running_stats=True)\n",
      "            (dropout): Dropout(p=0.15000000000000002, inplace=False)\n",
      "          )\n",
      "        )\n",
      "        (13): EfficientNetBlock(\n",
      "          (expansion): EfficientNetExpansionLayer(\n",
      "            (expand_conv): Conv2d(192, 1152, kernel_size=(1, 1), stride=(1, 1), padding=same, bias=False)\n",
      "            (expand_bn): BatchNorm2d(1152, eps=0.001, momentum=0.1, affine=True, track_running_stats=True)\n",
      "            (expand_act): SiLU()\n",
      "          )\n",
      "          (depthwise_conv): EfficientNetDepthwiseLayer(\n",
      "            (depthwise_conv_pad): ZeroPad2d((1, 2, 1, 2))\n",
      "            (depthwise_conv): EfficientNetDepthwiseConv2d(1152, 1152, kernel_size=(5, 5), stride=(1, 1), padding=same, groups=1152, bias=False)\n",
      "            (depthwise_norm): BatchNorm2d(1152, eps=0.001, momentum=0.99, affine=True, track_running_stats=True)\n",
      "            (depthwise_act): SiLU()\n",
      "          )\n",
      "          (squeeze_excite): EfficientNetSqueezeExciteLayer(\n",
      "            (squeeze): AdaptiveAvgPool2d(output_size=1)\n",
      "            (reduce): Conv2d(1152, 48, kernel_size=(1, 1), stride=(1, 1), padding=same)\n",
      "            (expand): Conv2d(48, 1152, kernel_size=(1, 1), stride=(1, 1), padding=same)\n",
      "            (act_reduce): SiLU()\n",
      "            (act_expand): Sigmoid()\n",
      "          )\n",
      "          (projection): EfficientNetFinalBlockLayer(\n",
      "            (project_conv): Conv2d(1152, 192, kernel_size=(1, 1), stride=(1, 1), padding=same, bias=False)\n",
      "            (project_bn): BatchNorm2d(192, eps=0.001, momentum=0.99, affine=True, track_running_stats=True)\n",
      "            (dropout): Dropout(p=0.1625, inplace=False)\n",
      "          )\n",
      "        )\n",
      "        (14): EfficientNetBlock(\n",
      "          (expansion): EfficientNetExpansionLayer(\n",
      "            (expand_conv): Conv2d(192, 1152, kernel_size=(1, 1), stride=(1, 1), padding=same, bias=False)\n",
      "            (expand_bn): BatchNorm2d(1152, eps=0.001, momentum=0.1, affine=True, track_running_stats=True)\n",
      "            (expand_act): SiLU()\n",
      "          )\n",
      "          (depthwise_conv): EfficientNetDepthwiseLayer(\n",
      "            (depthwise_conv_pad): ZeroPad2d((1, 2, 1, 2))\n",
      "            (depthwise_conv): EfficientNetDepthwiseConv2d(1152, 1152, kernel_size=(5, 5), stride=(1, 1), padding=same, groups=1152, bias=False)\n",
      "            (depthwise_norm): BatchNorm2d(1152, eps=0.001, momentum=0.99, affine=True, track_running_stats=True)\n",
      "            (depthwise_act): SiLU()\n",
      "          )\n",
      "          (squeeze_excite): EfficientNetSqueezeExciteLayer(\n",
      "            (squeeze): AdaptiveAvgPool2d(output_size=1)\n",
      "            (reduce): Conv2d(1152, 48, kernel_size=(1, 1), stride=(1, 1), padding=same)\n",
      "            (expand): Conv2d(48, 1152, kernel_size=(1, 1), stride=(1, 1), padding=same)\n",
      "            (act_reduce): SiLU()\n",
      "            (act_expand): Sigmoid()\n",
      "          )\n",
      "          (projection): EfficientNetFinalBlockLayer(\n",
      "            (project_conv): Conv2d(1152, 192, kernel_size=(1, 1), stride=(1, 1), padding=same, bias=False)\n",
      "            (project_bn): BatchNorm2d(192, eps=0.001, momentum=0.99, affine=True, track_running_stats=True)\n",
      "            (dropout): Dropout(p=0.17500000000000002, inplace=False)\n",
      "          )\n",
      "        )\n",
      "        (15): EfficientNetBlock(\n",
      "          (expansion): EfficientNetExpansionLayer(\n",
      "            (expand_conv): Conv2d(192, 1152, kernel_size=(1, 1), stride=(1, 1), padding=same, bias=False)\n",
      "            (expand_bn): BatchNorm2d(1152, eps=0.001, momentum=0.1, affine=True, track_running_stats=True)\n",
      "            (expand_act): SiLU()\n",
      "          )\n",
      "          (depthwise_conv): EfficientNetDepthwiseLayer(\n",
      "            (depthwise_conv_pad): ZeroPad2d((0, 1, 0, 1))\n",
      "            (depthwise_conv): EfficientNetDepthwiseConv2d(1152, 1152, kernel_size=(3, 3), stride=(1, 1), padding=same, groups=1152, bias=False)\n",
      "            (depthwise_norm): BatchNorm2d(1152, eps=0.001, momentum=0.99, affine=True, track_running_stats=True)\n",
      "            (depthwise_act): SiLU()\n",
      "          )\n",
      "          (squeeze_excite): EfficientNetSqueezeExciteLayer(\n",
      "            (squeeze): AdaptiveAvgPool2d(output_size=1)\n",
      "            (reduce): Conv2d(1152, 48, kernel_size=(1, 1), stride=(1, 1), padding=same)\n",
      "            (expand): Conv2d(48, 1152, kernel_size=(1, 1), stride=(1, 1), padding=same)\n",
      "            (act_reduce): SiLU()\n",
      "            (act_expand): Sigmoid()\n",
      "          )\n",
      "          (projection): EfficientNetFinalBlockLayer(\n",
      "            (project_conv): Conv2d(1152, 320, kernel_size=(1, 1), stride=(1, 1), padding=same, bias=False)\n",
      "            (project_bn): BatchNorm2d(320, eps=0.001, momentum=0.99, affine=True, track_running_stats=True)\n",
      "            (dropout): Dropout(p=0.1875, inplace=False)\n",
      "          )\n",
      "        )\n",
      "      )\n",
      "      (top_conv): Conv2d(320, 1280, kernel_size=(1, 1), stride=(1, 1), padding=same, bias=False)\n",
      "      (top_bn): BatchNorm2d(1280, eps=0.001, momentum=0.99, affine=True, track_running_stats=True)\n",
      "      (top_activation): SiLU()\n",
      "    )\n",
      "    (pooler): AvgPool2d(kernel_size=1280, stride=1280, padding=0)\n",
      "  )\n",
      "  (dropout): Dropout(p=0.2, inplace=False)\n",
      "  (classifier): Linear(in_features=1280, out_features=1, bias=True)\n",
      ")\n"
     ]
    }
   ],
   "source": [
    "print(model)\n"
   ]
  },
  {
   "cell_type": "code",
   "execution_count": 7,
   "id": "dc2a9ecb",
   "metadata": {},
   "outputs": [
    {
     "name": "stdout",
     "output_type": "stream",
     "text": [
      "Unfreezing block: EfficientNetBlock(\n",
      "  (expansion): EfficientNetExpansionLayer(\n",
      "    (expand_conv): Conv2d(112, 672, kernel_size=(1, 1), stride=(1, 1), padding=same, bias=False)\n",
      "    (expand_bn): BatchNorm2d(672, eps=0.001, momentum=0.1, affine=True, track_running_stats=True)\n",
      "    (expand_act): SiLU()\n",
      "  )\n",
      "  (depthwise_conv): EfficientNetDepthwiseLayer(\n",
      "    (depthwise_conv_pad): ZeroPad2d((1, 2, 1, 2))\n",
      "    (depthwise_conv): EfficientNetDepthwiseConv2d(672, 672, kernel_size=(5, 5), stride=(2, 2), padding=valid, groups=672, bias=False)\n",
      "    (depthwise_norm): BatchNorm2d(672, eps=0.001, momentum=0.99, affine=True, track_running_stats=True)\n",
      "    (depthwise_act): SiLU()\n",
      "  )\n",
      "  (squeeze_excite): EfficientNetSqueezeExciteLayer(\n",
      "    (squeeze): AdaptiveAvgPool2d(output_size=1)\n",
      "    (reduce): Conv2d(672, 28, kernel_size=(1, 1), stride=(1, 1), padding=same)\n",
      "    (expand): Conv2d(28, 672, kernel_size=(1, 1), stride=(1, 1), padding=same)\n",
      "    (act_reduce): SiLU()\n",
      "    (act_expand): Sigmoid()\n",
      "  )\n",
      "  (projection): EfficientNetFinalBlockLayer(\n",
      "    (project_conv): Conv2d(672, 192, kernel_size=(1, 1), stride=(1, 1), padding=same, bias=False)\n",
      "    (project_bn): BatchNorm2d(192, eps=0.001, momentum=0.99, affine=True, track_running_stats=True)\n",
      "    (dropout): Dropout(p=0.1375, inplace=False)\n",
      "  )\n",
      ")\n",
      "Unfreezing block: EfficientNetBlock(\n",
      "  (expansion): EfficientNetExpansionLayer(\n",
      "    (expand_conv): Conv2d(192, 1152, kernel_size=(1, 1), stride=(1, 1), padding=same, bias=False)\n",
      "    (expand_bn): BatchNorm2d(1152, eps=0.001, momentum=0.1, affine=True, track_running_stats=True)\n",
      "    (expand_act): SiLU()\n",
      "  )\n",
      "  (depthwise_conv): EfficientNetDepthwiseLayer(\n",
      "    (depthwise_conv_pad): ZeroPad2d((1, 2, 1, 2))\n",
      "    (depthwise_conv): EfficientNetDepthwiseConv2d(1152, 1152, kernel_size=(5, 5), stride=(1, 1), padding=same, groups=1152, bias=False)\n",
      "    (depthwise_norm): BatchNorm2d(1152, eps=0.001, momentum=0.99, affine=True, track_running_stats=True)\n",
      "    (depthwise_act): SiLU()\n",
      "  )\n",
      "  (squeeze_excite): EfficientNetSqueezeExciteLayer(\n",
      "    (squeeze): AdaptiveAvgPool2d(output_size=1)\n",
      "    (reduce): Conv2d(1152, 48, kernel_size=(1, 1), stride=(1, 1), padding=same)\n",
      "    (expand): Conv2d(48, 1152, kernel_size=(1, 1), stride=(1, 1), padding=same)\n",
      "    (act_reduce): SiLU()\n",
      "    (act_expand): Sigmoid()\n",
      "  )\n",
      "  (projection): EfficientNetFinalBlockLayer(\n",
      "    (project_conv): Conv2d(1152, 192, kernel_size=(1, 1), stride=(1, 1), padding=same, bias=False)\n",
      "    (project_bn): BatchNorm2d(192, eps=0.001, momentum=0.99, affine=True, track_running_stats=True)\n",
      "    (dropout): Dropout(p=0.15000000000000002, inplace=False)\n",
      "  )\n",
      ")\n",
      "Unfreezing block: EfficientNetBlock(\n",
      "  (expansion): EfficientNetExpansionLayer(\n",
      "    (expand_conv): Conv2d(192, 1152, kernel_size=(1, 1), stride=(1, 1), padding=same, bias=False)\n",
      "    (expand_bn): BatchNorm2d(1152, eps=0.001, momentum=0.1, affine=True, track_running_stats=True)\n",
      "    (expand_act): SiLU()\n",
      "  )\n",
      "  (depthwise_conv): EfficientNetDepthwiseLayer(\n",
      "    (depthwise_conv_pad): ZeroPad2d((1, 2, 1, 2))\n",
      "    (depthwise_conv): EfficientNetDepthwiseConv2d(1152, 1152, kernel_size=(5, 5), stride=(1, 1), padding=same, groups=1152, bias=False)\n",
      "    (depthwise_norm): BatchNorm2d(1152, eps=0.001, momentum=0.99, affine=True, track_running_stats=True)\n",
      "    (depthwise_act): SiLU()\n",
      "  )\n",
      "  (squeeze_excite): EfficientNetSqueezeExciteLayer(\n",
      "    (squeeze): AdaptiveAvgPool2d(output_size=1)\n",
      "    (reduce): Conv2d(1152, 48, kernel_size=(1, 1), stride=(1, 1), padding=same)\n",
      "    (expand): Conv2d(48, 1152, kernel_size=(1, 1), stride=(1, 1), padding=same)\n",
      "    (act_reduce): SiLU()\n",
      "    (act_expand): Sigmoid()\n",
      "  )\n",
      "  (projection): EfficientNetFinalBlockLayer(\n",
      "    (project_conv): Conv2d(1152, 192, kernel_size=(1, 1), stride=(1, 1), padding=same, bias=False)\n",
      "    (project_bn): BatchNorm2d(192, eps=0.001, momentum=0.99, affine=True, track_running_stats=True)\n",
      "    (dropout): Dropout(p=0.1625, inplace=False)\n",
      "  )\n",
      ")\n",
      "Unfreezing block: EfficientNetBlock(\n",
      "  (expansion): EfficientNetExpansionLayer(\n",
      "    (expand_conv): Conv2d(192, 1152, kernel_size=(1, 1), stride=(1, 1), padding=same, bias=False)\n",
      "    (expand_bn): BatchNorm2d(1152, eps=0.001, momentum=0.1, affine=True, track_running_stats=True)\n",
      "    (expand_act): SiLU()\n",
      "  )\n",
      "  (depthwise_conv): EfficientNetDepthwiseLayer(\n",
      "    (depthwise_conv_pad): ZeroPad2d((1, 2, 1, 2))\n",
      "    (depthwise_conv): EfficientNetDepthwiseConv2d(1152, 1152, kernel_size=(5, 5), stride=(1, 1), padding=same, groups=1152, bias=False)\n",
      "    (depthwise_norm): BatchNorm2d(1152, eps=0.001, momentum=0.99, affine=True, track_running_stats=True)\n",
      "    (depthwise_act): SiLU()\n",
      "  )\n",
      "  (squeeze_excite): EfficientNetSqueezeExciteLayer(\n",
      "    (squeeze): AdaptiveAvgPool2d(output_size=1)\n",
      "    (reduce): Conv2d(1152, 48, kernel_size=(1, 1), stride=(1, 1), padding=same)\n",
      "    (expand): Conv2d(48, 1152, kernel_size=(1, 1), stride=(1, 1), padding=same)\n",
      "    (act_reduce): SiLU()\n",
      "    (act_expand): Sigmoid()\n",
      "  )\n",
      "  (projection): EfficientNetFinalBlockLayer(\n",
      "    (project_conv): Conv2d(1152, 192, kernel_size=(1, 1), stride=(1, 1), padding=same, bias=False)\n",
      "    (project_bn): BatchNorm2d(192, eps=0.001, momentum=0.99, affine=True, track_running_stats=True)\n",
      "    (dropout): Dropout(p=0.17500000000000002, inplace=False)\n",
      "  )\n",
      ")\n",
      "Unfreezing block: EfficientNetBlock(\n",
      "  (expansion): EfficientNetExpansionLayer(\n",
      "    (expand_conv): Conv2d(192, 1152, kernel_size=(1, 1), stride=(1, 1), padding=same, bias=False)\n",
      "    (expand_bn): BatchNorm2d(1152, eps=0.001, momentum=0.1, affine=True, track_running_stats=True)\n",
      "    (expand_act): SiLU()\n",
      "  )\n",
      "  (depthwise_conv): EfficientNetDepthwiseLayer(\n",
      "    (depthwise_conv_pad): ZeroPad2d((0, 1, 0, 1))\n",
      "    (depthwise_conv): EfficientNetDepthwiseConv2d(1152, 1152, kernel_size=(3, 3), stride=(1, 1), padding=same, groups=1152, bias=False)\n",
      "    (depthwise_norm): BatchNorm2d(1152, eps=0.001, momentum=0.99, affine=True, track_running_stats=True)\n",
      "    (depthwise_act): SiLU()\n",
      "  )\n",
      "  (squeeze_excite): EfficientNetSqueezeExciteLayer(\n",
      "    (squeeze): AdaptiveAvgPool2d(output_size=1)\n",
      "    (reduce): Conv2d(1152, 48, kernel_size=(1, 1), stride=(1, 1), padding=same)\n",
      "    (expand): Conv2d(48, 1152, kernel_size=(1, 1), stride=(1, 1), padding=same)\n",
      "    (act_reduce): SiLU()\n",
      "    (act_expand): Sigmoid()\n",
      "  )\n",
      "  (projection): EfficientNetFinalBlockLayer(\n",
      "    (project_conv): Conv2d(1152, 320, kernel_size=(1, 1), stride=(1, 1), padding=same, bias=False)\n",
      "    (project_bn): BatchNorm2d(320, eps=0.001, momentum=0.99, affine=True, track_running_stats=True)\n",
      "    (dropout): Dropout(p=0.1875, inplace=False)\n",
      "  )\n",
      ")\n",
      "Unfreezing classifier: Linear(in_features=1280, out_features=1, bias=True)\n"
     ]
    }
   ],
   "source": [
    "model = model.to(device)\n",
    "model.train()\n",
    "\n",
    "# freeze model parameters\n",
    "for param in model.parameters():\n",
    "    param.requires_grad = False\n",
    "\n",
    "# unfreeze n layer parameters\n",
    "n = 5\n",
    "for block in model.efficientnet.encoder.blocks[-n:]:\n",
    "    for param in block.parameters():\n",
    "        param.requires_grad = True\n",
    "    print(f\"Unfreezing block: {block}\")\n",
    "\n",
    "for param in model.classifier.parameters():\n",
    "    param.requires_grad = True\n",
    "print(f\"Unfreezing classifier: {model.classifier}\")\n",
    "\n",
    "optimizer = torch.optim.Adam(\n",
    "    list(model.classifier.parameters()) +\n",
    "    [p for p in model.efficientnet.encoder.parameters() if p.requires_grad == True],\n",
    "    lr=1e-4\n",
    ")\n",
    "\n",
    "\n",
    "\n"
   ]
  },
  {
   "cell_type": "markdown",
   "id": "ef9e2c97",
   "metadata": {},
   "source": [
    "### Train"
   ]
  },
  {
   "cell_type": "code",
   "execution_count": 8,
   "id": "53b69100",
   "metadata": {},
   "outputs": [
    {
     "data": {
      "application/vnd.jupyter.widget-view+json": {
       "model_id": "d66a599f8fb045bd8f540172b364cbdd",
       "version_major": 2,
       "version_minor": 0
      },
      "text/plain": [
       "Epochs:   0%|          | 0/40 [00:00<?, ?it/s]"
      ]
     },
     "metadata": {},
     "output_type": "display_data"
    },
    {
     "data": {
      "application/vnd.jupyter.widget-view+json": {
       "model_id": "bea40cf932ec4e0f868a807bb316cfde",
       "version_major": 2,
       "version_minor": 0
      },
      "text/plain": [
       "Videos:   0%|          | 0/267 [00:00<?, ?it/s]"
      ]
     },
     "metadata": {},
     "output_type": "display_data"
    },
    {
     "data": {
      "application/vnd.jupyter.widget-view+json": {
       "model_id": "d8dd6135c1394c3592f22b1fb6df158d",
       "version_major": 2,
       "version_minor": 0
      },
      "text/plain": [
       "Videos:   0%|          | 0/267 [00:00<?, ?it/s]"
      ]
     },
     "metadata": {},
     "output_type": "display_data"
    },
    {
     "data": {
      "application/vnd.jupyter.widget-view+json": {
       "model_id": "2116bdeaa8474a19baf4c161c596811f",
       "version_major": 2,
       "version_minor": 0
      },
      "text/plain": [
       "Videos:   0%|          | 0/267 [00:00<?, ?it/s]"
      ]
     },
     "metadata": {},
     "output_type": "display_data"
    },
    {
     "data": {
      "application/vnd.jupyter.widget-view+json": {
       "model_id": "7a27f2f5516843398172e574374f0bde",
       "version_major": 2,
       "version_minor": 0
      },
      "text/plain": [
       "Videos:   0%|          | 0/267 [00:00<?, ?it/s]"
      ]
     },
     "metadata": {},
     "output_type": "display_data"
    },
    {
     "data": {
      "application/vnd.jupyter.widget-view+json": {
       "model_id": "05a5dabad06a4f6db2d08489dcba6bf7",
       "version_major": 2,
       "version_minor": 0
      },
      "text/plain": [
       "Videos:   0%|          | 0/267 [00:00<?, ?it/s]"
      ]
     },
     "metadata": {},
     "output_type": "display_data"
    },
    {
     "data": {
      "application/vnd.jupyter.widget-view+json": {
       "model_id": "6a3aed68017d420090b88f881f1e92f5",
       "version_major": 2,
       "version_minor": 0
      },
      "text/plain": [
       "Videos:   0%|          | 0/267 [00:00<?, ?it/s]"
      ]
     },
     "metadata": {},
     "output_type": "display_data"
    },
    {
     "data": {
      "application/vnd.jupyter.widget-view+json": {
       "model_id": "0353aebae99240f883101defc41759cf",
       "version_major": 2,
       "version_minor": 0
      },
      "text/plain": [
       "Videos:   0%|          | 0/267 [00:00<?, ?it/s]"
      ]
     },
     "metadata": {},
     "output_type": "display_data"
    },
    {
     "data": {
      "application/vnd.jupyter.widget-view+json": {
       "model_id": "c7902057bb3c4a668fb4612b1e2b5df3",
       "version_major": 2,
       "version_minor": 0
      },
      "text/plain": [
       "Videos:   0%|          | 0/267 [00:00<?, ?it/s]"
      ]
     },
     "metadata": {},
     "output_type": "display_data"
    },
    {
     "data": {
      "application/vnd.jupyter.widget-view+json": {
       "model_id": "f419ab92e0714e239d93c3d2b5d33d00",
       "version_major": 2,
       "version_minor": 0
      },
      "text/plain": [
       "Videos:   0%|          | 0/267 [00:00<?, ?it/s]"
      ]
     },
     "metadata": {},
     "output_type": "display_data"
    },
    {
     "data": {
      "application/vnd.jupyter.widget-view+json": {
       "model_id": "d16a1a86913b45b381369cd9ca772cb3",
       "version_major": 2,
       "version_minor": 0
      },
      "text/plain": [
       "Videos:   0%|          | 0/267 [00:00<?, ?it/s]"
      ]
     },
     "metadata": {},
     "output_type": "display_data"
    },
    {
     "data": {
      "application/vnd.jupyter.widget-view+json": {
       "model_id": "68342c165e6240a6bb814328ecf31ea5",
       "version_major": 2,
       "version_minor": 0
      },
      "text/plain": [
       "Videos:   0%|          | 0/267 [00:00<?, ?it/s]"
      ]
     },
     "metadata": {},
     "output_type": "display_data"
    },
    {
     "data": {
      "application/vnd.jupyter.widget-view+json": {
       "model_id": "70796ece742f484294da7768c3afbbc2",
       "version_major": 2,
       "version_minor": 0
      },
      "text/plain": [
       "Videos:   0%|          | 0/267 [00:00<?, ?it/s]"
      ]
     },
     "metadata": {},
     "output_type": "display_data"
    },
    {
     "data": {
      "application/vnd.jupyter.widget-view+json": {
       "model_id": "e7ef734cd7c84c4b8fbfc20ededffabf",
       "version_major": 2,
       "version_minor": 0
      },
      "text/plain": [
       "Videos:   0%|          | 0/267 [00:00<?, ?it/s]"
      ]
     },
     "metadata": {},
     "output_type": "display_data"
    },
    {
     "data": {
      "application/vnd.jupyter.widget-view+json": {
       "model_id": "fa1bd29b2fc14632a33f532d4c2a684b",
       "version_major": 2,
       "version_minor": 0
      },
      "text/plain": [
       "Videos:   0%|          | 0/267 [00:00<?, ?it/s]"
      ]
     },
     "metadata": {},
     "output_type": "display_data"
    },
    {
     "data": {
      "application/vnd.jupyter.widget-view+json": {
       "model_id": "af1a7b4ff95e4ef3906863b57b07ad12",
       "version_major": 2,
       "version_minor": 0
      },
      "text/plain": [
       "Videos:   0%|          | 0/267 [00:00<?, ?it/s]"
      ]
     },
     "metadata": {},
     "output_type": "display_data"
    },
    {
     "data": {
      "application/vnd.jupyter.widget-view+json": {
       "model_id": "436e779d6ad84e1d9c99ef90bad08942",
       "version_major": 2,
       "version_minor": 0
      },
      "text/plain": [
       "Videos:   0%|          | 0/267 [00:00<?, ?it/s]"
      ]
     },
     "metadata": {},
     "output_type": "display_data"
    },
    {
     "data": {
      "application/vnd.jupyter.widget-view+json": {
       "model_id": "16b2c2851665477a90198805d1369789",
       "version_major": 2,
       "version_minor": 0
      },
      "text/plain": [
       "Videos:   0%|          | 0/267 [00:00<?, ?it/s]"
      ]
     },
     "metadata": {},
     "output_type": "display_data"
    },
    {
     "data": {
      "application/vnd.jupyter.widget-view+json": {
       "model_id": "20d35025066d45d5ad883abc960e315d",
       "version_major": 2,
       "version_minor": 0
      },
      "text/plain": [
       "Videos:   0%|          | 0/267 [00:00<?, ?it/s]"
      ]
     },
     "metadata": {},
     "output_type": "display_data"
    },
    {
     "data": {
      "application/vnd.jupyter.widget-view+json": {
       "model_id": "6f032711837a43669c9e1be7fb90948a",
       "version_major": 2,
       "version_minor": 0
      },
      "text/plain": [
       "Videos:   0%|          | 0/267 [00:00<?, ?it/s]"
      ]
     },
     "metadata": {},
     "output_type": "display_data"
    },
    {
     "data": {
      "application/vnd.jupyter.widget-view+json": {
       "model_id": "f50cd350d641438eb2aaba92e23df7c1",
       "version_major": 2,
       "version_minor": 0
      },
      "text/plain": [
       "Videos:   0%|          | 0/267 [00:00<?, ?it/s]"
      ]
     },
     "metadata": {},
     "output_type": "display_data"
    },
    {
     "data": {
      "application/vnd.jupyter.widget-view+json": {
       "model_id": "573746502131408e8d908abf4f71167f",
       "version_major": 2,
       "version_minor": 0
      },
      "text/plain": [
       "Videos:   0%|          | 0/267 [00:00<?, ?it/s]"
      ]
     },
     "metadata": {},
     "output_type": "display_data"
    },
    {
     "data": {
      "application/vnd.jupyter.widget-view+json": {
       "model_id": "2af7e21b509f4bffb0269545dfebd808",
       "version_major": 2,
       "version_minor": 0
      },
      "text/plain": [
       "Videos:   0%|          | 0/267 [00:00<?, ?it/s]"
      ]
     },
     "metadata": {},
     "output_type": "display_data"
    },
    {
     "data": {
      "application/vnd.jupyter.widget-view+json": {
       "model_id": "3b608b70f37e4e6889b0c94187ef7b25",
       "version_major": 2,
       "version_minor": 0
      },
      "text/plain": [
       "Videos:   0%|          | 0/267 [00:00<?, ?it/s]"
      ]
     },
     "metadata": {},
     "output_type": "display_data"
    },
    {
     "data": {
      "application/vnd.jupyter.widget-view+json": {
       "model_id": "e1e77938e0124e7d86dce8e3e3aa974c",
       "version_major": 2,
       "version_minor": 0
      },
      "text/plain": [
       "Videos:   0%|          | 0/267 [00:00<?, ?it/s]"
      ]
     },
     "metadata": {},
     "output_type": "display_data"
    },
    {
     "data": {
      "application/vnd.jupyter.widget-view+json": {
       "model_id": "113f5ac14d44495cb7d5d9820b2f0e80",
       "version_major": 2,
       "version_minor": 0
      },
      "text/plain": [
       "Videos:   0%|          | 0/267 [00:00<?, ?it/s]"
      ]
     },
     "metadata": {},
     "output_type": "display_data"
    },
    {
     "data": {
      "application/vnd.jupyter.widget-view+json": {
       "model_id": "deba6733aee3494cab512d1b86054961",
       "version_major": 2,
       "version_minor": 0
      },
      "text/plain": [
       "Videos:   0%|          | 0/267 [00:00<?, ?it/s]"
      ]
     },
     "metadata": {},
     "output_type": "display_data"
    },
    {
     "data": {
      "application/vnd.jupyter.widget-view+json": {
       "model_id": "d9ae2926d9a44c198e18eaf4765cb1be",
       "version_major": 2,
       "version_minor": 0
      },
      "text/plain": [
       "Videos:   0%|          | 0/267 [00:00<?, ?it/s]"
      ]
     },
     "metadata": {},
     "output_type": "display_data"
    },
    {
     "data": {
      "application/vnd.jupyter.widget-view+json": {
       "model_id": "6310a64a882b4707bb3b1ca5a40ffb91",
       "version_major": 2,
       "version_minor": 0
      },
      "text/plain": [
       "Videos:   0%|          | 0/267 [00:00<?, ?it/s]"
      ]
     },
     "metadata": {},
     "output_type": "display_data"
    },
    {
     "data": {
      "application/vnd.jupyter.widget-view+json": {
       "model_id": "7372051b088744b1a467a0de52a66576",
       "version_major": 2,
       "version_minor": 0
      },
      "text/plain": [
       "Videos:   0%|          | 0/267 [00:00<?, ?it/s]"
      ]
     },
     "metadata": {},
     "output_type": "display_data"
    },
    {
     "data": {
      "application/vnd.jupyter.widget-view+json": {
       "model_id": "4450168c53324b4e842c7773f78dc814",
       "version_major": 2,
       "version_minor": 0
      },
      "text/plain": [
       "Videos:   0%|          | 0/267 [00:00<?, ?it/s]"
      ]
     },
     "metadata": {},
     "output_type": "display_data"
    },
    {
     "data": {
      "application/vnd.jupyter.widget-view+json": {
       "model_id": "76840e156e7d4c1e814def0a1a56ad94",
       "version_major": 2,
       "version_minor": 0
      },
      "text/plain": [
       "Videos:   0%|          | 0/267 [00:00<?, ?it/s]"
      ]
     },
     "metadata": {},
     "output_type": "display_data"
    },
    {
     "data": {
      "application/vnd.jupyter.widget-view+json": {
       "model_id": "db7822d0386e4bfc81f00423766fe4c9",
       "version_major": 2,
       "version_minor": 0
      },
      "text/plain": [
       "Videos:   0%|          | 0/267 [00:00<?, ?it/s]"
      ]
     },
     "metadata": {},
     "output_type": "display_data"
    },
    {
     "data": {
      "application/vnd.jupyter.widget-view+json": {
       "model_id": "da5d5e50f6c84978b20c3bcf87f9f4e7",
       "version_major": 2,
       "version_minor": 0
      },
      "text/plain": [
       "Videos:   0%|          | 0/267 [00:00<?, ?it/s]"
      ]
     },
     "metadata": {},
     "output_type": "display_data"
    },
    {
     "data": {
      "application/vnd.jupyter.widget-view+json": {
       "model_id": "2ad7f60cd0d54c3dbd5f92894a7e2195",
       "version_major": 2,
       "version_minor": 0
      },
      "text/plain": [
       "Videos:   0%|          | 0/267 [00:00<?, ?it/s]"
      ]
     },
     "metadata": {},
     "output_type": "display_data"
    },
    {
     "data": {
      "application/vnd.jupyter.widget-view+json": {
       "model_id": "ebec3560298943599e059f7fd2a7dad9",
       "version_major": 2,
       "version_minor": 0
      },
      "text/plain": [
       "Videos:   0%|          | 0/267 [00:00<?, ?it/s]"
      ]
     },
     "metadata": {},
     "output_type": "display_data"
    },
    {
     "data": {
      "application/vnd.jupyter.widget-view+json": {
       "model_id": "8d889dac2cfc4566ae3e1d17850022d3",
       "version_major": 2,
       "version_minor": 0
      },
      "text/plain": [
       "Videos:   0%|          | 0/267 [00:00<?, ?it/s]"
      ]
     },
     "metadata": {},
     "output_type": "display_data"
    },
    {
     "data": {
      "application/vnd.jupyter.widget-view+json": {
       "model_id": "2e575f1b270c4308aef4d2a759b44c8d",
       "version_major": 2,
       "version_minor": 0
      },
      "text/plain": [
       "Videos:   0%|          | 0/267 [00:00<?, ?it/s]"
      ]
     },
     "metadata": {},
     "output_type": "display_data"
    },
    {
     "data": {
      "application/vnd.jupyter.widget-view+json": {
       "model_id": "5527ed25a5754c0496b8e65360df8c9d",
       "version_major": 2,
       "version_minor": 0
      },
      "text/plain": [
       "Videos:   0%|          | 0/267 [00:00<?, ?it/s]"
      ]
     },
     "metadata": {},
     "output_type": "display_data"
    },
    {
     "data": {
      "application/vnd.jupyter.widget-view+json": {
       "model_id": "ac871bbb049f40b492e56c8766368a98",
       "version_major": 2,
       "version_minor": 0
      },
      "text/plain": [
       "Videos:   0%|          | 0/267 [00:00<?, ?it/s]"
      ]
     },
     "metadata": {},
     "output_type": "display_data"
    },
    {
     "data": {
      "application/vnd.jupyter.widget-view+json": {
       "model_id": "4180d83fd8054b2aac6bfa938160df3f",
       "version_major": 2,
       "version_minor": 0
      },
      "text/plain": [
       "Videos:   0%|          | 0/267 [00:00<?, ?it/s]"
      ]
     },
     "metadata": {},
     "output_type": "display_data"
    }
   ],
   "source": [
    "\n",
    "\n",
    "batch_size = 24\n",
    "labels = []\n",
    "video_paths = x_train\n",
    "video_labels = y_train\n",
    "total_batches = 0\n",
    "\n",
    "\n",
    "\n",
    "\n",
    "# x = ...  # your input tensor, shape (batch, 3, 224, 224)\n",
    "# outputs = vit(x)\n",
    "# cls_token = outputs.last_hidden_state[:, 0]  # [CLS] token\n",
    "# logits = classifier(cls_token)  # shape (batch, 1)\n",
    "\n",
    "num_epochs = 40  # Adjust as needed\n",
    "train_loss=np.zeros(num_epochs)\n",
    "\n",
    "start_time = time.time()\n",
    "\n",
    "epoch_bar = tqdm(range(num_epochs), desc='Epochs')\n",
    "for epoch in epoch_bar:\n",
    "    model.train()\n",
    "    # classifier.train()\n",
    "\n",
    "    running_loss = 0.0\n",
    "    total_batches = 0\n",
    "\n",
    "    video_bar = tqdm(zip(video_paths, video_labels),desc='Videos', total=len(video_paths))\n",
    "    for path, label in video_bar:\n",
    "        image_files = sorted([ os.path.join(path, f)\n",
    "        for f in os.listdir(path)\n",
    "        if f.lower().endswith('.png')\n",
    "        ])\n",
    "\n",
    "        labels.extend([label] * len(image_files))  # Repeat label for each image\n",
    "\n",
    "        video_run_loss=0.0\n",
    "        batches = 0\n",
    "\n",
    "        for i in range(0, len(image_files), batch_size):\n",
    "            batch_paths = image_files[i:i+batch_size]\n",
    "            images = [Image.open(p).convert(\"RGB\") for p in batch_paths]\n",
    "            inputs = processor(images=images, return_tensors=\"pt\")\n",
    "            inputs = {k: v.to(device) for k, v in inputs.items()}\n",
    "\n",
    "            batch_labels = torch.tensor([label] * len(images), dtype=torch.float).unsqueeze(1).to(device)\n",
    "\n",
    "            optimizer.zero_grad()\n",
    "\n",
    "            outputs = model(**inputs)\n",
    "            batch_logits = outputs.logits\n",
    "            loss = criterion(batch_logits, batch_labels)\n",
    "            loss.backward()\n",
    "            optimizer.step()\n",
    "\n",
    "            loss_item = loss.item()\n",
    "            running_loss += loss_item\n",
    "            video_run_loss += loss_item\n",
    "\n",
    "            batches += 1\n",
    "            total_batches += 1\n",
    "\n",
    "            \n",
    "\n",
    "        video_loss = video_run_loss / batches if batches > 0 else 0\n",
    "        video_bar.set_postfix(Last_Loss=f'{video_loss:.4f}')\n",
    "        \n",
    "    avg_loss = running_loss / total_batches if total_batches > 0 else 0\n",
    "    train_loss[epoch] = avg_loss\n",
    "    epoch_bar.set_postfix(Curr_Loss=f'{avg_loss:.4f}')\n",
    "\n",
    "end_time = time.time()\n",
    "training_time = end_time - start_time\n",
    "\n",
    "# Save model backbone\n",
    "torch.save(model.state_dict(), 'efficientnetB0.pth')\n",
    "\n",
    "\n",
    "\n"
   ]
  },
  {
   "cell_type": "code",
   "execution_count": 9,
   "id": "36a7579b",
   "metadata": {},
   "outputs": [
    {
     "name": "stdout",
     "output_type": "stream",
     "text": [
      "torch.Size([12, 3, 224, 224])\n",
      "Training completed in 699.21 minutes\n"
     ]
    }
   ],
   "source": [
    "print(inputs[\"pixel_values\"].shape)\n",
    "print(f\"Training completed in {training_time/60:.2f} minutes\")\n"
   ]
  },
  {
   "cell_type": "markdown",
   "id": "017bd15f",
   "metadata": {},
   "source": [
    "Log Loss Graph"
   ]
  },
  {
   "cell_type": "code",
   "execution_count": 10,
   "id": "6ea5f2f0",
   "metadata": {},
   "outputs": [
    {
     "data": {
      "image/png": "[encoded data removed]",
      "text/plain": [
       "<Figure size 1600x800 with 1 Axes>"
      ]
     },
     "metadata": {},
     "output_type": "display_data"
    }
   ],
   "source": [
    "epochs = list(range(1, num_epochs + 1))\n",
    "plt.figure(figsize=(16, 8))\n",
    "plt.plot(epochs, train_loss)\n",
    "plt.title('Training Log Loss')\n",
    "plt.xlabel('Epoch')\n",
    "plt.ylabel('Average Log Loss')\n",
    "plt.show()\n"
   ]
  },
  {
   "cell_type": "markdown",
   "id": "879e9e48",
   "metadata": {},
   "source": [
    "# Validation"
   ]
  },
  {
   "cell_type": "code",
   "execution_count": 4,
   "id": "6b8072c0",
   "metadata": {},
   "outputs": [],
   "source": [
    "model.load_state_dict(torch.load('efficientnetB0.pth'))\n",
    "# classifier.load_state_dict(torch.load('vit_classifier_head.pth'))\n",
    "model = model.to(device)\n",
    "# classifier = classifier.to(device)\n",
    "\n"
   ]
  },
  {
   "cell_type": "markdown",
   "id": "9303bcfe",
   "metadata": {},
   "source": [
    "### Model and Data"
   ]
  },
  {
   "cell_type": "code",
   "execution_count": 13,
   "id": "572d85a5",
   "metadata": {},
   "outputs": [],
   "source": [
    "data = np.load('train_test_split.npz', allow_pickle=True)\n",
    "x_val = data['x_val']\n",
    "y_val = data['y_val']\n"
   ]
  },
  {
   "cell_type": "code",
   "execution_count": 16,
   "id": "328afd12",
   "metadata": {},
   "outputs": [
    {
     "data": {
      "application/vnd.jupyter.widget-view+json": {
       "model_id": "22dc2bbc9e2047128296157ba48b1551",
       "version_major": 2,
       "version_minor": 0
      },
      "text/plain": [
       "Videos:   0%|          | 0/115 [00:00<?, ?it/s]"
      ]
     },
     "metadata": {},
     "output_type": "display_data"
    },
    {
     "data": {
      "application/vnd.jupyter.widget-view+json": {
       "model_id": "309c032cebfa4c0fa91fdccb564862f1",
       "version_major": 2,
       "version_minor": 0
      },
      "text/plain": [
       "Image Batches:   0%|          | 0/13 [00:00<?, ?it/s]"
      ]
     },
     "metadata": {},
     "output_type": "display_data"
    },
    {
     "data": {
      "application/vnd.jupyter.widget-view+json": {
       "model_id": "4e811bf82e5a48218269c34448d719bb",
       "version_major": 2,
       "version_minor": 0
      },
      "text/plain": [
       "Image Batches:   0%|          | 0/25 [00:00<?, ?it/s]"
      ]
     },
     "metadata": {},
     "output_type": "display_data"
    },
    {
     "data": {
      "application/vnd.jupyter.widget-view+json": {
       "model_id": "33c793c162334621946b6956ae9a6f06",
       "version_major": 2,
       "version_minor": 0
      },
      "text/plain": [
       "Image Batches:   0%|          | 0/13 [00:00<?, ?it/s]"
      ]
     },
     "metadata": {},
     "output_type": "display_data"
    },
    {
     "data": {
      "application/vnd.jupyter.widget-view+json": {
       "model_id": "6ddb5919bdac4e63bb7bd5f22d702d9f",
       "version_major": 2,
       "version_minor": 0
      },
      "text/plain": [
       "Image Batches:   0%|          | 0/13 [00:00<?, ?it/s]"
      ]
     },
     "metadata": {},
     "output_type": "display_data"
    },
    {
     "data": {
      "application/vnd.jupyter.widget-view+json": {
       "model_id": "08197ab7bf6b428ca56ec7b044f28403",
       "version_major": 2,
       "version_minor": 0
      },
      "text/plain": [
       "Image Batches:   0%|          | 0/13 [00:00<?, ?it/s]"
      ]
     },
     "metadata": {},
     "output_type": "display_data"
    },
    {
     "data": {
      "application/vnd.jupyter.widget-view+json": {
       "model_id": "68c02c94ed734aca883c4c3d65407c75",
       "version_major": 2,
       "version_minor": 0
      },
      "text/plain": [
       "Image Batches:   0%|          | 0/13 [00:00<?, ?it/s]"
      ]
     },
     "metadata": {},
     "output_type": "display_data"
    },
    {
     "data": {
      "application/vnd.jupyter.widget-view+json": {
       "model_id": "b03304bddb754a01adceccfd0196f123",
       "version_major": 2,
       "version_minor": 0
      },
      "text/plain": [
       "Image Batches:   0%|          | 0/13 [00:00<?, ?it/s]"
      ]
     },
     "metadata": {},
     "output_type": "display_data"
    },
    {
     "data": {
      "application/vnd.jupyter.widget-view+json": {
       "model_id": "c26a6b226eb841e3a8abaa747b26dc68",
       "version_major": 2,
       "version_minor": 0
      },
      "text/plain": [
       "Image Batches:   0%|          | 0/13 [00:00<?, ?it/s]"
      ]
     },
     "metadata": {},
     "output_type": "display_data"
    },
    {
     "data": {
      "application/vnd.jupyter.widget-view+json": {
       "model_id": "e10aafaa38974bb18e1db7463eda0d2d",
       "version_major": 2,
       "version_minor": 0
      },
      "text/plain": [
       "Image Batches:   0%|          | 0/13 [00:00<?, ?it/s]"
      ]
     },
     "metadata": {},
     "output_type": "display_data"
    },
    {
     "data": {
      "application/vnd.jupyter.widget-view+json": {
       "model_id": "2e1e9e1fc92f4624ba15132b37f9f72a",
       "version_major": 2,
       "version_minor": 0
      },
      "text/plain": [
       "Image Batches:   0%|          | 0/13 [00:00<?, ?it/s]"
      ]
     },
     "metadata": {},
     "output_type": "display_data"
    },
    {
     "data": {
      "application/vnd.jupyter.widget-view+json": {
       "model_id": "729c92cb8406471c8706fec7b0d60aa9",
       "version_major": 2,
       "version_minor": 0
      },
      "text/plain": [
       "Image Batches:   0%|          | 0/14 [00:00<?, ?it/s]"
      ]
     },
     "metadata": {},
     "output_type": "display_data"
    },
    {
     "data": {
      "application/vnd.jupyter.widget-view+json": {
       "model_id": "5fe42110f73d46738250f99c8889722d",
       "version_major": 2,
       "version_minor": 0
      },
      "text/plain": [
       "Image Batches:   0%|          | 0/13 [00:00<?, ?it/s]"
      ]
     },
     "metadata": {},
     "output_type": "display_data"
    },
    {
     "data": {
      "application/vnd.jupyter.widget-view+json": {
       "model_id": "968c30b8351a49aa8ce7a1e98ee38507",
       "version_major": 2,
       "version_minor": 0
      },
      "text/plain": [
       "Image Batches:   0%|          | 0/13 [00:00<?, ?it/s]"
      ]
     },
     "metadata": {},
     "output_type": "display_data"
    },
    {
     "data": {
      "application/vnd.jupyter.widget-view+json": {
       "model_id": "147ba59f6e1e46d79cf9a9eff5369238",
       "version_major": 2,
       "version_minor": 0
      },
      "text/plain": [
       "Image Batches:   0%|          | 0/13 [00:00<?, ?it/s]"
      ]
     },
     "metadata": {},
     "output_type": "display_data"
    },
    {
     "data": {
      "application/vnd.jupyter.widget-view+json": {
       "model_id": "7e6615b3cd1c4b748cb8a2824b50c46c",
       "version_major": 2,
       "version_minor": 0
      },
      "text/plain": [
       "Image Batches:   0%|          | 0/13 [00:00<?, ?it/s]"
      ]
     },
     "metadata": {},
     "output_type": "display_data"
    },
    {
     "data": {
      "application/vnd.jupyter.widget-view+json": {
       "model_id": "4448bca36bb6479ab3a942c69bf25139",
       "version_major": 2,
       "version_minor": 0
      },
      "text/plain": [
       "Image Batches:   0%|          | 0/13 [00:00<?, ?it/s]"
      ]
     },
     "metadata": {},
     "output_type": "display_data"
    },
    {
     "data": {
      "application/vnd.jupyter.widget-view+json": {
       "model_id": "ee6ad72dbc2149ebbd1c820e491d09bd",
       "version_major": 2,
       "version_minor": 0
      },
      "text/plain": [
       "Image Batches:   0%|          | 0/14 [00:00<?, ?it/s]"
      ]
     },
     "metadata": {},
     "output_type": "display_data"
    },
    {
     "data": {
      "application/vnd.jupyter.widget-view+json": {
       "model_id": "32af9024f9e44adfb7ded6a6a95185d7",
       "version_major": 2,
       "version_minor": 0
      },
      "text/plain": [
       "Image Batches:   0%|          | 0/13 [00:00<?, ?it/s]"
      ]
     },
     "metadata": {},
     "output_type": "display_data"
    },
    {
     "data": {
      "application/vnd.jupyter.widget-view+json": {
       "model_id": "24ef5dc3207f4855a955e8a6c460ae92",
       "version_major": 2,
       "version_minor": 0
      },
      "text/plain": [
       "Image Batches:   0%|          | 0/13 [00:00<?, ?it/s]"
      ]
     },
     "metadata": {},
     "output_type": "display_data"
    },
    {
     "data": {
      "application/vnd.jupyter.widget-view+json": {
       "model_id": "82e79e07e67e45f896eb45634ed3844f",
       "version_major": 2,
       "version_minor": 0
      },
      "text/plain": [
       "Image Batches:   0%|          | 0/13 [00:00<?, ?it/s]"
      ]
     },
     "metadata": {},
     "output_type": "display_data"
    },
    {
     "data": {
      "application/vnd.jupyter.widget-view+json": {
       "model_id": "96fe9b2c650e4c2ba17ffee864740cd8",
       "version_major": 2,
       "version_minor": 0
      },
      "text/plain": [
       "Image Batches:   0%|          | 0/13 [00:00<?, ?it/s]"
      ]
     },
     "metadata": {},
     "output_type": "display_data"
    },
    {
     "data": {
      "application/vnd.jupyter.widget-view+json": {
       "model_id": "255aa9965a0a4c40b42eab686398fb55",
       "version_major": 2,
       "version_minor": 0
      },
      "text/plain": [
       "Image Batches:   0%|          | 0/13 [00:00<?, ?it/s]"
      ]
     },
     "metadata": {},
     "output_type": "display_data"
    },
    {
     "data": {
      "application/vnd.jupyter.widget-view+json": {
       "model_id": "4218ee87f069427c8e9b7ed3edfb5746",
       "version_major": 2,
       "version_minor": 0
      },
      "text/plain": [
       "Image Batches:   0%|          | 0/13 [00:00<?, ?it/s]"
      ]
     },
     "metadata": {},
     "output_type": "display_data"
    },
    {
     "data": {
      "application/vnd.jupyter.widget-view+json": {
       "model_id": "29164bf34ef54844854bc9d31112d8ce",
       "version_major": 2,
       "version_minor": 0
      },
      "text/plain": [
       "Image Batches:   0%|          | 0/13 [00:00<?, ?it/s]"
      ]
     },
     "metadata": {},
     "output_type": "display_data"
    },
    {
     "data": {
      "application/vnd.jupyter.widget-view+json": {
       "model_id": "ca335d8ef7ca4ce4ad15cf02cece290d",
       "version_major": 2,
       "version_minor": 0
      },
      "text/plain": [
       "Image Batches:   0%|          | 0/13 [00:00<?, ?it/s]"
      ]
     },
     "metadata": {},
     "output_type": "display_data"
    },
    {
     "data": {
      "application/vnd.jupyter.widget-view+json": {
       "model_id": "ea61b867169740818efe97ea4fd846c1",
       "version_major": 2,
       "version_minor": 0
      },
      "text/plain": [
       "Image Batches:   0%|          | 0/13 [00:00<?, ?it/s]"
      ]
     },
     "metadata": {},
     "output_type": "display_data"
    },
    {
     "data": {
      "application/vnd.jupyter.widget-view+json": {
       "model_id": "67621d62089f47c58d79626e5f57594a",
       "version_major": 2,
       "version_minor": 0
      },
      "text/plain": [
       "Image Batches:   0%|          | 0/28 [00:00<?, ?it/s]"
      ]
     },
     "metadata": {},
     "output_type": "display_data"
    },
    {
     "data": {
      "application/vnd.jupyter.widget-view+json": {
       "model_id": "69b43386bd5642f2a5f803a3ec5e48e2",
       "version_major": 2,
       "version_minor": 0
      },
      "text/plain": [
       "Image Batches:   0%|          | 0/13 [00:00<?, ?it/s]"
      ]
     },
     "metadata": {},
     "output_type": "display_data"
    },
    {
     "data": {
      "application/vnd.jupyter.widget-view+json": {
       "model_id": "4538350bf2854636b1b3ef34764f615f",
       "version_major": 2,
       "version_minor": 0
      },
      "text/plain": [
       "Image Batches:   0%|          | 0/13 [00:00<?, ?it/s]"
      ]
     },
     "metadata": {},
     "output_type": "display_data"
    },
    {
     "data": {
      "application/vnd.jupyter.widget-view+json": {
       "model_id": "729e3a53ce4d4c1494710d78217343f3",
       "version_major": 2,
       "version_minor": 0
      },
      "text/plain": [
       "Image Batches:   0%|          | 0/13 [00:00<?, ?it/s]"
      ]
     },
     "metadata": {},
     "output_type": "display_data"
    },
    {
     "data": {
      "application/vnd.jupyter.widget-view+json": {
       "model_id": "29f6beccaaf94a84823876361d44cc46",
       "version_major": 2,
       "version_minor": 0
      },
      "text/plain": [
       "Image Batches:   0%|          | 0/13 [00:00<?, ?it/s]"
      ]
     },
     "metadata": {},
     "output_type": "display_data"
    },
    {
     "data": {
      "application/vnd.jupyter.widget-view+json": {
       "model_id": "d2f1ea715bc54500b2800908d3e021bb",
       "version_major": 2,
       "version_minor": 0
      },
      "text/plain": [
       "Image Batches:   0%|          | 0/13 [00:00<?, ?it/s]"
      ]
     },
     "metadata": {},
     "output_type": "display_data"
    },
    {
     "data": {
      "application/vnd.jupyter.widget-view+json": {
       "model_id": "18e0b869f9274ec6839da23ca38166fb",
       "version_major": 2,
       "version_minor": 0
      },
      "text/plain": [
       "Image Batches:   0%|          | 0/13 [00:00<?, ?it/s]"
      ]
     },
     "metadata": {},
     "output_type": "display_data"
    },
    {
     "data": {
      "application/vnd.jupyter.widget-view+json": {
       "model_id": "f44af2725f2c4915a359a839683c8637",
       "version_major": 2,
       "version_minor": 0
      },
      "text/plain": [
       "Image Batches:   0%|          | 0/13 [00:00<?, ?it/s]"
      ]
     },
     "metadata": {},
     "output_type": "display_data"
    },
    {
     "data": {
      "application/vnd.jupyter.widget-view+json": {
       "model_id": "af7fcf6e685b4653ad59665fce15b776",
       "version_major": 2,
       "version_minor": 0
      },
      "text/plain": [
       "Image Batches:   0%|          | 0/13 [00:00<?, ?it/s]"
      ]
     },
     "metadata": {},
     "output_type": "display_data"
    },
    {
     "data": {
      "application/vnd.jupyter.widget-view+json": {
       "model_id": "9b75d57c5f9d47ecbc9247ac0ec23546",
       "version_major": 2,
       "version_minor": 0
      },
      "text/plain": [
       "Image Batches:   0%|          | 0/13 [00:00<?, ?it/s]"
      ]
     },
     "metadata": {},
     "output_type": "display_data"
    },
    {
     "data": {
      "application/vnd.jupyter.widget-view+json": {
       "model_id": "66a30c443f21415fb313478cf72bd938",
       "version_major": 2,
       "version_minor": 0
      },
      "text/plain": [
       "Image Batches:   0%|          | 0/13 [00:00<?, ?it/s]"
      ]
     },
     "metadata": {},
     "output_type": "display_data"
    },
    {
     "data": {
      "application/vnd.jupyter.widget-view+json": {
       "model_id": "ef969494126741658915df1bee1bf5ac",
       "version_major": 2,
       "version_minor": 0
      },
      "text/plain": [
       "Image Batches:   0%|          | 0/13 [00:00<?, ?it/s]"
      ]
     },
     "metadata": {},
     "output_type": "display_data"
    },
    {
     "data": {
      "application/vnd.jupyter.widget-view+json": {
       "model_id": "ffa155cb19044eadaa07d6a435038e32",
       "version_major": 2,
       "version_minor": 0
      },
      "text/plain": [
       "Image Batches:   0%|          | 0/13 [00:00<?, ?it/s]"
      ]
     },
     "metadata": {},
     "output_type": "display_data"
    },
    {
     "data": {
      "application/vnd.jupyter.widget-view+json": {
       "model_id": "b56651aa5ff24c47b22597204816f525",
       "version_major": 2,
       "version_minor": 0
      },
      "text/plain": [
       "Image Batches:   0%|          | 0/13 [00:00<?, ?it/s]"
      ]
     },
     "metadata": {},
     "output_type": "display_data"
    },
    {
     "data": {
      "application/vnd.jupyter.widget-view+json": {
       "model_id": "5d1a6f6844bc46ad803f4b194cbb5f4d",
       "version_major": 2,
       "version_minor": 0
      },
      "text/plain": [
       "Image Batches:   0%|          | 0/26 [00:00<?, ?it/s]"
      ]
     },
     "metadata": {},
     "output_type": "display_data"
    },
    {
     "data": {
      "application/vnd.jupyter.widget-view+json": {
       "model_id": "9f7ec76e1a91456a89114c969b972a7f",
       "version_major": 2,
       "version_minor": 0
      },
      "text/plain": [
       "Image Batches:   0%|          | 0/14 [00:00<?, ?it/s]"
      ]
     },
     "metadata": {},
     "output_type": "display_data"
    },
    {
     "data": {
      "application/vnd.jupyter.widget-view+json": {
       "model_id": "6dfd421177f6452b8a3d2fae4faa333b",
       "version_major": 2,
       "version_minor": 0
      },
      "text/plain": [
       "Image Batches:   0%|          | 0/13 [00:00<?, ?it/s]"
      ]
     },
     "metadata": {},
     "output_type": "display_data"
    },
    {
     "data": {
      "application/vnd.jupyter.widget-view+json": {
       "model_id": "bf0971087bc94defa278f59e76dee29f",
       "version_major": 2,
       "version_minor": 0
      },
      "text/plain": [
       "Image Batches:   0%|          | 0/13 [00:00<?, ?it/s]"
      ]
     },
     "metadata": {},
     "output_type": "display_data"
    },
    {
     "data": {
      "application/vnd.jupyter.widget-view+json": {
       "model_id": "6690df4dd4d2425aa7f0d08cdd107b95",
       "version_major": 2,
       "version_minor": 0
      },
      "text/plain": [
       "Image Batches:   0%|          | 0/13 [00:00<?, ?it/s]"
      ]
     },
     "metadata": {},
     "output_type": "display_data"
    },
    {
     "data": {
      "application/vnd.jupyter.widget-view+json": {
       "model_id": "e02657d19fed4136978343eec6e716c8",
       "version_major": 2,
       "version_minor": 0
      },
      "text/plain": [
       "Image Batches:   0%|          | 0/13 [00:00<?, ?it/s]"
      ]
     },
     "metadata": {},
     "output_type": "display_data"
    },
    {
     "data": {
      "application/vnd.jupyter.widget-view+json": {
       "model_id": "9deb10c7d16b43928c45d0a96124e8a2",
       "version_major": 2,
       "version_minor": 0
      },
      "text/plain": [
       "Image Batches:   0%|          | 0/13 [00:00<?, ?it/s]"
      ]
     },
     "metadata": {},
     "output_type": "display_data"
    },
    {
     "data": {
      "application/vnd.jupyter.widget-view+json": {
       "model_id": "d2032115118643fc89998b744a1f3242",
       "version_major": 2,
       "version_minor": 0
      },
      "text/plain": [
       "Image Batches:   0%|          | 0/13 [00:00<?, ?it/s]"
      ]
     },
     "metadata": {},
     "output_type": "display_data"
    },
    {
     "data": {
      "application/vnd.jupyter.widget-view+json": {
       "model_id": "c3e7dd7cba654b1f9423d2f19ac0f409",
       "version_major": 2,
       "version_minor": 0
      },
      "text/plain": [
       "Image Batches:   0%|          | 0/13 [00:00<?, ?it/s]"
      ]
     },
     "metadata": {},
     "output_type": "display_data"
    },
    {
     "data": {
      "application/vnd.jupyter.widget-view+json": {
       "model_id": "cbddd3a2d30e4ada862f1cb2dcbcf2fa",
       "version_major": 2,
       "version_minor": 0
      },
      "text/plain": [
       "Image Batches:   0%|          | 0/13 [00:00<?, ?it/s]"
      ]
     },
     "metadata": {},
     "output_type": "display_data"
    },
    {
     "data": {
      "application/vnd.jupyter.widget-view+json": {
       "model_id": "4a9fe47a7bdb47a1bb682a84154b6a31",
       "version_major": 2,
       "version_minor": 0
      },
      "text/plain": [
       "Image Batches:   0%|          | 0/26 [00:00<?, ?it/s]"
      ]
     },
     "metadata": {},
     "output_type": "display_data"
    },
    {
     "data": {
      "application/vnd.jupyter.widget-view+json": {
       "model_id": "4fc34ea652a2481db8c8b8f0898ae389",
       "version_major": 2,
       "version_minor": 0
      },
      "text/plain": [
       "Image Batches:   0%|          | 0/14 [00:00<?, ?it/s]"
      ]
     },
     "metadata": {},
     "output_type": "display_data"
    },
    {
     "data": {
      "application/vnd.jupyter.widget-view+json": {
       "model_id": "314fac88704641c58fd10aa93f1b83b3",
       "version_major": 2,
       "version_minor": 0
      },
      "text/plain": [
       "Image Batches:   0%|          | 0/13 [00:00<?, ?it/s]"
      ]
     },
     "metadata": {},
     "output_type": "display_data"
    },
    {
     "data": {
      "application/vnd.jupyter.widget-view+json": {
       "model_id": "64fd1e44451849db84b45310b67dd3ec",
       "version_major": 2,
       "version_minor": 0
      },
      "text/plain": [
       "Image Batches:   0%|          | 0/13 [00:00<?, ?it/s]"
      ]
     },
     "metadata": {},
     "output_type": "display_data"
    },
    {
     "data": {
      "application/vnd.jupyter.widget-view+json": {
       "model_id": "0c1313aada4947bfbca895e332248f14",
       "version_major": 2,
       "version_minor": 0
      },
      "text/plain": [
       "Image Batches:   0%|          | 0/13 [00:00<?, ?it/s]"
      ]
     },
     "metadata": {},
     "output_type": "display_data"
    },
    {
     "data": {
      "application/vnd.jupyter.widget-view+json": {
       "model_id": "0fcbe5a2e9ea456ebfdf3aefcb38075a",
       "version_major": 2,
       "version_minor": 0
      },
      "text/plain": [
       "Image Batches:   0%|          | 0/13 [00:00<?, ?it/s]"
      ]
     },
     "metadata": {},
     "output_type": "display_data"
    },
    {
     "data": {
      "application/vnd.jupyter.widget-view+json": {
       "model_id": "dab7ce90540f456d88486ca5210e97c5",
       "version_major": 2,
       "version_minor": 0
      },
      "text/plain": [
       "Image Batches:   0%|          | 0/13 [00:00<?, ?it/s]"
      ]
     },
     "metadata": {},
     "output_type": "display_data"
    },
    {
     "data": {
      "application/vnd.jupyter.widget-view+json": {
       "model_id": "d8fd88ddecdf448fadeafaa07005edfe",
       "version_major": 2,
       "version_minor": 0
      },
      "text/plain": [
       "Image Batches:   0%|          | 0/13 [00:00<?, ?it/s]"
      ]
     },
     "metadata": {},
     "output_type": "display_data"
    },
    {
     "data": {
      "application/vnd.jupyter.widget-view+json": {
       "model_id": "832e36def2444df9a5f408e6abaf5ca1",
       "version_major": 2,
       "version_minor": 0
      },
      "text/plain": [
       "Image Batches:   0%|          | 0/13 [00:00<?, ?it/s]"
      ]
     },
     "metadata": {},
     "output_type": "display_data"
    },
    {
     "data": {
      "application/vnd.jupyter.widget-view+json": {
       "model_id": "5dc6cd7351c94c43a1240c22c30064e9",
       "version_major": 2,
       "version_minor": 0
      },
      "text/plain": [
       "Image Batches:   0%|          | 0/13 [00:00<?, ?it/s]"
      ]
     },
     "metadata": {},
     "output_type": "display_data"
    },
    {
     "data": {
      "application/vnd.jupyter.widget-view+json": {
       "model_id": "605cda77e4bf4215a99a9c420e9fa42b",
       "version_major": 2,
       "version_minor": 0
      },
      "text/plain": [
       "Image Batches:   0%|          | 0/29 [00:00<?, ?it/s]"
      ]
     },
     "metadata": {},
     "output_type": "display_data"
    },
    {
     "data": {
      "application/vnd.jupyter.widget-view+json": {
       "model_id": "39e7d1ea0d32475ab99a5d5e374adbd4",
       "version_major": 2,
       "version_minor": 0
      },
      "text/plain": [
       "Image Batches:   0%|          | 0/13 [00:00<?, ?it/s]"
      ]
     },
     "metadata": {},
     "output_type": "display_data"
    },
    {
     "data": {
      "application/vnd.jupyter.widget-view+json": {
       "model_id": "3f13e3db479f48d5867085bb7e741f2f",
       "version_major": 2,
       "version_minor": 0
      },
      "text/plain": [
       "Image Batches:   0%|          | 0/13 [00:00<?, ?it/s]"
      ]
     },
     "metadata": {},
     "output_type": "display_data"
    },
    {
     "data": {
      "application/vnd.jupyter.widget-view+json": {
       "model_id": "6e355a061ba74e029d5b47b118765783",
       "version_major": 2,
       "version_minor": 0
      },
      "text/plain": [
       "Image Batches:   0%|          | 0/13 [00:00<?, ?it/s]"
      ]
     },
     "metadata": {},
     "output_type": "display_data"
    },
    {
     "data": {
      "application/vnd.jupyter.widget-view+json": {
       "model_id": "789f1ae38c64410790d5ab154c7af86c",
       "version_major": 2,
       "version_minor": 0
      },
      "text/plain": [
       "Image Batches:   0%|          | 0/14 [00:00<?, ?it/s]"
      ]
     },
     "metadata": {},
     "output_type": "display_data"
    },
    {
     "data": {
      "application/vnd.jupyter.widget-view+json": {
       "model_id": "cdac715dd027415cb1aeae95708b79aa",
       "version_major": 2,
       "version_minor": 0
      },
      "text/plain": [
       "Image Batches:   0%|          | 0/13 [00:00<?, ?it/s]"
      ]
     },
     "metadata": {},
     "output_type": "display_data"
    },
    {
     "data": {
      "application/vnd.jupyter.widget-view+json": {
       "model_id": "187428e4834e4021bccc761f9ac2687f",
       "version_major": 2,
       "version_minor": 0
      },
      "text/plain": [
       "Image Batches:   0%|          | 0/13 [00:00<?, ?it/s]"
      ]
     },
     "metadata": {},
     "output_type": "display_data"
    },
    {
     "data": {
      "application/vnd.jupyter.widget-view+json": {
       "model_id": "755250bfee3f4cb8acce955374098af1",
       "version_major": 2,
       "version_minor": 0
      },
      "text/plain": [
       "Image Batches:   0%|          | 0/13 [00:00<?, ?it/s]"
      ]
     },
     "metadata": {},
     "output_type": "display_data"
    },
    {
     "data": {
      "application/vnd.jupyter.widget-view+json": {
       "model_id": "66d0e20a20e946d6bbeb3afaf3a82f4b",
       "version_major": 2,
       "version_minor": 0
      },
      "text/plain": [
       "Image Batches:   0%|          | 0/13 [00:00<?, ?it/s]"
      ]
     },
     "metadata": {},
     "output_type": "display_data"
    },
    {
     "data": {
      "application/vnd.jupyter.widget-view+json": {
       "model_id": "32f78f8e63b34be687e44a9d54a0eb66",
       "version_major": 2,
       "version_minor": 0
      },
      "text/plain": [
       "Image Batches:   0%|          | 0/13 [00:00<?, ?it/s]"
      ]
     },
     "metadata": {},
     "output_type": "display_data"
    },
    {
     "data": {
      "application/vnd.jupyter.widget-view+json": {
       "model_id": "aa238d84c82546498cffd483c6c20cd9",
       "version_major": 2,
       "version_minor": 0
      },
      "text/plain": [
       "Image Batches:   0%|          | 0/13 [00:00<?, ?it/s]"
      ]
     },
     "metadata": {},
     "output_type": "display_data"
    },
    {
     "data": {
      "application/vnd.jupyter.widget-view+json": {
       "model_id": "aa8e12a08efe48fa82d71c66fbe17e64",
       "version_major": 2,
       "version_minor": 0
      },
      "text/plain": [
       "Image Batches:   0%|          | 0/15 [00:00<?, ?it/s]"
      ]
     },
     "metadata": {},
     "output_type": "display_data"
    },
    {
     "data": {
      "application/vnd.jupyter.widget-view+json": {
       "model_id": "17ecabbd3cfd4aee89e1c19d0688d26c",
       "version_major": 2,
       "version_minor": 0
      },
      "text/plain": [
       "Image Batches:   0%|          | 0/13 [00:00<?, ?it/s]"
      ]
     },
     "metadata": {},
     "output_type": "display_data"
    },
    {
     "data": {
      "application/vnd.jupyter.widget-view+json": {
       "model_id": "0d0c72a8dd524831871d619989823810",
       "version_major": 2,
       "version_minor": 0
      },
      "text/plain": [
       "Image Batches:   0%|          | 0/11 [00:00<?, ?it/s]"
      ]
     },
     "metadata": {},
     "output_type": "display_data"
    },
    {
     "data": {
      "application/vnd.jupyter.widget-view+json": {
       "model_id": "33e34fbe7c1940878e12d626c939fb7d",
       "version_major": 2,
       "version_minor": 0
      },
      "text/plain": [
       "Image Batches:   0%|          | 0/13 [00:00<?, ?it/s]"
      ]
     },
     "metadata": {},
     "output_type": "display_data"
    },
    {
     "data": {
      "application/vnd.jupyter.widget-view+json": {
       "model_id": "8a8e89c3f4214e1794eecb245434a5ef",
       "version_major": 2,
       "version_minor": 0
      },
      "text/plain": [
       "Image Batches:   0%|          | 0/15 [00:00<?, ?it/s]"
      ]
     },
     "metadata": {},
     "output_type": "display_data"
    },
    {
     "data": {
      "application/vnd.jupyter.widget-view+json": {
       "model_id": "0a1a787f52e34c9fb40e90a572da1d11",
       "version_major": 2,
       "version_minor": 0
      },
      "text/plain": [
       "Image Batches:   0%|          | 0/13 [00:00<?, ?it/s]"
      ]
     },
     "metadata": {},
     "output_type": "display_data"
    },
    {
     "data": {
      "application/vnd.jupyter.widget-view+json": {
       "model_id": "d98b879bb1a049e48afe3f0c0ad3e280",
       "version_major": 2,
       "version_minor": 0
      },
      "text/plain": [
       "Image Batches:   0%|          | 0/13 [00:00<?, ?it/s]"
      ]
     },
     "metadata": {},
     "output_type": "display_data"
    },
    {
     "data": {
      "application/vnd.jupyter.widget-view+json": {
       "model_id": "ca2cb8f2e10c47e5b9e23777d71bdf99",
       "version_major": 2,
       "version_minor": 0
      },
      "text/plain": [
       "Image Batches:   0%|          | 0/13 [00:00<?, ?it/s]"
      ]
     },
     "metadata": {},
     "output_type": "display_data"
    },
    {
     "data": {
      "application/vnd.jupyter.widget-view+json": {
       "model_id": "c4ecb568d5674dba91d2601f752b7a37",
       "version_major": 2,
       "version_minor": 0
      },
      "text/plain": [
       "Image Batches:   0%|          | 0/13 [00:00<?, ?it/s]"
      ]
     },
     "metadata": {},
     "output_type": "display_data"
    },
    {
     "data": {
      "application/vnd.jupyter.widget-view+json": {
       "model_id": "82f4f716d47d4e059821740f500acee7",
       "version_major": 2,
       "version_minor": 0
      },
      "text/plain": [
       "Image Batches:   0%|          | 0/13 [00:00<?, ?it/s]"
      ]
     },
     "metadata": {},
     "output_type": "display_data"
    },
    {
     "data": {
      "application/vnd.jupyter.widget-view+json": {
       "model_id": "f1b600034cfb4fd894f65fe20c7c721b",
       "version_major": 2,
       "version_minor": 0
      },
      "text/plain": [
       "Image Batches:   0%|          | 0/14 [00:00<?, ?it/s]"
      ]
     },
     "metadata": {},
     "output_type": "display_data"
    },
    {
     "data": {
      "application/vnd.jupyter.widget-view+json": {
       "model_id": "200efd7c9ccb48c4b3b9f3aa5d7b8420",
       "version_major": 2,
       "version_minor": 0
      },
      "text/plain": [
       "Image Batches:   0%|          | 0/13 [00:00<?, ?it/s]"
      ]
     },
     "metadata": {},
     "output_type": "display_data"
    },
    {
     "data": {
      "application/vnd.jupyter.widget-view+json": {
       "model_id": "2de21c4c131f409ab0e319d5dca17d75",
       "version_major": 2,
       "version_minor": 0
      },
      "text/plain": [
       "Image Batches:   0%|          | 0/13 [00:00<?, ?it/s]"
      ]
     },
     "metadata": {},
     "output_type": "display_data"
    },
    {
     "data": {
      "application/vnd.jupyter.widget-view+json": {
       "model_id": "b187cbb6e843441e8cde08c0242ece30",
       "version_major": 2,
       "version_minor": 0
      },
      "text/plain": [
       "Image Batches:   0%|          | 0/13 [00:00<?, ?it/s]"
      ]
     },
     "metadata": {},
     "output_type": "display_data"
    },
    {
     "data": {
      "application/vnd.jupyter.widget-view+json": {
       "model_id": "076a15bdef754cb8bb8ee35c715f7cd3",
       "version_major": 2,
       "version_minor": 0
      },
      "text/plain": [
       "Image Batches:   0%|          | 0/14 [00:00<?, ?it/s]"
      ]
     },
     "metadata": {},
     "output_type": "display_data"
    },
    {
     "data": {
      "application/vnd.jupyter.widget-view+json": {
       "model_id": "724ab3ef90f9439a836347cc56912f04",
       "version_major": 2,
       "version_minor": 0
      },
      "text/plain": [
       "Image Batches:   0%|          | 0/13 [00:00<?, ?it/s]"
      ]
     },
     "metadata": {},
     "output_type": "display_data"
    },
    {
     "data": {
      "application/vnd.jupyter.widget-view+json": {
       "model_id": "84f320726abe423788a9d7402fd5d174",
       "version_major": 2,
       "version_minor": 0
      },
      "text/plain": [
       "Image Batches:   0%|          | 0/13 [00:00<?, ?it/s]"
      ]
     },
     "metadata": {},
     "output_type": "display_data"
    },
    {
     "data": {
      "application/vnd.jupyter.widget-view+json": {
       "model_id": "413b8b39a5e44295bb974ff356521d8a",
       "version_major": 2,
       "version_minor": 0
      },
      "text/plain": [
       "Image Batches:   0%|          | 0/13 [00:00<?, ?it/s]"
      ]
     },
     "metadata": {},
     "output_type": "display_data"
    },
    {
     "data": {
      "application/vnd.jupyter.widget-view+json": {
       "model_id": "b751c0f6befc433db7eec519cfb668a4",
       "version_major": 2,
       "version_minor": 0
      },
      "text/plain": [
       "Image Batches:   0%|          | 0/13 [00:00<?, ?it/s]"
      ]
     },
     "metadata": {},
     "output_type": "display_data"
    },
    {
     "data": {
      "application/vnd.jupyter.widget-view+json": {
       "model_id": "6ca577961d524282baf959632300aa85",
       "version_major": 2,
       "version_minor": 0
      },
      "text/plain": [
       "Image Batches:   0%|          | 0/13 [00:00<?, ?it/s]"
      ]
     },
     "metadata": {},
     "output_type": "display_data"
    },
    {
     "data": {
      "application/vnd.jupyter.widget-view+json": {
       "model_id": "8556bc03beb0461e9004d891f9d30be9",
       "version_major": 2,
       "version_minor": 0
      },
      "text/plain": [
       "Image Batches:   0%|          | 0/13 [00:00<?, ?it/s]"
      ]
     },
     "metadata": {},
     "output_type": "display_data"
    },
    {
     "data": {
      "application/vnd.jupyter.widget-view+json": {
       "model_id": "6911c43ef2ba488dafa69e8b433a173f",
       "version_major": 2,
       "version_minor": 0
      },
      "text/plain": [
       "Image Batches:   0%|          | 0/13 [00:00<?, ?it/s]"
      ]
     },
     "metadata": {},
     "output_type": "display_data"
    },
    {
     "data": {
      "application/vnd.jupyter.widget-view+json": {
       "model_id": "fbc8136ccfe24dfb800a4f616bbb6a22",
       "version_major": 2,
       "version_minor": 0
      },
      "text/plain": [
       "Image Batches:   0%|          | 0/25 [00:00<?, ?it/s]"
      ]
     },
     "metadata": {},
     "output_type": "display_data"
    },
    {
     "data": {
      "application/vnd.jupyter.widget-view+json": {
       "model_id": "36ec0160b3fa4aacadc4d02c70460ad6",
       "version_major": 2,
       "version_minor": 0
      },
      "text/plain": [
       "Image Batches:   0%|          | 0/13 [00:00<?, ?it/s]"
      ]
     },
     "metadata": {},
     "output_type": "display_data"
    },
    {
     "data": {
      "application/vnd.jupyter.widget-view+json": {
       "model_id": "1285ef43d24a4f01ab5ef9277377c4b6",
       "version_major": 2,
       "version_minor": 0
      },
      "text/plain": [
       "Image Batches:   0%|          | 0/13 [00:00<?, ?it/s]"
      ]
     },
     "metadata": {},
     "output_type": "display_data"
    },
    {
     "data": {
      "application/vnd.jupyter.widget-view+json": {
       "model_id": "eb7c054b77fc4870a16dd45ab77f61dd",
       "version_major": 2,
       "version_minor": 0
      },
      "text/plain": [
       "Image Batches:   0%|          | 0/13 [00:00<?, ?it/s]"
      ]
     },
     "metadata": {},
     "output_type": "display_data"
    },
    {
     "data": {
      "application/vnd.jupyter.widget-view+json": {
       "model_id": "255ee96d567f41d496a47820d1e2720b",
       "version_major": 2,
       "version_minor": 0
      },
      "text/plain": [
       "Image Batches:   0%|          | 0/13 [00:00<?, ?it/s]"
      ]
     },
     "metadata": {},
     "output_type": "display_data"
    },
    {
     "data": {
      "application/vnd.jupyter.widget-view+json": {
       "model_id": "be1fcf87ddc04c259b0281186c6a4b63",
       "version_major": 2,
       "version_minor": 0
      },
      "text/plain": [
       "Image Batches:   0%|          | 0/26 [00:00<?, ?it/s]"
      ]
     },
     "metadata": {},
     "output_type": "display_data"
    },
    {
     "data": {
      "application/vnd.jupyter.widget-view+json": {
       "model_id": "6b80f5d105814b08b54bad142398384d",
       "version_major": 2,
       "version_minor": 0
      },
      "text/plain": [
       "Image Batches:   0%|          | 0/13 [00:00<?, ?it/s]"
      ]
     },
     "metadata": {},
     "output_type": "display_data"
    },
    {
     "data": {
      "application/vnd.jupyter.widget-view+json": {
       "model_id": "3f39b5fa3c1447efb3240d14b5375ee0",
       "version_major": 2,
       "version_minor": 0
      },
      "text/plain": [
       "Image Batches:   0%|          | 0/13 [00:00<?, ?it/s]"
      ]
     },
     "metadata": {},
     "output_type": "display_data"
    },
    {
     "data": {
      "application/vnd.jupyter.widget-view+json": {
       "model_id": "8d6210e284274dffbe102c1475815bff",
       "version_major": 2,
       "version_minor": 0
      },
      "text/plain": [
       "Image Batches:   0%|          | 0/13 [00:00<?, ?it/s]"
      ]
     },
     "metadata": {},
     "output_type": "display_data"
    },
    {
     "data": {
      "application/vnd.jupyter.widget-view+json": {
       "model_id": "b4188f034f3a4c7391fa771c67fdc651",
       "version_major": 2,
       "version_minor": 0
      },
      "text/plain": [
       "Image Batches:   0%|          | 0/14 [00:00<?, ?it/s]"
      ]
     },
     "metadata": {},
     "output_type": "display_data"
    },
    {
     "data": {
      "application/vnd.jupyter.widget-view+json": {
       "model_id": "30d372ede3c64bb1b1cbd4f74929a11c",
       "version_major": 2,
       "version_minor": 0
      },
      "text/plain": [
       "Image Batches:   0%|          | 0/30 [00:00<?, ?it/s]"
      ]
     },
     "metadata": {},
     "output_type": "display_data"
    },
    {
     "data": {
      "application/vnd.jupyter.widget-view+json": {
       "model_id": "a0c576d091014ce9980304285d8f9ac1",
       "version_major": 2,
       "version_minor": 0
      },
      "text/plain": [
       "Image Batches:   0%|          | 0/13 [00:00<?, ?it/s]"
      ]
     },
     "metadata": {},
     "output_type": "display_data"
    },
    {
     "data": {
      "application/vnd.jupyter.widget-view+json": {
       "model_id": "5ed26f3fbf6d4bb3a610104ba4733867",
       "version_major": 2,
       "version_minor": 0
      },
      "text/plain": [
       "Image Batches:   0%|          | 0/13 [00:00<?, ?it/s]"
      ]
     },
     "metadata": {},
     "output_type": "display_data"
    },
    {
     "data": {
      "application/vnd.jupyter.widget-view+json": {
       "model_id": "a25da99af6c14b3a8f69f740b8fbe2e5",
       "version_major": 2,
       "version_minor": 0
      },
      "text/plain": [
       "Image Batches:   0%|          | 0/25 [00:00<?, ?it/s]"
      ]
     },
     "metadata": {},
     "output_type": "display_data"
    },
    {
     "data": {
      "application/vnd.jupyter.widget-view+json": {
       "model_id": "763f3aeb3f3c4af18bd160f12b1e08df",
       "version_major": 2,
       "version_minor": 0
      },
      "text/plain": [
       "Image Batches:   0%|          | 0/26 [00:00<?, ?it/s]"
      ]
     },
     "metadata": {},
     "output_type": "display_data"
    },
    {
     "data": {
      "application/vnd.jupyter.widget-view+json": {
       "model_id": "e48cd09d61e740fcb32bbb3410c4dc34",
       "version_major": 2,
       "version_minor": 0
      },
      "text/plain": [
       "Image Batches:   0%|          | 0/13 [00:00<?, ?it/s]"
      ]
     },
     "metadata": {},
     "output_type": "display_data"
    },
    {
     "data": {
      "application/vnd.jupyter.widget-view+json": {
       "model_id": "a7eb19582a374ce3bb03522fb84d5e8b",
       "version_major": 2,
       "version_minor": 0
      },
      "text/plain": [
       "Image Batches:   0%|          | 0/14 [00:00<?, ?it/s]"
      ]
     },
     "metadata": {},
     "output_type": "display_data"
    },
    {
     "data": {
      "application/vnd.jupyter.widget-view+json": {
       "model_id": "8f4d3c0a528549d0ae9af5acc48c4f27",
       "version_major": 2,
       "version_minor": 0
      },
      "text/plain": [
       "Image Batches:   0%|          | 0/26 [00:00<?, ?it/s]"
      ]
     },
     "metadata": {},
     "output_type": "display_data"
    },
    {
     "data": {
      "application/vnd.jupyter.widget-view+json": {
       "model_id": "871b38c86d29410a812179891fb1718a",
       "version_major": 2,
       "version_minor": 0
      },
      "text/plain": [
       "Image Batches:   0%|          | 0/13 [00:00<?, ?it/s]"
      ]
     },
     "metadata": {},
     "output_type": "display_data"
    },
    {
     "data": {
      "application/vnd.jupyter.widget-view+json": {
       "model_id": "3a92bf32d2704cdcaf1cb57cbefee9c0",
       "version_major": 2,
       "version_minor": 0
      },
      "text/plain": [
       "Image Batches:   0%|          | 0/13 [00:00<?, ?it/s]"
      ]
     },
     "metadata": {},
     "output_type": "display_data"
    },
    {
     "data": {
      "application/vnd.jupyter.widget-view+json": {
       "model_id": "c62667509cec4581979edd15fb77ebca",
       "version_major": 2,
       "version_minor": 0
      },
      "text/plain": [
       "Image Batches:   0%|          | 0/13 [00:00<?, ?it/s]"
      ]
     },
     "metadata": {},
     "output_type": "display_data"
    },
    {
     "data": {
      "application/vnd.jupyter.widget-view+json": {
       "model_id": "95ccde26ba554b06b772b3c7fb55c9b1",
       "version_major": 2,
       "version_minor": 0
      },
      "text/plain": [
       "Image Batches:   0%|          | 0/24 [00:00<?, ?it/s]"
      ]
     },
     "metadata": {},
     "output_type": "display_data"
    },
    {
     "name": "stdout",
     "output_type": "stream",
     "text": [
      "Validation Accuracy: 80.00%\n",
      "Validation Log Loss: 5.2779\n",
      "Validation Time: 5.70 minutes\n",
      "Validation Single Inference Time: 0.01 seconds\n",
      "Validation FPS: 113.08 images/second\n"
     ]
    }
   ],
   "source": [
    "batch_size = 24\n",
    "video_paths = x_val\n",
    "video_labels = y_val\n",
    "labels = []\n",
    "\n",
    "model.eval()\n",
    "# classifier.eval()\n",
    "\n",
    "running_loss = 0.0\n",
    "total_batches = 0\n",
    "total_images = 0\n",
    "correct = 0\n",
    "total = 0\n",
    "\n",
    "start_time = time.time()\n",
    "\n",
    "video_bar = tqdm(zip(video_paths, video_labels),desc='Videos', total=len(video_paths))\n",
    "for path, label in video_bar:\n",
    "    image_files = sorted([ os.path.join(path, f)\n",
    "    for f in os.listdir(path)\n",
    "    if f.lower().endswith('.png')\n",
    "    ])\n",
    "\n",
    "    labels.extend([label] * len(image_files))  # Repeat label for each image\n",
    "    total_images += len(image_files)\n",
    "\n",
    "    for i in tqdm(range(0, len(image_files), batch_size), desc='Image Batches', leave=False):\n",
    "        total_batches += 1\n",
    "        batch_paths = image_files[i:i+batch_size]\n",
    "        images = [Image.open(p).convert(\"RGB\") for p in batch_paths]\n",
    "        inputs = processor(images=images, return_tensors=\"pt\")\n",
    "        inputs = {k: v.to(device) for k, v in inputs.items()}\n",
    "\n",
    "        batch_labels = torch.tensor([label] * len(images), dtype=torch.float).unsqueeze(1).to(device)\n",
    "\n",
    "        with torch.no_grad():\n",
    "            outputs = model(**inputs)\n",
    "            batch_logits = outputs.logits\n",
    "\n",
    "            running_loss += criterion(batch_logits, batch_labels).item()\n",
    "            preds = (torch.sigmoid(batch_logits) > 0.5).int()\n",
    "            correct += (preds == batch_labels.int()).sum().item()\n",
    "            total += batch_labels.size(0)\n",
    "\n",
    "    accuracy = correct / total\n",
    "    val_loss = running_loss / total_batches if total_batches > 0 else 0\n",
    "\n",
    "end_time = time.time()\n",
    "vali_time = end_time - start_time\n",
    "vali_inf_time = vali_time / total_images\n",
    "vali_fps = total_images / vali_time\n",
    "\n",
    "print(f\"Validation Accuracy: {accuracy*100:.2f}%\")\n",
    "print(f\"Validation Log Loss: {val_loss:.4f}\")\n",
    "\n",
    "print(f\"Validation Time: {vali_time/60:.2f} minutes\")\n",
    "print(f\"Validation Single Inference Time: {vali_inf_time:.2f} seconds\")\n",
    "print(f\"Validation FPS: {vali_fps:.2f} images/second\")\n",
    "\n",
    "\n",
    "\n",
    "\n",
    "###########################################################################################################################\n",
    "\n",
    "# for path, label in tqdm(zip(video_paths, video_labels),desc='Videos', total=len(video_paths)):\n",
    "#     image_files = sorted([ os.path.join(path, f)\n",
    "#     for f in os.listdir(path)\n",
    "#     if f.lower().endswith('.png')\n",
    "#     ])\n",
    "\n",
    "#     feat_labels.extend([label] * len(image_files))  # Repeat label for each image\n",
    "\n",
    "#     for i in tqdm(range(0, len(image_files), batch_size), desc='Image Batches', leave=False):\n",
    "#         batch_paths = image_files[i:i+batch_size]\n",
    "#         images = [Image.open(p).convert(\"RGB\") for p in batch_paths]\n",
    "#         inputs = processor(images=images, return_tensors=\"pt\")\n",
    "#         inputs = {k: v.to(device) for k, v in inputs.items()}\n",
    "\n",
    "\n",
    "#         with torch.no_grad():\n",
    "#             outputs = model(**inputs)\n",
    "#             cls_embeddings = outputs.last_hidden_state[:, 0, :]  # (batch, hidden_dim)\n",
    "#             features.append(cls_embeddings.cpu())\n",
    "\n",
    "\n",
    "# val_features = torch.cat(features, dim=0)  # (total_num_images, hidden_dim)\n",
    "# val_feat_labels = torch.tensor(feat_labels)\n",
    "\n",
    "# torch.save(val_features, 'val_features.pt')\n",
    "# torch.save(val_feat_labels, 'val_feat_labels.pt')\n",
    "\n",
    "\n",
    "#########################################################################3#################################################\n",
    "\n",
    "# classifier.eval()\n",
    "# correct = 0\n",
    "# total = 0\n",
    "# batch_loss = 0.0\n",
    "# with torch.no_grad():\n",
    "#     batch_bar = tqdm(val_loader, desc='Batches')\n",
    "#     for features_batch, labels_batch in batch_bar:\n",
    "#         features_batch = features_batch.to(device)\n",
    "#         labels_batch = labels_batch.float().unsqueeze(1).to(device)\n",
    "#         outputs = classifier(features_batch)\n",
    "\n",
    "#         batch_loss += criterion(outputs, labels_batch).item()\n",
    "#         preds = (torch.sigmoid(outputs) > 0.5).int()\n",
    "#         correct += (preds == labels_batch.int()).sum().item()\n",
    "#         total += labels_batch.size(0)\n",
    "# accuracy = correct / total\n",
    "# val_loss = batch_loss / len(val_loader)\n",
    "# print(f\"Validation Accuracy: {accuracy*100:.2f}%\")\n",
    "# print(f\"Validation Log Loss: {val_loss:.4f}\")\n",
    "\n"
   ]
  },
  {
   "cell_type": "markdown",
   "id": "c1962210",
   "metadata": {},
   "source": [
    "Measuring Gflops"
   ]
  },
  {
   "cell_type": "code",
   "execution_count": 7,
   "id": "4f0f5b58",
   "metadata": {},
   "outputs": [
    {
     "name": "stdout",
     "output_type": "stream",
     "text": [
      "Total:384.55 MMac\n",
      "Module:  Global\n",
      "aten.convolution: 384.54 MMac\n",
      "aten.addmm: 1.28 KMac\n",
      "\n",
      "Module:  efficientnet\n",
      "aten.convolution: 384.54 MMac\n",
      "\n",
      "Module:  classifier\n",
      "aten.addmm: 1.28 KMac\n",
      "\n",
      "FLOP: 0.77 GFLOP\n",
      "Params: 4.01 M\n"
     ]
    }
   ],
   "source": [
    "\n",
    "\n",
    "# Replace this with your actual model instance\n",
    "input_shape = (3, 224, 224)  # Typical for ViT, adjust as needed\n",
    "\n",
    "macs, params = get_model_complexity_info(\n",
    "    model, input_shape, as_strings=False, print_per_layer_stat=True, backend='aten'\n",
    ")\n",
    "\n",
    "print(f\"FLOP: {2*macs/1000000000:.2f} GFLOP\")\n",
    "print(f\"Params: {params/1000000:.2f} M\")"
   ]
  },
  {
   "cell_type": "code",
   "execution_count": 8,
   "id": "38a3367e",
   "metadata": {},
   "outputs": [
    {
     "name": "stdout",
     "output_type": "stream",
     "text": [
      "Total parameters: 4.01M\n"
     ]
    }
   ],
   "source": [
    "total_params = sum(p.numel() for p in model.parameters())\n",
    "print(f\"Total parameters: {total_params / 1e6:.2f}M\")"
   ]
  },
  {
   "cell_type": "code",
   "execution_count": 9,
   "id": "9c2cb31d",
   "metadata": {},
   "outputs": [
    {
     "name": "stdout",
     "output_type": "stream",
     "text": [
      "[INFO] Register zero_ops() for <class 'torch.nn.modules.padding.ZeroPad2d'>.\n",
      "[INFO] Register count_convNd() for <class 'torch.nn.modules.conv.Conv2d'>.\n",
      "[INFO] Register count_normalization() for <class 'torch.nn.modules.batchnorm.BatchNorm2d'>.\n",
      "[INFO] Register count_adap_avgpool() for <class 'torch.nn.modules.pooling.AdaptiveAvgPool2d'>.\n",
      "[INFO] Register zero_ops() for <class 'torch.nn.modules.dropout.Dropout'>.\n",
      "[INFO] Register count_avgpool() for <class 'torch.nn.modules.pooling.AvgPool2d'>.\n",
      "[INFO] Register count_linear() for <class 'torch.nn.modules.linear.Linear'>.\n",
      "Params: 3.83M, GFLOPs: 0.76\n"
     ]
    }
   ],
   "source": [
    "from thop import profile\n",
    "input_tensor = torch.randn(1, 3, 224, 224).to(device)\n",
    "tmacs, tparams = profile(model, inputs=(input_tensor,))\n",
    "print(f\"Params: {tparams / 1e6:.2f}M, GFLOPs: {2*tmacs / 1e9:.2f}\")"
   ]
  }
 ],
 "metadata": {
  "kernelspec": {
   "display_name": "env1",
   "language": "python",
   "name": "python3"
  },
  "language_info": {
   "codemirror_mode": {
    "name": "ipython",
    "version": 3
   },
   "file_extension": ".py",
   "mimetype": "text/x-python",
   "name": "python",
   "nbconvert_exporter": "python",
   "pygments_lexer": "ipython3",
   "version": "3.13.2"
  }
 },
 "nbformat": 4,
 "nbformat_minor": 5
}
