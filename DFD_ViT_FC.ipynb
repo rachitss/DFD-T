{
 "cells": [
  {
   "cell_type": "code",
   "execution_count": 1,
   "id": "69efea60",
   "metadata": {},
   "outputs": [
    {
     "name": "stdout",
     "output_type": "stream",
     "text": [
      "Running on device: cuda:0\n"
     ]
    }
   ],
   "source": [
    "from transformers import ViTImageProcessor, ViTModel\n",
    "from PIL import Image\n",
    "import requests\n",
    "import pandas as pd\n",
    "import os\n",
    "from tqdm.auto import tqdm\n",
    "import glob\n",
    "import multiprocessing as mp\n",
    "import numpy as np\n",
    "from sklearn.model_selection import train_test_split\n",
    "import torch\n",
    "from torch.utils.data import TensorDataset, DataLoader\n",
    "import torch.nn as nn\n",
    "import matplotlib.pyplot as plt\n",
    "from torchviz import make_dot\n",
    "from ptflops import get_model_complexity_info\n",
    "import time\n",
    "import sys\n",
    "\n",
    "\n",
    "device = 'cuda:0' if torch.cuda.is_available() else 'cpu'\n",
    "print(f'Running on device: {device}')\n"
   ]
  },
  {
   "cell_type": "markdown",
   "id": "08a4cda5",
   "metadata": {},
   "source": [
    "# Training Data"
   ]
  },
  {
   "cell_type": "code",
   "execution_count": 14,
   "id": "204f32de",
   "metadata": {},
   "outputs": [
    {
     "data": {
      "text/html": [
       "<div>\n",
       "<style scoped>\n",
       "    .dataframe tbody tr th:only-of-type {\n",
       "        vertical-align: middle;\n",
       "    }\n",
       "\n",
       "    .dataframe tbody tr th {\n",
       "        vertical-align: top;\n",
       "    }\n",
       "\n",
       "    .dataframe thead th {\n",
       "        text-align: right;\n",
       "    }\n",
       "</style>\n",
       "<table border=\"1\" class=\"dataframe\">\n",
       "  <thead>\n",
       "    <tr style=\"text-align: right;\">\n",
       "      <th></th>\n",
       "      <th>filename</th>\n",
       "      <th>label</th>\n",
       "      <th>split</th>\n",
       "      <th>original</th>\n",
       "      <th>path</th>\n",
       "    </tr>\n",
       "  </thead>\n",
       "  <tbody>\n",
       "    <tr>\n",
       "      <th>0</th>\n",
       "      <td>aagfhgtpmv.mp4</td>\n",
       "      <td>FAKE</td>\n",
       "      <td>train</td>\n",
       "      <td>vudstovrck.mp4</td>\n",
       "      <td>D:\\W\\VS\\VS Folder\\DFD\\DFDC MTCNN Extracted\\aag...</td>\n",
       "    </tr>\n",
       "    <tr>\n",
       "      <th>1</th>\n",
       "      <td>aapnvogymq.mp4</td>\n",
       "      <td>FAKE</td>\n",
       "      <td>train</td>\n",
       "      <td>jdubbvfswz.mp4</td>\n",
       "      <td>D:\\W\\VS\\VS Folder\\DFD\\DFDC MTCNN Extracted\\aap...</td>\n",
       "    </tr>\n",
       "    <tr>\n",
       "      <th>2</th>\n",
       "      <td>abarnvbtwb.mp4</td>\n",
       "      <td>REAL</td>\n",
       "      <td>train</td>\n",
       "      <td>NaN</td>\n",
       "      <td>D:\\W\\VS\\VS Folder\\DFD\\DFDC MTCNN Extracted\\aba...</td>\n",
       "    </tr>\n",
       "    <tr>\n",
       "      <th>3</th>\n",
       "      <td>abofeumbvv.mp4</td>\n",
       "      <td>FAKE</td>\n",
       "      <td>train</td>\n",
       "      <td>atvmxvwyns.mp4</td>\n",
       "      <td>D:\\W\\VS\\VS Folder\\DFD\\DFDC MTCNN Extracted\\abo...</td>\n",
       "    </tr>\n",
       "    <tr>\n",
       "      <th>4</th>\n",
       "      <td>abqwwspghj.mp4</td>\n",
       "      <td>FAKE</td>\n",
       "      <td>train</td>\n",
       "      <td>qzimuostzz.mp4</td>\n",
       "      <td>D:\\W\\VS\\VS Folder\\DFD\\DFDC MTCNN Extracted\\abq...</td>\n",
       "    </tr>\n",
       "    <tr>\n",
       "      <th>...</th>\n",
       "      <td>...</td>\n",
       "      <td>...</td>\n",
       "      <td>...</td>\n",
       "      <td>...</td>\n",
       "      <td>...</td>\n",
       "    </tr>\n",
       "    <tr>\n",
       "      <th>395</th>\n",
       "      <td>etejaapnxh.mp4</td>\n",
       "      <td>FAKE</td>\n",
       "      <td>train</td>\n",
       "      <td>wtreibcmgm.mp4</td>\n",
       "      <td>D:\\W\\VS\\VS Folder\\DFD\\DFDC MTCNN Extracted\\ete...</td>\n",
       "    </tr>\n",
       "    <tr>\n",
       "      <th>396</th>\n",
       "      <td>etmcruaihe.mp4</td>\n",
       "      <td>FAKE</td>\n",
       "      <td>train</td>\n",
       "      <td>afoovlsmtx.mp4</td>\n",
       "      <td>D:\\W\\VS\\VS Folder\\DFD\\DFDC MTCNN Extracted\\etm...</td>\n",
       "    </tr>\n",
       "    <tr>\n",
       "      <th>397</th>\n",
       "      <td>etohcvnzbj.mp4</td>\n",
       "      <td>FAKE</td>\n",
       "      <td>train</td>\n",
       "      <td>bdnaqemxmr.mp4</td>\n",
       "      <td>D:\\W\\VS\\VS Folder\\DFD\\DFDC MTCNN Extracted\\eto...</td>\n",
       "    </tr>\n",
       "    <tr>\n",
       "      <th>398</th>\n",
       "      <td>eudeqjhdfd.mp4</td>\n",
       "      <td>REAL</td>\n",
       "      <td>train</td>\n",
       "      <td>NaN</td>\n",
       "      <td>D:\\W\\VS\\VS Folder\\DFD\\DFDC MTCNN Extracted\\eud...</td>\n",
       "    </tr>\n",
       "    <tr>\n",
       "      <th>399</th>\n",
       "      <td>eukvucdetx.mp4</td>\n",
       "      <td>FAKE</td>\n",
       "      <td>train</td>\n",
       "      <td>gjypopglvi.mp4</td>\n",
       "      <td>D:\\W\\VS\\VS Folder\\DFD\\DFDC MTCNN Extracted\\euk...</td>\n",
       "    </tr>\n",
       "  </tbody>\n",
       "</table>\n",
       "<p>400 rows × 5 columns</p>\n",
       "</div>"
      ],
      "text/plain": [
       "           filename label  split        original  \\\n",
       "0    aagfhgtpmv.mp4  FAKE  train  vudstovrck.mp4   \n",
       "1    aapnvogymq.mp4  FAKE  train  jdubbvfswz.mp4   \n",
       "2    abarnvbtwb.mp4  REAL  train             NaN   \n",
       "3    abofeumbvv.mp4  FAKE  train  atvmxvwyns.mp4   \n",
       "4    abqwwspghj.mp4  FAKE  train  qzimuostzz.mp4   \n",
       "..              ...   ...    ...             ...   \n",
       "395  etejaapnxh.mp4  FAKE  train  wtreibcmgm.mp4   \n",
       "396  etmcruaihe.mp4  FAKE  train  afoovlsmtx.mp4   \n",
       "397  etohcvnzbj.mp4  FAKE  train  bdnaqemxmr.mp4   \n",
       "398  eudeqjhdfd.mp4  REAL  train             NaN   \n",
       "399  eukvucdetx.mp4  FAKE  train  gjypopglvi.mp4   \n",
       "\n",
       "                                                  path  \n",
       "0    D:\\W\\VS\\VS Folder\\DFD\\DFDC MTCNN Extracted\\aag...  \n",
       "1    D:\\W\\VS\\VS Folder\\DFD\\DFDC MTCNN Extracted\\aap...  \n",
       "2    D:\\W\\VS\\VS Folder\\DFD\\DFDC MTCNN Extracted\\aba...  \n",
       "3    D:\\W\\VS\\VS Folder\\DFD\\DFDC MTCNN Extracted\\abo...  \n",
       "4    D:\\W\\VS\\VS Folder\\DFD\\DFDC MTCNN Extracted\\abq...  \n",
       "..                                                 ...  \n",
       "395  D:\\W\\VS\\VS Folder\\DFD\\DFDC MTCNN Extracted\\ete...  \n",
       "396  D:\\W\\VS\\VS Folder\\DFD\\DFDC MTCNN Extracted\\etm...  \n",
       "397  D:\\W\\VS\\VS Folder\\DFD\\DFDC MTCNN Extracted\\eto...  \n",
       "398  D:\\W\\VS\\VS Folder\\DFD\\DFDC MTCNN Extracted\\eud...  \n",
       "399  D:\\W\\VS\\VS Folder\\DFD\\DFDC MTCNN Extracted\\euk...  \n",
       "\n",
       "[400 rows x 5 columns]"
      ]
     },
     "execution_count": 14,
     "metadata": {},
     "output_type": "execute_result"
    }
   ],
   "source": [
    "train_dir = 'D:\\\\W\\\\VS\\\\VS Folder\\\\DFD\\\\DFDC MTCNN Extracted\\\\'\n",
    "train_df = pd.read_csv(os.path.join(train_dir, 'metadata.csv'))\n",
    "train_df['path'] = train_df['filename'].apply(lambda x: os.path.join(train_dir, x.split('.')[0]))\n",
    "\n",
    "# Remove empty folders\n",
    "train_df = train_df[train_df['path'].map(lambda x: os.path.exists(x))]\n",
    "train_df"
   ]
  },
  {
   "cell_type": "code",
   "execution_count": 15,
   "id": "23dbafc7",
   "metadata": {},
   "outputs": [
    {
     "data": {
      "application/vnd.jupyter.widget-view+json": {
       "model_id": "9532af329fc64a5d9f7167eff1833625",
       "version_major": 2,
       "version_minor": 0
      },
      "text/plain": [
       "  0%|          | 0/400 [00:00<?, ?it/s]"
      ]
     },
     "metadata": {},
     "output_type": "display_data"
    }
   ],
   "source": [
    "valid_train_df = pd.DataFrame(columns=['filename', 'label', 'split', 'original', 'path'])\n",
    "\n",
    "# for row_idx, row in tqdm(train_df.iterrows()):\n",
    "for row_idx in tqdm(train_df.index):\n",
    "    row = train_df.loc[row_idx]\n",
    "    img_dir = row['path']\n",
    "    face_paths = glob.glob(f'{img_dir}/*.png')\n",
    "\n",
    "    if len(face_paths) >= 5: # Satisfy the minimum requirement for the number of faces\n",
    "        face_indices = [\n",
    "            path.split('\\\\')[-1].split('.')[0].split('_')[0]\n",
    "            for path in face_paths\n",
    "        ]\n",
    "        max_idx = np.max(np.array(face_indices, dtype=np.uint32))\n",
    "\n",
    "        selected_paths = []\n",
    "\n",
    "        for i in range(5):\n",
    "            stride = int((max_idx + 1)/(5**2))\n",
    "            sample = np.linspace(i*stride, max_idx + i*stride, 5).astype(int)\n",
    "\n",
    "            # Get faces\n",
    "            for idx in sample:\n",
    "                paths = glob.glob(f'{img_dir}/{idx}*.png')\n",
    "\n",
    "                selected_paths.extend(paths)\n",
    "                if len(selected_paths) >= 5: # Get enough faces\n",
    "                    break\n",
    "\n",
    "            if len(selected_paths) >= 5:  # Get enough faces\n",
    "                valid_train_df = pd.concat([valid_train_df, pd.DataFrame([row])], ignore_index=True)\n",
    "                break"
   ]
  },
  {
   "cell_type": "code",
   "execution_count": 16,
   "id": "e89472c9",
   "metadata": {},
   "outputs": [
    {
     "name": "stderr",
     "output_type": "stream",
     "text": [
      "C:\\Users\\rachi\\AppData\\Local\\Temp\\ipykernel_21020\\3380636837.py:1: FutureWarning: Downcasting behavior in `replace` is deprecated and will be removed in a future version. To retain the old behavior, explicitly call `result.infer_objects(copy=False)`. To opt-in to the future behavior, set `pd.set_option('future.no_silent_downcasting', True)`\n",
      "  valid_train_df['label']=valid_train_df['label'].replace({'FAKE': 1, 'REAL': 0})\n"
     ]
    },
    {
     "data": {
      "text/html": [
       "<div>\n",
       "<style scoped>\n",
       "    .dataframe tbody tr th:only-of-type {\n",
       "        vertical-align: middle;\n",
       "    }\n",
       "\n",
       "    .dataframe tbody tr th {\n",
       "        vertical-align: top;\n",
       "    }\n",
       "\n",
       "    .dataframe thead th {\n",
       "        text-align: right;\n",
       "    }\n",
       "</style>\n",
       "<table border=\"1\" class=\"dataframe\">\n",
       "  <thead>\n",
       "    <tr style=\"text-align: right;\">\n",
       "      <th></th>\n",
       "      <th>filename</th>\n",
       "      <th>label</th>\n",
       "      <th>split</th>\n",
       "      <th>original</th>\n",
       "      <th>path</th>\n",
       "    </tr>\n",
       "  </thead>\n",
       "  <tbody>\n",
       "    <tr>\n",
       "      <th>0</th>\n",
       "      <td>aagfhgtpmv.mp4</td>\n",
       "      <td>1</td>\n",
       "      <td>train</td>\n",
       "      <td>vudstovrck.mp4</td>\n",
       "      <td>D:\\W\\VS\\VS Folder\\DFD\\DFDC MTCNN Extracted\\aag...</td>\n",
       "    </tr>\n",
       "    <tr>\n",
       "      <th>1</th>\n",
       "      <td>aapnvogymq.mp4</td>\n",
       "      <td>1</td>\n",
       "      <td>train</td>\n",
       "      <td>jdubbvfswz.mp4</td>\n",
       "      <td>D:\\W\\VS\\VS Folder\\DFD\\DFDC MTCNN Extracted\\aap...</td>\n",
       "    </tr>\n",
       "    <tr>\n",
       "      <th>2</th>\n",
       "      <td>abarnvbtwb.mp4</td>\n",
       "      <td>0</td>\n",
       "      <td>train</td>\n",
       "      <td>NaN</td>\n",
       "      <td>D:\\W\\VS\\VS Folder\\DFD\\DFDC MTCNN Extracted\\aba...</td>\n",
       "    </tr>\n",
       "    <tr>\n",
       "      <th>3</th>\n",
       "      <td>abqwwspghj.mp4</td>\n",
       "      <td>1</td>\n",
       "      <td>train</td>\n",
       "      <td>qzimuostzz.mp4</td>\n",
       "      <td>D:\\W\\VS\\VS Folder\\DFD\\DFDC MTCNN Extracted\\abq...</td>\n",
       "    </tr>\n",
       "    <tr>\n",
       "      <th>4</th>\n",
       "      <td>acifjvzvpm.mp4</td>\n",
       "      <td>1</td>\n",
       "      <td>train</td>\n",
       "      <td>kbvibjhfzo.mp4</td>\n",
       "      <td>D:\\W\\VS\\VS Folder\\DFD\\DFDC MTCNN Extracted\\aci...</td>\n",
       "    </tr>\n",
       "  </tbody>\n",
       "</table>\n",
       "</div>"
      ],
      "text/plain": [
       "         filename  label  split        original  \\\n",
       "0  aagfhgtpmv.mp4      1  train  vudstovrck.mp4   \n",
       "1  aapnvogymq.mp4      1  train  jdubbvfswz.mp4   \n",
       "2  abarnvbtwb.mp4      0  train             NaN   \n",
       "3  abqwwspghj.mp4      1  train  qzimuostzz.mp4   \n",
       "4  acifjvzvpm.mp4      1  train  kbvibjhfzo.mp4   \n",
       "\n",
       "                                                path  \n",
       "0  D:\\W\\VS\\VS Folder\\DFD\\DFDC MTCNN Extracted\\aag...  \n",
       "1  D:\\W\\VS\\VS Folder\\DFD\\DFDC MTCNN Extracted\\aap...  \n",
       "2  D:\\W\\VS\\VS Folder\\DFD\\DFDC MTCNN Extracted\\aba...  \n",
       "3  D:\\W\\VS\\VS Folder\\DFD\\DFDC MTCNN Extracted\\abq...  \n",
       "4  D:\\W\\VS\\VS Folder\\DFD\\DFDC MTCNN Extracted\\aci...  "
      ]
     },
     "metadata": {},
     "output_type": "display_data"
    },
    {
     "name": "stdout",
     "output_type": "stream",
     "text": [
      "label\n",
      "0     76\n",
      "1    306\n",
      "Name: filename, dtype: int64\n"
     ]
    }
   ],
   "source": [
    "valid_train_df['label']=valid_train_df['label'].replace({'FAKE': 1, 'REAL': 0})\n",
    "display(valid_train_df.head())\n",
    "\n",
    "label_count = valid_train_df.groupby('label').count()['filename']\n",
    "print(label_count)\n",
    "\n",
    "x = valid_train_df['path'].to_numpy()\n",
    "y = valid_train_df['label'].to_numpy()\n",
    "\n",
    "x_train, x_val, y_train, y_val = train_test_split(x, y, test_size=0.3, random_state=224, stratify=y)\n",
    "\n",
    "np.savez('train_test_split.npz',\n",
    "         x_train=x_train,\n",
    "         x_val=x_val,\n",
    "         y_train=y_train,\n",
    "         y_val=y_val)"
   ]
  },
  {
   "cell_type": "markdown",
   "id": "8cbd86ca",
   "metadata": {},
   "source": [
    "# Training - Feature extraction and classifier"
   ]
  },
  {
   "cell_type": "code",
   "execution_count": 14,
   "id": "89cafb83",
   "metadata": {},
   "outputs": [],
   "source": [
    "data = np.load('train_test_split.npz', allow_pickle=True)\n",
    "x_train = data['x_train']\n",
    "y_train = data['y_train']"
   ]
  },
  {
   "cell_type": "markdown",
   "id": "c67fd378",
   "metadata": {},
   "source": [
    "### Model"
   ]
  },
  {
   "cell_type": "code",
   "execution_count": 35,
   "id": "1967d768",
   "metadata": {},
   "outputs": [],
   "source": [
    "processor = ViTImageProcessor.from_pretrained('google/vit-base-patch32-224-in21k')\n",
    "model = ViTModel.from_pretrained('google/vit-base-patch32-224-in21k')\n",
    "model = model.to(device)\n",
    "classifier = nn.Linear(768, 1)\n",
    "classifier = classifier.to(device)\n",
    "criterion = nn.BCEWithLogitsLoss()  # For binary classification\n"
   ]
  },
  {
   "cell_type": "code",
   "execution_count": 33,
   "id": "dc2a9ecb",
   "metadata": {},
   "outputs": [
    {
     "data": {
      "text/plain": [
       "'Unfreezing layer: ViTLayer(\\n  (attention): ViTAttention(\\n    (attention): ViTSelfAttention(\\n      (query): Linear(in_features=768, out_features=768, bias=True)\\n      (key): Linear(in_features=768, out_features=768, bias=True)\\n      (value): Linear(in_features=768, out_features=768, bias=True)\\n    )\\n    (output): ViTSelfOutput(\\n      (dense): Linear(in_features=768, out_features=768, bias=True)\\n      (dropout): Dropout(p=0.0, inplace=False)\\n    )\\n  )\\n  (intermediate): ViTIntermediate(\\n    (dense): Linear(in_features=768, out_features=3072, bias=True)\\n    (intermediate_act_fn): GELUActivation()\\n  )\\n  (output): ViTOutput(\\n    (dense): Linear(in_features=3072, out_features=768, bias=True)\\n    (dropout): Dropout(p=0.0, inplace=False)\\n  )\\n  (layernorm_before): LayerNorm((768,), eps=1e-12, elementwise_affine=True)\\n  (layernorm_after): LayerNorm((768,), eps=1e-12, elementwise_affine=True)\\n)'"
      ]
     },
     "metadata": {},
     "output_type": "display_data"
    },
    {
     "data": {
      "text/plain": [
       "'Unfreezing layer: ViTLayer(\\n  (attention): ViTAttention(\\n    (attention): ViTSelfAttention(\\n      (query): Linear(in_features=768, out_features=768, bias=True)\\n      (key): Linear(in_features=768, out_features=768, bias=True)\\n      (value): Linear(in_features=768, out_features=768, bias=True)\\n    )\\n    (output): ViTSelfOutput(\\n      (dense): Linear(in_features=768, out_features=768, bias=True)\\n      (dropout): Dropout(p=0.0, inplace=False)\\n    )\\n  )\\n  (intermediate): ViTIntermediate(\\n    (dense): Linear(in_features=768, out_features=3072, bias=True)\\n    (intermediate_act_fn): GELUActivation()\\n  )\\n  (output): ViTOutput(\\n    (dense): Linear(in_features=3072, out_features=768, bias=True)\\n    (dropout): Dropout(p=0.0, inplace=False)\\n  )\\n  (layernorm_before): LayerNorm((768,), eps=1e-12, elementwise_affine=True)\\n  (layernorm_after): LayerNorm((768,), eps=1e-12, elementwise_affine=True)\\n)'"
      ]
     },
     "metadata": {},
     "output_type": "display_data"
    },
    {
     "data": {
      "text/plain": [
       "'Unfreezing layer: ViTLayer(\\n  (attention): ViTAttention(\\n    (attention): ViTSelfAttention(\\n      (query): Linear(in_features=768, out_features=768, bias=True)\\n      (key): Linear(in_features=768, out_features=768, bias=True)\\n      (value): Linear(in_features=768, out_features=768, bias=True)\\n    )\\n    (output): ViTSelfOutput(\\n      (dense): Linear(in_features=768, out_features=768, bias=True)\\n      (dropout): Dropout(p=0.0, inplace=False)\\n    )\\n  )\\n  (intermediate): ViTIntermediate(\\n    (dense): Linear(in_features=768, out_features=3072, bias=True)\\n    (intermediate_act_fn): GELUActivation()\\n  )\\n  (output): ViTOutput(\\n    (dense): Linear(in_features=3072, out_features=768, bias=True)\\n    (dropout): Dropout(p=0.0, inplace=False)\\n  )\\n  (layernorm_before): LayerNorm((768,), eps=1e-12, elementwise_affine=True)\\n  (layernorm_after): LayerNorm((768,), eps=1e-12, elementwise_affine=True)\\n)'"
      ]
     },
     "metadata": {},
     "output_type": "display_data"
    },
    {
     "data": {
      "text/plain": [
       "'Unfreezing layer: ViTLayer(\\n  (attention): ViTAttention(\\n    (attention): ViTSelfAttention(\\n      (query): Linear(in_features=768, out_features=768, bias=True)\\n      (key): Linear(in_features=768, out_features=768, bias=True)\\n      (value): Linear(in_features=768, out_features=768, bias=True)\\n    )\\n    (output): ViTSelfOutput(\\n      (dense): Linear(in_features=768, out_features=768, bias=True)\\n      (dropout): Dropout(p=0.0, inplace=False)\\n    )\\n  )\\n  (intermediate): ViTIntermediate(\\n    (dense): Linear(in_features=768, out_features=3072, bias=True)\\n    (intermediate_act_fn): GELUActivation()\\n  )\\n  (output): ViTOutput(\\n    (dense): Linear(in_features=3072, out_features=768, bias=True)\\n    (dropout): Dropout(p=0.0, inplace=False)\\n  )\\n  (layernorm_before): LayerNorm((768,), eps=1e-12, elementwise_affine=True)\\n  (layernorm_after): LayerNorm((768,), eps=1e-12, elementwise_affine=True)\\n)'"
      ]
     },
     "metadata": {},
     "output_type": "display_data"
    },
    {
     "name": "stdout",
     "output_type": "stream",
     "text": [
      "ViTModel(\n",
      "  (embeddings): ViTEmbeddings(\n",
      "    (patch_embeddings): ViTPatchEmbeddings(\n",
      "      (projection): Conv2d(3, 768, kernel_size=(32, 32), stride=(32, 32))\n",
      "    )\n",
      "    (dropout): Dropout(p=0.0, inplace=False)\n",
      "  )\n",
      "  (encoder): ViTEncoder(\n",
      "    (layer): ModuleList(\n",
      "      (0-11): 12 x ViTLayer(\n",
      "        (attention): ViTAttention(\n",
      "          (attention): ViTSelfAttention(\n",
      "            (query): Linear(in_features=768, out_features=768, bias=True)\n",
      "            (key): Linear(in_features=768, out_features=768, bias=True)\n",
      "            (value): Linear(in_features=768, out_features=768, bias=True)\n",
      "          )\n",
      "          (output): ViTSelfOutput(\n",
      "            (dense): Linear(in_features=768, out_features=768, bias=True)\n",
      "            (dropout): Dropout(p=0.0, inplace=False)\n",
      "          )\n",
      "        )\n",
      "        (intermediate): ViTIntermediate(\n",
      "          (dense): Linear(in_features=768, out_features=3072, bias=True)\n",
      "          (intermediate_act_fn): GELUActivation()\n",
      "        )\n",
      "        (output): ViTOutput(\n",
      "          (dense): Linear(in_features=3072, out_features=768, bias=True)\n",
      "          (dropout): Dropout(p=0.0, inplace=False)\n",
      "        )\n",
      "        (layernorm_before): LayerNorm((768,), eps=1e-12, elementwise_affine=True)\n",
      "        (layernorm_after): LayerNorm((768,), eps=1e-12, elementwise_affine=True)\n",
      "      )\n",
      "    )\n",
      "  )\n",
      "  (layernorm): LayerNorm((768,), eps=1e-12, elementwise_affine=True)\n",
      "  (pooler): ViTPooler(\n",
      "    (dense): Linear(in_features=768, out_features=768, bias=True)\n",
      "    (activation): Tanh()\n",
      "  )\n",
      ")\n",
      "Linear(in_features=768, out_features=1, bias=True)\n"
     ]
    }
   ],
   "source": [
    "model.train()\n",
    "classifier.train()\n",
    "\n",
    "# freeze model parameters\n",
    "for param in model.parameters():\n",
    "    param.requires_grad = False\n",
    "\n",
    "# unfreeze n layer parameters\n",
    "n = 4\n",
    "for layer in model.encoder.layer[-n:]:\n",
    "    for param in layer.parameters():\n",
    "        param.requires_grad = True\n",
    "    display(f'Unfreezing layer: {layer}')\n",
    "\n",
    "for param in classifier.parameters():\n",
    "    param.requires_grad = True\n",
    "\n",
    "optimizer = torch.optim.Adam(\n",
    "    list(classifier.parameters()) +\n",
    "    [p for p in model.parameters() if p.requires_grad == True],\n",
    "    lr=1e-4\n",
    ")\n",
    "\n",
    "print(model)\n",
    "print(classifier)\n",
    "\n",
    "\n"
   ]
  },
  {
   "cell_type": "markdown",
   "id": "ef9e2c97",
   "metadata": {},
   "source": [
    "### Train"
   ]
  },
  {
   "cell_type": "code",
   "execution_count": null,
   "id": "53b69100",
   "metadata": {},
   "outputs": [
    {
     "data": {
      "application/vnd.jupyter.widget-view+json": {
       "model_id": "109feb81b90b4dcebf08207636e3a067",
       "version_major": 2,
       "version_minor": 0
      },
      "text/plain": [
       "Epochs:   0%|          | 0/20 [00:00<?, ?it/s]"
      ]
     },
     "metadata": {},
     "output_type": "display_data"
    },
    {
     "data": {
      "application/vnd.jupyter.widget-view+json": {
       "model_id": "2601318c58c149c783330d8093fcc960",
       "version_major": 2,
       "version_minor": 0
      },
      "text/plain": [
       "Videos:   0%|          | 0/267 [00:00<?, ?it/s]"
      ]
     },
     "metadata": {},
     "output_type": "display_data"
    },
    {
     "data": {
      "application/vnd.jupyter.widget-view+json": {
       "model_id": "05eb42eaa6234040bd5e78b54ee54885",
       "version_major": 2,
       "version_minor": 0
      },
      "text/plain": [
       "Image Batches:   0%|          | 0/13 [00:00<?, ?it/s]"
      ]
     },
     "metadata": {},
     "output_type": "display_data"
    },
    {
     "data": {
      "application/vnd.jupyter.widget-view+json": {
       "model_id": "88a884c37db14d54b37549278a3eba8e",
       "version_major": 2,
       "version_minor": 0
      },
      "text/plain": [
       "Image Batches:   0%|          | 0/25 [00:00<?, ?it/s]"
      ]
     },
     "metadata": {},
     "output_type": "display_data"
    },
    {
     "data": {
      "application/vnd.jupyter.widget-view+json": {
       "model_id": "599043a6e5d046738abbfdcb09640582",
       "version_major": 2,
       "version_minor": 0
      },
      "text/plain": [
       "Image Batches:   0%|          | 0/10 [00:00<?, ?it/s]"
      ]
     },
     "metadata": {},
     "output_type": "display_data"
    },
    {
     "data": {
      "application/vnd.jupyter.widget-view+json": {
       "model_id": "a45b164ed6af48d4840b7a3e2c084955",
       "version_major": 2,
       "version_minor": 0
      },
      "text/plain": [
       "Image Batches:   0%|          | 0/13 [00:00<?, ?it/s]"
      ]
     },
     "metadata": {},
     "output_type": "display_data"
    },
    {
     "data": {
      "application/vnd.jupyter.widget-view+json": {
       "model_id": "7def9793f5bb4fa281073f974e0e5dea",
       "version_major": 2,
       "version_minor": 0
      },
      "text/plain": [
       "Image Batches:   0%|          | 0/13 [00:00<?, ?it/s]"
      ]
     },
     "metadata": {},
     "output_type": "display_data"
    },
    {
     "data": {
      "application/vnd.jupyter.widget-view+json": {
       "model_id": "7f96358b359a4221a4bc277e0f163606",
       "version_major": 2,
       "version_minor": 0
      },
      "text/plain": [
       "Image Batches:   0%|          | 0/14 [00:00<?, ?it/s]"
      ]
     },
     "metadata": {},
     "output_type": "display_data"
    },
    {
     "data": {
      "application/vnd.jupyter.widget-view+json": {
       "model_id": "bae7b789128841a2ba0449104a4e3ec8",
       "version_major": 2,
       "version_minor": 0
      },
      "text/plain": [
       "Image Batches:   0%|          | 0/13 [00:00<?, ?it/s]"
      ]
     },
     "metadata": {},
     "output_type": "display_data"
    },
    {
     "data": {
      "application/vnd.jupyter.widget-view+json": {
       "model_id": "57f901d7a537445da43be6d095922902",
       "version_major": 2,
       "version_minor": 0
      },
      "text/plain": [
       "Image Batches:   0%|          | 0/13 [00:00<?, ?it/s]"
      ]
     },
     "metadata": {},
     "output_type": "display_data"
    },
    {
     "data": {
      "application/vnd.jupyter.widget-view+json": {
       "model_id": "5d9e0cfbadb4415ab755f6836312efce",
       "version_major": 2,
       "version_minor": 0
      },
      "text/plain": [
       "Image Batches:   0%|          | 0/13 [00:00<?, ?it/s]"
      ]
     },
     "metadata": {},
     "output_type": "display_data"
    },
    {
     "data": {
      "application/vnd.jupyter.widget-view+json": {
       "model_id": "d4c73b59c0eb4715a7cc08fbe6ef0d48",
       "version_major": 2,
       "version_minor": 0
      },
      "text/plain": [
       "Image Batches:   0%|          | 0/13 [00:00<?, ?it/s]"
      ]
     },
     "metadata": {},
     "output_type": "display_data"
    },
    {
     "data": {
      "application/vnd.jupyter.widget-view+json": {
       "model_id": "ec47cb8af6024141a1285a0f4024e6bb",
       "version_major": 2,
       "version_minor": 0
      },
      "text/plain": [
       "Image Batches:   0%|          | 0/26 [00:00<?, ?it/s]"
      ]
     },
     "metadata": {},
     "output_type": "display_data"
    },
    {
     "data": {
      "application/vnd.jupyter.widget-view+json": {
       "model_id": "4b14066f1d004d1cb62469a1c0b751fe",
       "version_major": 2,
       "version_minor": 0
      },
      "text/plain": [
       "Image Batches:   0%|          | 0/13 [00:00<?, ?it/s]"
      ]
     },
     "metadata": {},
     "output_type": "display_data"
    },
    {
     "data": {
      "application/vnd.jupyter.widget-view+json": {
       "model_id": "8f67a826c0ea4a5fadb2e8148bcb8096",
       "version_major": 2,
       "version_minor": 0
      },
      "text/plain": [
       "Image Batches:   0%|          | 0/13 [00:00<?, ?it/s]"
      ]
     },
     "metadata": {},
     "output_type": "display_data"
    },
    {
     "data": {
      "application/vnd.jupyter.widget-view+json": {
       "model_id": "c67873fc42ce469da665411a08333acc",
       "version_major": 2,
       "version_minor": 0
      },
      "text/plain": [
       "Image Batches:   0%|          | 0/13 [00:00<?, ?it/s]"
      ]
     },
     "metadata": {},
     "output_type": "display_data"
    },
    {
     "data": {
      "application/vnd.jupyter.widget-view+json": {
       "model_id": "f001996eac8a4adb917e33e98f10e06f",
       "version_major": 2,
       "version_minor": 0
      },
      "text/plain": [
       "Image Batches:   0%|          | 0/11 [00:00<?, ?it/s]"
      ]
     },
     "metadata": {},
     "output_type": "display_data"
    },
    {
     "data": {
      "application/vnd.jupyter.widget-view+json": {
       "model_id": "a031aa2ed5224636802d5f274ea6ed1c",
       "version_major": 2,
       "version_minor": 0
      },
      "text/plain": [
       "Image Batches:   0%|          | 0/13 [00:00<?, ?it/s]"
      ]
     },
     "metadata": {},
     "output_type": "display_data"
    },
    {
     "data": {
      "application/vnd.jupyter.widget-view+json": {
       "model_id": "d42f747e5929422a810445e94f318362",
       "version_major": 2,
       "version_minor": 0
      },
      "text/plain": [
       "Image Batches:   0%|          | 0/13 [00:00<?, ?it/s]"
      ]
     },
     "metadata": {},
     "output_type": "display_data"
    },
    {
     "data": {
      "application/vnd.jupyter.widget-view+json": {
       "model_id": "d5b4dd73c4e747fb9bf7e6df8c9522bb",
       "version_major": 2,
       "version_minor": 0
      },
      "text/plain": [
       "Image Batches:   0%|          | 0/13 [00:00<?, ?it/s]"
      ]
     },
     "metadata": {},
     "output_type": "display_data"
    },
    {
     "data": {
      "application/vnd.jupyter.widget-view+json": {
       "model_id": "c5e32b0ddfcc4078a933f499a3b65788",
       "version_major": 2,
       "version_minor": 0
      },
      "text/plain": [
       "Image Batches:   0%|          | 0/13 [00:00<?, ?it/s]"
      ]
     },
     "metadata": {},
     "output_type": "display_data"
    },
    {
     "data": {
      "application/vnd.jupyter.widget-view+json": {
       "model_id": "64f00ba1c8d9490ebf99c7514a9e23da",
       "version_major": 2,
       "version_minor": 0
      },
      "text/plain": [
       "Image Batches:   0%|          | 0/13 [00:00<?, ?it/s]"
      ]
     },
     "metadata": {},
     "output_type": "display_data"
    },
    {
     "data": {
      "application/vnd.jupyter.widget-view+json": {
       "model_id": "9e2c154523d54e6bb7352fda95f4f9b0",
       "version_major": 2,
       "version_minor": 0
      },
      "text/plain": [
       "Image Batches:   0%|          | 0/13 [00:00<?, ?it/s]"
      ]
     },
     "metadata": {},
     "output_type": "display_data"
    },
    {
     "data": {
      "application/vnd.jupyter.widget-view+json": {
       "model_id": "5a062ee7b6c04013b3fda4b66f966ca6",
       "version_major": 2,
       "version_minor": 0
      },
      "text/plain": [
       "Image Batches:   0%|          | 0/14 [00:00<?, ?it/s]"
      ]
     },
     "metadata": {},
     "output_type": "display_data"
    },
    {
     "data": {
      "application/vnd.jupyter.widget-view+json": {
       "model_id": "f4f832b0eb474e45957e486fb559ceaf",
       "version_major": 2,
       "version_minor": 0
      },
      "text/plain": [
       "Image Batches:   0%|          | 0/16 [00:00<?, ?it/s]"
      ]
     },
     "metadata": {},
     "output_type": "display_data"
    },
    {
     "data": {
      "application/vnd.jupyter.widget-view+json": {
       "model_id": "0e9226d5a2694cad9bdab19c2635a6a3",
       "version_major": 2,
       "version_minor": 0
      },
      "text/plain": [
       "Image Batches:   0%|          | 0/13 [00:00<?, ?it/s]"
      ]
     },
     "metadata": {},
     "output_type": "display_data"
    },
    {
     "data": {
      "application/vnd.jupyter.widget-view+json": {
       "model_id": "42fb69a1ecf941f8a8f990091a9fe0b1",
       "version_major": 2,
       "version_minor": 0
      },
      "text/plain": [
       "Image Batches:   0%|          | 0/13 [00:00<?, ?it/s]"
      ]
     },
     "metadata": {},
     "output_type": "display_data"
    },
    {
     "data": {
      "application/vnd.jupyter.widget-view+json": {
       "model_id": "98e33147130447688b2b1c8ea7348656",
       "version_major": 2,
       "version_minor": 0
      },
      "text/plain": [
       "Image Batches:   0%|          | 0/25 [00:00<?, ?it/s]"
      ]
     },
     "metadata": {},
     "output_type": "display_data"
    },
    {
     "data": {
      "application/vnd.jupyter.widget-view+json": {
       "model_id": "7e28d35e56bf4f1794a736900228813c",
       "version_major": 2,
       "version_minor": 0
      },
      "text/plain": [
       "Image Batches:   0%|          | 0/13 [00:00<?, ?it/s]"
      ]
     },
     "metadata": {},
     "output_type": "display_data"
    },
    {
     "data": {
      "application/vnd.jupyter.widget-view+json": {
       "model_id": "ed2454c643f0406086012ab054718a31",
       "version_major": 2,
       "version_minor": 0
      },
      "text/plain": [
       "Image Batches:   0%|          | 0/13 [00:00<?, ?it/s]"
      ]
     },
     "metadata": {},
     "output_type": "display_data"
    },
    {
     "data": {
      "application/vnd.jupyter.widget-view+json": {
       "model_id": "ee23776f4a624f72957383f7fbfa7fa5",
       "version_major": 2,
       "version_minor": 0
      },
      "text/plain": [
       "Image Batches:   0%|          | 0/17 [00:00<?, ?it/s]"
      ]
     },
     "metadata": {},
     "output_type": "display_data"
    },
    {
     "data": {
      "application/vnd.jupyter.widget-view+json": {
       "model_id": "10ae89e1351846049a9e9514f6459479",
       "version_major": 2,
       "version_minor": 0
      },
      "text/plain": [
       "Image Batches:   0%|          | 0/13 [00:00<?, ?it/s]"
      ]
     },
     "metadata": {},
     "output_type": "display_data"
    },
    {
     "data": {
      "application/vnd.jupyter.widget-view+json": {
       "model_id": "b8d0755c4a734e729babe341063b0c68",
       "version_major": 2,
       "version_minor": 0
      },
      "text/plain": [
       "Image Batches:   0%|          | 0/13 [00:00<?, ?it/s]"
      ]
     },
     "metadata": {},
     "output_type": "display_data"
    },
    {
     "data": {
      "application/vnd.jupyter.widget-view+json": {
       "model_id": "3437242783d74c6688cca190764e2a94",
       "version_major": 2,
       "version_minor": 0
      },
      "text/plain": [
       "Image Batches:   0%|          | 0/13 [00:00<?, ?it/s]"
      ]
     },
     "metadata": {},
     "output_type": "display_data"
    },
    {
     "data": {
      "application/vnd.jupyter.widget-view+json": {
       "model_id": "d375e479eb7841eab75d480ddebbb69a",
       "version_major": 2,
       "version_minor": 0
      },
      "text/plain": [
       "Image Batches:   0%|          | 0/14 [00:00<?, ?it/s]"
      ]
     },
     "metadata": {},
     "output_type": "display_data"
    },
    {
     "data": {
      "application/vnd.jupyter.widget-view+json": {
       "model_id": "c8f7db0af44544d5afc0a6d1442af217",
       "version_major": 2,
       "version_minor": 0
      },
      "text/plain": [
       "Image Batches:   0%|          | 0/13 [00:00<?, ?it/s]"
      ]
     },
     "metadata": {},
     "output_type": "display_data"
    },
    {
     "data": {
      "application/vnd.jupyter.widget-view+json": {
       "model_id": "d65fe2f428da41e8bfad6007d293b7b9",
       "version_major": 2,
       "version_minor": 0
      },
      "text/plain": [
       "Image Batches:   0%|          | 0/14 [00:00<?, ?it/s]"
      ]
     },
     "metadata": {},
     "output_type": "display_data"
    },
    {
     "data": {
      "application/vnd.jupyter.widget-view+json": {
       "model_id": "f5162edf900f49ebb1aa73b2d5dba315",
       "version_major": 2,
       "version_minor": 0
      },
      "text/plain": [
       "Image Batches:   0%|          | 0/13 [00:00<?, ?it/s]"
      ]
     },
     "metadata": {},
     "output_type": "display_data"
    },
    {
     "data": {
      "application/vnd.jupyter.widget-view+json": {
       "model_id": "3c9da62d246a4fbfb022f89518bd27eb",
       "version_major": 2,
       "version_minor": 0
      },
      "text/plain": [
       "Image Batches:   0%|          | 0/13 [00:00<?, ?it/s]"
      ]
     },
     "metadata": {},
     "output_type": "display_data"
    },
    {
     "data": {
      "application/vnd.jupyter.widget-view+json": {
       "model_id": "a7af2e7fe4744900b3521c1a23095da8",
       "version_major": 2,
       "version_minor": 0
      },
      "text/plain": [
       "Image Batches:   0%|          | 0/13 [00:00<?, ?it/s]"
      ]
     },
     "metadata": {},
     "output_type": "display_data"
    },
    {
     "data": {
      "application/vnd.jupyter.widget-view+json": {
       "model_id": "d47e7cf2fcc040b0b0a5e3db8847527d",
       "version_major": 2,
       "version_minor": 0
      },
      "text/plain": [
       "Image Batches:   0%|          | 0/13 [00:00<?, ?it/s]"
      ]
     },
     "metadata": {},
     "output_type": "display_data"
    },
    {
     "data": {
      "application/vnd.jupyter.widget-view+json": {
       "model_id": "60acb222fece47f3bcdbbfa0632def52",
       "version_major": 2,
       "version_minor": 0
      },
      "text/plain": [
       "Image Batches:   0%|          | 0/11 [00:00<?, ?it/s]"
      ]
     },
     "metadata": {},
     "output_type": "display_data"
    },
    {
     "data": {
      "application/vnd.jupyter.widget-view+json": {
       "model_id": "fa2505a64e5d4e5e9470ca99f8a6e3fd",
       "version_major": 2,
       "version_minor": 0
      },
      "text/plain": [
       "Image Batches:   0%|          | 0/13 [00:00<?, ?it/s]"
      ]
     },
     "metadata": {},
     "output_type": "display_data"
    },
    {
     "data": {
      "application/vnd.jupyter.widget-view+json": {
       "model_id": "4cb3e1945ce942b8878eb521125ebbb4",
       "version_major": 2,
       "version_minor": 0
      },
      "text/plain": [
       "Image Batches:   0%|          | 0/13 [00:00<?, ?it/s]"
      ]
     },
     "metadata": {},
     "output_type": "display_data"
    },
    {
     "data": {
      "application/vnd.jupyter.widget-view+json": {
       "model_id": "c9ab02281df84071a36033bb12ee900e",
       "version_major": 2,
       "version_minor": 0
      },
      "text/plain": [
       "Image Batches:   0%|          | 0/12 [00:00<?, ?it/s]"
      ]
     },
     "metadata": {},
     "output_type": "display_data"
    },
    {
     "data": {
      "application/vnd.jupyter.widget-view+json": {
       "model_id": "8d09da507e0548ef8e5a0937fc6ed8ea",
       "version_major": 2,
       "version_minor": 0
      },
      "text/plain": [
       "Image Batches:   0%|          | 0/24 [00:00<?, ?it/s]"
      ]
     },
     "metadata": {},
     "output_type": "display_data"
    },
    {
     "data": {
      "application/vnd.jupyter.widget-view+json": {
       "model_id": "4a312ee982d440babc2b8250ee135855",
       "version_major": 2,
       "version_minor": 0
      },
      "text/plain": [
       "Image Batches:   0%|          | 0/28 [00:00<?, ?it/s]"
      ]
     },
     "metadata": {},
     "output_type": "display_data"
    },
    {
     "data": {
      "application/vnd.jupyter.widget-view+json": {
       "model_id": "30b9cd2d3daf410099bc11acade268e3",
       "version_major": 2,
       "version_minor": 0
      },
      "text/plain": [
       "Image Batches:   0%|          | 0/29 [00:00<?, ?it/s]"
      ]
     },
     "metadata": {},
     "output_type": "display_data"
    },
    {
     "data": {
      "application/vnd.jupyter.widget-view+json": {
       "model_id": "68a9f4537d58447582eb2f20b0bd7de8",
       "version_major": 2,
       "version_minor": 0
      },
      "text/plain": [
       "Image Batches:   0%|          | 0/13 [00:00<?, ?it/s]"
      ]
     },
     "metadata": {},
     "output_type": "display_data"
    },
    {
     "data": {
      "application/vnd.jupyter.widget-view+json": {
       "model_id": "78c3d42f2296472db11614f0c5461377",
       "version_major": 2,
       "version_minor": 0
      },
      "text/plain": [
       "Image Batches:   0%|          | 0/13 [00:00<?, ?it/s]"
      ]
     },
     "metadata": {},
     "output_type": "display_data"
    },
    {
     "data": {
      "application/vnd.jupyter.widget-view+json": {
       "model_id": "ce01a0cfcca946dfbec47a936e85d05e",
       "version_major": 2,
       "version_minor": 0
      },
      "text/plain": [
       "Image Batches:   0%|          | 0/24 [00:00<?, ?it/s]"
      ]
     },
     "metadata": {},
     "output_type": "display_data"
    },
    {
     "data": {
      "application/vnd.jupyter.widget-view+json": {
       "model_id": "6a4c881f4d69449da35e3dd4c9a4d884",
       "version_major": 2,
       "version_minor": 0
      },
      "text/plain": [
       "Image Batches:   0%|          | 0/13 [00:00<?, ?it/s]"
      ]
     },
     "metadata": {},
     "output_type": "display_data"
    },
    {
     "data": {
      "application/vnd.jupyter.widget-view+json": {
       "model_id": "fea3348699734537b1658d25da8cf9c9",
       "version_major": 2,
       "version_minor": 0
      },
      "text/plain": [
       "Image Batches:   0%|          | 0/13 [00:00<?, ?it/s]"
      ]
     },
     "metadata": {},
     "output_type": "display_data"
    },
    {
     "data": {
      "application/vnd.jupyter.widget-view+json": {
       "model_id": "ecb462e8950049e7ab85fa423ae3f1df",
       "version_major": 2,
       "version_minor": 0
      },
      "text/plain": [
       "Image Batches:   0%|          | 0/13 [00:00<?, ?it/s]"
      ]
     },
     "metadata": {},
     "output_type": "display_data"
    },
    {
     "data": {
      "application/vnd.jupyter.widget-view+json": {
       "model_id": "719cdb213e0b4889b7ddc8929816e07f",
       "version_major": 2,
       "version_minor": 0
      },
      "text/plain": [
       "Image Batches:   0%|          | 0/13 [00:00<?, ?it/s]"
      ]
     },
     "metadata": {},
     "output_type": "display_data"
    },
    {
     "data": {
      "application/vnd.jupyter.widget-view+json": {
       "model_id": "9406bba47c31471ab3435c156a1ac0fa",
       "version_major": 2,
       "version_minor": 0
      },
      "text/plain": [
       "Image Batches:   0%|          | 0/13 [00:00<?, ?it/s]"
      ]
     },
     "metadata": {},
     "output_type": "display_data"
    },
    {
     "data": {
      "application/vnd.jupyter.widget-view+json": {
       "model_id": "3c730367ef0c4dd9801834dbf1306457",
       "version_major": 2,
       "version_minor": 0
      },
      "text/plain": [
       "Image Batches:   0%|          | 0/13 [00:00<?, ?it/s]"
      ]
     },
     "metadata": {},
     "output_type": "display_data"
    },
    {
     "data": {
      "application/vnd.jupyter.widget-view+json": {
       "model_id": "11b414a1ac3d41faa36ab5714a78303d",
       "version_major": 2,
       "version_minor": 0
      },
      "text/plain": [
       "Image Batches:   0%|          | 0/13 [00:00<?, ?it/s]"
      ]
     },
     "metadata": {},
     "output_type": "display_data"
    },
    {
     "data": {
      "application/vnd.jupyter.widget-view+json": {
       "model_id": "3624e06835174ec2b51da94da77b6706",
       "version_major": 2,
       "version_minor": 0
      },
      "text/plain": [
       "Image Batches:   0%|          | 0/14 [00:00<?, ?it/s]"
      ]
     },
     "metadata": {},
     "output_type": "display_data"
    },
    {
     "data": {
      "application/vnd.jupyter.widget-view+json": {
       "model_id": "1759f40dec4c4b0c810cace3d69c9d77",
       "version_major": 2,
       "version_minor": 0
      },
      "text/plain": [
       "Image Batches:   0%|          | 0/24 [00:00<?, ?it/s]"
      ]
     },
     "metadata": {},
     "output_type": "display_data"
    },
    {
     "data": {
      "application/vnd.jupyter.widget-view+json": {
       "model_id": "5cee6db6cb1a4a858c18a4eb97fb5199",
       "version_major": 2,
       "version_minor": 0
      },
      "text/plain": [
       "Image Batches:   0%|          | 0/13 [00:00<?, ?it/s]"
      ]
     },
     "metadata": {},
     "output_type": "display_data"
    },
    {
     "data": {
      "application/vnd.jupyter.widget-view+json": {
       "model_id": "0e812cf461c74c448307d16f5215e73c",
       "version_major": 2,
       "version_minor": 0
      },
      "text/plain": [
       "Image Batches:   0%|          | 0/13 [00:00<?, ?it/s]"
      ]
     },
     "metadata": {},
     "output_type": "display_data"
    },
    {
     "data": {
      "application/vnd.jupyter.widget-view+json": {
       "model_id": "a3909fcf79094c9fbd14d13a39ebd2a0",
       "version_major": 2,
       "version_minor": 0
      },
      "text/plain": [
       "Image Batches:   0%|          | 0/12 [00:00<?, ?it/s]"
      ]
     },
     "metadata": {},
     "output_type": "display_data"
    },
    {
     "data": {
      "application/vnd.jupyter.widget-view+json": {
       "model_id": "6a094b01967a4670930dde278027113a",
       "version_major": 2,
       "version_minor": 0
      },
      "text/plain": [
       "Image Batches:   0%|          | 0/13 [00:00<?, ?it/s]"
      ]
     },
     "metadata": {},
     "output_type": "display_data"
    },
    {
     "data": {
      "application/vnd.jupyter.widget-view+json": {
       "model_id": "2bf44487ef4d45e584acff8f437151d0",
       "version_major": 2,
       "version_minor": 0
      },
      "text/plain": [
       "Image Batches:   0%|          | 0/13 [00:00<?, ?it/s]"
      ]
     },
     "metadata": {},
     "output_type": "display_data"
    },
    {
     "data": {
      "application/vnd.jupyter.widget-view+json": {
       "model_id": "8a2deaa00d634d99a75e09b79fae14c2",
       "version_major": 2,
       "version_minor": 0
      },
      "text/plain": [
       "Image Batches:   0%|          | 0/13 [00:00<?, ?it/s]"
      ]
     },
     "metadata": {},
     "output_type": "display_data"
    },
    {
     "data": {
      "application/vnd.jupyter.widget-view+json": {
       "model_id": "52fc5e1df8c748aa8a185445da22de22",
       "version_major": 2,
       "version_minor": 0
      },
      "text/plain": [
       "Image Batches:   0%|          | 0/13 [00:00<?, ?it/s]"
      ]
     },
     "metadata": {},
     "output_type": "display_data"
    },
    {
     "data": {
      "application/vnd.jupyter.widget-view+json": {
       "model_id": "57076798dd8e4ccbb632282c4c7a9fd2",
       "version_major": 2,
       "version_minor": 0
      },
      "text/plain": [
       "Image Batches:   0%|          | 0/13 [00:00<?, ?it/s]"
      ]
     },
     "metadata": {},
     "output_type": "display_data"
    },
    {
     "data": {
      "application/vnd.jupyter.widget-view+json": {
       "model_id": "1517f4e9f7bf49dab16663c8d89ccf79",
       "version_major": 2,
       "version_minor": 0
      },
      "text/plain": [
       "Image Batches:   0%|          | 0/13 [00:00<?, ?it/s]"
      ]
     },
     "metadata": {},
     "output_type": "display_data"
    },
    {
     "data": {
      "application/vnd.jupyter.widget-view+json": {
       "model_id": "131244c4a48f440db141553c5f7760bc",
       "version_major": 2,
       "version_minor": 0
      },
      "text/plain": [
       "Image Batches:   0%|          | 0/13 [00:00<?, ?it/s]"
      ]
     },
     "metadata": {},
     "output_type": "display_data"
    },
    {
     "data": {
      "application/vnd.jupyter.widget-view+json": {
       "model_id": "4ffa96a859c24b68a30ab9da2bd03c57",
       "version_major": 2,
       "version_minor": 0
      },
      "text/plain": [
       "Image Batches:   0%|          | 0/14 [00:00<?, ?it/s]"
      ]
     },
     "metadata": {},
     "output_type": "display_data"
    },
    {
     "data": {
      "application/vnd.jupyter.widget-view+json": {
       "model_id": "6b9a4ebdfb08449bbfc0106487b463ff",
       "version_major": 2,
       "version_minor": 0
      },
      "text/plain": [
       "Image Batches:   0%|          | 0/14 [00:00<?, ?it/s]"
      ]
     },
     "metadata": {},
     "output_type": "display_data"
    },
    {
     "data": {
      "application/vnd.jupyter.widget-view+json": {
       "model_id": "bf2ad104ff744ed386759497d9d91385",
       "version_major": 2,
       "version_minor": 0
      },
      "text/plain": [
       "Image Batches:   0%|          | 0/13 [00:00<?, ?it/s]"
      ]
     },
     "metadata": {},
     "output_type": "display_data"
    },
    {
     "data": {
      "application/vnd.jupyter.widget-view+json": {
       "model_id": "518ae997ca2f46eea357485e612dda01",
       "version_major": 2,
       "version_minor": 0
      },
      "text/plain": [
       "Image Batches:   0%|          | 0/24 [00:00<?, ?it/s]"
      ]
     },
     "metadata": {},
     "output_type": "display_data"
    },
    {
     "data": {
      "application/vnd.jupyter.widget-view+json": {
       "model_id": "7c2244b55850426baefe07b1ef971f46",
       "version_major": 2,
       "version_minor": 0
      },
      "text/plain": [
       "Image Batches:   0%|          | 0/13 [00:00<?, ?it/s]"
      ]
     },
     "metadata": {},
     "output_type": "display_data"
    },
    {
     "data": {
      "application/vnd.jupyter.widget-view+json": {
       "model_id": "c2af22a669554941ab86143aebca0836",
       "version_major": 2,
       "version_minor": 0
      },
      "text/plain": [
       "Image Batches:   0%|          | 0/13 [00:00<?, ?it/s]"
      ]
     },
     "metadata": {},
     "output_type": "display_data"
    },
    {
     "data": {
      "application/vnd.jupyter.widget-view+json": {
       "model_id": "43104d72acb64284b45ab5806f5ef500",
       "version_major": 2,
       "version_minor": 0
      },
      "text/plain": [
       "Image Batches:   0%|          | 0/14 [00:00<?, ?it/s]"
      ]
     },
     "metadata": {},
     "output_type": "display_data"
    },
    {
     "data": {
      "application/vnd.jupyter.widget-view+json": {
       "model_id": "6a5466c5ecf74e4781a87246fb1a2d29",
       "version_major": 2,
       "version_minor": 0
      },
      "text/plain": [
       "Image Batches:   0%|          | 0/13 [00:00<?, ?it/s]"
      ]
     },
     "metadata": {},
     "output_type": "display_data"
    },
    {
     "data": {
      "application/vnd.jupyter.widget-view+json": {
       "model_id": "1b6978262fa74001996ff11651a0e44f",
       "version_major": 2,
       "version_minor": 0
      },
      "text/plain": [
       "Image Batches:   0%|          | 0/25 [00:00<?, ?it/s]"
      ]
     },
     "metadata": {},
     "output_type": "display_data"
    },
    {
     "data": {
      "application/vnd.jupyter.widget-view+json": {
       "model_id": "e898ba4f31fb42cf80cc164a1233b37e",
       "version_major": 2,
       "version_minor": 0
      },
      "text/plain": [
       "Image Batches:   0%|          | 0/13 [00:00<?, ?it/s]"
      ]
     },
     "metadata": {},
     "output_type": "display_data"
    },
    {
     "data": {
      "application/vnd.jupyter.widget-view+json": {
       "model_id": "9d4c60846b714cf48763399d5812454e",
       "version_major": 2,
       "version_minor": 0
      },
      "text/plain": [
       "Image Batches:   0%|          | 0/14 [00:00<?, ?it/s]"
      ]
     },
     "metadata": {},
     "output_type": "display_data"
    },
    {
     "data": {
      "application/vnd.jupyter.widget-view+json": {
       "model_id": "43c3afc875cd46299f5e9f73824654dd",
       "version_major": 2,
       "version_minor": 0
      },
      "text/plain": [
       "Image Batches:   0%|          | 0/13 [00:00<?, ?it/s]"
      ]
     },
     "metadata": {},
     "output_type": "display_data"
    },
    {
     "data": {
      "application/vnd.jupyter.widget-view+json": {
       "model_id": "84bd6e36a7674072a68de47235a84bfc",
       "version_major": 2,
       "version_minor": 0
      },
      "text/plain": [
       "Image Batches:   0%|          | 0/13 [00:00<?, ?it/s]"
      ]
     },
     "metadata": {},
     "output_type": "display_data"
    },
    {
     "data": {
      "application/vnd.jupyter.widget-view+json": {
       "model_id": "38df013b71144a5abe7a7fce0e78365a",
       "version_major": 2,
       "version_minor": 0
      },
      "text/plain": [
       "Image Batches:   0%|          | 0/13 [00:00<?, ?it/s]"
      ]
     },
     "metadata": {},
     "output_type": "display_data"
    },
    {
     "data": {
      "application/vnd.jupyter.widget-view+json": {
       "model_id": "86a9b4a378b14deab5c987e611976a50",
       "version_major": 2,
       "version_minor": 0
      },
      "text/plain": [
       "Image Batches:   0%|          | 0/13 [00:00<?, ?it/s]"
      ]
     },
     "metadata": {},
     "output_type": "display_data"
    },
    {
     "data": {
      "application/vnd.jupyter.widget-view+json": {
       "model_id": "e31c2ecf802b4bad9f0e8c4e219c0cc0",
       "version_major": 2,
       "version_minor": 0
      },
      "text/plain": [
       "Image Batches:   0%|          | 0/13 [00:00<?, ?it/s]"
      ]
     },
     "metadata": {},
     "output_type": "display_data"
    },
    {
     "data": {
      "application/vnd.jupyter.widget-view+json": {
       "model_id": "515d8b86db0d49bea4d5b410aa9f86d3",
       "version_major": 2,
       "version_minor": 0
      },
      "text/plain": [
       "Image Batches:   0%|          | 0/25 [00:00<?, ?it/s]"
      ]
     },
     "metadata": {},
     "output_type": "display_data"
    },
    {
     "data": {
      "application/vnd.jupyter.widget-view+json": {
       "model_id": "127f9d27e4ad4266bd74f5b0c3f4de26",
       "version_major": 2,
       "version_minor": 0
      },
      "text/plain": [
       "Image Batches:   0%|          | 0/13 [00:00<?, ?it/s]"
      ]
     },
     "metadata": {},
     "output_type": "display_data"
    },
    {
     "data": {
      "application/vnd.jupyter.widget-view+json": {
       "model_id": "a8ae8dc126b04458bc40ea6a1a64a212",
       "version_major": 2,
       "version_minor": 0
      },
      "text/plain": [
       "Image Batches:   0%|          | 0/4 [00:00<?, ?it/s]"
      ]
     },
     "metadata": {},
     "output_type": "display_data"
    },
    {
     "data": {
      "application/vnd.jupyter.widget-view+json": {
       "model_id": "edaada8c6f1f42bb867b89adb5687f51",
       "version_major": 2,
       "version_minor": 0
      },
      "text/plain": [
       "Image Batches:   0%|          | 0/13 [00:00<?, ?it/s]"
      ]
     },
     "metadata": {},
     "output_type": "display_data"
    },
    {
     "data": {
      "application/vnd.jupyter.widget-view+json": {
       "model_id": "9b7a7e8c23c344d8a3627b0f14411b8b",
       "version_major": 2,
       "version_minor": 0
      },
      "text/plain": [
       "Image Batches:   0%|          | 0/14 [00:00<?, ?it/s]"
      ]
     },
     "metadata": {},
     "output_type": "display_data"
    },
    {
     "data": {
      "application/vnd.jupyter.widget-view+json": {
       "model_id": "ffe0f6dea7824066b121c3b2dbdd52c0",
       "version_major": 2,
       "version_minor": 0
      },
      "text/plain": [
       "Image Batches:   0%|          | 0/14 [00:00<?, ?it/s]"
      ]
     },
     "metadata": {},
     "output_type": "display_data"
    },
    {
     "data": {
      "application/vnd.jupyter.widget-view+json": {
       "model_id": "0f870347a6ea420790f267859bca9d0e",
       "version_major": 2,
       "version_minor": 0
      },
      "text/plain": [
       "Image Batches:   0%|          | 0/13 [00:00<?, ?it/s]"
      ]
     },
     "metadata": {},
     "output_type": "display_data"
    },
    {
     "data": {
      "application/vnd.jupyter.widget-view+json": {
       "model_id": "6cc3bb942ac24fc886ea10cdc5024e88",
       "version_major": 2,
       "version_minor": 0
      },
      "text/plain": [
       "Image Batches:   0%|          | 0/26 [00:00<?, ?it/s]"
      ]
     },
     "metadata": {},
     "output_type": "display_data"
    },
    {
     "data": {
      "application/vnd.jupyter.widget-view+json": {
       "model_id": "92a44e7839b54f889a12df1005321839",
       "version_major": 2,
       "version_minor": 0
      },
      "text/plain": [
       "Image Batches:   0%|          | 0/13 [00:00<?, ?it/s]"
      ]
     },
     "metadata": {},
     "output_type": "display_data"
    },
    {
     "data": {
      "application/vnd.jupyter.widget-view+json": {
       "model_id": "836b3185ba1641ab917909274b5fa8a1",
       "version_major": 2,
       "version_minor": 0
      },
      "text/plain": [
       "Image Batches:   0%|          | 0/13 [00:00<?, ?it/s]"
      ]
     },
     "metadata": {},
     "output_type": "display_data"
    },
    {
     "data": {
      "application/vnd.jupyter.widget-view+json": {
       "model_id": "2a1d402098814aea96737233dda7096c",
       "version_major": 2,
       "version_minor": 0
      },
      "text/plain": [
       "Image Batches:   0%|          | 0/13 [00:00<?, ?it/s]"
      ]
     },
     "metadata": {},
     "output_type": "display_data"
    },
    {
     "data": {
      "application/vnd.jupyter.widget-view+json": {
       "model_id": "0d87de05ffba461fa9ef0522bd7ac3c9",
       "version_major": 2,
       "version_minor": 0
      },
      "text/plain": [
       "Image Batches:   0%|          | 0/14 [00:00<?, ?it/s]"
      ]
     },
     "metadata": {},
     "output_type": "display_data"
    },
    {
     "data": {
      "application/vnd.jupyter.widget-view+json": {
       "model_id": "c3cb6da490f347d88bc892d1e12543db",
       "version_major": 2,
       "version_minor": 0
      },
      "text/plain": [
       "Image Batches:   0%|          | 0/13 [00:00<?, ?it/s]"
      ]
     },
     "metadata": {},
     "output_type": "display_data"
    },
    {
     "data": {
      "application/vnd.jupyter.widget-view+json": {
       "model_id": "f07011d97e374c8e8625cc0fa197e92d",
       "version_major": 2,
       "version_minor": 0
      },
      "text/plain": [
       "Image Batches:   0%|          | 0/13 [00:00<?, ?it/s]"
      ]
     },
     "metadata": {},
     "output_type": "display_data"
    },
    {
     "data": {
      "application/vnd.jupyter.widget-view+json": {
       "model_id": "aecb2adf8bb646d7b2ff14e6513c331a",
       "version_major": 2,
       "version_minor": 0
      },
      "text/plain": [
       "Image Batches:   0%|          | 0/13 [00:00<?, ?it/s]"
      ]
     },
     "metadata": {},
     "output_type": "display_data"
    },
    {
     "data": {
      "application/vnd.jupyter.widget-view+json": {
       "model_id": "9ea3d12464fa47379b90a29b904f1c82",
       "version_major": 2,
       "version_minor": 0
      },
      "text/plain": [
       "Image Batches:   0%|          | 0/13 [00:00<?, ?it/s]"
      ]
     },
     "metadata": {},
     "output_type": "display_data"
    },
    {
     "data": {
      "application/vnd.jupyter.widget-view+json": {
       "model_id": "2eb007b14ff043f7a45ad3a3b6d6821b",
       "version_major": 2,
       "version_minor": 0
      },
      "text/plain": [
       "Image Batches:   0%|          | 0/13 [00:00<?, ?it/s]"
      ]
     },
     "metadata": {},
     "output_type": "display_data"
    },
    {
     "data": {
      "application/vnd.jupyter.widget-view+json": {
       "model_id": "456169f7287843c68c001ac3880525a9",
       "version_major": 2,
       "version_minor": 0
      },
      "text/plain": [
       "Image Batches:   0%|          | 0/13 [00:00<?, ?it/s]"
      ]
     },
     "metadata": {},
     "output_type": "display_data"
    },
    {
     "data": {
      "application/vnd.jupyter.widget-view+json": {
       "model_id": "973cd160de664ff49fafd8673eb1c007",
       "version_major": 2,
       "version_minor": 0
      },
      "text/plain": [
       "Image Batches:   0%|          | 0/13 [00:00<?, ?it/s]"
      ]
     },
     "metadata": {},
     "output_type": "display_data"
    },
    {
     "data": {
      "application/vnd.jupyter.widget-view+json": {
       "model_id": "9d02e4f3659b4da0821ed0510d780a2c",
       "version_major": 2,
       "version_minor": 0
      },
      "text/plain": [
       "Image Batches:   0%|          | 0/13 [00:00<?, ?it/s]"
      ]
     },
     "metadata": {},
     "output_type": "display_data"
    },
    {
     "data": {
      "application/vnd.jupyter.widget-view+json": {
       "model_id": "8d596341c5df4046b683a36f264b0ad2",
       "version_major": 2,
       "version_minor": 0
      },
      "text/plain": [
       "Image Batches:   0%|          | 0/13 [00:00<?, ?it/s]"
      ]
     },
     "metadata": {},
     "output_type": "display_data"
    },
    {
     "data": {
      "application/vnd.jupyter.widget-view+json": {
       "model_id": "6535731aede64510ac6b2b5731d1d776",
       "version_major": 2,
       "version_minor": 0
      },
      "text/plain": [
       "Image Batches:   0%|          | 0/13 [00:00<?, ?it/s]"
      ]
     },
     "metadata": {},
     "output_type": "display_data"
    },
    {
     "data": {
      "application/vnd.jupyter.widget-view+json": {
       "model_id": "11b0f48051ed442a9aabe1d7185d1b11",
       "version_major": 2,
       "version_minor": 0
      },
      "text/plain": [
       "Image Batches:   0%|          | 0/13 [00:00<?, ?it/s]"
      ]
     },
     "metadata": {},
     "output_type": "display_data"
    },
    {
     "data": {
      "application/vnd.jupyter.widget-view+json": {
       "model_id": "42c4cc6bec044aa1a60e8364dfd6656a",
       "version_major": 2,
       "version_minor": 0
      },
      "text/plain": [
       "Image Batches:   0%|          | 0/14 [00:00<?, ?it/s]"
      ]
     },
     "metadata": {},
     "output_type": "display_data"
    },
    {
     "data": {
      "application/vnd.jupyter.widget-view+json": {
       "model_id": "052a896cb31c47f1aff6032b6c4fbbfd",
       "version_major": 2,
       "version_minor": 0
      },
      "text/plain": [
       "Image Batches:   0%|          | 0/13 [00:00<?, ?it/s]"
      ]
     },
     "metadata": {},
     "output_type": "display_data"
    },
    {
     "data": {
      "application/vnd.jupyter.widget-view+json": {
       "model_id": "c45ec5fc4ac54ce1aa0f92b7c46a6d16",
       "version_major": 2,
       "version_minor": 0
      },
      "text/plain": [
       "Image Batches:   0%|          | 0/1 [00:00<?, ?it/s]"
      ]
     },
     "metadata": {},
     "output_type": "display_data"
    },
    {
     "data": {
      "application/vnd.jupyter.widget-view+json": {
       "model_id": "6e3cc705d72747b5a30a88f1997212c7",
       "version_major": 2,
       "version_minor": 0
      },
      "text/plain": [
       "Image Batches:   0%|          | 0/13 [00:00<?, ?it/s]"
      ]
     },
     "metadata": {},
     "output_type": "display_data"
    },
    {
     "data": {
      "application/vnd.jupyter.widget-view+json": {
       "model_id": "84dedc55b497452e9b605e8d8d84a246",
       "version_major": 2,
       "version_minor": 0
      },
      "text/plain": [
       "Image Batches:   0%|          | 0/13 [00:00<?, ?it/s]"
      ]
     },
     "metadata": {},
     "output_type": "display_data"
    },
    {
     "data": {
      "application/vnd.jupyter.widget-view+json": {
       "model_id": "d51f3319e5b04bb4b2e3191ecf441cad",
       "version_major": 2,
       "version_minor": 0
      },
      "text/plain": [
       "Image Batches:   0%|          | 0/13 [00:00<?, ?it/s]"
      ]
     },
     "metadata": {},
     "output_type": "display_data"
    },
    {
     "data": {
      "application/vnd.jupyter.widget-view+json": {
       "model_id": "65ae5ce000a0430caf6d9223f92fcec4",
       "version_major": 2,
       "version_minor": 0
      },
      "text/plain": [
       "Image Batches:   0%|          | 0/13 [00:00<?, ?it/s]"
      ]
     },
     "metadata": {},
     "output_type": "display_data"
    },
    {
     "data": {
      "application/vnd.jupyter.widget-view+json": {
       "model_id": "e2a7d986ee4c46c28468a567a6e51844",
       "version_major": 2,
       "version_minor": 0
      },
      "text/plain": [
       "Image Batches:   0%|          | 0/13 [00:00<?, ?it/s]"
      ]
     },
     "metadata": {},
     "output_type": "display_data"
    },
    {
     "data": {
      "application/vnd.jupyter.widget-view+json": {
       "model_id": "0c640b6861c5481ab0b6ff4495d03e5a",
       "version_major": 2,
       "version_minor": 0
      },
      "text/plain": [
       "Image Batches:   0%|          | 0/13 [00:00<?, ?it/s]"
      ]
     },
     "metadata": {},
     "output_type": "display_data"
    },
    {
     "data": {
      "application/vnd.jupyter.widget-view+json": {
       "model_id": "5a138df5c25f424a8389317f40349092",
       "version_major": 2,
       "version_minor": 0
      },
      "text/plain": [
       "Image Batches:   0%|          | 0/13 [00:00<?, ?it/s]"
      ]
     },
     "metadata": {},
     "output_type": "display_data"
    },
    {
     "data": {
      "application/vnd.jupyter.widget-view+json": {
       "model_id": "b7ff66e9c23c482b8d22a9d6e2b38f07",
       "version_major": 2,
       "version_minor": 0
      },
      "text/plain": [
       "Image Batches:   0%|          | 0/13 [00:00<?, ?it/s]"
      ]
     },
     "metadata": {},
     "output_type": "display_data"
    },
    {
     "data": {
      "application/vnd.jupyter.widget-view+json": {
       "model_id": "fee99fbeb682420b84286af3719940a7",
       "version_major": 2,
       "version_minor": 0
      },
      "text/plain": [
       "Image Batches:   0%|          | 0/13 [00:00<?, ?it/s]"
      ]
     },
     "metadata": {},
     "output_type": "display_data"
    },
    {
     "data": {
      "application/vnd.jupyter.widget-view+json": {
       "model_id": "d0d7ab918f874003bb5470671ed07f30",
       "version_major": 2,
       "version_minor": 0
      },
      "text/plain": [
       "Image Batches:   0%|          | 0/13 [00:00<?, ?it/s]"
      ]
     },
     "metadata": {},
     "output_type": "display_data"
    },
    {
     "data": {
      "application/vnd.jupyter.widget-view+json": {
       "model_id": "9e311f0b111b4151b3b840f75a501f32",
       "version_major": 2,
       "version_minor": 0
      },
      "text/plain": [
       "Image Batches:   0%|          | 0/13 [00:00<?, ?it/s]"
      ]
     },
     "metadata": {},
     "output_type": "display_data"
    },
    {
     "data": {
      "application/vnd.jupyter.widget-view+json": {
       "model_id": "48dcd415f87345b58e54feca34f24317",
       "version_major": 2,
       "version_minor": 0
      },
      "text/plain": [
       "Image Batches:   0%|          | 0/13 [00:00<?, ?it/s]"
      ]
     },
     "metadata": {},
     "output_type": "display_data"
    },
    {
     "data": {
      "application/vnd.jupyter.widget-view+json": {
       "model_id": "287915a4991049dc8cc19b21e40b61d5",
       "version_major": 2,
       "version_minor": 0
      },
      "text/plain": [
       "Image Batches:   0%|          | 0/13 [00:00<?, ?it/s]"
      ]
     },
     "metadata": {},
     "output_type": "display_data"
    },
    {
     "data": {
      "application/vnd.jupyter.widget-view+json": {
       "model_id": "d8c1bc8a945d4fb2a5cb0f159d83db03",
       "version_major": 2,
       "version_minor": 0
      },
      "text/plain": [
       "Image Batches:   0%|          | 0/14 [00:00<?, ?it/s]"
      ]
     },
     "metadata": {},
     "output_type": "display_data"
    },
    {
     "data": {
      "application/vnd.jupyter.widget-view+json": {
       "model_id": "31c327a1dbe04ee78721627f668afc47",
       "version_major": 2,
       "version_minor": 0
      },
      "text/plain": [
       "Image Batches:   0%|          | 0/13 [00:00<?, ?it/s]"
      ]
     },
     "metadata": {},
     "output_type": "display_data"
    },
    {
     "data": {
      "application/vnd.jupyter.widget-view+json": {
       "model_id": "a7d6d3fb86914c84a4feeb6758ced9b8",
       "version_major": 2,
       "version_minor": 0
      },
      "text/plain": [
       "Image Batches:   0%|          | 0/13 [00:00<?, ?it/s]"
      ]
     },
     "metadata": {},
     "output_type": "display_data"
    },
    {
     "data": {
      "application/vnd.jupyter.widget-view+json": {
       "model_id": "00614346bb0f4a3181fcc9a14520e2bf",
       "version_major": 2,
       "version_minor": 0
      },
      "text/plain": [
       "Image Batches:   0%|          | 0/13 [00:00<?, ?it/s]"
      ]
     },
     "metadata": {},
     "output_type": "display_data"
    },
    {
     "data": {
      "application/vnd.jupyter.widget-view+json": {
       "model_id": "30f90d744a344209b26810ad68c5ec29",
       "version_major": 2,
       "version_minor": 0
      },
      "text/plain": [
       "Image Batches:   0%|          | 0/14 [00:00<?, ?it/s]"
      ]
     },
     "metadata": {},
     "output_type": "display_data"
    },
    {
     "data": {
      "application/vnd.jupyter.widget-view+json": {
       "model_id": "8a768d3165374601bab0375aebd84a87",
       "version_major": 2,
       "version_minor": 0
      },
      "text/plain": [
       "Image Batches:   0%|          | 0/13 [00:00<?, ?it/s]"
      ]
     },
     "metadata": {},
     "output_type": "display_data"
    },
    {
     "data": {
      "application/vnd.jupyter.widget-view+json": {
       "model_id": "b56b6c26cd2e4068a977455da90d3687",
       "version_major": 2,
       "version_minor": 0
      },
      "text/plain": [
       "Image Batches:   0%|          | 0/13 [00:00<?, ?it/s]"
      ]
     },
     "metadata": {},
     "output_type": "display_data"
    },
    {
     "data": {
      "application/vnd.jupyter.widget-view+json": {
       "model_id": "da418b8b40664e84a203f9fcf97b7a93",
       "version_major": 2,
       "version_minor": 0
      },
      "text/plain": [
       "Image Batches:   0%|          | 0/13 [00:00<?, ?it/s]"
      ]
     },
     "metadata": {},
     "output_type": "display_data"
    },
    {
     "data": {
      "application/vnd.jupyter.widget-view+json": {
       "model_id": "1bcef5739cd54c67890df76bf9d892d6",
       "version_major": 2,
       "version_minor": 0
      },
      "text/plain": [
       "Image Batches:   0%|          | 0/13 [00:00<?, ?it/s]"
      ]
     },
     "metadata": {},
     "output_type": "display_data"
    },
    {
     "data": {
      "application/vnd.jupyter.widget-view+json": {
       "model_id": "45ac04fb3cac40cda02e87e280807908",
       "version_major": 2,
       "version_minor": 0
      },
      "text/plain": [
       "Image Batches:   0%|          | 0/13 [00:00<?, ?it/s]"
      ]
     },
     "metadata": {},
     "output_type": "display_data"
    },
    {
     "data": {
      "application/vnd.jupyter.widget-view+json": {
       "model_id": "5f52e98df91c47cc87737431e2a26bbc",
       "version_major": 2,
       "version_minor": 0
      },
      "text/plain": [
       "Image Batches:   0%|          | 0/30 [00:00<?, ?it/s]"
      ]
     },
     "metadata": {},
     "output_type": "display_data"
    },
    {
     "data": {
      "application/vnd.jupyter.widget-view+json": {
       "model_id": "40f704e5c4994a63a904f3841846feaa",
       "version_major": 2,
       "version_minor": 0
      },
      "text/plain": [
       "Image Batches:   0%|          | 0/13 [00:00<?, ?it/s]"
      ]
     },
     "metadata": {},
     "output_type": "display_data"
    },
    {
     "data": {
      "application/vnd.jupyter.widget-view+json": {
       "model_id": "a30243acf47e4d52a85a75ffc714de63",
       "version_major": 2,
       "version_minor": 0
      },
      "text/plain": [
       "Image Batches:   0%|          | 0/13 [00:00<?, ?it/s]"
      ]
     },
     "metadata": {},
     "output_type": "display_data"
    },
    {
     "data": {
      "application/vnd.jupyter.widget-view+json": {
       "model_id": "303a123f4291447ea3bccdec41b2f983",
       "version_major": 2,
       "version_minor": 0
      },
      "text/plain": [
       "Image Batches:   0%|          | 0/13 [00:00<?, ?it/s]"
      ]
     },
     "metadata": {},
     "output_type": "display_data"
    },
    {
     "data": {
      "application/vnd.jupyter.widget-view+json": {
       "model_id": "4ec60895fb394b5e87b25adda71b7feb",
       "version_major": 2,
       "version_minor": 0
      },
      "text/plain": [
       "Image Batches:   0%|          | 0/13 [00:00<?, ?it/s]"
      ]
     },
     "metadata": {},
     "output_type": "display_data"
    },
    {
     "data": {
      "application/vnd.jupyter.widget-view+json": {
       "model_id": "c7665bca34aa4d8d8e3e8bc69849f2b5",
       "version_major": 2,
       "version_minor": 0
      },
      "text/plain": [
       "Image Batches:   0%|          | 0/13 [00:00<?, ?it/s]"
      ]
     },
     "metadata": {},
     "output_type": "display_data"
    },
    {
     "data": {
      "application/vnd.jupyter.widget-view+json": {
       "model_id": "3723136a33814243bceaddc5c2f0bd1c",
       "version_major": 2,
       "version_minor": 0
      },
      "text/plain": [
       "Image Batches:   0%|          | 0/13 [00:00<?, ?it/s]"
      ]
     },
     "metadata": {},
     "output_type": "display_data"
    },
    {
     "data": {
      "application/vnd.jupyter.widget-view+json": {
       "model_id": "e3d517b4e70a499682056143d32684a9",
       "version_major": 2,
       "version_minor": 0
      },
      "text/plain": [
       "Image Batches:   0%|          | 0/13 [00:00<?, ?it/s]"
      ]
     },
     "metadata": {},
     "output_type": "display_data"
    },
    {
     "data": {
      "application/vnd.jupyter.widget-view+json": {
       "model_id": "fbb3c8c07aba4c9b95537bfdd49b88e8",
       "version_major": 2,
       "version_minor": 0
      },
      "text/plain": [
       "Image Batches:   0%|          | 0/26 [00:00<?, ?it/s]"
      ]
     },
     "metadata": {},
     "output_type": "display_data"
    },
    {
     "data": {
      "application/vnd.jupyter.widget-view+json": {
       "model_id": "9b6a07dfb0f641c698825cab87e8f9ae",
       "version_major": 2,
       "version_minor": 0
      },
      "text/plain": [
       "Image Batches:   0%|          | 0/13 [00:00<?, ?it/s]"
      ]
     },
     "metadata": {},
     "output_type": "display_data"
    },
    {
     "data": {
      "application/vnd.jupyter.widget-view+json": {
       "model_id": "cbb92896107f4ffc9b97ae853b4cb73a",
       "version_major": 2,
       "version_minor": 0
      },
      "text/plain": [
       "Image Batches:   0%|          | 0/13 [00:00<?, ?it/s]"
      ]
     },
     "metadata": {},
     "output_type": "display_data"
    },
    {
     "data": {
      "application/vnd.jupyter.widget-view+json": {
       "model_id": "ed4623c825294f638e411456861615e1",
       "version_major": 2,
       "version_minor": 0
      },
      "text/plain": [
       "Image Batches:   0%|          | 0/13 [00:00<?, ?it/s]"
      ]
     },
     "metadata": {},
     "output_type": "display_data"
    },
    {
     "data": {
      "application/vnd.jupyter.widget-view+json": {
       "model_id": "b6c87d7ce2e645989f19375bcb9b33c5",
       "version_major": 2,
       "version_minor": 0
      },
      "text/plain": [
       "Image Batches:   0%|          | 0/13 [00:00<?, ?it/s]"
      ]
     },
     "metadata": {},
     "output_type": "display_data"
    },
    {
     "data": {
      "application/vnd.jupyter.widget-view+json": {
       "model_id": "35365d93d4ff4160b07b4325029ebd31",
       "version_major": 2,
       "version_minor": 0
      },
      "text/plain": [
       "Image Batches:   0%|          | 0/25 [00:00<?, ?it/s]"
      ]
     },
     "metadata": {},
     "output_type": "display_data"
    },
    {
     "data": {
      "application/vnd.jupyter.widget-view+json": {
       "model_id": "603117a6576348b8b1864a0e05917464",
       "version_major": 2,
       "version_minor": 0
      },
      "text/plain": [
       "Image Batches:   0%|          | 0/9 [00:00<?, ?it/s]"
      ]
     },
     "metadata": {},
     "output_type": "display_data"
    },
    {
     "data": {
      "application/vnd.jupyter.widget-view+json": {
       "model_id": "dbdbfb47f30c49f4b2a0e095f691325b",
       "version_major": 2,
       "version_minor": 0
      },
      "text/plain": [
       "Image Batches:   0%|          | 0/13 [00:00<?, ?it/s]"
      ]
     },
     "metadata": {},
     "output_type": "display_data"
    },
    {
     "data": {
      "application/vnd.jupyter.widget-view+json": {
       "model_id": "5f98ec18e69348d69d9418323d9c92d2",
       "version_major": 2,
       "version_minor": 0
      },
      "text/plain": [
       "Image Batches:   0%|          | 0/12 [00:00<?, ?it/s]"
      ]
     },
     "metadata": {},
     "output_type": "display_data"
    },
    {
     "data": {
      "application/vnd.jupyter.widget-view+json": {
       "model_id": "f700710ef08249c2afea6a43b68f8bbb",
       "version_major": 2,
       "version_minor": 0
      },
      "text/plain": [
       "Image Batches:   0%|          | 0/13 [00:00<?, ?it/s]"
      ]
     },
     "metadata": {},
     "output_type": "display_data"
    },
    {
     "data": {
      "application/vnd.jupyter.widget-view+json": {
       "model_id": "5f5c19dca8ae4eefa340436fb8a7ba72",
       "version_major": 2,
       "version_minor": 0
      },
      "text/plain": [
       "Image Batches:   0%|          | 0/13 [00:00<?, ?it/s]"
      ]
     },
     "metadata": {},
     "output_type": "display_data"
    },
    {
     "data": {
      "application/vnd.jupyter.widget-view+json": {
       "model_id": "47c61bbba46543d9935edf78c0c03e5a",
       "version_major": 2,
       "version_minor": 0
      },
      "text/plain": [
       "Image Batches:   0%|          | 0/13 [00:00<?, ?it/s]"
      ]
     },
     "metadata": {},
     "output_type": "display_data"
    },
    {
     "data": {
      "application/vnd.jupyter.widget-view+json": {
       "model_id": "be4e646fcace478e99fa1bafcca01a54",
       "version_major": 2,
       "version_minor": 0
      },
      "text/plain": [
       "Image Batches:   0%|          | 0/13 [00:00<?, ?it/s]"
      ]
     },
     "metadata": {},
     "output_type": "display_data"
    },
    {
     "data": {
      "application/vnd.jupyter.widget-view+json": {
       "model_id": "c2db207b0cdd4963bc641769cdcd1962",
       "version_major": 2,
       "version_minor": 0
      },
      "text/plain": [
       "Image Batches:   0%|          | 0/13 [00:00<?, ?it/s]"
      ]
     },
     "metadata": {},
     "output_type": "display_data"
    },
    {
     "data": {
      "application/vnd.jupyter.widget-view+json": {
       "model_id": "dfb6eb4c2f454488808d4f4bec3589d0",
       "version_major": 2,
       "version_minor": 0
      },
      "text/plain": [
       "Image Batches:   0%|          | 0/14 [00:00<?, ?it/s]"
      ]
     },
     "metadata": {},
     "output_type": "display_data"
    },
    {
     "data": {
      "application/vnd.jupyter.widget-view+json": {
       "model_id": "8a0c0d6d4a4c4cc8b047f810aa79f3ee",
       "version_major": 2,
       "version_minor": 0
      },
      "text/plain": [
       "Image Batches:   0%|          | 0/13 [00:00<?, ?it/s]"
      ]
     },
     "metadata": {},
     "output_type": "display_data"
    },
    {
     "data": {
      "application/vnd.jupyter.widget-view+json": {
       "model_id": "467091ff90d24f1fb331409fd5cd287e",
       "version_major": 2,
       "version_minor": 0
      },
      "text/plain": [
       "Image Batches:   0%|          | 0/12 [00:00<?, ?it/s]"
      ]
     },
     "metadata": {},
     "output_type": "display_data"
    },
    {
     "data": {
      "application/vnd.jupyter.widget-view+json": {
       "model_id": "ed1a0be12c074e06acd5104910a2154f",
       "version_major": 2,
       "version_minor": 0
      },
      "text/plain": [
       "Image Batches:   0%|          | 0/14 [00:00<?, ?it/s]"
      ]
     },
     "metadata": {},
     "output_type": "display_data"
    },
    {
     "data": {
      "application/vnd.jupyter.widget-view+json": {
       "model_id": "e29a3388da074322a7ec4a21c3775dfb",
       "version_major": 2,
       "version_minor": 0
      },
      "text/plain": [
       "Image Batches:   0%|          | 0/15 [00:00<?, ?it/s]"
      ]
     },
     "metadata": {},
     "output_type": "display_data"
    },
    {
     "data": {
      "application/vnd.jupyter.widget-view+json": {
       "model_id": "e2fc01ab4a8841ac9f9045875cd14848",
       "version_major": 2,
       "version_minor": 0
      },
      "text/plain": [
       "Image Batches:   0%|          | 0/13 [00:00<?, ?it/s]"
      ]
     },
     "metadata": {},
     "output_type": "display_data"
    },
    {
     "data": {
      "application/vnd.jupyter.widget-view+json": {
       "model_id": "93af1ec8e9074685aed063161d4a0630",
       "version_major": 2,
       "version_minor": 0
      },
      "text/plain": [
       "Image Batches:   0%|          | 0/13 [00:00<?, ?it/s]"
      ]
     },
     "metadata": {},
     "output_type": "display_data"
    },
    {
     "data": {
      "application/vnd.jupyter.widget-view+json": {
       "model_id": "02e38791ba4a445897519fa95cbb8955",
       "version_major": 2,
       "version_minor": 0
      },
      "text/plain": [
       "Image Batches:   0%|          | 0/13 [00:00<?, ?it/s]"
      ]
     },
     "metadata": {},
     "output_type": "display_data"
    },
    {
     "data": {
      "application/vnd.jupyter.widget-view+json": {
       "model_id": "10531c17fa52440b85149607c0b6898f",
       "version_major": 2,
       "version_minor": 0
      },
      "text/plain": [
       "Image Batches:   0%|          | 0/13 [00:00<?, ?it/s]"
      ]
     },
     "metadata": {},
     "output_type": "display_data"
    },
    {
     "data": {
      "application/vnd.jupyter.widget-view+json": {
       "model_id": "f214b62903cd492d93d4a5cef34b9996",
       "version_major": 2,
       "version_minor": 0
      },
      "text/plain": [
       "Image Batches:   0%|          | 0/13 [00:00<?, ?it/s]"
      ]
     },
     "metadata": {},
     "output_type": "display_data"
    },
    {
     "data": {
      "application/vnd.jupyter.widget-view+json": {
       "model_id": "24b6c1f9e9934f4fbb1fb5c8e16b5efe",
       "version_major": 2,
       "version_minor": 0
      },
      "text/plain": [
       "Image Batches:   0%|          | 0/13 [00:00<?, ?it/s]"
      ]
     },
     "metadata": {},
     "output_type": "display_data"
    },
    {
     "data": {
      "application/vnd.jupyter.widget-view+json": {
       "model_id": "b08d493f0f5b4a4f9225484d2577c074",
       "version_major": 2,
       "version_minor": 0
      },
      "text/plain": [
       "Image Batches:   0%|          | 0/13 [00:00<?, ?it/s]"
      ]
     },
     "metadata": {},
     "output_type": "display_data"
    },
    {
     "data": {
      "application/vnd.jupyter.widget-view+json": {
       "model_id": "d19f5e1ef33343d8a662fae2229b7442",
       "version_major": 2,
       "version_minor": 0
      },
      "text/plain": [
       "Image Batches:   0%|          | 0/13 [00:00<?, ?it/s]"
      ]
     },
     "metadata": {},
     "output_type": "display_data"
    },
    {
     "data": {
      "application/vnd.jupyter.widget-view+json": {
       "model_id": "6b3cac98bbe947d6be464d156dabc781",
       "version_major": 2,
       "version_minor": 0
      },
      "text/plain": [
       "Image Batches:   0%|          | 0/13 [00:00<?, ?it/s]"
      ]
     },
     "metadata": {},
     "output_type": "display_data"
    },
    {
     "data": {
      "application/vnd.jupyter.widget-view+json": {
       "model_id": "361e026f896b483f98d958e855af13fb",
       "version_major": 2,
       "version_minor": 0
      },
      "text/plain": [
       "Image Batches:   0%|          | 0/14 [00:00<?, ?it/s]"
      ]
     },
     "metadata": {},
     "output_type": "display_data"
    },
    {
     "data": {
      "application/vnd.jupyter.widget-view+json": {
       "model_id": "11ff46dd6f5b409292308e3b7223a30d",
       "version_major": 2,
       "version_minor": 0
      },
      "text/plain": [
       "Image Batches:   0%|          | 0/20 [00:00<?, ?it/s]"
      ]
     },
     "metadata": {},
     "output_type": "display_data"
    },
    {
     "data": {
      "application/vnd.jupyter.widget-view+json": {
       "model_id": "3455906aaff048f2bb5ff43a0ad16bf9",
       "version_major": 2,
       "version_minor": 0
      },
      "text/plain": [
       "Image Batches:   0%|          | 0/13 [00:00<?, ?it/s]"
      ]
     },
     "metadata": {},
     "output_type": "display_data"
    },
    {
     "data": {
      "application/vnd.jupyter.widget-view+json": {
       "model_id": "8900898ea3954c2bbfdec2a3a4f12c80",
       "version_major": 2,
       "version_minor": 0
      },
      "text/plain": [
       "Image Batches:   0%|          | 0/9 [00:00<?, ?it/s]"
      ]
     },
     "metadata": {},
     "output_type": "display_data"
    },
    {
     "data": {
      "application/vnd.jupyter.widget-view+json": {
       "model_id": "15e51ab8fa294e8fb1c2ba9e18aefc07",
       "version_major": 2,
       "version_minor": 0
      },
      "text/plain": [
       "Image Batches:   0%|          | 0/13 [00:00<?, ?it/s]"
      ]
     },
     "metadata": {},
     "output_type": "display_data"
    },
    {
     "data": {
      "application/vnd.jupyter.widget-view+json": {
       "model_id": "43835987f138429ab693575e003af246",
       "version_major": 2,
       "version_minor": 0
      },
      "text/plain": [
       "Image Batches:   0%|          | 0/10 [00:00<?, ?it/s]"
      ]
     },
     "metadata": {},
     "output_type": "display_data"
    },
    {
     "data": {
      "application/vnd.jupyter.widget-view+json": {
       "model_id": "56ea80e6ef934b0090de8ddddde63297",
       "version_major": 2,
       "version_minor": 0
      },
      "text/plain": [
       "Image Batches:   0%|          | 0/12 [00:00<?, ?it/s]"
      ]
     },
     "metadata": {},
     "output_type": "display_data"
    },
    {
     "data": {
      "application/vnd.jupyter.widget-view+json": {
       "model_id": "cfdfb781d7c04262bbb0e893c4d6df8f",
       "version_major": 2,
       "version_minor": 0
      },
      "text/plain": [
       "Image Batches:   0%|          | 0/13 [00:00<?, ?it/s]"
      ]
     },
     "metadata": {},
     "output_type": "display_data"
    },
    {
     "data": {
      "application/vnd.jupyter.widget-view+json": {
       "model_id": "806f3261a4094d039aaeb774c1d680da",
       "version_major": 2,
       "version_minor": 0
      },
      "text/plain": [
       "Image Batches:   0%|          | 0/13 [00:00<?, ?it/s]"
      ]
     },
     "metadata": {},
     "output_type": "display_data"
    },
    {
     "data": {
      "application/vnd.jupyter.widget-view+json": {
       "model_id": "2e48ec70c62844a2b0c63571db063893",
       "version_major": 2,
       "version_minor": 0
      },
      "text/plain": [
       "Image Batches:   0%|          | 0/13 [00:00<?, ?it/s]"
      ]
     },
     "metadata": {},
     "output_type": "display_data"
    },
    {
     "data": {
      "application/vnd.jupyter.widget-view+json": {
       "model_id": "4b7f7797e4a6488798fd19b8baf1a9ac",
       "version_major": 2,
       "version_minor": 0
      },
      "text/plain": [
       "Image Batches:   0%|          | 0/13 [00:00<?, ?it/s]"
      ]
     },
     "metadata": {},
     "output_type": "display_data"
    },
    {
     "data": {
      "application/vnd.jupyter.widget-view+json": {
       "model_id": "c4c335878f5d41c89ab27edf13b62999",
       "version_major": 2,
       "version_minor": 0
      },
      "text/plain": [
       "Image Batches:   0%|          | 0/13 [00:00<?, ?it/s]"
      ]
     },
     "metadata": {},
     "output_type": "display_data"
    },
    {
     "data": {
      "application/vnd.jupyter.widget-view+json": {
       "model_id": "99b5d884fdf047c199daca7811ae7199",
       "version_major": 2,
       "version_minor": 0
      },
      "text/plain": [
       "Image Batches:   0%|          | 0/13 [00:00<?, ?it/s]"
      ]
     },
     "metadata": {},
     "output_type": "display_data"
    },
    {
     "data": {
      "application/vnd.jupyter.widget-view+json": {
       "model_id": "9e6c508aa6804fd89a58ed4e9d440c40",
       "version_major": 2,
       "version_minor": 0
      },
      "text/plain": [
       "Image Batches:   0%|          | 0/13 [00:00<?, ?it/s]"
      ]
     },
     "metadata": {},
     "output_type": "display_data"
    },
    {
     "data": {
      "application/vnd.jupyter.widget-view+json": {
       "model_id": "0ac5263c4cae4eb8a0a1a8aa4fee842d",
       "version_major": 2,
       "version_minor": 0
      },
      "text/plain": [
       "Image Batches:   0%|          | 0/13 [00:00<?, ?it/s]"
      ]
     },
     "metadata": {},
     "output_type": "display_data"
    },
    {
     "data": {
      "application/vnd.jupyter.widget-view+json": {
       "model_id": "e17cdf627c6947ce8fbab899cc2477f9",
       "version_major": 2,
       "version_minor": 0
      },
      "text/plain": [
       "Image Batches:   0%|          | 0/13 [00:00<?, ?it/s]"
      ]
     },
     "metadata": {},
     "output_type": "display_data"
    },
    {
     "data": {
      "application/vnd.jupyter.widget-view+json": {
       "model_id": "d2b61de1036d4a14b84612797059aa64",
       "version_major": 2,
       "version_minor": 0
      },
      "text/plain": [
       "Image Batches:   0%|          | 0/13 [00:00<?, ?it/s]"
      ]
     },
     "metadata": {},
     "output_type": "display_data"
    },
    {
     "data": {
      "application/vnd.jupyter.widget-view+json": {
       "model_id": "7fdc01ce58334c0e84b3a7e5634b57b7",
       "version_major": 2,
       "version_minor": 0
      },
      "text/plain": [
       "Image Batches:   0%|          | 0/13 [00:00<?, ?it/s]"
      ]
     },
     "metadata": {},
     "output_type": "display_data"
    },
    {
     "data": {
      "application/vnd.jupyter.widget-view+json": {
       "model_id": "60aea32758d8409a8da67084f0821fe7",
       "version_major": 2,
       "version_minor": 0
      },
      "text/plain": [
       "Image Batches:   0%|          | 0/13 [00:00<?, ?it/s]"
      ]
     },
     "metadata": {},
     "output_type": "display_data"
    },
    {
     "data": {
      "application/vnd.jupyter.widget-view+json": {
       "model_id": "ebf3df87e6f64d74887db09404d2fae4",
       "version_major": 2,
       "version_minor": 0
      },
      "text/plain": [
       "Image Batches:   0%|          | 0/13 [00:00<?, ?it/s]"
      ]
     },
     "metadata": {},
     "output_type": "display_data"
    },
    {
     "data": {
      "application/vnd.jupyter.widget-view+json": {
       "model_id": "f6077d6e59ea4324a85fa5473c8f9da8",
       "version_major": 2,
       "version_minor": 0
      },
      "text/plain": [
       "Image Batches:   0%|          | 0/13 [00:00<?, ?it/s]"
      ]
     },
     "metadata": {},
     "output_type": "display_data"
    },
    {
     "data": {
      "application/vnd.jupyter.widget-view+json": {
       "model_id": "690a50506d7b42f4b8308f251d34a7c2",
       "version_major": 2,
       "version_minor": 0
      },
      "text/plain": [
       "Image Batches:   0%|          | 0/13 [00:00<?, ?it/s]"
      ]
     },
     "metadata": {},
     "output_type": "display_data"
    },
    {
     "data": {
      "application/vnd.jupyter.widget-view+json": {
       "model_id": "7fefe8f421404d71a2f464cf180d937c",
       "version_major": 2,
       "version_minor": 0
      },
      "text/plain": [
       "Image Batches:   0%|          | 0/13 [00:00<?, ?it/s]"
      ]
     },
     "metadata": {},
     "output_type": "display_data"
    },
    {
     "data": {
      "application/vnd.jupyter.widget-view+json": {
       "model_id": "a76607641b934493a3837a730fadb36c",
       "version_major": 2,
       "version_minor": 0
      },
      "text/plain": [
       "Image Batches:   0%|          | 0/13 [00:00<?, ?it/s]"
      ]
     },
     "metadata": {},
     "output_type": "display_data"
    },
    {
     "data": {
      "application/vnd.jupyter.widget-view+json": {
       "model_id": "19b5e9811257420aa6843ed441d9672a",
       "version_major": 2,
       "version_minor": 0
      },
      "text/plain": [
       "Image Batches:   0%|          | 0/13 [00:00<?, ?it/s]"
      ]
     },
     "metadata": {},
     "output_type": "display_data"
    },
    {
     "data": {
      "application/vnd.jupyter.widget-view+json": {
       "model_id": "c46a9aa73e9a40b796b2c7078fedd865",
       "version_major": 2,
       "version_minor": 0
      },
      "text/plain": [
       "Image Batches:   0%|          | 0/13 [00:00<?, ?it/s]"
      ]
     },
     "metadata": {},
     "output_type": "display_data"
    },
    {
     "data": {
      "application/vnd.jupyter.widget-view+json": {
       "model_id": "ad4ecc6458ba4d52bc5220bc1d8659c1",
       "version_major": 2,
       "version_minor": 0
      },
      "text/plain": [
       "Image Batches:   0%|          | 0/26 [00:00<?, ?it/s]"
      ]
     },
     "metadata": {},
     "output_type": "display_data"
    },
    {
     "data": {
      "application/vnd.jupyter.widget-view+json": {
       "model_id": "46d64cd78b494ba4a02a10cd44ffa1d3",
       "version_major": 2,
       "version_minor": 0
      },
      "text/plain": [
       "Image Batches:   0%|          | 0/13 [00:00<?, ?it/s]"
      ]
     },
     "metadata": {},
     "output_type": "display_data"
    },
    {
     "data": {
      "application/vnd.jupyter.widget-view+json": {
       "model_id": "096f05fa7ce74938b9a0368dd7f3c272",
       "version_major": 2,
       "version_minor": 0
      },
      "text/plain": [
       "Image Batches:   0%|          | 0/13 [00:00<?, ?it/s]"
      ]
     },
     "metadata": {},
     "output_type": "display_data"
    },
    {
     "data": {
      "application/vnd.jupyter.widget-view+json": {
       "model_id": "ce7ef6ba72d047c0b191cd05c40053d4",
       "version_major": 2,
       "version_minor": 0
      },
      "text/plain": [
       "Image Batches:   0%|          | 0/13 [00:00<?, ?it/s]"
      ]
     },
     "metadata": {},
     "output_type": "display_data"
    },
    {
     "data": {
      "application/vnd.jupyter.widget-view+json": {
       "model_id": "2b6b0d3e6abc4a26bc0bcbca46595da1",
       "version_major": 2,
       "version_minor": 0
      },
      "text/plain": [
       "Image Batches:   0%|          | 0/13 [00:00<?, ?it/s]"
      ]
     },
     "metadata": {},
     "output_type": "display_data"
    },
    {
     "data": {
      "application/vnd.jupyter.widget-view+json": {
       "model_id": "9b95920218a1458bb17c1dea5964341c",
       "version_major": 2,
       "version_minor": 0
      },
      "text/plain": [
       "Image Batches:   0%|          | 0/14 [00:00<?, ?it/s]"
      ]
     },
     "metadata": {},
     "output_type": "display_data"
    },
    {
     "data": {
      "application/vnd.jupyter.widget-view+json": {
       "model_id": "183d4a168b1843b7ae9c0ab7436ab789",
       "version_major": 2,
       "version_minor": 0
      },
      "text/plain": [
       "Image Batches:   0%|          | 0/13 [00:00<?, ?it/s]"
      ]
     },
     "metadata": {},
     "output_type": "display_data"
    },
    {
     "data": {
      "application/vnd.jupyter.widget-view+json": {
       "model_id": "856367751021495b8f3cbc54bee94423",
       "version_major": 2,
       "version_minor": 0
      },
      "text/plain": [
       "Image Batches:   0%|          | 0/13 [00:00<?, ?it/s]"
      ]
     },
     "metadata": {},
     "output_type": "display_data"
    },
    {
     "data": {
      "application/vnd.jupyter.widget-view+json": {
       "model_id": "3436b39aa6e945bc96d91e921d9f07a1",
       "version_major": 2,
       "version_minor": 0
      },
      "text/plain": [
       "Image Batches:   0%|          | 0/26 [00:00<?, ?it/s]"
      ]
     },
     "metadata": {},
     "output_type": "display_data"
    },
    {
     "data": {
      "application/vnd.jupyter.widget-view+json": {
       "model_id": "ab513d4a6dd24d2fbcbcdb51798b3ed1",
       "version_major": 2,
       "version_minor": 0
      },
      "text/plain": [
       "Image Batches:   0%|          | 0/13 [00:00<?, ?it/s]"
      ]
     },
     "metadata": {},
     "output_type": "display_data"
    },
    {
     "data": {
      "application/vnd.jupyter.widget-view+json": {
       "model_id": "d98a7b8140bd4037a68c2b7ddf647668",
       "version_major": 2,
       "version_minor": 0
      },
      "text/plain": [
       "Image Batches:   0%|          | 0/13 [00:00<?, ?it/s]"
      ]
     },
     "metadata": {},
     "output_type": "display_data"
    },
    {
     "data": {
      "application/vnd.jupyter.widget-view+json": {
       "model_id": "d431b6d813574f72b63c9e3e1161cc3a",
       "version_major": 2,
       "version_minor": 0
      },
      "text/plain": [
       "Image Batches:   0%|          | 0/13 [00:00<?, ?it/s]"
      ]
     },
     "metadata": {},
     "output_type": "display_data"
    },
    {
     "data": {
      "application/vnd.jupyter.widget-view+json": {
       "model_id": "8998a4557e2b40aa87be6dd5f7417dea",
       "version_major": 2,
       "version_minor": 0
      },
      "text/plain": [
       "Image Batches:   0%|          | 0/13 [00:00<?, ?it/s]"
      ]
     },
     "metadata": {},
     "output_type": "display_data"
    },
    {
     "data": {
      "application/vnd.jupyter.widget-view+json": {
       "model_id": "d0ea64449a134e69a4154869185049ae",
       "version_major": 2,
       "version_minor": 0
      },
      "text/plain": [
       "Image Batches:   0%|          | 0/13 [00:00<?, ?it/s]"
      ]
     },
     "metadata": {},
     "output_type": "display_data"
    },
    {
     "data": {
      "application/vnd.jupyter.widget-view+json": {
       "model_id": "68aec3d6da0f4bb8beab66f04ed73ed2",
       "version_major": 2,
       "version_minor": 0
      },
      "text/plain": [
       "Image Batches:   0%|          | 0/26 [00:00<?, ?it/s]"
      ]
     },
     "metadata": {},
     "output_type": "display_data"
    },
    {
     "data": {
      "application/vnd.jupyter.widget-view+json": {
       "model_id": "71e41789d4d243349f84f46b593261ae",
       "version_major": 2,
       "version_minor": 0
      },
      "text/plain": [
       "Image Batches:   0%|          | 0/14 [00:00<?, ?it/s]"
      ]
     },
     "metadata": {},
     "output_type": "display_data"
    },
    {
     "data": {
      "application/vnd.jupyter.widget-view+json": {
       "model_id": "70105836b0264829a0956bc5e3df2e31",
       "version_major": 2,
       "version_minor": 0
      },
      "text/plain": [
       "Image Batches:   0%|          | 0/13 [00:00<?, ?it/s]"
      ]
     },
     "metadata": {},
     "output_type": "display_data"
    },
    {
     "data": {
      "application/vnd.jupyter.widget-view+json": {
       "model_id": "a510f4a96cef4dc4b34215674059f5f4",
       "version_major": 2,
       "version_minor": 0
      },
      "text/plain": [
       "Image Batches:   0%|          | 0/13 [00:00<?, ?it/s]"
      ]
     },
     "metadata": {},
     "output_type": "display_data"
    },
    {
     "data": {
      "application/vnd.jupyter.widget-view+json": {
       "model_id": "cfc19caaeb6b4d4f914c515db93ac0a9",
       "version_major": 2,
       "version_minor": 0
      },
      "text/plain": [
       "Image Batches:   0%|          | 0/13 [00:00<?, ?it/s]"
      ]
     },
     "metadata": {},
     "output_type": "display_data"
    },
    {
     "data": {
      "application/vnd.jupyter.widget-view+json": {
       "model_id": "39738074ba5a4c26a11e1723b0d677ef",
       "version_major": 2,
       "version_minor": 0
      },
      "text/plain": [
       "Image Batches:   0%|          | 0/13 [00:00<?, ?it/s]"
      ]
     },
     "metadata": {},
     "output_type": "display_data"
    },
    {
     "data": {
      "application/vnd.jupyter.widget-view+json": {
       "model_id": "ea647155047f4f43a390f2a11670867f",
       "version_major": 2,
       "version_minor": 0
      },
      "text/plain": [
       "Image Batches:   0%|          | 0/13 [00:00<?, ?it/s]"
      ]
     },
     "metadata": {},
     "output_type": "display_data"
    },
    {
     "data": {
      "application/vnd.jupyter.widget-view+json": {
       "model_id": "f847037dabb0474da819f6f2cc1426fa",
       "version_major": 2,
       "version_minor": 0
      },
      "text/plain": [
       "Image Batches:   0%|          | 0/13 [00:00<?, ?it/s]"
      ]
     },
     "metadata": {},
     "output_type": "display_data"
    },
    {
     "data": {
      "application/vnd.jupyter.widget-view+json": {
       "model_id": "5f894050bce24572821ac33215ce2942",
       "version_major": 2,
       "version_minor": 0
      },
      "text/plain": [
       "Image Batches:   0%|          | 0/13 [00:00<?, ?it/s]"
      ]
     },
     "metadata": {},
     "output_type": "display_data"
    },
    {
     "data": {
      "application/vnd.jupyter.widget-view+json": {
       "model_id": "05c758978b0e416fabcc4813b81efbf4",
       "version_major": 2,
       "version_minor": 0
      },
      "text/plain": [
       "Image Batches:   0%|          | 0/16 [00:00<?, ?it/s]"
      ]
     },
     "metadata": {},
     "output_type": "display_data"
    },
    {
     "data": {
      "application/vnd.jupyter.widget-view+json": {
       "model_id": "a09ebc776e2f4312b31a7d340c34e1db",
       "version_major": 2,
       "version_minor": 0
      },
      "text/plain": [
       "Image Batches:   0%|          | 0/13 [00:00<?, ?it/s]"
      ]
     },
     "metadata": {},
     "output_type": "display_data"
    },
    {
     "data": {
      "application/vnd.jupyter.widget-view+json": {
       "model_id": "a01f1a8ab2374eaf9133c350e6481b87",
       "version_major": 2,
       "version_minor": 0
      },
      "text/plain": [
       "Image Batches:   0%|          | 0/31 [00:00<?, ?it/s]"
      ]
     },
     "metadata": {},
     "output_type": "display_data"
    },
    {
     "data": {
      "application/vnd.jupyter.widget-view+json": {
       "model_id": "017da721d4f14c4caf4c2f4777b28e65",
       "version_major": 2,
       "version_minor": 0
      },
      "text/plain": [
       "Image Batches:   0%|          | 0/13 [00:00<?, ?it/s]"
      ]
     },
     "metadata": {},
     "output_type": "display_data"
    },
    {
     "data": {
      "application/vnd.jupyter.widget-view+json": {
       "model_id": "3aeab24498e84a9bbd70b981af40da20",
       "version_major": 2,
       "version_minor": 0
      },
      "text/plain": [
       "Image Batches:   0%|          | 0/13 [00:00<?, ?it/s]"
      ]
     },
     "metadata": {},
     "output_type": "display_data"
    },
    {
     "data": {
      "application/vnd.jupyter.widget-view+json": {
       "model_id": "d20cb1d9afad4418a5e4268306bdbb82",
       "version_major": 2,
       "version_minor": 0
      },
      "text/plain": [
       "Image Batches:   0%|          | 0/13 [00:00<?, ?it/s]"
      ]
     },
     "metadata": {},
     "output_type": "display_data"
    },
    {
     "data": {
      "application/vnd.jupyter.widget-view+json": {
       "model_id": "915e7e9bd97f4dc69fa5cf6e6a778f67",
       "version_major": 2,
       "version_minor": 0
      },
      "text/plain": [
       "Image Batches:   0%|          | 0/13 [00:00<?, ?it/s]"
      ]
     },
     "metadata": {},
     "output_type": "display_data"
    },
    {
     "data": {
      "application/vnd.jupyter.widget-view+json": {
       "model_id": "f30eab1c0d774f95a0d348b33e5ae72d",
       "version_major": 2,
       "version_minor": 0
      },
      "text/plain": [
       "Image Batches:   0%|          | 0/13 [00:00<?, ?it/s]"
      ]
     },
     "metadata": {},
     "output_type": "display_data"
    },
    {
     "data": {
      "application/vnd.jupyter.widget-view+json": {
       "model_id": "7a9647726ef74c4fa4d41526ca8d8985",
       "version_major": 2,
       "version_minor": 0
      },
      "text/plain": [
       "Image Batches:   0%|          | 0/13 [00:00<?, ?it/s]"
      ]
     },
     "metadata": {},
     "output_type": "display_data"
    },
    {
     "data": {
      "application/vnd.jupyter.widget-view+json": {
       "model_id": "5e5d30420c9c4ec287681de5ac0393e5",
       "version_major": 2,
       "version_minor": 0
      },
      "text/plain": [
       "Image Batches:   0%|          | 0/13 [00:00<?, ?it/s]"
      ]
     },
     "metadata": {},
     "output_type": "display_data"
    },
    {
     "data": {
      "application/vnd.jupyter.widget-view+json": {
       "model_id": "7bd566eeda6a47c291fb497110ad5e63",
       "version_major": 2,
       "version_minor": 0
      },
      "text/plain": [
       "Image Batches:   0%|          | 0/26 [00:00<?, ?it/s]"
      ]
     },
     "metadata": {},
     "output_type": "display_data"
    },
    {
     "data": {
      "application/vnd.jupyter.widget-view+json": {
       "model_id": "50ce315c71be4780b67a4ae03aa6b714",
       "version_major": 2,
       "version_minor": 0
      },
      "text/plain": [
       "Image Batches:   0%|          | 0/13 [00:00<?, ?it/s]"
      ]
     },
     "metadata": {},
     "output_type": "display_data"
    },
    {
     "data": {
      "application/vnd.jupyter.widget-view+json": {
       "model_id": "7d11f435a2b24e8cac4b142b87c49b25",
       "version_major": 2,
       "version_minor": 0
      },
      "text/plain": [
       "Image Batches:   0%|          | 0/13 [00:00<?, ?it/s]"
      ]
     },
     "metadata": {},
     "output_type": "display_data"
    },
    {
     "data": {
      "application/vnd.jupyter.widget-view+json": {
       "model_id": "a05b47bc84004585a47b6228ae980133",
       "version_major": 2,
       "version_minor": 0
      },
      "text/plain": [
       "Image Batches:   0%|          | 0/13 [00:00<?, ?it/s]"
      ]
     },
     "metadata": {},
     "output_type": "display_data"
    },
    {
     "data": {
      "application/vnd.jupyter.widget-view+json": {
       "model_id": "d695667e44a44e75ab0a913cfd18c491",
       "version_major": 2,
       "version_minor": 0
      },
      "text/plain": [
       "Image Batches:   0%|          | 0/13 [00:00<?, ?it/s]"
      ]
     },
     "metadata": {},
     "output_type": "display_data"
    },
    {
     "data": {
      "application/vnd.jupyter.widget-view+json": {
       "model_id": "a6e153d67af048e782c26cc7f1f3a6c3",
       "version_major": 2,
       "version_minor": 0
      },
      "text/plain": [
       "Image Batches:   0%|          | 0/24 [00:00<?, ?it/s]"
      ]
     },
     "metadata": {},
     "output_type": "display_data"
    },
    {
     "data": {
      "application/vnd.jupyter.widget-view+json": {
       "model_id": "0dbb2774ea6a40178e390b3594e44045",
       "version_major": 2,
       "version_minor": 0
      },
      "text/plain": [
       "Image Batches:   0%|          | 0/28 [00:00<?, ?it/s]"
      ]
     },
     "metadata": {},
     "output_type": "display_data"
    },
    {
     "data": {
      "application/vnd.jupyter.widget-view+json": {
       "model_id": "530b12346d93494e8ec711de9b02382a",
       "version_major": 2,
       "version_minor": 0
      },
      "text/plain": [
       "Image Batches:   0%|          | 0/27 [00:00<?, ?it/s]"
      ]
     },
     "metadata": {},
     "output_type": "display_data"
    },
    {
     "data": {
      "application/vnd.jupyter.widget-view+json": {
       "model_id": "c9a3763782c24f41bc289be7eb22fca6",
       "version_major": 2,
       "version_minor": 0
      },
      "text/plain": [
       "Image Batches:   0%|          | 0/13 [00:00<?, ?it/s]"
      ]
     },
     "metadata": {},
     "output_type": "display_data"
    },
    {
     "data": {
      "application/vnd.jupyter.widget-view+json": {
       "model_id": "c616a49dd4e64c99a4e396f896fb31f2",
       "version_major": 2,
       "version_minor": 0
      },
      "text/plain": [
       "Image Batches:   0%|          | 0/13 [00:00<?, ?it/s]"
      ]
     },
     "metadata": {},
     "output_type": "display_data"
    },
    {
     "data": {
      "application/vnd.jupyter.widget-view+json": {
       "model_id": "0e9de576154648e5a9d4a3913fb24e85",
       "version_major": 2,
       "version_minor": 0
      },
      "text/plain": [
       "Image Batches:   0%|          | 0/13 [00:00<?, ?it/s]"
      ]
     },
     "metadata": {},
     "output_type": "display_data"
    },
    {
     "data": {
      "application/vnd.jupyter.widget-view+json": {
       "model_id": "c15f05573b094562aed5d57e7a7a1847",
       "version_major": 2,
       "version_minor": 0
      },
      "text/plain": [
       "Image Batches:   0%|          | 0/13 [00:00<?, ?it/s]"
      ]
     },
     "metadata": {},
     "output_type": "display_data"
    },
    {
     "data": {
      "application/vnd.jupyter.widget-view+json": {
       "model_id": "fa1dbc51ede44b61a95bb70171e77ed2",
       "version_major": 2,
       "version_minor": 0
      },
      "text/plain": [
       "Image Batches:   0%|          | 0/13 [00:00<?, ?it/s]"
      ]
     },
     "metadata": {},
     "output_type": "display_data"
    },
    {
     "data": {
      "application/vnd.jupyter.widget-view+json": {
       "model_id": "599b539d8f9e4c1ba87b67b980f4d8ab",
       "version_major": 2,
       "version_minor": 0
      },
      "text/plain": [
       "Image Batches:   0%|          | 0/13 [00:00<?, ?it/s]"
      ]
     },
     "metadata": {},
     "output_type": "display_data"
    },
    {
     "data": {
      "application/vnd.jupyter.widget-view+json": {
       "model_id": "380f025310f44f4bb2299217f59f1580",
       "version_major": 2,
       "version_minor": 0
      },
      "text/plain": [
       "Image Batches:   0%|          | 0/13 [00:00<?, ?it/s]"
      ]
     },
     "metadata": {},
     "output_type": "display_data"
    },
    {
     "data": {
      "application/vnd.jupyter.widget-view+json": {
       "model_id": "0202f5756479441ebd9560addf52cd79",
       "version_major": 2,
       "version_minor": 0
      },
      "text/plain": [
       "Image Batches:   0%|          | 0/26 [00:00<?, ?it/s]"
      ]
     },
     "metadata": {},
     "output_type": "display_data"
    },
    {
     "data": {
      "application/vnd.jupyter.widget-view+json": {
       "model_id": "7472a647727340e4b04e67307e6a29c2",
       "version_major": 2,
       "version_minor": 0
      },
      "text/plain": [
       "Image Batches:   0%|          | 0/13 [00:00<?, ?it/s]"
      ]
     },
     "metadata": {},
     "output_type": "display_data"
    },
    {
     "data": {
      "application/vnd.jupyter.widget-view+json": {
       "model_id": "2c389cf7e18649cca3ca5d761d15ac4e",
       "version_major": 2,
       "version_minor": 0
      },
      "text/plain": [
       "Image Batches:   0%|          | 0/13 [00:00<?, ?it/s]"
      ]
     },
     "metadata": {},
     "output_type": "display_data"
    },
    {
     "data": {
      "application/vnd.jupyter.widget-view+json": {
       "model_id": "9e8a748c9a49421ba9e5a802354ed52e",
       "version_major": 2,
       "version_minor": 0
      },
      "text/plain": [
       "Image Batches:   0%|          | 0/13 [00:00<?, ?it/s]"
      ]
     },
     "metadata": {},
     "output_type": "display_data"
    },
    {
     "data": {
      "application/vnd.jupyter.widget-view+json": {
       "model_id": "8a753fc134dd4321a653c0d70a9c7821",
       "version_major": 2,
       "version_minor": 0
      },
      "text/plain": [
       "Image Batches:   0%|          | 0/13 [00:00<?, ?it/s]"
      ]
     },
     "metadata": {},
     "output_type": "display_data"
    },
    {
     "data": {
      "application/vnd.jupyter.widget-view+json": {
       "model_id": "adde991a51be478dbf94b493c45d4297",
       "version_major": 2,
       "version_minor": 0
      },
      "text/plain": [
       "Image Batches:   0%|          | 0/13 [00:00<?, ?it/s]"
      ]
     },
     "metadata": {},
     "output_type": "display_data"
    },
    {
     "data": {
      "application/vnd.jupyter.widget-view+json": {
       "model_id": "5efd28cb76b64107835c0aa9b3bc90e3",
       "version_major": 2,
       "version_minor": 0
      },
      "text/plain": [
       "Image Batches:   0%|          | 0/25 [00:00<?, ?it/s]"
      ]
     },
     "metadata": {},
     "output_type": "display_data"
    },
    {
     "data": {
      "application/vnd.jupyter.widget-view+json": {
       "model_id": "705f0290aac040188766fa3f2a91606d",
       "version_major": 2,
       "version_minor": 0
      },
      "text/plain": [
       "Image Batches:   0%|          | 0/13 [00:00<?, ?it/s]"
      ]
     },
     "metadata": {},
     "output_type": "display_data"
    },
    {
     "data": {
      "application/vnd.jupyter.widget-view+json": {
       "model_id": "0ee8efa2e4884c2ab946497208a3a4ed",
       "version_major": 2,
       "version_minor": 0
      },
      "text/plain": [
       "Image Batches:   0%|          | 0/24 [00:00<?, ?it/s]"
      ]
     },
     "metadata": {},
     "output_type": "display_data"
    },
    {
     "data": {
      "application/vnd.jupyter.widget-view+json": {
       "model_id": "c4e5079d8bac474aa86827186ea0d987",
       "version_major": 2,
       "version_minor": 0
      },
      "text/plain": [
       "Image Batches:   0%|          | 0/13 [00:00<?, ?it/s]"
      ]
     },
     "metadata": {},
     "output_type": "display_data"
    },
    {
     "data": {
      "application/vnd.jupyter.widget-view+json": {
       "model_id": "d9dae9515559490fbbeb5b5854957432",
       "version_major": 2,
       "version_minor": 0
      },
      "text/plain": [
       "Image Batches:   0%|          | 0/30 [00:00<?, ?it/s]"
      ]
     },
     "metadata": {},
     "output_type": "display_data"
    },
    {
     "data": {
      "application/vnd.jupyter.widget-view+json": {
       "model_id": "5e5c9e26976a4260a7204037e3c17b81",
       "version_major": 2,
       "version_minor": 0
      },
      "text/plain": [
       "Image Batches:   0%|          | 0/13 [00:00<?, ?it/s]"
      ]
     },
     "metadata": {},
     "output_type": "display_data"
    },
    {
     "data": {
      "application/vnd.jupyter.widget-view+json": {
       "model_id": "500f79d64dac47f299c651a457831a16",
       "version_major": 2,
       "version_minor": 0
      },
      "text/plain": [
       "Image Batches:   0%|          | 0/13 [00:00<?, ?it/s]"
      ]
     },
     "metadata": {},
     "output_type": "display_data"
    },
    {
     "data": {
      "application/vnd.jupyter.widget-view+json": {
       "model_id": "f9bc84e3478b49b2982d8785e7e9111e",
       "version_major": 2,
       "version_minor": 0
      },
      "text/plain": [
       "Image Batches:   0%|          | 0/13 [00:00<?, ?it/s]"
      ]
     },
     "metadata": {},
     "output_type": "display_data"
    },
    {
     "data": {
      "application/vnd.jupyter.widget-view+json": {
       "model_id": "bbc106e2747f4530ae1aec99dd730359",
       "version_major": 2,
       "version_minor": 0
      },
      "text/plain": [
       "Image Batches:   0%|          | 0/13 [00:00<?, ?it/s]"
      ]
     },
     "metadata": {},
     "output_type": "display_data"
    },
    {
     "data": {
      "application/vnd.jupyter.widget-view+json": {
       "model_id": "8799792eebc942a1992d8e6be92c085a",
       "version_major": 2,
       "version_minor": 0
      },
      "text/plain": [
       "Image Batches:   0%|          | 0/13 [00:00<?, ?it/s]"
      ]
     },
     "metadata": {},
     "output_type": "display_data"
    },
    {
     "data": {
      "application/vnd.jupyter.widget-view+json": {
       "model_id": "7815f294115a424db35a34167aacfa56",
       "version_major": 2,
       "version_minor": 0
      },
      "text/plain": [
       "Image Batches:   0%|          | 0/13 [00:00<?, ?it/s]"
      ]
     },
     "metadata": {},
     "output_type": "display_data"
    },
    {
     "data": {
      "application/vnd.jupyter.widget-view+json": {
       "model_id": "b116156f753d4299a5d2858fb0e6bde0",
       "version_major": 2,
       "version_minor": 0
      },
      "text/plain": [
       "Image Batches:   0%|          | 0/13 [00:00<?, ?it/s]"
      ]
     },
     "metadata": {},
     "output_type": "display_data"
    },
    {
     "data": {
      "application/vnd.jupyter.widget-view+json": {
       "model_id": "8225b564ae904181b2e23b33a92ea207",
       "version_major": 2,
       "version_minor": 0
      },
      "text/plain": [
       "Image Batches:   0%|          | 0/13 [00:00<?, ?it/s]"
      ]
     },
     "metadata": {},
     "output_type": "display_data"
    },
    {
     "data": {
      "application/vnd.jupyter.widget-view+json": {
       "model_id": "82ec4f3905084e64b1ec5949219db960",
       "version_major": 2,
       "version_minor": 0
      },
      "text/plain": [
       "Image Batches:   0%|          | 0/13 [00:00<?, ?it/s]"
      ]
     },
     "metadata": {},
     "output_type": "display_data"
    },
    {
     "data": {
      "application/vnd.jupyter.widget-view+json": {
       "model_id": "ce28a443546c440ea033b66448a6715f",
       "version_major": 2,
       "version_minor": 0
      },
      "text/plain": [
       "Image Batches:   0%|          | 0/13 [00:00<?, ?it/s]"
      ]
     },
     "metadata": {},
     "output_type": "display_data"
    },
    {
     "data": {
      "application/vnd.jupyter.widget-view+json": {
       "model_id": "fb185b3af9344014bbb966df67f8e8bf",
       "version_major": 2,
       "version_minor": 0
      },
      "text/plain": [
       "Image Batches:   0%|          | 0/14 [00:00<?, ?it/s]"
      ]
     },
     "metadata": {},
     "output_type": "display_data"
    },
    {
     "data": {
      "application/vnd.jupyter.widget-view+json": {
       "model_id": "baa15cae60d0445191ac4e574e2e494b",
       "version_major": 2,
       "version_minor": 0
      },
      "text/plain": [
       "Image Batches:   0%|          | 0/13 [00:00<?, ?it/s]"
      ]
     },
     "metadata": {},
     "output_type": "display_data"
    },
    {
     "data": {
      "application/vnd.jupyter.widget-view+json": {
       "model_id": "81b51e3a2c3847e4ba2d2f6166a07fc1",
       "version_major": 2,
       "version_minor": 0
      },
      "text/plain": [
       "Image Batches:   0%|          | 0/13 [00:00<?, ?it/s]"
      ]
     },
     "metadata": {},
     "output_type": "display_data"
    },
    {
     "data": {
      "application/vnd.jupyter.widget-view+json": {
       "model_id": "600c7ab981b941ff88b44e23198d12ed",
       "version_major": 2,
       "version_minor": 0
      },
      "text/plain": [
       "Videos:   0%|          | 0/267 [00:00<?, ?it/s]"
      ]
     },
     "metadata": {},
     "output_type": "display_data"
    },
    {
     "data": {
      "application/vnd.jupyter.widget-view+json": {
       "model_id": "92fb0835dad8431b97c451b5404f0d06",
       "version_major": 2,
       "version_minor": 0
      },
      "text/plain": [
       "Image Batches:   0%|          | 0/13 [00:00<?, ?it/s]"
      ]
     },
     "metadata": {},
     "output_type": "display_data"
    },
    {
     "data": {
      "application/vnd.jupyter.widget-view+json": {
       "model_id": "068695ad0797410eaca5a362476006f7",
       "version_major": 2,
       "version_minor": 0
      },
      "text/plain": [
       "Image Batches:   0%|          | 0/25 [00:00<?, ?it/s]"
      ]
     },
     "metadata": {},
     "output_type": "display_data"
    },
    {
     "data": {
      "application/vnd.jupyter.widget-view+json": {
       "model_id": "1d962cc2ede840b3b4a6eca5b5983dea",
       "version_major": 2,
       "version_minor": 0
      },
      "text/plain": [
       "Image Batches:   0%|          | 0/10 [00:00<?, ?it/s]"
      ]
     },
     "metadata": {},
     "output_type": "display_data"
    },
    {
     "data": {
      "application/vnd.jupyter.widget-view+json": {
       "model_id": "14167edf05bf4136a26d3f737f38fcc8",
       "version_major": 2,
       "version_minor": 0
      },
      "text/plain": [
       "Image Batches:   0%|          | 0/13 [00:00<?, ?it/s]"
      ]
     },
     "metadata": {},
     "output_type": "display_data"
    },
    {
     "data": {
      "application/vnd.jupyter.widget-view+json": {
       "model_id": "01fae3eab4ce46e080340377311909b7",
       "version_major": 2,
       "version_minor": 0
      },
      "text/plain": [
       "Image Batches:   0%|          | 0/13 [00:00<?, ?it/s]"
      ]
     },
     "metadata": {},
     "output_type": "display_data"
    },
    {
     "data": {
      "application/vnd.jupyter.widget-view+json": {
       "model_id": "3bcd387abc284f1fb829a44dd7af5fef",
       "version_major": 2,
       "version_minor": 0
      },
      "text/plain": [
       "Image Batches:   0%|          | 0/14 [00:00<?, ?it/s]"
      ]
     },
     "metadata": {},
     "output_type": "display_data"
    },
    {
     "data": {
      "application/vnd.jupyter.widget-view+json": {
       "model_id": "f52b60950aab4271be2b6cfe4c08b717",
       "version_major": 2,
       "version_minor": 0
      },
      "text/plain": [
       "Image Batches:   0%|          | 0/13 [00:00<?, ?it/s]"
      ]
     },
     "metadata": {},
     "output_type": "display_data"
    },
    {
     "data": {
      "application/vnd.jupyter.widget-view+json": {
       "model_id": "0bd841c781334865b6d9742ed2c605f1",
       "version_major": 2,
       "version_minor": 0
      },
      "text/plain": [
       "Image Batches:   0%|          | 0/13 [00:00<?, ?it/s]"
      ]
     },
     "metadata": {},
     "output_type": "display_data"
    },
    {
     "data": {
      "application/vnd.jupyter.widget-view+json": {
       "model_id": "f583d24022e14dc989dae1210308d463",
       "version_major": 2,
       "version_minor": 0
      },
      "text/plain": [
       "Image Batches:   0%|          | 0/13 [00:00<?, ?it/s]"
      ]
     },
     "metadata": {},
     "output_type": "display_data"
    },
    {
     "data": {
      "application/vnd.jupyter.widget-view+json": {
       "model_id": "1f5b0533f99f44a3bacc1840ac1ec71d",
       "version_major": 2,
       "version_minor": 0
      },
      "text/plain": [
       "Image Batches:   0%|          | 0/13 [00:00<?, ?it/s]"
      ]
     },
     "metadata": {},
     "output_type": "display_data"
    },
    {
     "data": {
      "application/vnd.jupyter.widget-view+json": {
       "model_id": "3b494a71196e464caf1d0f047144c1f0",
       "version_major": 2,
       "version_minor": 0
      },
      "text/plain": [
       "Image Batches:   0%|          | 0/26 [00:00<?, ?it/s]"
      ]
     },
     "metadata": {},
     "output_type": "display_data"
    },
    {
     "data": {
      "application/vnd.jupyter.widget-view+json": {
       "model_id": "580878b9e1274da09a110cb8d64c039f",
       "version_major": 2,
       "version_minor": 0
      },
      "text/plain": [
       "Image Batches:   0%|          | 0/13 [00:00<?, ?it/s]"
      ]
     },
     "metadata": {},
     "output_type": "display_data"
    },
    {
     "data": {
      "application/vnd.jupyter.widget-view+json": {
       "model_id": "ef54963e3341419e975731bbcf6356fc",
       "version_major": 2,
       "version_minor": 0
      },
      "text/plain": [
       "Image Batches:   0%|          | 0/13 [00:00<?, ?it/s]"
      ]
     },
     "metadata": {},
     "output_type": "display_data"
    },
    {
     "data": {
      "application/vnd.jupyter.widget-view+json": {
       "model_id": "a70925ab0409400db481b27967387eb1",
       "version_major": 2,
       "version_minor": 0
      },
      "text/plain": [
       "Image Batches:   0%|          | 0/13 [00:00<?, ?it/s]"
      ]
     },
     "metadata": {},
     "output_type": "display_data"
    },
    {
     "data": {
      "application/vnd.jupyter.widget-view+json": {
       "model_id": "1ddd95cfda03496b80a062fa231a7187",
       "version_major": 2,
       "version_minor": 0
      },
      "text/plain": [
       "Image Batches:   0%|          | 0/11 [00:00<?, ?it/s]"
      ]
     },
     "metadata": {},
     "output_type": "display_data"
    },
    {
     "data": {
      "application/vnd.jupyter.widget-view+json": {
       "model_id": "71600671d818492ca1efc359ff4e18cf",
       "version_major": 2,
       "version_minor": 0
      },
      "text/plain": [
       "Image Batches:   0%|          | 0/13 [00:00<?, ?it/s]"
      ]
     },
     "metadata": {},
     "output_type": "display_data"
    },
    {
     "data": {
      "application/vnd.jupyter.widget-view+json": {
       "model_id": "cc6de33581eb4d20acd2b8ec56d61f54",
       "version_major": 2,
       "version_minor": 0
      },
      "text/plain": [
       "Image Batches:   0%|          | 0/13 [00:00<?, ?it/s]"
      ]
     },
     "metadata": {},
     "output_type": "display_data"
    },
    {
     "data": {
      "application/vnd.jupyter.widget-view+json": {
       "model_id": "6f28bec58ed6448ea82c7864548e4859",
       "version_major": 2,
       "version_minor": 0
      },
      "text/plain": [
       "Image Batches:   0%|          | 0/13 [00:00<?, ?it/s]"
      ]
     },
     "metadata": {},
     "output_type": "display_data"
    },
    {
     "data": {
      "application/vnd.jupyter.widget-view+json": {
       "model_id": "6356f8188ac64ff38e852839c7437948",
       "version_major": 2,
       "version_minor": 0
      },
      "text/plain": [
       "Image Batches:   0%|          | 0/13 [00:00<?, ?it/s]"
      ]
     },
     "metadata": {},
     "output_type": "display_data"
    },
    {
     "data": {
      "application/vnd.jupyter.widget-view+json": {
       "model_id": "d506e3153e8b47caae8cedaaca3a4329",
       "version_major": 2,
       "version_minor": 0
      },
      "text/plain": [
       "Image Batches:   0%|          | 0/13 [00:00<?, ?it/s]"
      ]
     },
     "metadata": {},
     "output_type": "display_data"
    },
    {
     "data": {
      "application/vnd.jupyter.widget-view+json": {
       "model_id": "91d41ab252d343ac8c0fec5ee1439efa",
       "version_major": 2,
       "version_minor": 0
      },
      "text/plain": [
       "Image Batches:   0%|          | 0/13 [00:00<?, ?it/s]"
      ]
     },
     "metadata": {},
     "output_type": "display_data"
    },
    {
     "data": {
      "application/vnd.jupyter.widget-view+json": {
       "model_id": "4e5d53375041494e9e29acf47bfb61b1",
       "version_major": 2,
       "version_minor": 0
      },
      "text/plain": [
       "Image Batches:   0%|          | 0/14 [00:00<?, ?it/s]"
      ]
     },
     "metadata": {},
     "output_type": "display_data"
    },
    {
     "data": {
      "application/vnd.jupyter.widget-view+json": {
       "model_id": "28a5eabfc9ab417c974e72938f417981",
       "version_major": 2,
       "version_minor": 0
      },
      "text/plain": [
       "Image Batches:   0%|          | 0/16 [00:00<?, ?it/s]"
      ]
     },
     "metadata": {},
     "output_type": "display_data"
    },
    {
     "data": {
      "application/vnd.jupyter.widget-view+json": {
       "model_id": "0f5ab79265a24d3eb4ac53015de25945",
       "version_major": 2,
       "version_minor": 0
      },
      "text/plain": [
       "Image Batches:   0%|          | 0/13 [00:00<?, ?it/s]"
      ]
     },
     "metadata": {},
     "output_type": "display_data"
    },
    {
     "data": {
      "application/vnd.jupyter.widget-view+json": {
       "model_id": "f759ad9e73f540b2b6035a193ce6ba04",
       "version_major": 2,
       "version_minor": 0
      },
      "text/plain": [
       "Image Batches:   0%|          | 0/13 [00:00<?, ?it/s]"
      ]
     },
     "metadata": {},
     "output_type": "display_data"
    },
    {
     "data": {
      "application/vnd.jupyter.widget-view+json": {
       "model_id": "97de7faba57d42fd8ef53ec7304d0a0b",
       "version_major": 2,
       "version_minor": 0
      },
      "text/plain": [
       "Image Batches:   0%|          | 0/25 [00:00<?, ?it/s]"
      ]
     },
     "metadata": {},
     "output_type": "display_data"
    },
    {
     "data": {
      "application/vnd.jupyter.widget-view+json": {
       "model_id": "4f7bbac9afdd48ad8a16a3c1ec441d61",
       "version_major": 2,
       "version_minor": 0
      },
      "text/plain": [
       "Image Batches:   0%|          | 0/13 [00:00<?, ?it/s]"
      ]
     },
     "metadata": {},
     "output_type": "display_data"
    },
    {
     "data": {
      "application/vnd.jupyter.widget-view+json": {
       "model_id": "645d0b58453644d0b429395219d0a28d",
       "version_major": 2,
       "version_minor": 0
      },
      "text/plain": [
       "Image Batches:   0%|          | 0/13 [00:00<?, ?it/s]"
      ]
     },
     "metadata": {},
     "output_type": "display_data"
    },
    {
     "data": {
      "application/vnd.jupyter.widget-view+json": {
       "model_id": "42c0be6ecab34bd6b9447767fd126a18",
       "version_major": 2,
       "version_minor": 0
      },
      "text/plain": [
       "Image Batches:   0%|          | 0/17 [00:00<?, ?it/s]"
      ]
     },
     "metadata": {},
     "output_type": "display_data"
    },
    {
     "data": {
      "application/vnd.jupyter.widget-view+json": {
       "model_id": "9e2930778a59443c91347e38a0512b16",
       "version_major": 2,
       "version_minor": 0
      },
      "text/plain": [
       "Image Batches:   0%|          | 0/13 [00:00<?, ?it/s]"
      ]
     },
     "metadata": {},
     "output_type": "display_data"
    },
    {
     "data": {
      "application/vnd.jupyter.widget-view+json": {
       "model_id": "1ded703e9398449aaaf7d1c54a81398f",
       "version_major": 2,
       "version_minor": 0
      },
      "text/plain": [
       "Image Batches:   0%|          | 0/13 [00:00<?, ?it/s]"
      ]
     },
     "metadata": {},
     "output_type": "display_data"
    },
    {
     "data": {
      "application/vnd.jupyter.widget-view+json": {
       "model_id": "027d18523ae44f4ab53453a2bd68398e",
       "version_major": 2,
       "version_minor": 0
      },
      "text/plain": [
       "Image Batches:   0%|          | 0/13 [00:00<?, ?it/s]"
      ]
     },
     "metadata": {},
     "output_type": "display_data"
    },
    {
     "data": {
      "application/vnd.jupyter.widget-view+json": {
       "model_id": "efe7c7526590444c9971e06aca820e40",
       "version_major": 2,
       "version_minor": 0
      },
      "text/plain": [
       "Image Batches:   0%|          | 0/14 [00:00<?, ?it/s]"
      ]
     },
     "metadata": {},
     "output_type": "display_data"
    },
    {
     "data": {
      "application/vnd.jupyter.widget-view+json": {
       "model_id": "23941e06f8d84925920a8e6552327512",
       "version_major": 2,
       "version_minor": 0
      },
      "text/plain": [
       "Image Batches:   0%|          | 0/13 [00:00<?, ?it/s]"
      ]
     },
     "metadata": {},
     "output_type": "display_data"
    },
    {
     "data": {
      "application/vnd.jupyter.widget-view+json": {
       "model_id": "a2b9dfd906314354824ee6c898241024",
       "version_major": 2,
       "version_minor": 0
      },
      "text/plain": [
       "Image Batches:   0%|          | 0/14 [00:00<?, ?it/s]"
      ]
     },
     "metadata": {},
     "output_type": "display_data"
    },
    {
     "data": {
      "application/vnd.jupyter.widget-view+json": {
       "model_id": "8cfa883932e74c4bafd8f24a454f930c",
       "version_major": 2,
       "version_minor": 0
      },
      "text/plain": [
       "Image Batches:   0%|          | 0/13 [00:00<?, ?it/s]"
      ]
     },
     "metadata": {},
     "output_type": "display_data"
    },
    {
     "data": {
      "application/vnd.jupyter.widget-view+json": {
       "model_id": "0f32964bbeb3432aab8c77ed289ce30c",
       "version_major": 2,
       "version_minor": 0
      },
      "text/plain": [
       "Image Batches:   0%|          | 0/13 [00:00<?, ?it/s]"
      ]
     },
     "metadata": {},
     "output_type": "display_data"
    },
    {
     "data": {
      "application/vnd.jupyter.widget-view+json": {
       "model_id": "77c534118ca8426c94e8f5b6ae7b516b",
       "version_major": 2,
       "version_minor": 0
      },
      "text/plain": [
       "Image Batches:   0%|          | 0/13 [00:00<?, ?it/s]"
      ]
     },
     "metadata": {},
     "output_type": "display_data"
    },
    {
     "data": {
      "application/vnd.jupyter.widget-view+json": {
       "model_id": "3c98b75112fb40de979ff43a42fce6b3",
       "version_major": 2,
       "version_minor": 0
      },
      "text/plain": [
       "Image Batches:   0%|          | 0/13 [00:00<?, ?it/s]"
      ]
     },
     "metadata": {},
     "output_type": "display_data"
    },
    {
     "data": {
      "application/vnd.jupyter.widget-view+json": {
       "model_id": "e68fd91ee012418dab36f02e1231f377",
       "version_major": 2,
       "version_minor": 0
      },
      "text/plain": [
       "Image Batches:   0%|          | 0/11 [00:00<?, ?it/s]"
      ]
     },
     "metadata": {},
     "output_type": "display_data"
    },
    {
     "data": {
      "application/vnd.jupyter.widget-view+json": {
       "model_id": "f8ce2908bf2b4257bead2116aacc22a1",
       "version_major": 2,
       "version_minor": 0
      },
      "text/plain": [
       "Image Batches:   0%|          | 0/13 [00:00<?, ?it/s]"
      ]
     },
     "metadata": {},
     "output_type": "display_data"
    },
    {
     "data": {
      "application/vnd.jupyter.widget-view+json": {
       "model_id": "ea6b4d8d8be742088ffe216e941677f6",
       "version_major": 2,
       "version_minor": 0
      },
      "text/plain": [
       "Image Batches:   0%|          | 0/13 [00:00<?, ?it/s]"
      ]
     },
     "metadata": {},
     "output_type": "display_data"
    },
    {
     "data": {
      "application/vnd.jupyter.widget-view+json": {
       "model_id": "151f8825b23c4a7ba77f2301be0f0140",
       "version_major": 2,
       "version_minor": 0
      },
      "text/plain": [
       "Image Batches:   0%|          | 0/12 [00:00<?, ?it/s]"
      ]
     },
     "metadata": {},
     "output_type": "display_data"
    },
    {
     "data": {
      "application/vnd.jupyter.widget-view+json": {
       "model_id": "6fe26c6216e242c4bdbef2463d0bc3d4",
       "version_major": 2,
       "version_minor": 0
      },
      "text/plain": [
       "Image Batches:   0%|          | 0/24 [00:00<?, ?it/s]"
      ]
     },
     "metadata": {},
     "output_type": "display_data"
    },
    {
     "data": {
      "application/vnd.jupyter.widget-view+json": {
       "model_id": "5524a78590c84674ae076c5051ecf015",
       "version_major": 2,
       "version_minor": 0
      },
      "text/plain": [
       "Image Batches:   0%|          | 0/28 [00:00<?, ?it/s]"
      ]
     },
     "metadata": {},
     "output_type": "display_data"
    },
    {
     "data": {
      "application/vnd.jupyter.widget-view+json": {
       "model_id": "20ba359d62f04b5cb78733b5f6db8a92",
       "version_major": 2,
       "version_minor": 0
      },
      "text/plain": [
       "Image Batches:   0%|          | 0/29 [00:00<?, ?it/s]"
      ]
     },
     "metadata": {},
     "output_type": "display_data"
    },
    {
     "data": {
      "application/vnd.jupyter.widget-view+json": {
       "model_id": "ee3c8f132c9a4386b9a46b0c2d5a07bf",
       "version_major": 2,
       "version_minor": 0
      },
      "text/plain": [
       "Image Batches:   0%|          | 0/13 [00:00<?, ?it/s]"
      ]
     },
     "metadata": {},
     "output_type": "display_data"
    },
    {
     "data": {
      "application/vnd.jupyter.widget-view+json": {
       "model_id": "90055cb2a5d7415b8d9aedd716917454",
       "version_major": 2,
       "version_minor": 0
      },
      "text/plain": [
       "Image Batches:   0%|          | 0/13 [00:00<?, ?it/s]"
      ]
     },
     "metadata": {},
     "output_type": "display_data"
    },
    {
     "data": {
      "application/vnd.jupyter.widget-view+json": {
       "model_id": "1c4557ce4d2d464b9415724e87b75c0e",
       "version_major": 2,
       "version_minor": 0
      },
      "text/plain": [
       "Image Batches:   0%|          | 0/24 [00:00<?, ?it/s]"
      ]
     },
     "metadata": {},
     "output_type": "display_data"
    },
    {
     "data": {
      "application/vnd.jupyter.widget-view+json": {
       "model_id": "0c5c49fdc0374b25bf2b249150a06f31",
       "version_major": 2,
       "version_minor": 0
      },
      "text/plain": [
       "Image Batches:   0%|          | 0/13 [00:00<?, ?it/s]"
      ]
     },
     "metadata": {},
     "output_type": "display_data"
    },
    {
     "data": {
      "application/vnd.jupyter.widget-view+json": {
       "model_id": "55861859b2ab465c87ff64a0e716faed",
       "version_major": 2,
       "version_minor": 0
      },
      "text/plain": [
       "Image Batches:   0%|          | 0/13 [00:00<?, ?it/s]"
      ]
     },
     "metadata": {},
     "output_type": "display_data"
    },
    {
     "data": {
      "application/vnd.jupyter.widget-view+json": {
       "model_id": "61189482789e45bf82b9f3e0c6b01a8d",
       "version_major": 2,
       "version_minor": 0
      },
      "text/plain": [
       "Image Batches:   0%|          | 0/13 [00:00<?, ?it/s]"
      ]
     },
     "metadata": {},
     "output_type": "display_data"
    },
    {
     "data": {
      "application/vnd.jupyter.widget-view+json": {
       "model_id": "6fac4929c7b440b5a6209d5103890c6d",
       "version_major": 2,
       "version_minor": 0
      },
      "text/plain": [
       "Image Batches:   0%|          | 0/13 [00:00<?, ?it/s]"
      ]
     },
     "metadata": {},
     "output_type": "display_data"
    },
    {
     "data": {
      "application/vnd.jupyter.widget-view+json": {
       "model_id": "70954cdf7be14b0b8d6ee583020a4d50",
       "version_major": 2,
       "version_minor": 0
      },
      "text/plain": [
       "Image Batches:   0%|          | 0/13 [00:00<?, ?it/s]"
      ]
     },
     "metadata": {},
     "output_type": "display_data"
    },
    {
     "data": {
      "application/vnd.jupyter.widget-view+json": {
       "model_id": "a3408127f71b4eb0b6f156cdf4f7cd32",
       "version_major": 2,
       "version_minor": 0
      },
      "text/plain": [
       "Image Batches:   0%|          | 0/13 [00:00<?, ?it/s]"
      ]
     },
     "metadata": {},
     "output_type": "display_data"
    },
    {
     "data": {
      "application/vnd.jupyter.widget-view+json": {
       "model_id": "9f69d9620fe746bb92ba368963cc1186",
       "version_major": 2,
       "version_minor": 0
      },
      "text/plain": [
       "Image Batches:   0%|          | 0/13 [00:00<?, ?it/s]"
      ]
     },
     "metadata": {},
     "output_type": "display_data"
    },
    {
     "data": {
      "application/vnd.jupyter.widget-view+json": {
       "model_id": "a00d965d68d2481b96bfc0f6a3108367",
       "version_major": 2,
       "version_minor": 0
      },
      "text/plain": [
       "Image Batches:   0%|          | 0/14 [00:00<?, ?it/s]"
      ]
     },
     "metadata": {},
     "output_type": "display_data"
    },
    {
     "data": {
      "application/vnd.jupyter.widget-view+json": {
       "model_id": "28fb245f0d5b4e7d9d3486a18d336c28",
       "version_major": 2,
       "version_minor": 0
      },
      "text/plain": [
       "Image Batches:   0%|          | 0/24 [00:00<?, ?it/s]"
      ]
     },
     "metadata": {},
     "output_type": "display_data"
    },
    {
     "data": {
      "application/vnd.jupyter.widget-view+json": {
       "model_id": "1a6d3916163b44feba294c1534de6fdf",
       "version_major": 2,
       "version_minor": 0
      },
      "text/plain": [
       "Image Batches:   0%|          | 0/13 [00:00<?, ?it/s]"
      ]
     },
     "metadata": {},
     "output_type": "display_data"
    },
    {
     "data": {
      "application/vnd.jupyter.widget-view+json": {
       "model_id": "7658ef09b8cc4bc2954e67e7650b4e59",
       "version_major": 2,
       "version_minor": 0
      },
      "text/plain": [
       "Image Batches:   0%|          | 0/13 [00:00<?, ?it/s]"
      ]
     },
     "metadata": {},
     "output_type": "display_data"
    },
    {
     "data": {
      "application/vnd.jupyter.widget-view+json": {
       "model_id": "2c03d8b444d14bc9a4f03454131550a4",
       "version_major": 2,
       "version_minor": 0
      },
      "text/plain": [
       "Image Batches:   0%|          | 0/12 [00:00<?, ?it/s]"
      ]
     },
     "metadata": {},
     "output_type": "display_data"
    },
    {
     "data": {
      "application/vnd.jupyter.widget-view+json": {
       "model_id": "ae69db46653b4b0fa9f0d68438a58a1a",
       "version_major": 2,
       "version_minor": 0
      },
      "text/plain": [
       "Image Batches:   0%|          | 0/13 [00:00<?, ?it/s]"
      ]
     },
     "metadata": {},
     "output_type": "display_data"
    },
    {
     "data": {
      "application/vnd.jupyter.widget-view+json": {
       "model_id": "754c4899053945389dd14fb37f216251",
       "version_major": 2,
       "version_minor": 0
      },
      "text/plain": [
       "Image Batches:   0%|          | 0/13 [00:00<?, ?it/s]"
      ]
     },
     "metadata": {},
     "output_type": "display_data"
    },
    {
     "data": {
      "application/vnd.jupyter.widget-view+json": {
       "model_id": "b163bc8ed5444e2b939842ae154c672a",
       "version_major": 2,
       "version_minor": 0
      },
      "text/plain": [
       "Image Batches:   0%|          | 0/13 [00:00<?, ?it/s]"
      ]
     },
     "metadata": {},
     "output_type": "display_data"
    },
    {
     "data": {
      "application/vnd.jupyter.widget-view+json": {
       "model_id": "1b4d0d8afcae440093a2feb205affa21",
       "version_major": 2,
       "version_minor": 0
      },
      "text/plain": [
       "Image Batches:   0%|          | 0/13 [00:00<?, ?it/s]"
      ]
     },
     "metadata": {},
     "output_type": "display_data"
    },
    {
     "data": {
      "application/vnd.jupyter.widget-view+json": {
       "model_id": "5ef8502166874da383eb6c559a223478",
       "version_major": 2,
       "version_minor": 0
      },
      "text/plain": [
       "Image Batches:   0%|          | 0/13 [00:00<?, ?it/s]"
      ]
     },
     "metadata": {},
     "output_type": "display_data"
    },
    {
     "data": {
      "application/vnd.jupyter.widget-view+json": {
       "model_id": "c591c92721c1457db9595364d5828df3",
       "version_major": 2,
       "version_minor": 0
      },
      "text/plain": [
       "Image Batches:   0%|          | 0/13 [00:00<?, ?it/s]"
      ]
     },
     "metadata": {},
     "output_type": "display_data"
    },
    {
     "data": {
      "application/vnd.jupyter.widget-view+json": {
       "model_id": "47fc2b94bb274b7980954c9fb3fe6a4d",
       "version_major": 2,
       "version_minor": 0
      },
      "text/plain": [
       "Image Batches:   0%|          | 0/13 [00:00<?, ?it/s]"
      ]
     },
     "metadata": {},
     "output_type": "display_data"
    },
    {
     "data": {
      "application/vnd.jupyter.widget-view+json": {
       "model_id": "2bebf3c0bb1e48df937b6d85bd34a4bc",
       "version_major": 2,
       "version_minor": 0
      },
      "text/plain": [
       "Image Batches:   0%|          | 0/14 [00:00<?, ?it/s]"
      ]
     },
     "metadata": {},
     "output_type": "display_data"
    },
    {
     "data": {
      "application/vnd.jupyter.widget-view+json": {
       "model_id": "f4062c52b84145ea884b903bd55c7843",
       "version_major": 2,
       "version_minor": 0
      },
      "text/plain": [
       "Image Batches:   0%|          | 0/14 [00:00<?, ?it/s]"
      ]
     },
     "metadata": {},
     "output_type": "display_data"
    },
    {
     "data": {
      "application/vnd.jupyter.widget-view+json": {
       "model_id": "449f9691aa824243aa0a4b7c176d72a6",
       "version_major": 2,
       "version_minor": 0
      },
      "text/plain": [
       "Image Batches:   0%|          | 0/13 [00:00<?, ?it/s]"
      ]
     },
     "metadata": {},
     "output_type": "display_data"
    },
    {
     "data": {
      "application/vnd.jupyter.widget-view+json": {
       "model_id": "18d728237e06411287701aa827d2bcfc",
       "version_major": 2,
       "version_minor": 0
      },
      "text/plain": [
       "Image Batches:   0%|          | 0/24 [00:00<?, ?it/s]"
      ]
     },
     "metadata": {},
     "output_type": "display_data"
    },
    {
     "data": {
      "application/vnd.jupyter.widget-view+json": {
       "model_id": "8d852bb5f3974fc9908989c974ec8469",
       "version_major": 2,
       "version_minor": 0
      },
      "text/plain": [
       "Image Batches:   0%|          | 0/13 [00:00<?, ?it/s]"
      ]
     },
     "metadata": {},
     "output_type": "display_data"
    },
    {
     "data": {
      "application/vnd.jupyter.widget-view+json": {
       "model_id": "acd13acbbf954afc9fe62aa8663f0ae2",
       "version_major": 2,
       "version_minor": 0
      },
      "text/plain": [
       "Image Batches:   0%|          | 0/13 [00:00<?, ?it/s]"
      ]
     },
     "metadata": {},
     "output_type": "display_data"
    },
    {
     "data": {
      "application/vnd.jupyter.widget-view+json": {
       "model_id": "851004de56f1459fa5668bbe833b3f61",
       "version_major": 2,
       "version_minor": 0
      },
      "text/plain": [
       "Image Batches:   0%|          | 0/14 [00:00<?, ?it/s]"
      ]
     },
     "metadata": {},
     "output_type": "display_data"
    },
    {
     "data": {
      "application/vnd.jupyter.widget-view+json": {
       "model_id": "2f36c024a3314279b98a86f8c86211d6",
       "version_major": 2,
       "version_minor": 0
      },
      "text/plain": [
       "Image Batches:   0%|          | 0/13 [00:00<?, ?it/s]"
      ]
     },
     "metadata": {},
     "output_type": "display_data"
    },
    {
     "data": {
      "application/vnd.jupyter.widget-view+json": {
       "model_id": "cff3fbaf71cf4135bf6a56f1996e5ebf",
       "version_major": 2,
       "version_minor": 0
      },
      "text/plain": [
       "Image Batches:   0%|          | 0/25 [00:00<?, ?it/s]"
      ]
     },
     "metadata": {},
     "output_type": "display_data"
    },
    {
     "data": {
      "application/vnd.jupyter.widget-view+json": {
       "model_id": "56c540134aaa4b8d85daa80b88539243",
       "version_major": 2,
       "version_minor": 0
      },
      "text/plain": [
       "Image Batches:   0%|          | 0/13 [00:00<?, ?it/s]"
      ]
     },
     "metadata": {},
     "output_type": "display_data"
    },
    {
     "data": {
      "application/vnd.jupyter.widget-view+json": {
       "model_id": "19dcbb78e25545c08e5d0aeffaa07dc1",
       "version_major": 2,
       "version_minor": 0
      },
      "text/plain": [
       "Image Batches:   0%|          | 0/14 [00:00<?, ?it/s]"
      ]
     },
     "metadata": {},
     "output_type": "display_data"
    },
    {
     "data": {
      "application/vnd.jupyter.widget-view+json": {
       "model_id": "4c0440e3d22f48a6b2f615167591a24e",
       "version_major": 2,
       "version_minor": 0
      },
      "text/plain": [
       "Image Batches:   0%|          | 0/13 [00:00<?, ?it/s]"
      ]
     },
     "metadata": {},
     "output_type": "display_data"
    },
    {
     "data": {
      "application/vnd.jupyter.widget-view+json": {
       "model_id": "5dbe809ea6214f4e9ce6f58bf93869f3",
       "version_major": 2,
       "version_minor": 0
      },
      "text/plain": [
       "Image Batches:   0%|          | 0/13 [00:00<?, ?it/s]"
      ]
     },
     "metadata": {},
     "output_type": "display_data"
    },
    {
     "data": {
      "application/vnd.jupyter.widget-view+json": {
       "model_id": "d321fdada53c43a8aa78dba707a0861a",
       "version_major": 2,
       "version_minor": 0
      },
      "text/plain": [
       "Image Batches:   0%|          | 0/13 [00:00<?, ?it/s]"
      ]
     },
     "metadata": {},
     "output_type": "display_data"
    },
    {
     "data": {
      "application/vnd.jupyter.widget-view+json": {
       "model_id": "fc748946f9cc4eeea473289cce225ca0",
       "version_major": 2,
       "version_minor": 0
      },
      "text/plain": [
       "Image Batches:   0%|          | 0/13 [00:00<?, ?it/s]"
      ]
     },
     "metadata": {},
     "output_type": "display_data"
    },
    {
     "data": {
      "application/vnd.jupyter.widget-view+json": {
       "model_id": "02b52c4249844a59abed17f5af9966ad",
       "version_major": 2,
       "version_minor": 0
      },
      "text/plain": [
       "Image Batches:   0%|          | 0/13 [00:00<?, ?it/s]"
      ]
     },
     "metadata": {},
     "output_type": "display_data"
    },
    {
     "data": {
      "application/vnd.jupyter.widget-view+json": {
       "model_id": "4bff4b5e45404db3865c4606ecbef48d",
       "version_major": 2,
       "version_minor": 0
      },
      "text/plain": [
       "Image Batches:   0%|          | 0/25 [00:00<?, ?it/s]"
      ]
     },
     "metadata": {},
     "output_type": "display_data"
    },
    {
     "data": {
      "application/vnd.jupyter.widget-view+json": {
       "model_id": "d2dc0e80c378400da7b5bcf15ba760ba",
       "version_major": 2,
       "version_minor": 0
      },
      "text/plain": [
       "Image Batches:   0%|          | 0/13 [00:00<?, ?it/s]"
      ]
     },
     "metadata": {},
     "output_type": "display_data"
    },
    {
     "data": {
      "application/vnd.jupyter.widget-view+json": {
       "model_id": "bc6d67ec0bd24caeaf031f766fa451f2",
       "version_major": 2,
       "version_minor": 0
      },
      "text/plain": [
       "Image Batches:   0%|          | 0/4 [00:00<?, ?it/s]"
      ]
     },
     "metadata": {},
     "output_type": "display_data"
    },
    {
     "data": {
      "application/vnd.jupyter.widget-view+json": {
       "model_id": "ca2ae8426e4e4a919b4c935620dc9ce1",
       "version_major": 2,
       "version_minor": 0
      },
      "text/plain": [
       "Image Batches:   0%|          | 0/13 [00:00<?, ?it/s]"
      ]
     },
     "metadata": {},
     "output_type": "display_data"
    },
    {
     "data": {
      "application/vnd.jupyter.widget-view+json": {
       "model_id": "7b5f5c2692e54f0c884eedc95a20fd63",
       "version_major": 2,
       "version_minor": 0
      },
      "text/plain": [
       "Image Batches:   0%|          | 0/14 [00:00<?, ?it/s]"
      ]
     },
     "metadata": {},
     "output_type": "display_data"
    },
    {
     "data": {
      "application/vnd.jupyter.widget-view+json": {
       "model_id": "2adbe64d83524d4594b9a43b2bef81ed",
       "version_major": 2,
       "version_minor": 0
      },
      "text/plain": [
       "Image Batches:   0%|          | 0/14 [00:00<?, ?it/s]"
      ]
     },
     "metadata": {},
     "output_type": "display_data"
    },
    {
     "data": {
      "application/vnd.jupyter.widget-view+json": {
       "model_id": "7038e427455c4e229638c85a3b2fc9e3",
       "version_major": 2,
       "version_minor": 0
      },
      "text/plain": [
       "Image Batches:   0%|          | 0/13 [00:00<?, ?it/s]"
      ]
     },
     "metadata": {},
     "output_type": "display_data"
    },
    {
     "data": {
      "application/vnd.jupyter.widget-view+json": {
       "model_id": "eeebd2026bec48ab8f0ca376eeddb35b",
       "version_major": 2,
       "version_minor": 0
      },
      "text/plain": [
       "Image Batches:   0%|          | 0/26 [00:00<?, ?it/s]"
      ]
     },
     "metadata": {},
     "output_type": "display_data"
    },
    {
     "data": {
      "application/vnd.jupyter.widget-view+json": {
       "model_id": "8a2818f2bfc14ca6be6b367ee00f5c51",
       "version_major": 2,
       "version_minor": 0
      },
      "text/plain": [
       "Image Batches:   0%|          | 0/13 [00:00<?, ?it/s]"
      ]
     },
     "metadata": {},
     "output_type": "display_data"
    },
    {
     "data": {
      "application/vnd.jupyter.widget-view+json": {
       "model_id": "e23f3ec5101e461d8a9813b5555159b6",
       "version_major": 2,
       "version_minor": 0
      },
      "text/plain": [
       "Image Batches:   0%|          | 0/13 [00:00<?, ?it/s]"
      ]
     },
     "metadata": {},
     "output_type": "display_data"
    },
    {
     "data": {
      "application/vnd.jupyter.widget-view+json": {
       "model_id": "d434ba4f2084487c9cdb845de0ef33e4",
       "version_major": 2,
       "version_minor": 0
      },
      "text/plain": [
       "Image Batches:   0%|          | 0/13 [00:00<?, ?it/s]"
      ]
     },
     "metadata": {},
     "output_type": "display_data"
    },
    {
     "data": {
      "application/vnd.jupyter.widget-view+json": {
       "model_id": "a5f75ef4dcf945fabde2ee5bd1524abd",
       "version_major": 2,
       "version_minor": 0
      },
      "text/plain": [
       "Image Batches:   0%|          | 0/14 [00:00<?, ?it/s]"
      ]
     },
     "metadata": {},
     "output_type": "display_data"
    },
    {
     "data": {
      "application/vnd.jupyter.widget-view+json": {
       "model_id": "faac44ee089e47238d5fa80d707deb54",
       "version_major": 2,
       "version_minor": 0
      },
      "text/plain": [
       "Image Batches:   0%|          | 0/13 [00:00<?, ?it/s]"
      ]
     },
     "metadata": {},
     "output_type": "display_data"
    },
    {
     "data": {
      "application/vnd.jupyter.widget-view+json": {
       "model_id": "51c2ce784d41453291a021f1a121e7f0",
       "version_major": 2,
       "version_minor": 0
      },
      "text/plain": [
       "Image Batches:   0%|          | 0/13 [00:00<?, ?it/s]"
      ]
     },
     "metadata": {},
     "output_type": "display_data"
    },
    {
     "data": {
      "application/vnd.jupyter.widget-view+json": {
       "model_id": "1552334a0e9a440a8f5243004d422d5f",
       "version_major": 2,
       "version_minor": 0
      },
      "text/plain": [
       "Image Batches:   0%|          | 0/13 [00:00<?, ?it/s]"
      ]
     },
     "metadata": {},
     "output_type": "display_data"
    },
    {
     "data": {
      "application/vnd.jupyter.widget-view+json": {
       "model_id": "3ab3f1d5690b4210a51d381da057e0dd",
       "version_major": 2,
       "version_minor": 0
      },
      "text/plain": [
       "Image Batches:   0%|          | 0/13 [00:00<?, ?it/s]"
      ]
     },
     "metadata": {},
     "output_type": "display_data"
    },
    {
     "data": {
      "application/vnd.jupyter.widget-view+json": {
       "model_id": "1ef489276bf3493594e72aed5f6a47ca",
       "version_major": 2,
       "version_minor": 0
      },
      "text/plain": [
       "Image Batches:   0%|          | 0/13 [00:00<?, ?it/s]"
      ]
     },
     "metadata": {},
     "output_type": "display_data"
    },
    {
     "data": {
      "application/vnd.jupyter.widget-view+json": {
       "model_id": "111191e3b5a94dd692bf2b9021fdc91d",
       "version_major": 2,
       "version_minor": 0
      },
      "text/plain": [
       "Image Batches:   0%|          | 0/13 [00:00<?, ?it/s]"
      ]
     },
     "metadata": {},
     "output_type": "display_data"
    },
    {
     "data": {
      "application/vnd.jupyter.widget-view+json": {
       "model_id": "07dd63a9109c4e2a9cbe6cadfe96b62d",
       "version_major": 2,
       "version_minor": 0
      },
      "text/plain": [
       "Image Batches:   0%|          | 0/13 [00:00<?, ?it/s]"
      ]
     },
     "metadata": {},
     "output_type": "display_data"
    },
    {
     "data": {
      "application/vnd.jupyter.widget-view+json": {
       "model_id": "8b987fd4c0454083a93c3d5fba5c9428",
       "version_major": 2,
       "version_minor": 0
      },
      "text/plain": [
       "Image Batches:   0%|          | 0/13 [00:00<?, ?it/s]"
      ]
     },
     "metadata": {},
     "output_type": "display_data"
    },
    {
     "data": {
      "application/vnd.jupyter.widget-view+json": {
       "model_id": "911b97e7d5bd494284590e5c2c64a72d",
       "version_major": 2,
       "version_minor": 0
      },
      "text/plain": [
       "Image Batches:   0%|          | 0/13 [00:00<?, ?it/s]"
      ]
     },
     "metadata": {},
     "output_type": "display_data"
    },
    {
     "data": {
      "application/vnd.jupyter.widget-view+json": {
       "model_id": "6004418671cf4ee8b6ad8c0c6ad9271b",
       "version_major": 2,
       "version_minor": 0
      },
      "text/plain": [
       "Image Batches:   0%|          | 0/13 [00:00<?, ?it/s]"
      ]
     },
     "metadata": {},
     "output_type": "display_data"
    },
    {
     "data": {
      "application/vnd.jupyter.widget-view+json": {
       "model_id": "17b735ede48f4f04a2a2e93cf5608d36",
       "version_major": 2,
       "version_minor": 0
      },
      "text/plain": [
       "Image Batches:   0%|          | 0/13 [00:00<?, ?it/s]"
      ]
     },
     "metadata": {},
     "output_type": "display_data"
    },
    {
     "data": {
      "application/vnd.jupyter.widget-view+json": {
       "model_id": "e79b02d09498482ea9b46f7cc0015365",
       "version_major": 2,
       "version_minor": 0
      },
      "text/plain": [
       "Image Batches:   0%|          | 0/14 [00:00<?, ?it/s]"
      ]
     },
     "metadata": {},
     "output_type": "display_data"
    },
    {
     "data": {
      "application/vnd.jupyter.widget-view+json": {
       "model_id": "7fa279de0e134383a40c5047937b89ae",
       "version_major": 2,
       "version_minor": 0
      },
      "text/plain": [
       "Image Batches:   0%|          | 0/13 [00:00<?, ?it/s]"
      ]
     },
     "metadata": {},
     "output_type": "display_data"
    },
    {
     "data": {
      "application/vnd.jupyter.widget-view+json": {
       "model_id": "a88c93024ccf4a4a96c4ce2b65775222",
       "version_major": 2,
       "version_minor": 0
      },
      "text/plain": [
       "Image Batches:   0%|          | 0/1 [00:00<?, ?it/s]"
      ]
     },
     "metadata": {},
     "output_type": "display_data"
    },
    {
     "data": {
      "application/vnd.jupyter.widget-view+json": {
       "model_id": "148a5ec68dca4f42bdbb266d4c859d29",
       "version_major": 2,
       "version_minor": 0
      },
      "text/plain": [
       "Image Batches:   0%|          | 0/13 [00:00<?, ?it/s]"
      ]
     },
     "metadata": {},
     "output_type": "display_data"
    },
    {
     "data": {
      "application/vnd.jupyter.widget-view+json": {
       "model_id": "535b572efdd1486aa590dc332e259364",
       "version_major": 2,
       "version_minor": 0
      },
      "text/plain": [
       "Image Batches:   0%|          | 0/13 [00:00<?, ?it/s]"
      ]
     },
     "metadata": {},
     "output_type": "display_data"
    },
    {
     "data": {
      "application/vnd.jupyter.widget-view+json": {
       "model_id": "50d4f1f31bf74b4ea0a0f377fcd1e4c2",
       "version_major": 2,
       "version_minor": 0
      },
      "text/plain": [
       "Image Batches:   0%|          | 0/13 [00:00<?, ?it/s]"
      ]
     },
     "metadata": {},
     "output_type": "display_data"
    },
    {
     "data": {
      "application/vnd.jupyter.widget-view+json": {
       "model_id": "fa7e71dec60a425fbe48b4fdb17b4685",
       "version_major": 2,
       "version_minor": 0
      },
      "text/plain": [
       "Image Batches:   0%|          | 0/13 [00:00<?, ?it/s]"
      ]
     },
     "metadata": {},
     "output_type": "display_data"
    },
    {
     "data": {
      "application/vnd.jupyter.widget-view+json": {
       "model_id": "ce9916463df44ffaa398d54ccb371276",
       "version_major": 2,
       "version_minor": 0
      },
      "text/plain": [
       "Image Batches:   0%|          | 0/13 [00:00<?, ?it/s]"
      ]
     },
     "metadata": {},
     "output_type": "display_data"
    },
    {
     "data": {
      "application/vnd.jupyter.widget-view+json": {
       "model_id": "5201088f33c040abb85187925d67614e",
       "version_major": 2,
       "version_minor": 0
      },
      "text/plain": [
       "Image Batches:   0%|          | 0/13 [00:00<?, ?it/s]"
      ]
     },
     "metadata": {},
     "output_type": "display_data"
    },
    {
     "data": {
      "application/vnd.jupyter.widget-view+json": {
       "model_id": "b2e61e7b4e4f4e2591c53e770c80615c",
       "version_major": 2,
       "version_minor": 0
      },
      "text/plain": [
       "Image Batches:   0%|          | 0/13 [00:00<?, ?it/s]"
      ]
     },
     "metadata": {},
     "output_type": "display_data"
    },
    {
     "data": {
      "application/vnd.jupyter.widget-view+json": {
       "model_id": "523daf9db2ff4da2a8f20d6959708b9f",
       "version_major": 2,
       "version_minor": 0
      },
      "text/plain": [
       "Image Batches:   0%|          | 0/13 [00:00<?, ?it/s]"
      ]
     },
     "metadata": {},
     "output_type": "display_data"
    },
    {
     "data": {
      "application/vnd.jupyter.widget-view+json": {
       "model_id": "aecb7bc216864508b7808978021dad6a",
       "version_major": 2,
       "version_minor": 0
      },
      "text/plain": [
       "Image Batches:   0%|          | 0/13 [00:00<?, ?it/s]"
      ]
     },
     "metadata": {},
     "output_type": "display_data"
    },
    {
     "data": {
      "application/vnd.jupyter.widget-view+json": {
       "model_id": "8f4bb611116e4689805a10158c5ad27a",
       "version_major": 2,
       "version_minor": 0
      },
      "text/plain": [
       "Image Batches:   0%|          | 0/13 [00:00<?, ?it/s]"
      ]
     },
     "metadata": {},
     "output_type": "display_data"
    },
    {
     "data": {
      "application/vnd.jupyter.widget-view+json": {
       "model_id": "b97c1f98572c4d4bab72c0ab0e00e4b4",
       "version_major": 2,
       "version_minor": 0
      },
      "text/plain": [
       "Image Batches:   0%|          | 0/13 [00:00<?, ?it/s]"
      ]
     },
     "metadata": {},
     "output_type": "display_data"
    },
    {
     "data": {
      "application/vnd.jupyter.widget-view+json": {
       "model_id": "c8157f1263bb43de824ed86e4668bfbe",
       "version_major": 2,
       "version_minor": 0
      },
      "text/plain": [
       "Image Batches:   0%|          | 0/13 [00:00<?, ?it/s]"
      ]
     },
     "metadata": {},
     "output_type": "display_data"
    },
    {
     "data": {
      "application/vnd.jupyter.widget-view+json": {
       "model_id": "29a8bd0acfcd40928ff29f0bf255773f",
       "version_major": 2,
       "version_minor": 0
      },
      "text/plain": [
       "Image Batches:   0%|          | 0/13 [00:00<?, ?it/s]"
      ]
     },
     "metadata": {},
     "output_type": "display_data"
    },
    {
     "data": {
      "application/vnd.jupyter.widget-view+json": {
       "model_id": "9259f5d94b044165b24f7e6f28451f58",
       "version_major": 2,
       "version_minor": 0
      },
      "text/plain": [
       "Image Batches:   0%|          | 0/14 [00:00<?, ?it/s]"
      ]
     },
     "metadata": {},
     "output_type": "display_data"
    },
    {
     "data": {
      "application/vnd.jupyter.widget-view+json": {
       "model_id": "69f01d1898af49b79200684c802597b5",
       "version_major": 2,
       "version_minor": 0
      },
      "text/plain": [
       "Image Batches:   0%|          | 0/13 [00:00<?, ?it/s]"
      ]
     },
     "metadata": {},
     "output_type": "display_data"
    },
    {
     "data": {
      "application/vnd.jupyter.widget-view+json": {
       "model_id": "270f78ee87bc4fdab7c764c9b7cf66ba",
       "version_major": 2,
       "version_minor": 0
      },
      "text/plain": [
       "Image Batches:   0%|          | 0/13 [00:00<?, ?it/s]"
      ]
     },
     "metadata": {},
     "output_type": "display_data"
    },
    {
     "data": {
      "application/vnd.jupyter.widget-view+json": {
       "model_id": "6f1d54734f5f42cc9679dc001e8b5f80",
       "version_major": 2,
       "version_minor": 0
      },
      "text/plain": [
       "Image Batches:   0%|          | 0/13 [00:00<?, ?it/s]"
      ]
     },
     "metadata": {},
     "output_type": "display_data"
    },
    {
     "data": {
      "application/vnd.jupyter.widget-view+json": {
       "model_id": "39f96f34cc184103bdf808b0f464d24a",
       "version_major": 2,
       "version_minor": 0
      },
      "text/plain": [
       "Image Batches:   0%|          | 0/14 [00:00<?, ?it/s]"
      ]
     },
     "metadata": {},
     "output_type": "display_data"
    },
    {
     "data": {
      "application/vnd.jupyter.widget-view+json": {
       "model_id": "701f476607534b57a850aaf69f66ce88",
       "version_major": 2,
       "version_minor": 0
      },
      "text/plain": [
       "Image Batches:   0%|          | 0/13 [00:00<?, ?it/s]"
      ]
     },
     "metadata": {},
     "output_type": "display_data"
    },
    {
     "data": {
      "application/vnd.jupyter.widget-view+json": {
       "model_id": "4d71c94c93284d3c9653b62e2160cfea",
       "version_major": 2,
       "version_minor": 0
      },
      "text/plain": [
       "Image Batches:   0%|          | 0/13 [00:00<?, ?it/s]"
      ]
     },
     "metadata": {},
     "output_type": "display_data"
    },
    {
     "data": {
      "application/vnd.jupyter.widget-view+json": {
       "model_id": "f26721d9b1fc4e94bba639a730e8efe8",
       "version_major": 2,
       "version_minor": 0
      },
      "text/plain": [
       "Image Batches:   0%|          | 0/13 [00:00<?, ?it/s]"
      ]
     },
     "metadata": {},
     "output_type": "display_data"
    },
    {
     "data": {
      "application/vnd.jupyter.widget-view+json": {
       "model_id": "8cacab234fbc423eb704b802472f33c4",
       "version_major": 2,
       "version_minor": 0
      },
      "text/plain": [
       "Image Batches:   0%|          | 0/13 [00:00<?, ?it/s]"
      ]
     },
     "metadata": {},
     "output_type": "display_data"
    },
    {
     "data": {
      "application/vnd.jupyter.widget-view+json": {
       "model_id": "e9efcb2a717847838bd15004cbc035b7",
       "version_major": 2,
       "version_minor": 0
      },
      "text/plain": [
       "Image Batches:   0%|          | 0/13 [00:00<?, ?it/s]"
      ]
     },
     "metadata": {},
     "output_type": "display_data"
    },
    {
     "data": {
      "application/vnd.jupyter.widget-view+json": {
       "model_id": "34871bfc637742e98397e31a61540585",
       "version_major": 2,
       "version_minor": 0
      },
      "text/plain": [
       "Image Batches:   0%|          | 0/30 [00:00<?, ?it/s]"
      ]
     },
     "metadata": {},
     "output_type": "display_data"
    },
    {
     "data": {
      "application/vnd.jupyter.widget-view+json": {
       "model_id": "a6fb895ab96049ad80a4dc54bd7b343c",
       "version_major": 2,
       "version_minor": 0
      },
      "text/plain": [
       "Image Batches:   0%|          | 0/13 [00:00<?, ?it/s]"
      ]
     },
     "metadata": {},
     "output_type": "display_data"
    },
    {
     "data": {
      "application/vnd.jupyter.widget-view+json": {
       "model_id": "16cb988952c64c4f858de7f88fb843cf",
       "version_major": 2,
       "version_minor": 0
      },
      "text/plain": [
       "Image Batches:   0%|          | 0/13 [00:00<?, ?it/s]"
      ]
     },
     "metadata": {},
     "output_type": "display_data"
    },
    {
     "data": {
      "application/vnd.jupyter.widget-view+json": {
       "model_id": "9828e0ade26741b3bca836ba4b7abfc9",
       "version_major": 2,
       "version_minor": 0
      },
      "text/plain": [
       "Image Batches:   0%|          | 0/13 [00:00<?, ?it/s]"
      ]
     },
     "metadata": {},
     "output_type": "display_data"
    },
    {
     "data": {
      "application/vnd.jupyter.widget-view+json": {
       "model_id": "7fcc3564a7554de999834ec881a377a7",
       "version_major": 2,
       "version_minor": 0
      },
      "text/plain": [
       "Image Batches:   0%|          | 0/13 [00:00<?, ?it/s]"
      ]
     },
     "metadata": {},
     "output_type": "display_data"
    },
    {
     "data": {
      "application/vnd.jupyter.widget-view+json": {
       "model_id": "a202c11bb7c048689541df74bcc6a511",
       "version_major": 2,
       "version_minor": 0
      },
      "text/plain": [
       "Image Batches:   0%|          | 0/13 [00:00<?, ?it/s]"
      ]
     },
     "metadata": {},
     "output_type": "display_data"
    },
    {
     "data": {
      "application/vnd.jupyter.widget-view+json": {
       "model_id": "f1fa73f139584907a03c0eec02a98bdb",
       "version_major": 2,
       "version_minor": 0
      },
      "text/plain": [
       "Image Batches:   0%|          | 0/13 [00:00<?, ?it/s]"
      ]
     },
     "metadata": {},
     "output_type": "display_data"
    },
    {
     "data": {
      "application/vnd.jupyter.widget-view+json": {
       "model_id": "aa458cbd9d8640ff8260d84ba31f6617",
       "version_major": 2,
       "version_minor": 0
      },
      "text/plain": [
       "Image Batches:   0%|          | 0/13 [00:00<?, ?it/s]"
      ]
     },
     "metadata": {},
     "output_type": "display_data"
    },
    {
     "data": {
      "application/vnd.jupyter.widget-view+json": {
       "model_id": "b3727838b4684de28f2ff7a186d1885b",
       "version_major": 2,
       "version_minor": 0
      },
      "text/plain": [
       "Image Batches:   0%|          | 0/26 [00:00<?, ?it/s]"
      ]
     },
     "metadata": {},
     "output_type": "display_data"
    },
    {
     "data": {
      "application/vnd.jupyter.widget-view+json": {
       "model_id": "caaa353adaa647ae8532d5ded4a2a5d9",
       "version_major": 2,
       "version_minor": 0
      },
      "text/plain": [
       "Image Batches:   0%|          | 0/13 [00:00<?, ?it/s]"
      ]
     },
     "metadata": {},
     "output_type": "display_data"
    },
    {
     "data": {
      "application/vnd.jupyter.widget-view+json": {
       "model_id": "5cd9a8a886234f08838f615fa6692355",
       "version_major": 2,
       "version_minor": 0
      },
      "text/plain": [
       "Image Batches:   0%|          | 0/13 [00:00<?, ?it/s]"
      ]
     },
     "metadata": {},
     "output_type": "display_data"
    },
    {
     "data": {
      "application/vnd.jupyter.widget-view+json": {
       "model_id": "ade77227b3534c5fa0ef408a3b33db2b",
       "version_major": 2,
       "version_minor": 0
      },
      "text/plain": [
       "Image Batches:   0%|          | 0/13 [00:00<?, ?it/s]"
      ]
     },
     "metadata": {},
     "output_type": "display_data"
    },
    {
     "data": {
      "application/vnd.jupyter.widget-view+json": {
       "model_id": "2038b64fd8e54e44b6dc2741f35fec1e",
       "version_major": 2,
       "version_minor": 0
      },
      "text/plain": [
       "Image Batches:   0%|          | 0/13 [00:00<?, ?it/s]"
      ]
     },
     "metadata": {},
     "output_type": "display_data"
    },
    {
     "data": {
      "application/vnd.jupyter.widget-view+json": {
       "model_id": "29e741173ed44aae803578eecc60d05d",
       "version_major": 2,
       "version_minor": 0
      },
      "text/plain": [
       "Image Batches:   0%|          | 0/25 [00:00<?, ?it/s]"
      ]
     },
     "metadata": {},
     "output_type": "display_data"
    },
    {
     "data": {
      "application/vnd.jupyter.widget-view+json": {
       "model_id": "cbfce74c6d614d949014e7991039199f",
       "version_major": 2,
       "version_minor": 0
      },
      "text/plain": [
       "Image Batches:   0%|          | 0/9 [00:00<?, ?it/s]"
      ]
     },
     "metadata": {},
     "output_type": "display_data"
    },
    {
     "data": {
      "application/vnd.jupyter.widget-view+json": {
       "model_id": "eb1d7ab244234ce2b1c86e4c6f32a2d8",
       "version_major": 2,
       "version_minor": 0
      },
      "text/plain": [
       "Image Batches:   0%|          | 0/13 [00:00<?, ?it/s]"
      ]
     },
     "metadata": {},
     "output_type": "display_data"
    },
    {
     "data": {
      "application/vnd.jupyter.widget-view+json": {
       "model_id": "bcdd37db78cd4c9d87e6738b17b26250",
       "version_major": 2,
       "version_minor": 0
      },
      "text/plain": [
       "Image Batches:   0%|          | 0/12 [00:00<?, ?it/s]"
      ]
     },
     "metadata": {},
     "output_type": "display_data"
    },
    {
     "data": {
      "application/vnd.jupyter.widget-view+json": {
       "model_id": "d37a6d81a36443518743375df34a47bd",
       "version_major": 2,
       "version_minor": 0
      },
      "text/plain": [
       "Image Batches:   0%|          | 0/13 [00:00<?, ?it/s]"
      ]
     },
     "metadata": {},
     "output_type": "display_data"
    },
    {
     "data": {
      "application/vnd.jupyter.widget-view+json": {
       "model_id": "888b5252b24147d681249faa09eefb3b",
       "version_major": 2,
       "version_minor": 0
      },
      "text/plain": [
       "Image Batches:   0%|          | 0/13 [00:00<?, ?it/s]"
      ]
     },
     "metadata": {},
     "output_type": "display_data"
    },
    {
     "data": {
      "application/vnd.jupyter.widget-view+json": {
       "model_id": "6227df8cd02f4d95a4990936decaeec9",
       "version_major": 2,
       "version_minor": 0
      },
      "text/plain": [
       "Image Batches:   0%|          | 0/13 [00:00<?, ?it/s]"
      ]
     },
     "metadata": {},
     "output_type": "display_data"
    },
    {
     "data": {
      "application/vnd.jupyter.widget-view+json": {
       "model_id": "14d0548c81da4098a1559b60bd704ed3",
       "version_major": 2,
       "version_minor": 0
      },
      "text/plain": [
       "Image Batches:   0%|          | 0/13 [00:00<?, ?it/s]"
      ]
     },
     "metadata": {},
     "output_type": "display_data"
    },
    {
     "data": {
      "application/vnd.jupyter.widget-view+json": {
       "model_id": "d75d148b50ec499ca8b5a8060af99cb2",
       "version_major": 2,
       "version_minor": 0
      },
      "text/plain": [
       "Image Batches:   0%|          | 0/13 [00:00<?, ?it/s]"
      ]
     },
     "metadata": {},
     "output_type": "display_data"
    },
    {
     "data": {
      "application/vnd.jupyter.widget-view+json": {
       "model_id": "45183438052740e6b8aa10858e2cbdcc",
       "version_major": 2,
       "version_minor": 0
      },
      "text/plain": [
       "Image Batches:   0%|          | 0/14 [00:00<?, ?it/s]"
      ]
     },
     "metadata": {},
     "output_type": "display_data"
    },
    {
     "data": {
      "application/vnd.jupyter.widget-view+json": {
       "model_id": "0719275b648f49bba29daaf35120a434",
       "version_major": 2,
       "version_minor": 0
      },
      "text/plain": [
       "Image Batches:   0%|          | 0/13 [00:00<?, ?it/s]"
      ]
     },
     "metadata": {},
     "output_type": "display_data"
    },
    {
     "data": {
      "application/vnd.jupyter.widget-view+json": {
       "model_id": "5a5e99a2c6ae4411bac0aec00f81df33",
       "version_major": 2,
       "version_minor": 0
      },
      "text/plain": [
       "Image Batches:   0%|          | 0/12 [00:00<?, ?it/s]"
      ]
     },
     "metadata": {},
     "output_type": "display_data"
    },
    {
     "data": {
      "application/vnd.jupyter.widget-view+json": {
       "model_id": "7f9c184bd1af4015a2c1c019c5d3c6d2",
       "version_major": 2,
       "version_minor": 0
      },
      "text/plain": [
       "Image Batches:   0%|          | 0/14 [00:00<?, ?it/s]"
      ]
     },
     "metadata": {},
     "output_type": "display_data"
    },
    {
     "data": {
      "application/vnd.jupyter.widget-view+json": {
       "model_id": "b2b772392eae45eca9b944acc1eea8bc",
       "version_major": 2,
       "version_minor": 0
      },
      "text/plain": [
       "Image Batches:   0%|          | 0/15 [00:00<?, ?it/s]"
      ]
     },
     "metadata": {},
     "output_type": "display_data"
    },
    {
     "data": {
      "application/vnd.jupyter.widget-view+json": {
       "model_id": "3f37135f8e09497588c6bb66efdc5c4b",
       "version_major": 2,
       "version_minor": 0
      },
      "text/plain": [
       "Image Batches:   0%|          | 0/13 [00:00<?, ?it/s]"
      ]
     },
     "metadata": {},
     "output_type": "display_data"
    },
    {
     "data": {
      "application/vnd.jupyter.widget-view+json": {
       "model_id": "bfc46106f9c841d0985e98120705952a",
       "version_major": 2,
       "version_minor": 0
      },
      "text/plain": [
       "Image Batches:   0%|          | 0/13 [00:00<?, ?it/s]"
      ]
     },
     "metadata": {},
     "output_type": "display_data"
    },
    {
     "data": {
      "application/vnd.jupyter.widget-view+json": {
       "model_id": "08959a77b4e349cea749434c8203a2eb",
       "version_major": 2,
       "version_minor": 0
      },
      "text/plain": [
       "Image Batches:   0%|          | 0/13 [00:00<?, ?it/s]"
      ]
     },
     "metadata": {},
     "output_type": "display_data"
    },
    {
     "data": {
      "application/vnd.jupyter.widget-view+json": {
       "model_id": "d82b1371d0d64c32a26418583efeee4c",
       "version_major": 2,
       "version_minor": 0
      },
      "text/plain": [
       "Image Batches:   0%|          | 0/13 [00:00<?, ?it/s]"
      ]
     },
     "metadata": {},
     "output_type": "display_data"
    },
    {
     "data": {
      "application/vnd.jupyter.widget-view+json": {
       "model_id": "fe2efef1a29e4cd8af694f2895796ee2",
       "version_major": 2,
       "version_minor": 0
      },
      "text/plain": [
       "Image Batches:   0%|          | 0/13 [00:00<?, ?it/s]"
      ]
     },
     "metadata": {},
     "output_type": "display_data"
    },
    {
     "data": {
      "application/vnd.jupyter.widget-view+json": {
       "model_id": "f8b27fa09ecc452e9c436dd4575814aa",
       "version_major": 2,
       "version_minor": 0
      },
      "text/plain": [
       "Image Batches:   0%|          | 0/13 [00:00<?, ?it/s]"
      ]
     },
     "metadata": {},
     "output_type": "display_data"
    },
    {
     "data": {
      "application/vnd.jupyter.widget-view+json": {
       "model_id": "5a96d9a269f346818405ea5af999c154",
       "version_major": 2,
       "version_minor": 0
      },
      "text/plain": [
       "Image Batches:   0%|          | 0/13 [00:00<?, ?it/s]"
      ]
     },
     "metadata": {},
     "output_type": "display_data"
    },
    {
     "data": {
      "application/vnd.jupyter.widget-view+json": {
       "model_id": "0b2ff220a89d4fa398fd79a9c39132c5",
       "version_major": 2,
       "version_minor": 0
      },
      "text/plain": [
       "Image Batches:   0%|          | 0/13 [00:00<?, ?it/s]"
      ]
     },
     "metadata": {},
     "output_type": "display_data"
    },
    {
     "data": {
      "application/vnd.jupyter.widget-view+json": {
       "model_id": "3d1ab15d1ccd4a068e1393088ddd1a33",
       "version_major": 2,
       "version_minor": 0
      },
      "text/plain": [
       "Image Batches:   0%|          | 0/13 [00:00<?, ?it/s]"
      ]
     },
     "metadata": {},
     "output_type": "display_data"
    },
    {
     "data": {
      "application/vnd.jupyter.widget-view+json": {
       "model_id": "6beee69ce0c64d36b8d9d6c1f0bb897f",
       "version_major": 2,
       "version_minor": 0
      },
      "text/plain": [
       "Image Batches:   0%|          | 0/14 [00:00<?, ?it/s]"
      ]
     },
     "metadata": {},
     "output_type": "display_data"
    },
    {
     "data": {
      "application/vnd.jupyter.widget-view+json": {
       "model_id": "959e3de6e8c14cfeab6577b22d817fd3",
       "version_major": 2,
       "version_minor": 0
      },
      "text/plain": [
       "Image Batches:   0%|          | 0/20 [00:00<?, ?it/s]"
      ]
     },
     "metadata": {},
     "output_type": "display_data"
    },
    {
     "data": {
      "application/vnd.jupyter.widget-view+json": {
       "model_id": "c44ce70b5bbd4080aa4ab0f9d8c51676",
       "version_major": 2,
       "version_minor": 0
      },
      "text/plain": [
       "Image Batches:   0%|          | 0/13 [00:00<?, ?it/s]"
      ]
     },
     "metadata": {},
     "output_type": "display_data"
    },
    {
     "data": {
      "application/vnd.jupyter.widget-view+json": {
       "model_id": "8465a8c1681340d293d8ad16d09d21a1",
       "version_major": 2,
       "version_minor": 0
      },
      "text/plain": [
       "Image Batches:   0%|          | 0/9 [00:00<?, ?it/s]"
      ]
     },
     "metadata": {},
     "output_type": "display_data"
    },
    {
     "data": {
      "application/vnd.jupyter.widget-view+json": {
       "model_id": "4697e5d8ed8c49288f841f5619a72082",
       "version_major": 2,
       "version_minor": 0
      },
      "text/plain": [
       "Image Batches:   0%|          | 0/13 [00:00<?, ?it/s]"
      ]
     },
     "metadata": {},
     "output_type": "display_data"
    },
    {
     "data": {
      "application/vnd.jupyter.widget-view+json": {
       "model_id": "b7fdd969c03f42ffb74646d4c72c15f8",
       "version_major": 2,
       "version_minor": 0
      },
      "text/plain": [
       "Image Batches:   0%|          | 0/10 [00:00<?, ?it/s]"
      ]
     },
     "metadata": {},
     "output_type": "display_data"
    },
    {
     "data": {
      "application/vnd.jupyter.widget-view+json": {
       "model_id": "cd180bc2d6c141c58d58819ad8ce853e",
       "version_major": 2,
       "version_minor": 0
      },
      "text/plain": [
       "Image Batches:   0%|          | 0/12 [00:00<?, ?it/s]"
      ]
     },
     "metadata": {},
     "output_type": "display_data"
    },
    {
     "data": {
      "application/vnd.jupyter.widget-view+json": {
       "model_id": "7e70c8c479ba4ad1b0161db2bae3a0f5",
       "version_major": 2,
       "version_minor": 0
      },
      "text/plain": [
       "Image Batches:   0%|          | 0/13 [00:00<?, ?it/s]"
      ]
     },
     "metadata": {},
     "output_type": "display_data"
    },
    {
     "data": {
      "application/vnd.jupyter.widget-view+json": {
       "model_id": "f36894615eb4430f87110b612169afc3",
       "version_major": 2,
       "version_minor": 0
      },
      "text/plain": [
       "Image Batches:   0%|          | 0/13 [00:00<?, ?it/s]"
      ]
     },
     "metadata": {},
     "output_type": "display_data"
    },
    {
     "data": {
      "application/vnd.jupyter.widget-view+json": {
       "model_id": "a6f0b0cc28354ba39991eefae31898ce",
       "version_major": 2,
       "version_minor": 0
      },
      "text/plain": [
       "Image Batches:   0%|          | 0/13 [00:00<?, ?it/s]"
      ]
     },
     "metadata": {},
     "output_type": "display_data"
    },
    {
     "data": {
      "application/vnd.jupyter.widget-view+json": {
       "model_id": "15e62fa95c394758ac382f542b8c3746",
       "version_major": 2,
       "version_minor": 0
      },
      "text/plain": [
       "Image Batches:   0%|          | 0/13 [00:00<?, ?it/s]"
      ]
     },
     "metadata": {},
     "output_type": "display_data"
    },
    {
     "data": {
      "application/vnd.jupyter.widget-view+json": {
       "model_id": "eb69153f2ca64778a4ddd668990dab01",
       "version_major": 2,
       "version_minor": 0
      },
      "text/plain": [
       "Image Batches:   0%|          | 0/13 [00:00<?, ?it/s]"
      ]
     },
     "metadata": {},
     "output_type": "display_data"
    },
    {
     "data": {
      "application/vnd.jupyter.widget-view+json": {
       "model_id": "458a04493b6b4f2799f7b76170c11d7b",
       "version_major": 2,
       "version_minor": 0
      },
      "text/plain": [
       "Image Batches:   0%|          | 0/13 [00:00<?, ?it/s]"
      ]
     },
     "metadata": {},
     "output_type": "display_data"
    },
    {
     "data": {
      "application/vnd.jupyter.widget-view+json": {
       "model_id": "24b887488ae94458bad5830553e8dc07",
       "version_major": 2,
       "version_minor": 0
      },
      "text/plain": [
       "Image Batches:   0%|          | 0/13 [00:00<?, ?it/s]"
      ]
     },
     "metadata": {},
     "output_type": "display_data"
    },
    {
     "data": {
      "application/vnd.jupyter.widget-view+json": {
       "model_id": "d0de5cf5a6764e10915f1bedef274e73",
       "version_major": 2,
       "version_minor": 0
      },
      "text/plain": [
       "Image Batches:   0%|          | 0/13 [00:00<?, ?it/s]"
      ]
     },
     "metadata": {},
     "output_type": "display_data"
    },
    {
     "data": {
      "application/vnd.jupyter.widget-view+json": {
       "model_id": "7431281b23a049f082075668be5af6d7",
       "version_major": 2,
       "version_minor": 0
      },
      "text/plain": [
       "Image Batches:   0%|          | 0/13 [00:00<?, ?it/s]"
      ]
     },
     "metadata": {},
     "output_type": "display_data"
    },
    {
     "data": {
      "application/vnd.jupyter.widget-view+json": {
       "model_id": "c1936039d95648cd83eae81045f770f2",
       "version_major": 2,
       "version_minor": 0
      },
      "text/plain": [
       "Image Batches:   0%|          | 0/13 [00:00<?, ?it/s]"
      ]
     },
     "metadata": {},
     "output_type": "display_data"
    },
    {
     "data": {
      "application/vnd.jupyter.widget-view+json": {
       "model_id": "b480613eace94226bc49ca21de231fba",
       "version_major": 2,
       "version_minor": 0
      },
      "text/plain": [
       "Image Batches:   0%|          | 0/13 [00:00<?, ?it/s]"
      ]
     },
     "metadata": {},
     "output_type": "display_data"
    },
    {
     "data": {
      "application/vnd.jupyter.widget-view+json": {
       "model_id": "6639137168c5483aa4b915203d1c0ff4",
       "version_major": 2,
       "version_minor": 0
      },
      "text/plain": [
       "Image Batches:   0%|          | 0/13 [00:00<?, ?it/s]"
      ]
     },
     "metadata": {},
     "output_type": "display_data"
    },
    {
     "data": {
      "application/vnd.jupyter.widget-view+json": {
       "model_id": "d7a41f8996da4c1c82c2c17d65d8c803",
       "version_major": 2,
       "version_minor": 0
      },
      "text/plain": [
       "Image Batches:   0%|          | 0/13 [00:00<?, ?it/s]"
      ]
     },
     "metadata": {},
     "output_type": "display_data"
    },
    {
     "data": {
      "application/vnd.jupyter.widget-view+json": {
       "model_id": "eb1ac4dfc2604b3ebe80bf0db5ffb531",
       "version_major": 2,
       "version_minor": 0
      },
      "text/plain": [
       "Image Batches:   0%|          | 0/13 [00:00<?, ?it/s]"
      ]
     },
     "metadata": {},
     "output_type": "display_data"
    },
    {
     "data": {
      "application/vnd.jupyter.widget-view+json": {
       "model_id": "777a3bb3fca9405c89a2990e8c8236a4",
       "version_major": 2,
       "version_minor": 0
      },
      "text/plain": [
       "Image Batches:   0%|          | 0/13 [00:00<?, ?it/s]"
      ]
     },
     "metadata": {},
     "output_type": "display_data"
    },
    {
     "data": {
      "application/vnd.jupyter.widget-view+json": {
       "model_id": "8688e98d16ba4d0bb7e9eb9f697928da",
       "version_major": 2,
       "version_minor": 0
      },
      "text/plain": [
       "Image Batches:   0%|          | 0/13 [00:00<?, ?it/s]"
      ]
     },
     "metadata": {},
     "output_type": "display_data"
    },
    {
     "data": {
      "application/vnd.jupyter.widget-view+json": {
       "model_id": "80da6cbfd5dc4870a8988ba514c1da21",
       "version_major": 2,
       "version_minor": 0
      },
      "text/plain": [
       "Image Batches:   0%|          | 0/13 [00:00<?, ?it/s]"
      ]
     },
     "metadata": {},
     "output_type": "display_data"
    },
    {
     "data": {
      "application/vnd.jupyter.widget-view+json": {
       "model_id": "fa882c5918db4c5b83ab43624aa0042a",
       "version_major": 2,
       "version_minor": 0
      },
      "text/plain": [
       "Image Batches:   0%|          | 0/13 [00:00<?, ?it/s]"
      ]
     },
     "metadata": {},
     "output_type": "display_data"
    },
    {
     "data": {
      "application/vnd.jupyter.widget-view+json": {
       "model_id": "ff3249cae6134f7ead334894c5b63339",
       "version_major": 2,
       "version_minor": 0
      },
      "text/plain": [
       "Image Batches:   0%|          | 0/13 [00:00<?, ?it/s]"
      ]
     },
     "metadata": {},
     "output_type": "display_data"
    },
    {
     "data": {
      "application/vnd.jupyter.widget-view+json": {
       "model_id": "8fea0e12918940009781a20f2f57cc32",
       "version_major": 2,
       "version_minor": 0
      },
      "text/plain": [
       "Image Batches:   0%|          | 0/26 [00:00<?, ?it/s]"
      ]
     },
     "metadata": {},
     "output_type": "display_data"
    },
    {
     "data": {
      "application/vnd.jupyter.widget-view+json": {
       "model_id": "a746b2927bd643d9ab23ff75cc2b76ea",
       "version_major": 2,
       "version_minor": 0
      },
      "text/plain": [
       "Image Batches:   0%|          | 0/13 [00:00<?, ?it/s]"
      ]
     },
     "metadata": {},
     "output_type": "display_data"
    },
    {
     "data": {
      "application/vnd.jupyter.widget-view+json": {
       "model_id": "8b743b70d6ba4ae9aa01c17cf26e59e6",
       "version_major": 2,
       "version_minor": 0
      },
      "text/plain": [
       "Image Batches:   0%|          | 0/13 [00:00<?, ?it/s]"
      ]
     },
     "metadata": {},
     "output_type": "display_data"
    },
    {
     "data": {
      "application/vnd.jupyter.widget-view+json": {
       "model_id": "6fdd31e7f7e145fc8de73479d1e55162",
       "version_major": 2,
       "version_minor": 0
      },
      "text/plain": [
       "Image Batches:   0%|          | 0/13 [00:00<?, ?it/s]"
      ]
     },
     "metadata": {},
     "output_type": "display_data"
    },
    {
     "data": {
      "application/vnd.jupyter.widget-view+json": {
       "model_id": "ea7ba7e92f4d49869b3105e6493e92f8",
       "version_major": 2,
       "version_minor": 0
      },
      "text/plain": [
       "Image Batches:   0%|          | 0/13 [00:00<?, ?it/s]"
      ]
     },
     "metadata": {},
     "output_type": "display_data"
    },
    {
     "data": {
      "application/vnd.jupyter.widget-view+json": {
       "model_id": "b34cc4e5dc204328903e8e626c760c0e",
       "version_major": 2,
       "version_minor": 0
      },
      "text/plain": [
       "Image Batches:   0%|          | 0/14 [00:00<?, ?it/s]"
      ]
     },
     "metadata": {},
     "output_type": "display_data"
    },
    {
     "data": {
      "application/vnd.jupyter.widget-view+json": {
       "model_id": "afda7fcd18d54480b1f89b3f6c37cf29",
       "version_major": 2,
       "version_minor": 0
      },
      "text/plain": [
       "Image Batches:   0%|          | 0/13 [00:00<?, ?it/s]"
      ]
     },
     "metadata": {},
     "output_type": "display_data"
    },
    {
     "data": {
      "application/vnd.jupyter.widget-view+json": {
       "model_id": "bc3389517cdc4b859e222d1ce43956b5",
       "version_major": 2,
       "version_minor": 0
      },
      "text/plain": [
       "Image Batches:   0%|          | 0/13 [00:00<?, ?it/s]"
      ]
     },
     "metadata": {},
     "output_type": "display_data"
    },
    {
     "data": {
      "application/vnd.jupyter.widget-view+json": {
       "model_id": "c7d2d012e86d49398fd557e02cf96419",
       "version_major": 2,
       "version_minor": 0
      },
      "text/plain": [
       "Image Batches:   0%|          | 0/26 [00:00<?, ?it/s]"
      ]
     },
     "metadata": {},
     "output_type": "display_data"
    },
    {
     "data": {
      "application/vnd.jupyter.widget-view+json": {
       "model_id": "4515db7df7d8478c87cf0493008d8aaf",
       "version_major": 2,
       "version_minor": 0
      },
      "text/plain": [
       "Image Batches:   0%|          | 0/13 [00:00<?, ?it/s]"
      ]
     },
     "metadata": {},
     "output_type": "display_data"
    },
    {
     "data": {
      "application/vnd.jupyter.widget-view+json": {
       "model_id": "18ee84b9c18243c290713baf914f83d9",
       "version_major": 2,
       "version_minor": 0
      },
      "text/plain": [
       "Image Batches:   0%|          | 0/13 [00:00<?, ?it/s]"
      ]
     },
     "metadata": {},
     "output_type": "display_data"
    },
    {
     "data": {
      "application/vnd.jupyter.widget-view+json": {
       "model_id": "892fe54662d44bf1828f31a00d7c29d9",
       "version_major": 2,
       "version_minor": 0
      },
      "text/plain": [
       "Image Batches:   0%|          | 0/13 [00:00<?, ?it/s]"
      ]
     },
     "metadata": {},
     "output_type": "display_data"
    },
    {
     "data": {
      "application/vnd.jupyter.widget-view+json": {
       "model_id": "6650247e1c424011b0840cb81800d119",
       "version_major": 2,
       "version_minor": 0
      },
      "text/plain": [
       "Image Batches:   0%|          | 0/13 [00:00<?, ?it/s]"
      ]
     },
     "metadata": {},
     "output_type": "display_data"
    },
    {
     "data": {
      "application/vnd.jupyter.widget-view+json": {
       "model_id": "0b85b02f3b574324b97e6603be3b67b8",
       "version_major": 2,
       "version_minor": 0
      },
      "text/plain": [
       "Image Batches:   0%|          | 0/13 [00:00<?, ?it/s]"
      ]
     },
     "metadata": {},
     "output_type": "display_data"
    },
    {
     "data": {
      "application/vnd.jupyter.widget-view+json": {
       "model_id": "ebcb761ee30e4fdfa9bbdda7f0d560a1",
       "version_major": 2,
       "version_minor": 0
      },
      "text/plain": [
       "Image Batches:   0%|          | 0/26 [00:00<?, ?it/s]"
      ]
     },
     "metadata": {},
     "output_type": "display_data"
    },
    {
     "data": {
      "application/vnd.jupyter.widget-view+json": {
       "model_id": "e180dd9c58a14d45abf382137ce52d8f",
       "version_major": 2,
       "version_minor": 0
      },
      "text/plain": [
       "Image Batches:   0%|          | 0/14 [00:00<?, ?it/s]"
      ]
     },
     "metadata": {},
     "output_type": "display_data"
    },
    {
     "data": {
      "application/vnd.jupyter.widget-view+json": {
       "model_id": "45b8b629cb55476ea12253586c22ea66",
       "version_major": 2,
       "version_minor": 0
      },
      "text/plain": [
       "Image Batches:   0%|          | 0/13 [00:00<?, ?it/s]"
      ]
     },
     "metadata": {},
     "output_type": "display_data"
    },
    {
     "data": {
      "application/vnd.jupyter.widget-view+json": {
       "model_id": "46d961f2bf8247728f050b2e3c929354",
       "version_major": 2,
       "version_minor": 0
      },
      "text/plain": [
       "Image Batches:   0%|          | 0/13 [00:00<?, ?it/s]"
      ]
     },
     "metadata": {},
     "output_type": "display_data"
    },
    {
     "data": {
      "application/vnd.jupyter.widget-view+json": {
       "model_id": "020d6cc494e84af3b8a2175d3f38b5b3",
       "version_major": 2,
       "version_minor": 0
      },
      "text/plain": [
       "Image Batches:   0%|          | 0/13 [00:00<?, ?it/s]"
      ]
     },
     "metadata": {},
     "output_type": "display_data"
    },
    {
     "data": {
      "application/vnd.jupyter.widget-view+json": {
       "model_id": "26bf14508dd04411bb816207c990c3b1",
       "version_major": 2,
       "version_minor": 0
      },
      "text/plain": [
       "Image Batches:   0%|          | 0/13 [00:00<?, ?it/s]"
      ]
     },
     "metadata": {},
     "output_type": "display_data"
    },
    {
     "data": {
      "application/vnd.jupyter.widget-view+json": {
       "model_id": "60971945ce464096a7ecc1fb64b0b71a",
       "version_major": 2,
       "version_minor": 0
      },
      "text/plain": [
       "Image Batches:   0%|          | 0/13 [00:00<?, ?it/s]"
      ]
     },
     "metadata": {},
     "output_type": "display_data"
    },
    {
     "data": {
      "application/vnd.jupyter.widget-view+json": {
       "model_id": "86832ed998a14a59a5362db2fe4f28a3",
       "version_major": 2,
       "version_minor": 0
      },
      "text/plain": [
       "Image Batches:   0%|          | 0/13 [00:00<?, ?it/s]"
      ]
     },
     "metadata": {},
     "output_type": "display_data"
    },
    {
     "data": {
      "application/vnd.jupyter.widget-view+json": {
       "model_id": "00a700678de34183ad6248aafd582e9c",
       "version_major": 2,
       "version_minor": 0
      },
      "text/plain": [
       "Image Batches:   0%|          | 0/13 [00:00<?, ?it/s]"
      ]
     },
     "metadata": {},
     "output_type": "display_data"
    },
    {
     "data": {
      "application/vnd.jupyter.widget-view+json": {
       "model_id": "df9b7f28a0954d4f8d60ccce2934fa45",
       "version_major": 2,
       "version_minor": 0
      },
      "text/plain": [
       "Image Batches:   0%|          | 0/16 [00:00<?, ?it/s]"
      ]
     },
     "metadata": {},
     "output_type": "display_data"
    },
    {
     "data": {
      "application/vnd.jupyter.widget-view+json": {
       "model_id": "65c7087ac3a146348f145753a8ade718",
       "version_major": 2,
       "version_minor": 0
      },
      "text/plain": [
       "Image Batches:   0%|          | 0/13 [00:00<?, ?it/s]"
      ]
     },
     "metadata": {},
     "output_type": "display_data"
    },
    {
     "data": {
      "application/vnd.jupyter.widget-view+json": {
       "model_id": "93b6e2f41bc24c208b48cd3b9146c065",
       "version_major": 2,
       "version_minor": 0
      },
      "text/plain": [
       "Image Batches:   0%|          | 0/31 [00:00<?, ?it/s]"
      ]
     },
     "metadata": {},
     "output_type": "display_data"
    },
    {
     "data": {
      "application/vnd.jupyter.widget-view+json": {
       "model_id": "e93a283ca7604dd7861b7a0d449430d0",
       "version_major": 2,
       "version_minor": 0
      },
      "text/plain": [
       "Image Batches:   0%|          | 0/13 [00:00<?, ?it/s]"
      ]
     },
     "metadata": {},
     "output_type": "display_data"
    },
    {
     "data": {
      "application/vnd.jupyter.widget-view+json": {
       "model_id": "d9fdd64d48d44df6a95269eb60cc96cb",
       "version_major": 2,
       "version_minor": 0
      },
      "text/plain": [
       "Image Batches:   0%|          | 0/13 [00:00<?, ?it/s]"
      ]
     },
     "metadata": {},
     "output_type": "display_data"
    },
    {
     "data": {
      "application/vnd.jupyter.widget-view+json": {
       "model_id": "ff0bb61e7efa45569ca7e7ae0c7af572",
       "version_major": 2,
       "version_minor": 0
      },
      "text/plain": [
       "Image Batches:   0%|          | 0/13 [00:00<?, ?it/s]"
      ]
     },
     "metadata": {},
     "output_type": "display_data"
    },
    {
     "data": {
      "application/vnd.jupyter.widget-view+json": {
       "model_id": "fa5ec3e40bce4d6bbe089090ccc036fe",
       "version_major": 2,
       "version_minor": 0
      },
      "text/plain": [
       "Image Batches:   0%|          | 0/13 [00:00<?, ?it/s]"
      ]
     },
     "metadata": {},
     "output_type": "display_data"
    },
    {
     "data": {
      "application/vnd.jupyter.widget-view+json": {
       "model_id": "4cd8426ce2784e428547a35853e0e990",
       "version_major": 2,
       "version_minor": 0
      },
      "text/plain": [
       "Image Batches:   0%|          | 0/13 [00:00<?, ?it/s]"
      ]
     },
     "metadata": {},
     "output_type": "display_data"
    },
    {
     "data": {
      "application/vnd.jupyter.widget-view+json": {
       "model_id": "07f757c2b50c48e69c8cd1f453de9d16",
       "version_major": 2,
       "version_minor": 0
      },
      "text/plain": [
       "Image Batches:   0%|          | 0/13 [00:00<?, ?it/s]"
      ]
     },
     "metadata": {},
     "output_type": "display_data"
    },
    {
     "data": {
      "application/vnd.jupyter.widget-view+json": {
       "model_id": "442cb68365054f628abc03812fd08098",
       "version_major": 2,
       "version_minor": 0
      },
      "text/plain": [
       "Image Batches:   0%|          | 0/13 [00:00<?, ?it/s]"
      ]
     },
     "metadata": {},
     "output_type": "display_data"
    },
    {
     "data": {
      "application/vnd.jupyter.widget-view+json": {
       "model_id": "5f5c2d8a82194eb4aa3736155d911107",
       "version_major": 2,
       "version_minor": 0
      },
      "text/plain": [
       "Image Batches:   0%|          | 0/26 [00:00<?, ?it/s]"
      ]
     },
     "metadata": {},
     "output_type": "display_data"
    },
    {
     "data": {
      "application/vnd.jupyter.widget-view+json": {
       "model_id": "9174c1b62bb642d59e7625f9e41bfb52",
       "version_major": 2,
       "version_minor": 0
      },
      "text/plain": [
       "Image Batches:   0%|          | 0/13 [00:00<?, ?it/s]"
      ]
     },
     "metadata": {},
     "output_type": "display_data"
    },
    {
     "data": {
      "application/vnd.jupyter.widget-view+json": {
       "model_id": "1db01fcd34a44c3c8de96a923125cab8",
       "version_major": 2,
       "version_minor": 0
      },
      "text/plain": [
       "Image Batches:   0%|          | 0/13 [00:00<?, ?it/s]"
      ]
     },
     "metadata": {},
     "output_type": "display_data"
    },
    {
     "data": {
      "application/vnd.jupyter.widget-view+json": {
       "model_id": "9546dcd1ff3a4c0fa37da24240665afe",
       "version_major": 2,
       "version_minor": 0
      },
      "text/plain": [
       "Image Batches:   0%|          | 0/13 [00:00<?, ?it/s]"
      ]
     },
     "metadata": {},
     "output_type": "display_data"
    },
    {
     "data": {
      "application/vnd.jupyter.widget-view+json": {
       "model_id": "3537ba6d04bb421fa7299528e162c55c",
       "version_major": 2,
       "version_minor": 0
      },
      "text/plain": [
       "Image Batches:   0%|          | 0/13 [00:00<?, ?it/s]"
      ]
     },
     "metadata": {},
     "output_type": "display_data"
    },
    {
     "data": {
      "application/vnd.jupyter.widget-view+json": {
       "model_id": "c10a193d21d14d92b5158d34110a13b9",
       "version_major": 2,
       "version_minor": 0
      },
      "text/plain": [
       "Image Batches:   0%|          | 0/24 [00:00<?, ?it/s]"
      ]
     },
     "metadata": {},
     "output_type": "display_data"
    },
    {
     "data": {
      "application/vnd.jupyter.widget-view+json": {
       "model_id": "268c1d765d954b709cfea62de2d3e06b",
       "version_major": 2,
       "version_minor": 0
      },
      "text/plain": [
       "Image Batches:   0%|          | 0/28 [00:00<?, ?it/s]"
      ]
     },
     "metadata": {},
     "output_type": "display_data"
    },
    {
     "data": {
      "application/vnd.jupyter.widget-view+json": {
       "model_id": "3f5128d509ae40e4891248dfd71318b8",
       "version_major": 2,
       "version_minor": 0
      },
      "text/plain": [
       "Image Batches:   0%|          | 0/27 [00:00<?, ?it/s]"
      ]
     },
     "metadata": {},
     "output_type": "display_data"
    },
    {
     "data": {
      "application/vnd.jupyter.widget-view+json": {
       "model_id": "17cc4fbf4806479b86cc87bb8f73352d",
       "version_major": 2,
       "version_minor": 0
      },
      "text/plain": [
       "Image Batches:   0%|          | 0/13 [00:00<?, ?it/s]"
      ]
     },
     "metadata": {},
     "output_type": "display_data"
    },
    {
     "data": {
      "application/vnd.jupyter.widget-view+json": {
       "model_id": "1b95795ed96a4bf5ab264d155ba2a05d",
       "version_major": 2,
       "version_minor": 0
      },
      "text/plain": [
       "Image Batches:   0%|          | 0/13 [00:00<?, ?it/s]"
      ]
     },
     "metadata": {},
     "output_type": "display_data"
    },
    {
     "data": {
      "application/vnd.jupyter.widget-view+json": {
       "model_id": "0b8b5e3567464e429fd639b1834ef1ad",
       "version_major": 2,
       "version_minor": 0
      },
      "text/plain": [
       "Image Batches:   0%|          | 0/13 [00:00<?, ?it/s]"
      ]
     },
     "metadata": {},
     "output_type": "display_data"
    },
    {
     "data": {
      "application/vnd.jupyter.widget-view+json": {
       "model_id": "101ae881b1684a99a47418b69d2c278d",
       "version_major": 2,
       "version_minor": 0
      },
      "text/plain": [
       "Image Batches:   0%|          | 0/13 [00:00<?, ?it/s]"
      ]
     },
     "metadata": {},
     "output_type": "display_data"
    },
    {
     "data": {
      "application/vnd.jupyter.widget-view+json": {
       "model_id": "fbf6064896364e3798cd9eb795a3fcbd",
       "version_major": 2,
       "version_minor": 0
      },
      "text/plain": [
       "Image Batches:   0%|          | 0/13 [00:00<?, ?it/s]"
      ]
     },
     "metadata": {},
     "output_type": "display_data"
    },
    {
     "data": {
      "application/vnd.jupyter.widget-view+json": {
       "model_id": "eb803b001282499ca7a044886a943865",
       "version_major": 2,
       "version_minor": 0
      },
      "text/plain": [
       "Image Batches:   0%|          | 0/13 [00:00<?, ?it/s]"
      ]
     },
     "metadata": {},
     "output_type": "display_data"
    },
    {
     "data": {
      "application/vnd.jupyter.widget-view+json": {
       "model_id": "c6cef8ba43434e69ac06de3b213a9056",
       "version_major": 2,
       "version_minor": 0
      },
      "text/plain": [
       "Image Batches:   0%|          | 0/13 [00:00<?, ?it/s]"
      ]
     },
     "metadata": {},
     "output_type": "display_data"
    },
    {
     "data": {
      "application/vnd.jupyter.widget-view+json": {
       "model_id": "6afa9d7ea8754bcb894e8a86fd71a311",
       "version_major": 2,
       "version_minor": 0
      },
      "text/plain": [
       "Image Batches:   0%|          | 0/26 [00:00<?, ?it/s]"
      ]
     },
     "metadata": {},
     "output_type": "display_data"
    },
    {
     "data": {
      "application/vnd.jupyter.widget-view+json": {
       "model_id": "532c092f11d142d1b516a8849fb283ed",
       "version_major": 2,
       "version_minor": 0
      },
      "text/plain": [
       "Image Batches:   0%|          | 0/13 [00:00<?, ?it/s]"
      ]
     },
     "metadata": {},
     "output_type": "display_data"
    },
    {
     "data": {
      "application/vnd.jupyter.widget-view+json": {
       "model_id": "ac6f8cd7b8344ec0bf8447eaf9dac3ee",
       "version_major": 2,
       "version_minor": 0
      },
      "text/plain": [
       "Image Batches:   0%|          | 0/13 [00:00<?, ?it/s]"
      ]
     },
     "metadata": {},
     "output_type": "display_data"
    },
    {
     "data": {
      "application/vnd.jupyter.widget-view+json": {
       "model_id": "3784f4c29ac74f63be1150e8ef27bafd",
       "version_major": 2,
       "version_minor": 0
      },
      "text/plain": [
       "Image Batches:   0%|          | 0/13 [00:00<?, ?it/s]"
      ]
     },
     "metadata": {},
     "output_type": "display_data"
    },
    {
     "data": {
      "application/vnd.jupyter.widget-view+json": {
       "model_id": "303cd2f5137b4960a5c42dd6ff8aef6a",
       "version_major": 2,
       "version_minor": 0
      },
      "text/plain": [
       "Image Batches:   0%|          | 0/13 [00:00<?, ?it/s]"
      ]
     },
     "metadata": {},
     "output_type": "display_data"
    },
    {
     "data": {
      "application/vnd.jupyter.widget-view+json": {
       "model_id": "75adce9e6a4e46ab8b84e19a2b5ec85c",
       "version_major": 2,
       "version_minor": 0
      },
      "text/plain": [
       "Image Batches:   0%|          | 0/13 [00:00<?, ?it/s]"
      ]
     },
     "metadata": {},
     "output_type": "display_data"
    },
    {
     "data": {
      "application/vnd.jupyter.widget-view+json": {
       "model_id": "af9840194bde4c83b641d7ad03508f26",
       "version_major": 2,
       "version_minor": 0
      },
      "text/plain": [
       "Image Batches:   0%|          | 0/25 [00:00<?, ?it/s]"
      ]
     },
     "metadata": {},
     "output_type": "display_data"
    },
    {
     "data": {
      "application/vnd.jupyter.widget-view+json": {
       "model_id": "3f065ac382e546c1b9adb68de4411608",
       "version_major": 2,
       "version_minor": 0
      },
      "text/plain": [
       "Image Batches:   0%|          | 0/13 [00:00<?, ?it/s]"
      ]
     },
     "metadata": {},
     "output_type": "display_data"
    },
    {
     "data": {
      "application/vnd.jupyter.widget-view+json": {
       "model_id": "3a397f5e2272454387ebde6b43277e48",
       "version_major": 2,
       "version_minor": 0
      },
      "text/plain": [
       "Image Batches:   0%|          | 0/24 [00:00<?, ?it/s]"
      ]
     },
     "metadata": {},
     "output_type": "display_data"
    },
    {
     "data": {
      "application/vnd.jupyter.widget-view+json": {
       "model_id": "65c806cbaee6473aacd9a8c681545445",
       "version_major": 2,
       "version_minor": 0
      },
      "text/plain": [
       "Image Batches:   0%|          | 0/13 [00:00<?, ?it/s]"
      ]
     },
     "metadata": {},
     "output_type": "display_data"
    },
    {
     "data": {
      "application/vnd.jupyter.widget-view+json": {
       "model_id": "eafef79d86b04befa74d758882eaa0d5",
       "version_major": 2,
       "version_minor": 0
      },
      "text/plain": [
       "Image Batches:   0%|          | 0/30 [00:00<?, ?it/s]"
      ]
     },
     "metadata": {},
     "output_type": "display_data"
    },
    {
     "data": {
      "application/vnd.jupyter.widget-view+json": {
       "model_id": "a6eb6071f4334d5fad77cfa20913d5e2",
       "version_major": 2,
       "version_minor": 0
      },
      "text/plain": [
       "Image Batches:   0%|          | 0/13 [00:00<?, ?it/s]"
      ]
     },
     "metadata": {},
     "output_type": "display_data"
    },
    {
     "data": {
      "application/vnd.jupyter.widget-view+json": {
       "model_id": "1e6b4337997a48c4a9fd5f62ebb7e51b",
       "version_major": 2,
       "version_minor": 0
      },
      "text/plain": [
       "Image Batches:   0%|          | 0/13 [00:00<?, ?it/s]"
      ]
     },
     "metadata": {},
     "output_type": "display_data"
    },
    {
     "data": {
      "application/vnd.jupyter.widget-view+json": {
       "model_id": "01b53baed4184e9faf227c209d2482fa",
       "version_major": 2,
       "version_minor": 0
      },
      "text/plain": [
       "Image Batches:   0%|          | 0/13 [00:00<?, ?it/s]"
      ]
     },
     "metadata": {},
     "output_type": "display_data"
    },
    {
     "data": {
      "application/vnd.jupyter.widget-view+json": {
       "model_id": "5ab73096dea04d729999aae5f69b4ed6",
       "version_major": 2,
       "version_minor": 0
      },
      "text/plain": [
       "Image Batches:   0%|          | 0/13 [00:00<?, ?it/s]"
      ]
     },
     "metadata": {},
     "output_type": "display_data"
    },
    {
     "data": {
      "application/vnd.jupyter.widget-view+json": {
       "model_id": "6d91f52080b94178a37d760afe01bf68",
       "version_major": 2,
       "version_minor": 0
      },
      "text/plain": [
       "Image Batches:   0%|          | 0/13 [00:00<?, ?it/s]"
      ]
     },
     "metadata": {},
     "output_type": "display_data"
    },
    {
     "data": {
      "application/vnd.jupyter.widget-view+json": {
       "model_id": "939650d3392049aa85137a62deba3e6d",
       "version_major": 2,
       "version_minor": 0
      },
      "text/plain": [
       "Image Batches:   0%|          | 0/13 [00:00<?, ?it/s]"
      ]
     },
     "metadata": {},
     "output_type": "display_data"
    },
    {
     "data": {
      "application/vnd.jupyter.widget-view+json": {
       "model_id": "d10d7fdc9eea4e75abe45b7affc931c8",
       "version_major": 2,
       "version_minor": 0
      },
      "text/plain": [
       "Image Batches:   0%|          | 0/13 [00:00<?, ?it/s]"
      ]
     },
     "metadata": {},
     "output_type": "display_data"
    },
    {
     "data": {
      "application/vnd.jupyter.widget-view+json": {
       "model_id": "89de03f647af4b9f934dd96acc0fbbff",
       "version_major": 2,
       "version_minor": 0
      },
      "text/plain": [
       "Image Batches:   0%|          | 0/13 [00:00<?, ?it/s]"
      ]
     },
     "metadata": {},
     "output_type": "display_data"
    },
    {
     "data": {
      "application/vnd.jupyter.widget-view+json": {
       "model_id": "42d3da531cb54c4899d9b0623109b714",
       "version_major": 2,
       "version_minor": 0
      },
      "text/plain": [
       "Image Batches:   0%|          | 0/13 [00:00<?, ?it/s]"
      ]
     },
     "metadata": {},
     "output_type": "display_data"
    },
    {
     "data": {
      "application/vnd.jupyter.widget-view+json": {
       "model_id": "c0124338c3e1469dad4e7521819bbf4f",
       "version_major": 2,
       "version_minor": 0
      },
      "text/plain": [
       "Image Batches:   0%|          | 0/13 [00:00<?, ?it/s]"
      ]
     },
     "metadata": {},
     "output_type": "display_data"
    },
    {
     "data": {
      "application/vnd.jupyter.widget-view+json": {
       "model_id": "89702b5c5716411196fc595a8c6a162a",
       "version_major": 2,
       "version_minor": 0
      },
      "text/plain": [
       "Image Batches:   0%|          | 0/14 [00:00<?, ?it/s]"
      ]
     },
     "metadata": {},
     "output_type": "display_data"
    },
    {
     "data": {
      "application/vnd.jupyter.widget-view+json": {
       "model_id": "85d5105a12804df29b921ff6da6063fb",
       "version_major": 2,
       "version_minor": 0
      },
      "text/plain": [
       "Image Batches:   0%|          | 0/13 [00:00<?, ?it/s]"
      ]
     },
     "metadata": {},
     "output_type": "display_data"
    },
    {
     "data": {
      "application/vnd.jupyter.widget-view+json": {
       "model_id": "e9a3b0016ee4418ab5ed89011589f98d",
       "version_major": 2,
       "version_minor": 0
      },
      "text/plain": [
       "Image Batches:   0%|          | 0/13 [00:00<?, ?it/s]"
      ]
     },
     "metadata": {},
     "output_type": "display_data"
    },
    {
     "data": {
      "application/vnd.jupyter.widget-view+json": {
       "model_id": "dba9fa26cdde463ab479018a00cfb237",
       "version_major": 2,
       "version_minor": 0
      },
      "text/plain": [
       "Videos:   0%|          | 0/267 [00:00<?, ?it/s]"
      ]
     },
     "metadata": {},
     "output_type": "display_data"
    },
    {
     "data": {
      "application/vnd.jupyter.widget-view+json": {
       "model_id": "5e03133f65854fe3b1eed75afdcc7c2e",
       "version_major": 2,
       "version_minor": 0
      },
      "text/plain": [
       "Image Batches:   0%|          | 0/13 [00:00<?, ?it/s]"
      ]
     },
     "metadata": {},
     "output_type": "display_data"
    },
    {
     "data": {
      "application/vnd.jupyter.widget-view+json": {
       "model_id": "c7d5f24d13a4463da39d8804a53c2083",
       "version_major": 2,
       "version_minor": 0
      },
      "text/plain": [
       "Image Batches:   0%|          | 0/25 [00:00<?, ?it/s]"
      ]
     },
     "metadata": {},
     "output_type": "display_data"
    },
    {
     "data": {
      "application/vnd.jupyter.widget-view+json": {
       "model_id": "2051f69816ef40b9be168ac4a5f76a5b",
       "version_major": 2,
       "version_minor": 0
      },
      "text/plain": [
       "Image Batches:   0%|          | 0/10 [00:00<?, ?it/s]"
      ]
     },
     "metadata": {},
     "output_type": "display_data"
    },
    {
     "data": {
      "application/vnd.jupyter.widget-view+json": {
       "model_id": "40331345b3274c76a27f91fd3d9a92c6",
       "version_major": 2,
       "version_minor": 0
      },
      "text/plain": [
       "Image Batches:   0%|          | 0/13 [00:00<?, ?it/s]"
      ]
     },
     "metadata": {},
     "output_type": "display_data"
    },
    {
     "data": {
      "application/vnd.jupyter.widget-view+json": {
       "model_id": "5dd84c88555743b28f968da32e649bc8",
       "version_major": 2,
       "version_minor": 0
      },
      "text/plain": [
       "Image Batches:   0%|          | 0/13 [00:00<?, ?it/s]"
      ]
     },
     "metadata": {},
     "output_type": "display_data"
    },
    {
     "data": {
      "application/vnd.jupyter.widget-view+json": {
       "model_id": "f473b5ebbfef4e24aa778b949cc490bb",
       "version_major": 2,
       "version_minor": 0
      },
      "text/plain": [
       "Image Batches:   0%|          | 0/14 [00:00<?, ?it/s]"
      ]
     },
     "metadata": {},
     "output_type": "display_data"
    },
    {
     "data": {
      "application/vnd.jupyter.widget-view+json": {
       "model_id": "7e83e00d476846a2be3f3f0672666023",
       "version_major": 2,
       "version_minor": 0
      },
      "text/plain": [
       "Image Batches:   0%|          | 0/13 [00:00<?, ?it/s]"
      ]
     },
     "metadata": {},
     "output_type": "display_data"
    },
    {
     "data": {
      "application/vnd.jupyter.widget-view+json": {
       "model_id": "cc058ed3694347bd8b8d9906c7a63fba",
       "version_major": 2,
       "version_minor": 0
      },
      "text/plain": [
       "Image Batches:   0%|          | 0/13 [00:00<?, ?it/s]"
      ]
     },
     "metadata": {},
     "output_type": "display_data"
    },
    {
     "data": {
      "application/vnd.jupyter.widget-view+json": {
       "model_id": "aa754c87163447919aec74cfc20710bf",
       "version_major": 2,
       "version_minor": 0
      },
      "text/plain": [
       "Image Batches:   0%|          | 0/13 [00:00<?, ?it/s]"
      ]
     },
     "metadata": {},
     "output_type": "display_data"
    },
    {
     "data": {
      "application/vnd.jupyter.widget-view+json": {
       "model_id": "7a4dc8ab35f84abbb07909c5f3b9c29a",
       "version_major": 2,
       "version_minor": 0
      },
      "text/plain": [
       "Image Batches:   0%|          | 0/13 [00:00<?, ?it/s]"
      ]
     },
     "metadata": {},
     "output_type": "display_data"
    },
    {
     "data": {
      "application/vnd.jupyter.widget-view+json": {
       "model_id": "fae6be037e6c4ca6957c286642d25449",
       "version_major": 2,
       "version_minor": 0
      },
      "text/plain": [
       "Image Batches:   0%|          | 0/26 [00:00<?, ?it/s]"
      ]
     },
     "metadata": {},
     "output_type": "display_data"
    },
    {
     "data": {
      "application/vnd.jupyter.widget-view+json": {
       "model_id": "07a1097a458746d1a6b3cbd73050831f",
       "version_major": 2,
       "version_minor": 0
      },
      "text/plain": [
       "Image Batches:   0%|          | 0/13 [00:00<?, ?it/s]"
      ]
     },
     "metadata": {},
     "output_type": "display_data"
    },
    {
     "data": {
      "application/vnd.jupyter.widget-view+json": {
       "model_id": "bb293d20d8dc477692f23aafae3648e0",
       "version_major": 2,
       "version_minor": 0
      },
      "text/plain": [
       "Image Batches:   0%|          | 0/13 [00:00<?, ?it/s]"
      ]
     },
     "metadata": {},
     "output_type": "display_data"
    },
    {
     "data": {
      "application/vnd.jupyter.widget-view+json": {
       "model_id": "9f34a38b9a054b89a1904e9f9a7b2222",
       "version_major": 2,
       "version_minor": 0
      },
      "text/plain": [
       "Image Batches:   0%|          | 0/13 [00:00<?, ?it/s]"
      ]
     },
     "metadata": {},
     "output_type": "display_data"
    },
    {
     "data": {
      "application/vnd.jupyter.widget-view+json": {
       "model_id": "d13d8442a14f4643ae0b38c9144797ff",
       "version_major": 2,
       "version_minor": 0
      },
      "text/plain": [
       "Image Batches:   0%|          | 0/11 [00:00<?, ?it/s]"
      ]
     },
     "metadata": {},
     "output_type": "display_data"
    },
    {
     "data": {
      "application/vnd.jupyter.widget-view+json": {
       "model_id": "ee89f1626f0048d8a09be9aba8a4851c",
       "version_major": 2,
       "version_minor": 0
      },
      "text/plain": [
       "Image Batches:   0%|          | 0/13 [00:00<?, ?it/s]"
      ]
     },
     "metadata": {},
     "output_type": "display_data"
    },
    {
     "data": {
      "application/vnd.jupyter.widget-view+json": {
       "model_id": "dadf09bdaf5a4f8cb1cd04f754260935",
       "version_major": 2,
       "version_minor": 0
      },
      "text/plain": [
       "Image Batches:   0%|          | 0/13 [00:00<?, ?it/s]"
      ]
     },
     "metadata": {},
     "output_type": "display_data"
    },
    {
     "data": {
      "application/vnd.jupyter.widget-view+json": {
       "model_id": "bbb7b12c7b1f4cc69bd7252d09246921",
       "version_major": 2,
       "version_minor": 0
      },
      "text/plain": [
       "Image Batches:   0%|          | 0/13 [00:00<?, ?it/s]"
      ]
     },
     "metadata": {},
     "output_type": "display_data"
    },
    {
     "data": {
      "application/vnd.jupyter.widget-view+json": {
       "model_id": "b8c1f29a42bc443a89d9afc3d43f9843",
       "version_major": 2,
       "version_minor": 0
      },
      "text/plain": [
       "Image Batches:   0%|          | 0/13 [00:00<?, ?it/s]"
      ]
     },
     "metadata": {},
     "output_type": "display_data"
    },
    {
     "data": {
      "application/vnd.jupyter.widget-view+json": {
       "model_id": "8f8d5cec53e44aec8b4ba40e85e2d137",
       "version_major": 2,
       "version_minor": 0
      },
      "text/plain": [
       "Image Batches:   0%|          | 0/13 [00:00<?, ?it/s]"
      ]
     },
     "metadata": {},
     "output_type": "display_data"
    },
    {
     "data": {
      "application/vnd.jupyter.widget-view+json": {
       "model_id": "2b385bc2f60d4bbe9f50e4f4165ecd8a",
       "version_major": 2,
       "version_minor": 0
      },
      "text/plain": [
       "Image Batches:   0%|          | 0/13 [00:00<?, ?it/s]"
      ]
     },
     "metadata": {},
     "output_type": "display_data"
    },
    {
     "data": {
      "application/vnd.jupyter.widget-view+json": {
       "model_id": "043c3290d426409e900b418f62e49f06",
       "version_major": 2,
       "version_minor": 0
      },
      "text/plain": [
       "Image Batches:   0%|          | 0/14 [00:00<?, ?it/s]"
      ]
     },
     "metadata": {},
     "output_type": "display_data"
    },
    {
     "data": {
      "application/vnd.jupyter.widget-view+json": {
       "model_id": "eff05b4dfb1a4ace99237d30d2bc869c",
       "version_major": 2,
       "version_minor": 0
      },
      "text/plain": [
       "Image Batches:   0%|          | 0/16 [00:00<?, ?it/s]"
      ]
     },
     "metadata": {},
     "output_type": "display_data"
    },
    {
     "data": {
      "application/vnd.jupyter.widget-view+json": {
       "model_id": "eebc2c0ca7064732b544be50f30279fe",
       "version_major": 2,
       "version_minor": 0
      },
      "text/plain": [
       "Image Batches:   0%|          | 0/13 [00:00<?, ?it/s]"
      ]
     },
     "metadata": {},
     "output_type": "display_data"
    },
    {
     "data": {
      "application/vnd.jupyter.widget-view+json": {
       "model_id": "897c5c1c53c34aab8a7e0adc005cd1ff",
       "version_major": 2,
       "version_minor": 0
      },
      "text/plain": [
       "Image Batches:   0%|          | 0/13 [00:00<?, ?it/s]"
      ]
     },
     "metadata": {},
     "output_type": "display_data"
    },
    {
     "data": {
      "application/vnd.jupyter.widget-view+json": {
       "model_id": "d08a3fbf8ab346aa8375f93f65cde199",
       "version_major": 2,
       "version_minor": 0
      },
      "text/plain": [
       "Image Batches:   0%|          | 0/25 [00:00<?, ?it/s]"
      ]
     },
     "metadata": {},
     "output_type": "display_data"
    },
    {
     "data": {
      "application/vnd.jupyter.widget-view+json": {
       "model_id": "35ea831dec0143fdb6139944cd35a441",
       "version_major": 2,
       "version_minor": 0
      },
      "text/plain": [
       "Image Batches:   0%|          | 0/13 [00:00<?, ?it/s]"
      ]
     },
     "metadata": {},
     "output_type": "display_data"
    },
    {
     "data": {
      "application/vnd.jupyter.widget-view+json": {
       "model_id": "44dd0c1acb4f4ba59aa7dbe7583193f4",
       "version_major": 2,
       "version_minor": 0
      },
      "text/plain": [
       "Image Batches:   0%|          | 0/13 [00:00<?, ?it/s]"
      ]
     },
     "metadata": {},
     "output_type": "display_data"
    },
    {
     "data": {
      "application/vnd.jupyter.widget-view+json": {
       "model_id": "c374a3cbd80749f5ace24ed5dec28e2e",
       "version_major": 2,
       "version_minor": 0
      },
      "text/plain": [
       "Image Batches:   0%|          | 0/17 [00:00<?, ?it/s]"
      ]
     },
     "metadata": {},
     "output_type": "display_data"
    },
    {
     "data": {
      "application/vnd.jupyter.widget-view+json": {
       "model_id": "05fac4c49ead4471989e6a3904e5e15e",
       "version_major": 2,
       "version_minor": 0
      },
      "text/plain": [
       "Image Batches:   0%|          | 0/13 [00:00<?, ?it/s]"
      ]
     },
     "metadata": {},
     "output_type": "display_data"
    },
    {
     "data": {
      "application/vnd.jupyter.widget-view+json": {
       "model_id": "8b3cb3b6152346319e823b6d56e35439",
       "version_major": 2,
       "version_minor": 0
      },
      "text/plain": [
       "Image Batches:   0%|          | 0/13 [00:00<?, ?it/s]"
      ]
     },
     "metadata": {},
     "output_type": "display_data"
    },
    {
     "data": {
      "application/vnd.jupyter.widget-view+json": {
       "model_id": "9eca27616d614b98b09915846571fd33",
       "version_major": 2,
       "version_minor": 0
      },
      "text/plain": [
       "Image Batches:   0%|          | 0/13 [00:00<?, ?it/s]"
      ]
     },
     "metadata": {},
     "output_type": "display_data"
    },
    {
     "data": {
      "application/vnd.jupyter.widget-view+json": {
       "model_id": "ea0fa1a535e74679872afaf1c83053b0",
       "version_major": 2,
       "version_minor": 0
      },
      "text/plain": [
       "Image Batches:   0%|          | 0/14 [00:00<?, ?it/s]"
      ]
     },
     "metadata": {},
     "output_type": "display_data"
    },
    {
     "data": {
      "application/vnd.jupyter.widget-view+json": {
       "model_id": "f980659823774ca4a21991b2bdbd01c6",
       "version_major": 2,
       "version_minor": 0
      },
      "text/plain": [
       "Image Batches:   0%|          | 0/13 [00:00<?, ?it/s]"
      ]
     },
     "metadata": {},
     "output_type": "display_data"
    },
    {
     "data": {
      "application/vnd.jupyter.widget-view+json": {
       "model_id": "9e08f28c07ec4d67b8524458dc1ab301",
       "version_major": 2,
       "version_minor": 0
      },
      "text/plain": [
       "Image Batches:   0%|          | 0/14 [00:00<?, ?it/s]"
      ]
     },
     "metadata": {},
     "output_type": "display_data"
    },
    {
     "data": {
      "application/vnd.jupyter.widget-view+json": {
       "model_id": "82787f95b2bf4c199466f9f23e1432c9",
       "version_major": 2,
       "version_minor": 0
      },
      "text/plain": [
       "Image Batches:   0%|          | 0/13 [00:00<?, ?it/s]"
      ]
     },
     "metadata": {},
     "output_type": "display_data"
    },
    {
     "data": {
      "application/vnd.jupyter.widget-view+json": {
       "model_id": "2771d797876749bfaf46c17bf965348e",
       "version_major": 2,
       "version_minor": 0
      },
      "text/plain": [
       "Image Batches:   0%|          | 0/13 [00:00<?, ?it/s]"
      ]
     },
     "metadata": {},
     "output_type": "display_data"
    },
    {
     "data": {
      "application/vnd.jupyter.widget-view+json": {
       "model_id": "733cab893eda4538b7648d2dae96a7ff",
       "version_major": 2,
       "version_minor": 0
      },
      "text/plain": [
       "Image Batches:   0%|          | 0/13 [00:00<?, ?it/s]"
      ]
     },
     "metadata": {},
     "output_type": "display_data"
    },
    {
     "data": {
      "application/vnd.jupyter.widget-view+json": {
       "model_id": "9c6fe2e725b6443696498a4b3e22d839",
       "version_major": 2,
       "version_minor": 0
      },
      "text/plain": [
       "Image Batches:   0%|          | 0/13 [00:00<?, ?it/s]"
      ]
     },
     "metadata": {},
     "output_type": "display_data"
    },
    {
     "data": {
      "application/vnd.jupyter.widget-view+json": {
       "model_id": "902b5b396856413d9a4d3cb6f3717efc",
       "version_major": 2,
       "version_minor": 0
      },
      "text/plain": [
       "Image Batches:   0%|          | 0/11 [00:00<?, ?it/s]"
      ]
     },
     "metadata": {},
     "output_type": "display_data"
    },
    {
     "data": {
      "application/vnd.jupyter.widget-view+json": {
       "model_id": "4751b1e86e414f16829f492de81c034c",
       "version_major": 2,
       "version_minor": 0
      },
      "text/plain": [
       "Image Batches:   0%|          | 0/13 [00:00<?, ?it/s]"
      ]
     },
     "metadata": {},
     "output_type": "display_data"
    },
    {
     "data": {
      "application/vnd.jupyter.widget-view+json": {
       "model_id": "fd6586dfe55c430490652e1acf228b30",
       "version_major": 2,
       "version_minor": 0
      },
      "text/plain": [
       "Image Batches:   0%|          | 0/13 [00:00<?, ?it/s]"
      ]
     },
     "metadata": {},
     "output_type": "display_data"
    },
    {
     "data": {
      "application/vnd.jupyter.widget-view+json": {
       "model_id": "3c00c1e202f94a6b9faf1d790f076160",
       "version_major": 2,
       "version_minor": 0
      },
      "text/plain": [
       "Image Batches:   0%|          | 0/12 [00:00<?, ?it/s]"
      ]
     },
     "metadata": {},
     "output_type": "display_data"
    },
    {
     "data": {
      "application/vnd.jupyter.widget-view+json": {
       "model_id": "0590059e917f4e9086e865a7f11fc13a",
       "version_major": 2,
       "version_minor": 0
      },
      "text/plain": [
       "Image Batches:   0%|          | 0/24 [00:00<?, ?it/s]"
      ]
     },
     "metadata": {},
     "output_type": "display_data"
    },
    {
     "data": {
      "application/vnd.jupyter.widget-view+json": {
       "model_id": "9cde00f001864e75aad8a752910259ae",
       "version_major": 2,
       "version_minor": 0
      },
      "text/plain": [
       "Image Batches:   0%|          | 0/28 [00:00<?, ?it/s]"
      ]
     },
     "metadata": {},
     "output_type": "display_data"
    },
    {
     "data": {
      "application/vnd.jupyter.widget-view+json": {
       "model_id": "98544ec2e5184e7db18a899dd4188957",
       "version_major": 2,
       "version_minor": 0
      },
      "text/plain": [
       "Image Batches:   0%|          | 0/29 [00:00<?, ?it/s]"
      ]
     },
     "metadata": {},
     "output_type": "display_data"
    },
    {
     "data": {
      "application/vnd.jupyter.widget-view+json": {
       "model_id": "da252e0c6b5e46bc96f2bdff23d40e3a",
       "version_major": 2,
       "version_minor": 0
      },
      "text/plain": [
       "Image Batches:   0%|          | 0/13 [00:00<?, ?it/s]"
      ]
     },
     "metadata": {},
     "output_type": "display_data"
    },
    {
     "data": {
      "application/vnd.jupyter.widget-view+json": {
       "model_id": "e9340b6a98404e3b84bc116967cb769a",
       "version_major": 2,
       "version_minor": 0
      },
      "text/plain": [
       "Image Batches:   0%|          | 0/13 [00:00<?, ?it/s]"
      ]
     },
     "metadata": {},
     "output_type": "display_data"
    },
    {
     "data": {
      "application/vnd.jupyter.widget-view+json": {
       "model_id": "8c4e34693bee4d4480ff880b717d9089",
       "version_major": 2,
       "version_minor": 0
      },
      "text/plain": [
       "Image Batches:   0%|          | 0/24 [00:00<?, ?it/s]"
      ]
     },
     "metadata": {},
     "output_type": "display_data"
    },
    {
     "data": {
      "application/vnd.jupyter.widget-view+json": {
       "model_id": "ba89aa47f33d4b74b3487fbed2273038",
       "version_major": 2,
       "version_minor": 0
      },
      "text/plain": [
       "Image Batches:   0%|          | 0/13 [00:00<?, ?it/s]"
      ]
     },
     "metadata": {},
     "output_type": "display_data"
    },
    {
     "data": {
      "application/vnd.jupyter.widget-view+json": {
       "model_id": "bc1d7339ca5d48d988c83889df3cb70c",
       "version_major": 2,
       "version_minor": 0
      },
      "text/plain": [
       "Image Batches:   0%|          | 0/13 [00:00<?, ?it/s]"
      ]
     },
     "metadata": {},
     "output_type": "display_data"
    },
    {
     "data": {
      "application/vnd.jupyter.widget-view+json": {
       "model_id": "84b3a1b158e242e4bcfefa160ec751fe",
       "version_major": 2,
       "version_minor": 0
      },
      "text/plain": [
       "Image Batches:   0%|          | 0/13 [00:00<?, ?it/s]"
      ]
     },
     "metadata": {},
     "output_type": "display_data"
    },
    {
     "data": {
      "application/vnd.jupyter.widget-view+json": {
       "model_id": "ec1b8dfc29594f8a997365e889cb77e7",
       "version_major": 2,
       "version_minor": 0
      },
      "text/plain": [
       "Image Batches:   0%|          | 0/13 [00:00<?, ?it/s]"
      ]
     },
     "metadata": {},
     "output_type": "display_data"
    },
    {
     "data": {
      "application/vnd.jupyter.widget-view+json": {
       "model_id": "6016f0d325804d10b41b01c2b7002c37",
       "version_major": 2,
       "version_minor": 0
      },
      "text/plain": [
       "Image Batches:   0%|          | 0/13 [00:00<?, ?it/s]"
      ]
     },
     "metadata": {},
     "output_type": "display_data"
    },
    {
     "data": {
      "application/vnd.jupyter.widget-view+json": {
       "model_id": "ce89970ffff348dab08864feded088a5",
       "version_major": 2,
       "version_minor": 0
      },
      "text/plain": [
       "Image Batches:   0%|          | 0/13 [00:00<?, ?it/s]"
      ]
     },
     "metadata": {},
     "output_type": "display_data"
    },
    {
     "data": {
      "application/vnd.jupyter.widget-view+json": {
       "model_id": "0fdf0d59e6604094bfccb047d17881e2",
       "version_major": 2,
       "version_minor": 0
      },
      "text/plain": [
       "Image Batches:   0%|          | 0/13 [00:00<?, ?it/s]"
      ]
     },
     "metadata": {},
     "output_type": "display_data"
    },
    {
     "data": {
      "application/vnd.jupyter.widget-view+json": {
       "model_id": "67076fd8ff7c452a90dbef6f1b229483",
       "version_major": 2,
       "version_minor": 0
      },
      "text/plain": [
       "Image Batches:   0%|          | 0/14 [00:00<?, ?it/s]"
      ]
     },
     "metadata": {},
     "output_type": "display_data"
    },
    {
     "data": {
      "application/vnd.jupyter.widget-view+json": {
       "model_id": "696532abb5bf4dddaff389d3f8fd1bdb",
       "version_major": 2,
       "version_minor": 0
      },
      "text/plain": [
       "Image Batches:   0%|          | 0/24 [00:00<?, ?it/s]"
      ]
     },
     "metadata": {},
     "output_type": "display_data"
    },
    {
     "data": {
      "application/vnd.jupyter.widget-view+json": {
       "model_id": "ed1841e7c4d846ee9e0e484ec05a0c3c",
       "version_major": 2,
       "version_minor": 0
      },
      "text/plain": [
       "Image Batches:   0%|          | 0/13 [00:00<?, ?it/s]"
      ]
     },
     "metadata": {},
     "output_type": "display_data"
    },
    {
     "data": {
      "application/vnd.jupyter.widget-view+json": {
       "model_id": "83ee3bf86226496eba97b9940427b195",
       "version_major": 2,
       "version_minor": 0
      },
      "text/plain": [
       "Image Batches:   0%|          | 0/13 [00:00<?, ?it/s]"
      ]
     },
     "metadata": {},
     "output_type": "display_data"
    },
    {
     "data": {
      "application/vnd.jupyter.widget-view+json": {
       "model_id": "451f44e9bb4a438084dbddc9f6f0a50f",
       "version_major": 2,
       "version_minor": 0
      },
      "text/plain": [
       "Image Batches:   0%|          | 0/12 [00:00<?, ?it/s]"
      ]
     },
     "metadata": {},
     "output_type": "display_data"
    },
    {
     "data": {
      "application/vnd.jupyter.widget-view+json": {
       "model_id": "b159dbc086bd4d1a9c56627eb70d6e9b",
       "version_major": 2,
       "version_minor": 0
      },
      "text/plain": [
       "Image Batches:   0%|          | 0/13 [00:00<?, ?it/s]"
      ]
     },
     "metadata": {},
     "output_type": "display_data"
    },
    {
     "data": {
      "application/vnd.jupyter.widget-view+json": {
       "model_id": "6a01302685e44877b443ea354bd654f1",
       "version_major": 2,
       "version_minor": 0
      },
      "text/plain": [
       "Image Batches:   0%|          | 0/13 [00:00<?, ?it/s]"
      ]
     },
     "metadata": {},
     "output_type": "display_data"
    },
    {
     "data": {
      "application/vnd.jupyter.widget-view+json": {
       "model_id": "45cc6732010e4afc8e328f4ed10084d0",
       "version_major": 2,
       "version_minor": 0
      },
      "text/plain": [
       "Image Batches:   0%|          | 0/13 [00:00<?, ?it/s]"
      ]
     },
     "metadata": {},
     "output_type": "display_data"
    },
    {
     "data": {
      "application/vnd.jupyter.widget-view+json": {
       "model_id": "85e526c813254fdfa830bf97a4e7aef6",
       "version_major": 2,
       "version_minor": 0
      },
      "text/plain": [
       "Image Batches:   0%|          | 0/13 [00:00<?, ?it/s]"
      ]
     },
     "metadata": {},
     "output_type": "display_data"
    },
    {
     "data": {
      "application/vnd.jupyter.widget-view+json": {
       "model_id": "bc922f95e9db4462a4bf0851e5b5d2a5",
       "version_major": 2,
       "version_minor": 0
      },
      "text/plain": [
       "Image Batches:   0%|          | 0/13 [00:00<?, ?it/s]"
      ]
     },
     "metadata": {},
     "output_type": "display_data"
    },
    {
     "data": {
      "application/vnd.jupyter.widget-view+json": {
       "model_id": "ea0d691aa77e44dc8e46ecc9c60cb4c8",
       "version_major": 2,
       "version_minor": 0
      },
      "text/plain": [
       "Image Batches:   0%|          | 0/13 [00:00<?, ?it/s]"
      ]
     },
     "metadata": {},
     "output_type": "display_data"
    },
    {
     "data": {
      "application/vnd.jupyter.widget-view+json": {
       "model_id": "12516981254d42a88c988dfb6b6b811f",
       "version_major": 2,
       "version_minor": 0
      },
      "text/plain": [
       "Image Batches:   0%|          | 0/13 [00:00<?, ?it/s]"
      ]
     },
     "metadata": {},
     "output_type": "display_data"
    },
    {
     "data": {
      "application/vnd.jupyter.widget-view+json": {
       "model_id": "e730a664e0b342878dc3a8dd59304bbf",
       "version_major": 2,
       "version_minor": 0
      },
      "text/plain": [
       "Image Batches:   0%|          | 0/14 [00:00<?, ?it/s]"
      ]
     },
     "metadata": {},
     "output_type": "display_data"
    },
    {
     "data": {
      "application/vnd.jupyter.widget-view+json": {
       "model_id": "09023a8700154008b2e0e2c5b83180ec",
       "version_major": 2,
       "version_minor": 0
      },
      "text/plain": [
       "Image Batches:   0%|          | 0/14 [00:00<?, ?it/s]"
      ]
     },
     "metadata": {},
     "output_type": "display_data"
    },
    {
     "data": {
      "application/vnd.jupyter.widget-view+json": {
       "model_id": "153fb54020d345b1bc872d580cf26c51",
       "version_major": 2,
       "version_minor": 0
      },
      "text/plain": [
       "Image Batches:   0%|          | 0/13 [00:00<?, ?it/s]"
      ]
     },
     "metadata": {},
     "output_type": "display_data"
    },
    {
     "data": {
      "application/vnd.jupyter.widget-view+json": {
       "model_id": "de95fed161974d01ad66c5008691d4ef",
       "version_major": 2,
       "version_minor": 0
      },
      "text/plain": [
       "Image Batches:   0%|          | 0/24 [00:00<?, ?it/s]"
      ]
     },
     "metadata": {},
     "output_type": "display_data"
    },
    {
     "data": {
      "application/vnd.jupyter.widget-view+json": {
       "model_id": "3127384302024fafa39d2ccafc27aaea",
       "version_major": 2,
       "version_minor": 0
      },
      "text/plain": [
       "Image Batches:   0%|          | 0/13 [00:00<?, ?it/s]"
      ]
     },
     "metadata": {},
     "output_type": "display_data"
    },
    {
     "data": {
      "application/vnd.jupyter.widget-view+json": {
       "model_id": "984ece59dd2e462f984d10d71d452435",
       "version_major": 2,
       "version_minor": 0
      },
      "text/plain": [
       "Image Batches:   0%|          | 0/13 [00:00<?, ?it/s]"
      ]
     },
     "metadata": {},
     "output_type": "display_data"
    },
    {
     "data": {
      "application/vnd.jupyter.widget-view+json": {
       "model_id": "b4ef234c7c864d2f82cf21598e6384fd",
       "version_major": 2,
       "version_minor": 0
      },
      "text/plain": [
       "Image Batches:   0%|          | 0/14 [00:00<?, ?it/s]"
      ]
     },
     "metadata": {},
     "output_type": "display_data"
    },
    {
     "data": {
      "application/vnd.jupyter.widget-view+json": {
       "model_id": "568440e3f0b04e3ead0a4d12b3dbdd10",
       "version_major": 2,
       "version_minor": 0
      },
      "text/plain": [
       "Image Batches:   0%|          | 0/13 [00:00<?, ?it/s]"
      ]
     },
     "metadata": {},
     "output_type": "display_data"
    },
    {
     "data": {
      "application/vnd.jupyter.widget-view+json": {
       "model_id": "ee1a97154b494279b9e4b468e6bc3e46",
       "version_major": 2,
       "version_minor": 0
      },
      "text/plain": [
       "Image Batches:   0%|          | 0/25 [00:00<?, ?it/s]"
      ]
     },
     "metadata": {},
     "output_type": "display_data"
    },
    {
     "data": {
      "application/vnd.jupyter.widget-view+json": {
       "model_id": "752ba625b58a40a88ee5f02e17c0004d",
       "version_major": 2,
       "version_minor": 0
      },
      "text/plain": [
       "Image Batches:   0%|          | 0/13 [00:00<?, ?it/s]"
      ]
     },
     "metadata": {},
     "output_type": "display_data"
    },
    {
     "data": {
      "application/vnd.jupyter.widget-view+json": {
       "model_id": "17bdafce1270488fa18b193eadb45409",
       "version_major": 2,
       "version_minor": 0
      },
      "text/plain": [
       "Image Batches:   0%|          | 0/14 [00:00<?, ?it/s]"
      ]
     },
     "metadata": {},
     "output_type": "display_data"
    },
    {
     "data": {
      "application/vnd.jupyter.widget-view+json": {
       "model_id": "65ead82cd9384dd8accc46cdbe636aaf",
       "version_major": 2,
       "version_minor": 0
      },
      "text/plain": [
       "Image Batches:   0%|          | 0/13 [00:00<?, ?it/s]"
      ]
     },
     "metadata": {},
     "output_type": "display_data"
    },
    {
     "data": {
      "application/vnd.jupyter.widget-view+json": {
       "model_id": "23106da31335432c891941b08e8d4138",
       "version_major": 2,
       "version_minor": 0
      },
      "text/plain": [
       "Image Batches:   0%|          | 0/13 [00:00<?, ?it/s]"
      ]
     },
     "metadata": {},
     "output_type": "display_data"
    },
    {
     "data": {
      "application/vnd.jupyter.widget-view+json": {
       "model_id": "692dcb473a1a493b8d5e7cae8dfb169e",
       "version_major": 2,
       "version_minor": 0
      },
      "text/plain": [
       "Image Batches:   0%|          | 0/13 [00:00<?, ?it/s]"
      ]
     },
     "metadata": {},
     "output_type": "display_data"
    },
    {
     "data": {
      "application/vnd.jupyter.widget-view+json": {
       "model_id": "11705b575014476d94c2816ddc0e9ab0",
       "version_major": 2,
       "version_minor": 0
      },
      "text/plain": [
       "Image Batches:   0%|          | 0/13 [00:00<?, ?it/s]"
      ]
     },
     "metadata": {},
     "output_type": "display_data"
    },
    {
     "data": {
      "application/vnd.jupyter.widget-view+json": {
       "model_id": "b2b1a8d7f7e24e42adbae592ce989842",
       "version_major": 2,
       "version_minor": 0
      },
      "text/plain": [
       "Image Batches:   0%|          | 0/13 [00:00<?, ?it/s]"
      ]
     },
     "metadata": {},
     "output_type": "display_data"
    },
    {
     "data": {
      "application/vnd.jupyter.widget-view+json": {
       "model_id": "4dc6fdea66d8405980d620e0b8c48e8d",
       "version_major": 2,
       "version_minor": 0
      },
      "text/plain": [
       "Image Batches:   0%|          | 0/25 [00:00<?, ?it/s]"
      ]
     },
     "metadata": {},
     "output_type": "display_data"
    },
    {
     "data": {
      "application/vnd.jupyter.widget-view+json": {
       "model_id": "d4701844ef724b1eb0e99a57f427fa67",
       "version_major": 2,
       "version_minor": 0
      },
      "text/plain": [
       "Image Batches:   0%|          | 0/13 [00:00<?, ?it/s]"
      ]
     },
     "metadata": {},
     "output_type": "display_data"
    },
    {
     "data": {
      "application/vnd.jupyter.widget-view+json": {
       "model_id": "3ec7849a206f483f8b524d410d16199d",
       "version_major": 2,
       "version_minor": 0
      },
      "text/plain": [
       "Image Batches:   0%|          | 0/4 [00:00<?, ?it/s]"
      ]
     },
     "metadata": {},
     "output_type": "display_data"
    },
    {
     "data": {
      "application/vnd.jupyter.widget-view+json": {
       "model_id": "2989e05cce154cd291c41eb6551ce8bd",
       "version_major": 2,
       "version_minor": 0
      },
      "text/plain": [
       "Image Batches:   0%|          | 0/13 [00:00<?, ?it/s]"
      ]
     },
     "metadata": {},
     "output_type": "display_data"
    },
    {
     "data": {
      "application/vnd.jupyter.widget-view+json": {
       "model_id": "302a3f5dcf454efa9ebd1f8f51c3dcce",
       "version_major": 2,
       "version_minor": 0
      },
      "text/plain": [
       "Image Batches:   0%|          | 0/14 [00:00<?, ?it/s]"
      ]
     },
     "metadata": {},
     "output_type": "display_data"
    },
    {
     "data": {
      "application/vnd.jupyter.widget-view+json": {
       "model_id": "519eed5351df4880a6e2c572f32593b5",
       "version_major": 2,
       "version_minor": 0
      },
      "text/plain": [
       "Image Batches:   0%|          | 0/14 [00:00<?, ?it/s]"
      ]
     },
     "metadata": {},
     "output_type": "display_data"
    },
    {
     "data": {
      "application/vnd.jupyter.widget-view+json": {
       "model_id": "f85f597f83594584aaafe4ff56ad8e1c",
       "version_major": 2,
       "version_minor": 0
      },
      "text/plain": [
       "Image Batches:   0%|          | 0/13 [00:00<?, ?it/s]"
      ]
     },
     "metadata": {},
     "output_type": "display_data"
    },
    {
     "data": {
      "application/vnd.jupyter.widget-view+json": {
       "model_id": "5b7913f3f7704690881b3814532fb977",
       "version_major": 2,
       "version_minor": 0
      },
      "text/plain": [
       "Image Batches:   0%|          | 0/26 [00:00<?, ?it/s]"
      ]
     },
     "metadata": {},
     "output_type": "display_data"
    },
    {
     "data": {
      "application/vnd.jupyter.widget-view+json": {
       "model_id": "c00783b6da354f81b5d7cfe2b6d586c3",
       "version_major": 2,
       "version_minor": 0
      },
      "text/plain": [
       "Image Batches:   0%|          | 0/13 [00:00<?, ?it/s]"
      ]
     },
     "metadata": {},
     "output_type": "display_data"
    },
    {
     "data": {
      "application/vnd.jupyter.widget-view+json": {
       "model_id": "f640f975db6e40679bbcb7f1e7fa8e1c",
       "version_major": 2,
       "version_minor": 0
      },
      "text/plain": [
       "Image Batches:   0%|          | 0/13 [00:00<?, ?it/s]"
      ]
     },
     "metadata": {},
     "output_type": "display_data"
    },
    {
     "data": {
      "application/vnd.jupyter.widget-view+json": {
       "model_id": "69d7a671e0dc4802b9577a66d6e023ee",
       "version_major": 2,
       "version_minor": 0
      },
      "text/plain": [
       "Image Batches:   0%|          | 0/13 [00:00<?, ?it/s]"
      ]
     },
     "metadata": {},
     "output_type": "display_data"
    },
    {
     "data": {
      "application/vnd.jupyter.widget-view+json": {
       "model_id": "ee1680a5668549c49454a672413628b5",
       "version_major": 2,
       "version_minor": 0
      },
      "text/plain": [
       "Image Batches:   0%|          | 0/14 [00:00<?, ?it/s]"
      ]
     },
     "metadata": {},
     "output_type": "display_data"
    },
    {
     "data": {
      "application/vnd.jupyter.widget-view+json": {
       "model_id": "4ad03ff4929946b5b7c50a9b2409c632",
       "version_major": 2,
       "version_minor": 0
      },
      "text/plain": [
       "Image Batches:   0%|          | 0/13 [00:00<?, ?it/s]"
      ]
     },
     "metadata": {},
     "output_type": "display_data"
    },
    {
     "data": {
      "application/vnd.jupyter.widget-view+json": {
       "model_id": "d7beee6ef3c24344bd94b5c93a3af010",
       "version_major": 2,
       "version_minor": 0
      },
      "text/plain": [
       "Image Batches:   0%|          | 0/13 [00:00<?, ?it/s]"
      ]
     },
     "metadata": {},
     "output_type": "display_data"
    },
    {
     "data": {
      "application/vnd.jupyter.widget-view+json": {
       "model_id": "4f1a2c3b8a1a45daa46ee317d50dd918",
       "version_major": 2,
       "version_minor": 0
      },
      "text/plain": [
       "Image Batches:   0%|          | 0/13 [00:00<?, ?it/s]"
      ]
     },
     "metadata": {},
     "output_type": "display_data"
    },
    {
     "data": {
      "application/vnd.jupyter.widget-view+json": {
       "model_id": "a4a983747c894168b5227da78fe41f84",
       "version_major": 2,
       "version_minor": 0
      },
      "text/plain": [
       "Image Batches:   0%|          | 0/13 [00:00<?, ?it/s]"
      ]
     },
     "metadata": {},
     "output_type": "display_data"
    },
    {
     "data": {
      "application/vnd.jupyter.widget-view+json": {
       "model_id": "fd6c946f1fc9478dbfefca83cf194ee2",
       "version_major": 2,
       "version_minor": 0
      },
      "text/plain": [
       "Image Batches:   0%|          | 0/13 [00:00<?, ?it/s]"
      ]
     },
     "metadata": {},
     "output_type": "display_data"
    },
    {
     "data": {
      "application/vnd.jupyter.widget-view+json": {
       "model_id": "dc4b30abc9f04ca294a7f4d532674cad",
       "version_major": 2,
       "version_minor": 0
      },
      "text/plain": [
       "Image Batches:   0%|          | 0/13 [00:00<?, ?it/s]"
      ]
     },
     "metadata": {},
     "output_type": "display_data"
    },
    {
     "data": {
      "application/vnd.jupyter.widget-view+json": {
       "model_id": "bae5d68213324bb7bd3539ce95b898f7",
       "version_major": 2,
       "version_minor": 0
      },
      "text/plain": [
       "Image Batches:   0%|          | 0/13 [00:00<?, ?it/s]"
      ]
     },
     "metadata": {},
     "output_type": "display_data"
    },
    {
     "data": {
      "application/vnd.jupyter.widget-view+json": {
       "model_id": "58a946cc9cdc417b93003ba15307ce21",
       "version_major": 2,
       "version_minor": 0
      },
      "text/plain": [
       "Image Batches:   0%|          | 0/13 [00:00<?, ?it/s]"
      ]
     },
     "metadata": {},
     "output_type": "display_data"
    },
    {
     "data": {
      "application/vnd.jupyter.widget-view+json": {
       "model_id": "76fb1f33ffa4457a871a00d0dd8982ce",
       "version_major": 2,
       "version_minor": 0
      },
      "text/plain": [
       "Image Batches:   0%|          | 0/13 [00:00<?, ?it/s]"
      ]
     },
     "metadata": {},
     "output_type": "display_data"
    },
    {
     "data": {
      "application/vnd.jupyter.widget-view+json": {
       "model_id": "ceec4678c6234ce0955d345071b967b5",
       "version_major": 2,
       "version_minor": 0
      },
      "text/plain": [
       "Image Batches:   0%|          | 0/13 [00:00<?, ?it/s]"
      ]
     },
     "metadata": {},
     "output_type": "display_data"
    },
    {
     "data": {
      "application/vnd.jupyter.widget-view+json": {
       "model_id": "73059fb071f44a57838fab71cf36c076",
       "version_major": 2,
       "version_minor": 0
      },
      "text/plain": [
       "Image Batches:   0%|          | 0/13 [00:00<?, ?it/s]"
      ]
     },
     "metadata": {},
     "output_type": "display_data"
    },
    {
     "data": {
      "application/vnd.jupyter.widget-view+json": {
       "model_id": "05f2ba16bd054aeaa1383eb46f90f40b",
       "version_major": 2,
       "version_minor": 0
      },
      "text/plain": [
       "Image Batches:   0%|          | 0/14 [00:00<?, ?it/s]"
      ]
     },
     "metadata": {},
     "output_type": "display_data"
    },
    {
     "data": {
      "application/vnd.jupyter.widget-view+json": {
       "model_id": "598fce1d0cc249529249f220786598d5",
       "version_major": 2,
       "version_minor": 0
      },
      "text/plain": [
       "Image Batches:   0%|          | 0/13 [00:00<?, ?it/s]"
      ]
     },
     "metadata": {},
     "output_type": "display_data"
    },
    {
     "data": {
      "application/vnd.jupyter.widget-view+json": {
       "model_id": "240c4e06b4594ffca5ae43675a059d05",
       "version_major": 2,
       "version_minor": 0
      },
      "text/plain": [
       "Image Batches:   0%|          | 0/1 [00:00<?, ?it/s]"
      ]
     },
     "metadata": {},
     "output_type": "display_data"
    },
    {
     "data": {
      "application/vnd.jupyter.widget-view+json": {
       "model_id": "8eabf29ae8994c918e8c4c8f5922a00a",
       "version_major": 2,
       "version_minor": 0
      },
      "text/plain": [
       "Image Batches:   0%|          | 0/13 [00:00<?, ?it/s]"
      ]
     },
     "metadata": {},
     "output_type": "display_data"
    },
    {
     "data": {
      "application/vnd.jupyter.widget-view+json": {
       "model_id": "ee137b9aca374125a0d719a3a848d84a",
       "version_major": 2,
       "version_minor": 0
      },
      "text/plain": [
       "Image Batches:   0%|          | 0/13 [00:00<?, ?it/s]"
      ]
     },
     "metadata": {},
     "output_type": "display_data"
    },
    {
     "data": {
      "application/vnd.jupyter.widget-view+json": {
       "model_id": "6a3ac2629cbd4fcda083a2a0da7a1d0e",
       "version_major": 2,
       "version_minor": 0
      },
      "text/plain": [
       "Image Batches:   0%|          | 0/13 [00:00<?, ?it/s]"
      ]
     },
     "metadata": {},
     "output_type": "display_data"
    },
    {
     "data": {
      "application/vnd.jupyter.widget-view+json": {
       "model_id": "8d34745147ed47b5916cf1bcfda24960",
       "version_major": 2,
       "version_minor": 0
      },
      "text/plain": [
       "Image Batches:   0%|          | 0/13 [00:00<?, ?it/s]"
      ]
     },
     "metadata": {},
     "output_type": "display_data"
    },
    {
     "data": {
      "application/vnd.jupyter.widget-view+json": {
       "model_id": "fa4df87f3b7f46f4ae71aa4800a1b031",
       "version_major": 2,
       "version_minor": 0
      },
      "text/plain": [
       "Image Batches:   0%|          | 0/13 [00:00<?, ?it/s]"
      ]
     },
     "metadata": {},
     "output_type": "display_data"
    },
    {
     "data": {
      "application/vnd.jupyter.widget-view+json": {
       "model_id": "af3ac6203159491391291e71190d06ba",
       "version_major": 2,
       "version_minor": 0
      },
      "text/plain": [
       "Image Batches:   0%|          | 0/13 [00:00<?, ?it/s]"
      ]
     },
     "metadata": {},
     "output_type": "display_data"
    },
    {
     "data": {
      "application/vnd.jupyter.widget-view+json": {
       "model_id": "202b3e8752b54f84be9213552a8bd97e",
       "version_major": 2,
       "version_minor": 0
      },
      "text/plain": [
       "Image Batches:   0%|          | 0/13 [00:00<?, ?it/s]"
      ]
     },
     "metadata": {},
     "output_type": "display_data"
    },
    {
     "data": {
      "application/vnd.jupyter.widget-view+json": {
       "model_id": "157255c255064d40a7185f90f1d8ed11",
       "version_major": 2,
       "version_minor": 0
      },
      "text/plain": [
       "Image Batches:   0%|          | 0/13 [00:00<?, ?it/s]"
      ]
     },
     "metadata": {},
     "output_type": "display_data"
    },
    {
     "data": {
      "application/vnd.jupyter.widget-view+json": {
       "model_id": "d5216a02300e4e3399f58f517197e01d",
       "version_major": 2,
       "version_minor": 0
      },
      "text/plain": [
       "Image Batches:   0%|          | 0/13 [00:00<?, ?it/s]"
      ]
     },
     "metadata": {},
     "output_type": "display_data"
    },
    {
     "data": {
      "application/vnd.jupyter.widget-view+json": {
       "model_id": "ba18d4443631454d90ecbffb44ddd088",
       "version_major": 2,
       "version_minor": 0
      },
      "text/plain": [
       "Image Batches:   0%|          | 0/13 [00:00<?, ?it/s]"
      ]
     },
     "metadata": {},
     "output_type": "display_data"
    },
    {
     "data": {
      "application/vnd.jupyter.widget-view+json": {
       "model_id": "7666b2e9221844c8b0b644e8ae1876b9",
       "version_major": 2,
       "version_minor": 0
      },
      "text/plain": [
       "Image Batches:   0%|          | 0/13 [00:00<?, ?it/s]"
      ]
     },
     "metadata": {},
     "output_type": "display_data"
    },
    {
     "data": {
      "application/vnd.jupyter.widget-view+json": {
       "model_id": "a0342e3d78854e4eaac3b3f2e0ec17c9",
       "version_major": 2,
       "version_minor": 0
      },
      "text/plain": [
       "Image Batches:   0%|          | 0/13 [00:00<?, ?it/s]"
      ]
     },
     "metadata": {},
     "output_type": "display_data"
    },
    {
     "data": {
      "application/vnd.jupyter.widget-view+json": {
       "model_id": "c71f5cd72a73474eb491c7afd7fda203",
       "version_major": 2,
       "version_minor": 0
      },
      "text/plain": [
       "Image Batches:   0%|          | 0/13 [00:00<?, ?it/s]"
      ]
     },
     "metadata": {},
     "output_type": "display_data"
    },
    {
     "data": {
      "application/vnd.jupyter.widget-view+json": {
       "model_id": "3689d86ba87d42da9068912791fe83c1",
       "version_major": 2,
       "version_minor": 0
      },
      "text/plain": [
       "Image Batches:   0%|          | 0/14 [00:00<?, ?it/s]"
      ]
     },
     "metadata": {},
     "output_type": "display_data"
    },
    {
     "data": {
      "application/vnd.jupyter.widget-view+json": {
       "model_id": "28c43bb8d4f94ef3862b8dae9e9ad42f",
       "version_major": 2,
       "version_minor": 0
      },
      "text/plain": [
       "Image Batches:   0%|          | 0/13 [00:00<?, ?it/s]"
      ]
     },
     "metadata": {},
     "output_type": "display_data"
    },
    {
     "data": {
      "application/vnd.jupyter.widget-view+json": {
       "model_id": "8c6b22ccae224edf8f1555cb777566b4",
       "version_major": 2,
       "version_minor": 0
      },
      "text/plain": [
       "Image Batches:   0%|          | 0/13 [00:00<?, ?it/s]"
      ]
     },
     "metadata": {},
     "output_type": "display_data"
    },
    {
     "data": {
      "application/vnd.jupyter.widget-view+json": {
       "model_id": "a3af46e753f74a8bb2b8f9f214190ccc",
       "version_major": 2,
       "version_minor": 0
      },
      "text/plain": [
       "Image Batches:   0%|          | 0/13 [00:00<?, ?it/s]"
      ]
     },
     "metadata": {},
     "output_type": "display_data"
    },
    {
     "data": {
      "application/vnd.jupyter.widget-view+json": {
       "model_id": "9f9e50cbf85547b5bc022b8f45098b33",
       "version_major": 2,
       "version_minor": 0
      },
      "text/plain": [
       "Image Batches:   0%|          | 0/14 [00:00<?, ?it/s]"
      ]
     },
     "metadata": {},
     "output_type": "display_data"
    },
    {
     "data": {
      "application/vnd.jupyter.widget-view+json": {
       "model_id": "f48df9548b464cc39fc449b7d940777f",
       "version_major": 2,
       "version_minor": 0
      },
      "text/plain": [
       "Image Batches:   0%|          | 0/13 [00:00<?, ?it/s]"
      ]
     },
     "metadata": {},
     "output_type": "display_data"
    },
    {
     "data": {
      "application/vnd.jupyter.widget-view+json": {
       "model_id": "6a0b4ddb134a4073abc2a150cef6d0fd",
       "version_major": 2,
       "version_minor": 0
      },
      "text/plain": [
       "Image Batches:   0%|          | 0/13 [00:00<?, ?it/s]"
      ]
     },
     "metadata": {},
     "output_type": "display_data"
    },
    {
     "data": {
      "application/vnd.jupyter.widget-view+json": {
       "model_id": "535b2a8418e149ec80acb1d4f9fb7477",
       "version_major": 2,
       "version_minor": 0
      },
      "text/plain": [
       "Image Batches:   0%|          | 0/13 [00:00<?, ?it/s]"
      ]
     },
     "metadata": {},
     "output_type": "display_data"
    },
    {
     "data": {
      "application/vnd.jupyter.widget-view+json": {
       "model_id": "dbe27995223a47b18d23b3dc10342906",
       "version_major": 2,
       "version_minor": 0
      },
      "text/plain": [
       "Image Batches:   0%|          | 0/13 [00:00<?, ?it/s]"
      ]
     },
     "metadata": {},
     "output_type": "display_data"
    },
    {
     "data": {
      "application/vnd.jupyter.widget-view+json": {
       "model_id": "0dafaac6f56b428ba573d2baee045696",
       "version_major": 2,
       "version_minor": 0
      },
      "text/plain": [
       "Image Batches:   0%|          | 0/13 [00:00<?, ?it/s]"
      ]
     },
     "metadata": {},
     "output_type": "display_data"
    },
    {
     "data": {
      "application/vnd.jupyter.widget-view+json": {
       "model_id": "e8a352ceafa64db4892bfaf0f48b776c",
       "version_major": 2,
       "version_minor": 0
      },
      "text/plain": [
       "Image Batches:   0%|          | 0/30 [00:00<?, ?it/s]"
      ]
     },
     "metadata": {},
     "output_type": "display_data"
    },
    {
     "data": {
      "application/vnd.jupyter.widget-view+json": {
       "model_id": "99f0bea8bbfe406497937318b14d3898",
       "version_major": 2,
       "version_minor": 0
      },
      "text/plain": [
       "Image Batches:   0%|          | 0/13 [00:00<?, ?it/s]"
      ]
     },
     "metadata": {},
     "output_type": "display_data"
    },
    {
     "data": {
      "application/vnd.jupyter.widget-view+json": {
       "model_id": "0067cb8d2fd44378ae485b414f136b04",
       "version_major": 2,
       "version_minor": 0
      },
      "text/plain": [
       "Image Batches:   0%|          | 0/13 [00:00<?, ?it/s]"
      ]
     },
     "metadata": {},
     "output_type": "display_data"
    },
    {
     "data": {
      "application/vnd.jupyter.widget-view+json": {
       "model_id": "adfc38f872154c8cbfd5604a4ae61914",
       "version_major": 2,
       "version_minor": 0
      },
      "text/plain": [
       "Image Batches:   0%|          | 0/13 [00:00<?, ?it/s]"
      ]
     },
     "metadata": {},
     "output_type": "display_data"
    },
    {
     "data": {
      "application/vnd.jupyter.widget-view+json": {
       "model_id": "d4db0bb914ec4f4da35b059dd8ed326f",
       "version_major": 2,
       "version_minor": 0
      },
      "text/plain": [
       "Image Batches:   0%|          | 0/13 [00:00<?, ?it/s]"
      ]
     },
     "metadata": {},
     "output_type": "display_data"
    },
    {
     "data": {
      "application/vnd.jupyter.widget-view+json": {
       "model_id": "c08db10e43894583bb6a13c397d921f7",
       "version_major": 2,
       "version_minor": 0
      },
      "text/plain": [
       "Image Batches:   0%|          | 0/13 [00:00<?, ?it/s]"
      ]
     },
     "metadata": {},
     "output_type": "display_data"
    },
    {
     "data": {
      "application/vnd.jupyter.widget-view+json": {
       "model_id": "29d27261807444f384a7203fa2fd7f79",
       "version_major": 2,
       "version_minor": 0
      },
      "text/plain": [
       "Image Batches:   0%|          | 0/13 [00:00<?, ?it/s]"
      ]
     },
     "metadata": {},
     "output_type": "display_data"
    },
    {
     "data": {
      "application/vnd.jupyter.widget-view+json": {
       "model_id": "50706c4079fc4e6bb551408feb63dd44",
       "version_major": 2,
       "version_minor": 0
      },
      "text/plain": [
       "Image Batches:   0%|          | 0/13 [00:00<?, ?it/s]"
      ]
     },
     "metadata": {},
     "output_type": "display_data"
    },
    {
     "data": {
      "application/vnd.jupyter.widget-view+json": {
       "model_id": "840511d0aab04d2aaf0a7902aec49342",
       "version_major": 2,
       "version_minor": 0
      },
      "text/plain": [
       "Image Batches:   0%|          | 0/26 [00:00<?, ?it/s]"
      ]
     },
     "metadata": {},
     "output_type": "display_data"
    },
    {
     "data": {
      "application/vnd.jupyter.widget-view+json": {
       "model_id": "0fc41be766a94523bbd29569f820f419",
       "version_major": 2,
       "version_minor": 0
      },
      "text/plain": [
       "Image Batches:   0%|          | 0/13 [00:00<?, ?it/s]"
      ]
     },
     "metadata": {},
     "output_type": "display_data"
    },
    {
     "data": {
      "application/vnd.jupyter.widget-view+json": {
       "model_id": "16433e61767a4da8a33969e3a0ac38ce",
       "version_major": 2,
       "version_minor": 0
      },
      "text/plain": [
       "Image Batches:   0%|          | 0/13 [00:00<?, ?it/s]"
      ]
     },
     "metadata": {},
     "output_type": "display_data"
    },
    {
     "data": {
      "application/vnd.jupyter.widget-view+json": {
       "model_id": "8b07015b4e364743a324fb0cb69fc259",
       "version_major": 2,
       "version_minor": 0
      },
      "text/plain": [
       "Image Batches:   0%|          | 0/13 [00:00<?, ?it/s]"
      ]
     },
     "metadata": {},
     "output_type": "display_data"
    },
    {
     "data": {
      "application/vnd.jupyter.widget-view+json": {
       "model_id": "19a322c0d24c41a3875c47f84ba416e3",
       "version_major": 2,
       "version_minor": 0
      },
      "text/plain": [
       "Image Batches:   0%|          | 0/13 [00:00<?, ?it/s]"
      ]
     },
     "metadata": {},
     "output_type": "display_data"
    },
    {
     "data": {
      "application/vnd.jupyter.widget-view+json": {
       "model_id": "6f90fe14604d44f39ee35fe3b90a8400",
       "version_major": 2,
       "version_minor": 0
      },
      "text/plain": [
       "Image Batches:   0%|          | 0/25 [00:00<?, ?it/s]"
      ]
     },
     "metadata": {},
     "output_type": "display_data"
    },
    {
     "data": {
      "application/vnd.jupyter.widget-view+json": {
       "model_id": "0fb28ae0d972455383cac846adb6f736",
       "version_major": 2,
       "version_minor": 0
      },
      "text/plain": [
       "Image Batches:   0%|          | 0/9 [00:00<?, ?it/s]"
      ]
     },
     "metadata": {},
     "output_type": "display_data"
    },
    {
     "data": {
      "application/vnd.jupyter.widget-view+json": {
       "model_id": "0dc49ff28c3c4b8a89c824349e4ca70d",
       "version_major": 2,
       "version_minor": 0
      },
      "text/plain": [
       "Image Batches:   0%|          | 0/13 [00:00<?, ?it/s]"
      ]
     },
     "metadata": {},
     "output_type": "display_data"
    },
    {
     "data": {
      "application/vnd.jupyter.widget-view+json": {
       "model_id": "b317732294ef4214a0e8a8c596c8be36",
       "version_major": 2,
       "version_minor": 0
      },
      "text/plain": [
       "Image Batches:   0%|          | 0/12 [00:00<?, ?it/s]"
      ]
     },
     "metadata": {},
     "output_type": "display_data"
    },
    {
     "data": {
      "application/vnd.jupyter.widget-view+json": {
       "model_id": "318771f082544556a1eb20043f6b2a46",
       "version_major": 2,
       "version_minor": 0
      },
      "text/plain": [
       "Image Batches:   0%|          | 0/13 [00:00<?, ?it/s]"
      ]
     },
     "metadata": {},
     "output_type": "display_data"
    },
    {
     "data": {
      "application/vnd.jupyter.widget-view+json": {
       "model_id": "7cfd965b69e540f38492ec2eb508d3b4",
       "version_major": 2,
       "version_minor": 0
      },
      "text/plain": [
       "Image Batches:   0%|          | 0/13 [00:00<?, ?it/s]"
      ]
     },
     "metadata": {},
     "output_type": "display_data"
    },
    {
     "data": {
      "application/vnd.jupyter.widget-view+json": {
       "model_id": "c5e14b4955ce495aa1afe76cc9a7d8ae",
       "version_major": 2,
       "version_minor": 0
      },
      "text/plain": [
       "Image Batches:   0%|          | 0/13 [00:00<?, ?it/s]"
      ]
     },
     "metadata": {},
     "output_type": "display_data"
    },
    {
     "data": {
      "application/vnd.jupyter.widget-view+json": {
       "model_id": "9dbc780f2f7944e69b0772bbe3de12ba",
       "version_major": 2,
       "version_minor": 0
      },
      "text/plain": [
       "Image Batches:   0%|          | 0/13 [00:00<?, ?it/s]"
      ]
     },
     "metadata": {},
     "output_type": "display_data"
    },
    {
     "data": {
      "application/vnd.jupyter.widget-view+json": {
       "model_id": "635ee8c1593a4fe18b6adbae2e755d96",
       "version_major": 2,
       "version_minor": 0
      },
      "text/plain": [
       "Image Batches:   0%|          | 0/13 [00:00<?, ?it/s]"
      ]
     },
     "metadata": {},
     "output_type": "display_data"
    },
    {
     "data": {
      "application/vnd.jupyter.widget-view+json": {
       "model_id": "3b217f43538241708577482e194153da",
       "version_major": 2,
       "version_minor": 0
      },
      "text/plain": [
       "Image Batches:   0%|          | 0/14 [00:00<?, ?it/s]"
      ]
     },
     "metadata": {},
     "output_type": "display_data"
    },
    {
     "data": {
      "application/vnd.jupyter.widget-view+json": {
       "model_id": "0c4127d5fecf4ec7910fba1953db7e7d",
       "version_major": 2,
       "version_minor": 0
      },
      "text/plain": [
       "Image Batches:   0%|          | 0/13 [00:00<?, ?it/s]"
      ]
     },
     "metadata": {},
     "output_type": "display_data"
    },
    {
     "data": {
      "application/vnd.jupyter.widget-view+json": {
       "model_id": "cbdc636d8ca24ea4b02f8726f27d0329",
       "version_major": 2,
       "version_minor": 0
      },
      "text/plain": [
       "Image Batches:   0%|          | 0/12 [00:00<?, ?it/s]"
      ]
     },
     "metadata": {},
     "output_type": "display_data"
    },
    {
     "data": {
      "application/vnd.jupyter.widget-view+json": {
       "model_id": "bd1812391e50441eabaae328665a13d7",
       "version_major": 2,
       "version_minor": 0
      },
      "text/plain": [
       "Image Batches:   0%|          | 0/14 [00:00<?, ?it/s]"
      ]
     },
     "metadata": {},
     "output_type": "display_data"
    },
    {
     "data": {
      "application/vnd.jupyter.widget-view+json": {
       "model_id": "c41e6d254e114999af9afb4c9e8aee74",
       "version_major": 2,
       "version_minor": 0
      },
      "text/plain": [
       "Image Batches:   0%|          | 0/15 [00:00<?, ?it/s]"
      ]
     },
     "metadata": {},
     "output_type": "display_data"
    },
    {
     "data": {
      "application/vnd.jupyter.widget-view+json": {
       "model_id": "1b37a0a486bf4390afca2b32d0458c39",
       "version_major": 2,
       "version_minor": 0
      },
      "text/plain": [
       "Image Batches:   0%|          | 0/13 [00:00<?, ?it/s]"
      ]
     },
     "metadata": {},
     "output_type": "display_data"
    },
    {
     "data": {
      "application/vnd.jupyter.widget-view+json": {
       "model_id": "c888246de51346e6a396d5ccab28d1df",
       "version_major": 2,
       "version_minor": 0
      },
      "text/plain": [
       "Image Batches:   0%|          | 0/13 [00:00<?, ?it/s]"
      ]
     },
     "metadata": {},
     "output_type": "display_data"
    },
    {
     "data": {
      "application/vnd.jupyter.widget-view+json": {
       "model_id": "e5e6c016194f4b1ea878b95fd06aa1b0",
       "version_major": 2,
       "version_minor": 0
      },
      "text/plain": [
       "Image Batches:   0%|          | 0/13 [00:00<?, ?it/s]"
      ]
     },
     "metadata": {},
     "output_type": "display_data"
    },
    {
     "data": {
      "application/vnd.jupyter.widget-view+json": {
       "model_id": "0552192d7af2442995e4873d2b676847",
       "version_major": 2,
       "version_minor": 0
      },
      "text/plain": [
       "Image Batches:   0%|          | 0/13 [00:00<?, ?it/s]"
      ]
     },
     "metadata": {},
     "output_type": "display_data"
    },
    {
     "data": {
      "application/vnd.jupyter.widget-view+json": {
       "model_id": "5cc84b8abd314cefbacc265d8879cf72",
       "version_major": 2,
       "version_minor": 0
      },
      "text/plain": [
       "Image Batches:   0%|          | 0/13 [00:00<?, ?it/s]"
      ]
     },
     "metadata": {},
     "output_type": "display_data"
    },
    {
     "data": {
      "application/vnd.jupyter.widget-view+json": {
       "model_id": "07e250d2d2ff4b67a143424e51e42b33",
       "version_major": 2,
       "version_minor": 0
      },
      "text/plain": [
       "Image Batches:   0%|          | 0/13 [00:00<?, ?it/s]"
      ]
     },
     "metadata": {},
     "output_type": "display_data"
    },
    {
     "data": {
      "application/vnd.jupyter.widget-view+json": {
       "model_id": "3fe771e5e3ec491eaab14b61229bc5f5",
       "version_major": 2,
       "version_minor": 0
      },
      "text/plain": [
       "Image Batches:   0%|          | 0/13 [00:00<?, ?it/s]"
      ]
     },
     "metadata": {},
     "output_type": "display_data"
    },
    {
     "data": {
      "application/vnd.jupyter.widget-view+json": {
       "model_id": "7f1bb359222a4dc4871416349bb21300",
       "version_major": 2,
       "version_minor": 0
      },
      "text/plain": [
       "Image Batches:   0%|          | 0/13 [00:00<?, ?it/s]"
      ]
     },
     "metadata": {},
     "output_type": "display_data"
    },
    {
     "data": {
      "application/vnd.jupyter.widget-view+json": {
       "model_id": "46d8d8db84a142b3a5c7935edeee0ac8",
       "version_major": 2,
       "version_minor": 0
      },
      "text/plain": [
       "Image Batches:   0%|          | 0/13 [00:00<?, ?it/s]"
      ]
     },
     "metadata": {},
     "output_type": "display_data"
    },
    {
     "data": {
      "application/vnd.jupyter.widget-view+json": {
       "model_id": "72f24aeafded41b28f9710f54d2c0963",
       "version_major": 2,
       "version_minor": 0
      },
      "text/plain": [
       "Image Batches:   0%|          | 0/14 [00:00<?, ?it/s]"
      ]
     },
     "metadata": {},
     "output_type": "display_data"
    },
    {
     "data": {
      "application/vnd.jupyter.widget-view+json": {
       "model_id": "467ff61985224ec49552793411938c3c",
       "version_major": 2,
       "version_minor": 0
      },
      "text/plain": [
       "Image Batches:   0%|          | 0/20 [00:00<?, ?it/s]"
      ]
     },
     "metadata": {},
     "output_type": "display_data"
    },
    {
     "data": {
      "application/vnd.jupyter.widget-view+json": {
       "model_id": "78ede4f30bdc4aa79cc1b13e8462ea93",
       "version_major": 2,
       "version_minor": 0
      },
      "text/plain": [
       "Image Batches:   0%|          | 0/13 [00:00<?, ?it/s]"
      ]
     },
     "metadata": {},
     "output_type": "display_data"
    },
    {
     "data": {
      "application/vnd.jupyter.widget-view+json": {
       "model_id": "610a24c4a42e4c3d90bc951da590821b",
       "version_major": 2,
       "version_minor": 0
      },
      "text/plain": [
       "Image Batches:   0%|          | 0/9 [00:00<?, ?it/s]"
      ]
     },
     "metadata": {},
     "output_type": "display_data"
    },
    {
     "data": {
      "application/vnd.jupyter.widget-view+json": {
       "model_id": "ff6072413ae7449fb5b033dc15a90860",
       "version_major": 2,
       "version_minor": 0
      },
      "text/plain": [
       "Image Batches:   0%|          | 0/13 [00:00<?, ?it/s]"
      ]
     },
     "metadata": {},
     "output_type": "display_data"
    },
    {
     "data": {
      "application/vnd.jupyter.widget-view+json": {
       "model_id": "74a8a157af4e42d0a0368d6b7a497cfc",
       "version_major": 2,
       "version_minor": 0
      },
      "text/plain": [
       "Image Batches:   0%|          | 0/10 [00:00<?, ?it/s]"
      ]
     },
     "metadata": {},
     "output_type": "display_data"
    },
    {
     "data": {
      "application/vnd.jupyter.widget-view+json": {
       "model_id": "f0133e3da4824b19ad0e7d4c041cc859",
       "version_major": 2,
       "version_minor": 0
      },
      "text/plain": [
       "Image Batches:   0%|          | 0/12 [00:00<?, ?it/s]"
      ]
     },
     "metadata": {},
     "output_type": "display_data"
    },
    {
     "data": {
      "application/vnd.jupyter.widget-view+json": {
       "model_id": "ebf24856ce64421c9c3312c93eb1ee02",
       "version_major": 2,
       "version_minor": 0
      },
      "text/plain": [
       "Image Batches:   0%|          | 0/13 [00:00<?, ?it/s]"
      ]
     },
     "metadata": {},
     "output_type": "display_data"
    },
    {
     "data": {
      "application/vnd.jupyter.widget-view+json": {
       "model_id": "12f204b6da7c4f11ab0c6dd777a6701d",
       "version_major": 2,
       "version_minor": 0
      },
      "text/plain": [
       "Image Batches:   0%|          | 0/13 [00:00<?, ?it/s]"
      ]
     },
     "metadata": {},
     "output_type": "display_data"
    },
    {
     "data": {
      "application/vnd.jupyter.widget-view+json": {
       "model_id": "e34450a8ae264d63be89609a7631655a",
       "version_major": 2,
       "version_minor": 0
      },
      "text/plain": [
       "Image Batches:   0%|          | 0/13 [00:00<?, ?it/s]"
      ]
     },
     "metadata": {},
     "output_type": "display_data"
    },
    {
     "data": {
      "application/vnd.jupyter.widget-view+json": {
       "model_id": "4a71b95e586f4352b8e1be919f80b25e",
       "version_major": 2,
       "version_minor": 0
      },
      "text/plain": [
       "Image Batches:   0%|          | 0/13 [00:00<?, ?it/s]"
      ]
     },
     "metadata": {},
     "output_type": "display_data"
    },
    {
     "data": {
      "application/vnd.jupyter.widget-view+json": {
       "model_id": "65834972b92a40fd8cef9694663a2be6",
       "version_major": 2,
       "version_minor": 0
      },
      "text/plain": [
       "Image Batches:   0%|          | 0/13 [00:00<?, ?it/s]"
      ]
     },
     "metadata": {},
     "output_type": "display_data"
    },
    {
     "data": {
      "application/vnd.jupyter.widget-view+json": {
       "model_id": "7b4ccea95cc74a03bbbd73c1df02b815",
       "version_major": 2,
       "version_minor": 0
      },
      "text/plain": [
       "Image Batches:   0%|          | 0/13 [00:00<?, ?it/s]"
      ]
     },
     "metadata": {},
     "output_type": "display_data"
    },
    {
     "data": {
      "application/vnd.jupyter.widget-view+json": {
       "model_id": "37f8d037c89a4a8c9782864749223cdd",
       "version_major": 2,
       "version_minor": 0
      },
      "text/plain": [
       "Image Batches:   0%|          | 0/13 [00:00<?, ?it/s]"
      ]
     },
     "metadata": {},
     "output_type": "display_data"
    },
    {
     "data": {
      "application/vnd.jupyter.widget-view+json": {
       "model_id": "5e5c0a19303747968987ec6b2634790f",
       "version_major": 2,
       "version_minor": 0
      },
      "text/plain": [
       "Image Batches:   0%|          | 0/13 [00:00<?, ?it/s]"
      ]
     },
     "metadata": {},
     "output_type": "display_data"
    },
    {
     "data": {
      "application/vnd.jupyter.widget-view+json": {
       "model_id": "9aa25b0ca358463f9142e342ff6ea03a",
       "version_major": 2,
       "version_minor": 0
      },
      "text/plain": [
       "Image Batches:   0%|          | 0/13 [00:00<?, ?it/s]"
      ]
     },
     "metadata": {},
     "output_type": "display_data"
    },
    {
     "data": {
      "application/vnd.jupyter.widget-view+json": {
       "model_id": "b6d5e44d0d3b4c9e948ee23b9fa2923c",
       "version_major": 2,
       "version_minor": 0
      },
      "text/plain": [
       "Image Batches:   0%|          | 0/13 [00:00<?, ?it/s]"
      ]
     },
     "metadata": {},
     "output_type": "display_data"
    },
    {
     "data": {
      "application/vnd.jupyter.widget-view+json": {
       "model_id": "66ce6bcf5cf240298c8f97b0d8df8803",
       "version_major": 2,
       "version_minor": 0
      },
      "text/plain": [
       "Image Batches:   0%|          | 0/13 [00:00<?, ?it/s]"
      ]
     },
     "metadata": {},
     "output_type": "display_data"
    },
    {
     "data": {
      "application/vnd.jupyter.widget-view+json": {
       "model_id": "420bdf5c67544b64b8e541ca51017feb",
       "version_major": 2,
       "version_minor": 0
      },
      "text/plain": [
       "Image Batches:   0%|          | 0/13 [00:00<?, ?it/s]"
      ]
     },
     "metadata": {},
     "output_type": "display_data"
    },
    {
     "data": {
      "application/vnd.jupyter.widget-view+json": {
       "model_id": "2caa8a2f497641a1b906f88070f46626",
       "version_major": 2,
       "version_minor": 0
      },
      "text/plain": [
       "Image Batches:   0%|          | 0/13 [00:00<?, ?it/s]"
      ]
     },
     "metadata": {},
     "output_type": "display_data"
    },
    {
     "data": {
      "application/vnd.jupyter.widget-view+json": {
       "model_id": "601c7c68608f442d9af62b88b036465a",
       "version_major": 2,
       "version_minor": 0
      },
      "text/plain": [
       "Image Batches:   0%|          | 0/13 [00:00<?, ?it/s]"
      ]
     },
     "metadata": {},
     "output_type": "display_data"
    },
    {
     "data": {
      "application/vnd.jupyter.widget-view+json": {
       "model_id": "8ca001a4e50648fc8442b265064d0a6f",
       "version_major": 2,
       "version_minor": 0
      },
      "text/plain": [
       "Image Batches:   0%|          | 0/13 [00:00<?, ?it/s]"
      ]
     },
     "metadata": {},
     "output_type": "display_data"
    },
    {
     "data": {
      "application/vnd.jupyter.widget-view+json": {
       "model_id": "253ad33146bd4748b77c6099d61aea62",
       "version_major": 2,
       "version_minor": 0
      },
      "text/plain": [
       "Image Batches:   0%|          | 0/13 [00:00<?, ?it/s]"
      ]
     },
     "metadata": {},
     "output_type": "display_data"
    },
    {
     "data": {
      "application/vnd.jupyter.widget-view+json": {
       "model_id": "ae2f706ce99f457ea2a3f2455bad7428",
       "version_major": 2,
       "version_minor": 0
      },
      "text/plain": [
       "Image Batches:   0%|          | 0/13 [00:00<?, ?it/s]"
      ]
     },
     "metadata": {},
     "output_type": "display_data"
    },
    {
     "data": {
      "application/vnd.jupyter.widget-view+json": {
       "model_id": "8eab7be136fc46ea8c22dee6842d41be",
       "version_major": 2,
       "version_minor": 0
      },
      "text/plain": [
       "Image Batches:   0%|          | 0/13 [00:00<?, ?it/s]"
      ]
     },
     "metadata": {},
     "output_type": "display_data"
    },
    {
     "data": {
      "application/vnd.jupyter.widget-view+json": {
       "model_id": "92b3562cc8fb49bca1436fd6a9081b53",
       "version_major": 2,
       "version_minor": 0
      },
      "text/plain": [
       "Image Batches:   0%|          | 0/13 [00:00<?, ?it/s]"
      ]
     },
     "metadata": {},
     "output_type": "display_data"
    },
    {
     "data": {
      "application/vnd.jupyter.widget-view+json": {
       "model_id": "636c2ff52426462b87987e81ee7c79a3",
       "version_major": 2,
       "version_minor": 0
      },
      "text/plain": [
       "Image Batches:   0%|          | 0/26 [00:00<?, ?it/s]"
      ]
     },
     "metadata": {},
     "output_type": "display_data"
    },
    {
     "data": {
      "application/vnd.jupyter.widget-view+json": {
       "model_id": "574d3c38bbe546cbbba00fb62b2ff5ab",
       "version_major": 2,
       "version_minor": 0
      },
      "text/plain": [
       "Image Batches:   0%|          | 0/13 [00:00<?, ?it/s]"
      ]
     },
     "metadata": {},
     "output_type": "display_data"
    },
    {
     "data": {
      "application/vnd.jupyter.widget-view+json": {
       "model_id": "4ae96fe4edd848fcb3c18f1f1d4391b4",
       "version_major": 2,
       "version_minor": 0
      },
      "text/plain": [
       "Image Batches:   0%|          | 0/13 [00:00<?, ?it/s]"
      ]
     },
     "metadata": {},
     "output_type": "display_data"
    },
    {
     "data": {
      "application/vnd.jupyter.widget-view+json": {
       "model_id": "1626b0dbc1994651968087158e4c78ef",
       "version_major": 2,
       "version_minor": 0
      },
      "text/plain": [
       "Image Batches:   0%|          | 0/13 [00:00<?, ?it/s]"
      ]
     },
     "metadata": {},
     "output_type": "display_data"
    },
    {
     "data": {
      "application/vnd.jupyter.widget-view+json": {
       "model_id": "e3829690ad244647b77bc3470a45290f",
       "version_major": 2,
       "version_minor": 0
      },
      "text/plain": [
       "Image Batches:   0%|          | 0/13 [00:00<?, ?it/s]"
      ]
     },
     "metadata": {},
     "output_type": "display_data"
    },
    {
     "data": {
      "application/vnd.jupyter.widget-view+json": {
       "model_id": "e7536e9772534109aa45a0074b92264d",
       "version_major": 2,
       "version_minor": 0
      },
      "text/plain": [
       "Image Batches:   0%|          | 0/14 [00:00<?, ?it/s]"
      ]
     },
     "metadata": {},
     "output_type": "display_data"
    },
    {
     "data": {
      "application/vnd.jupyter.widget-view+json": {
       "model_id": "0a86e204d99242d5a30b150cb4d857a9",
       "version_major": 2,
       "version_minor": 0
      },
      "text/plain": [
       "Image Batches:   0%|          | 0/13 [00:00<?, ?it/s]"
      ]
     },
     "metadata": {},
     "output_type": "display_data"
    },
    {
     "data": {
      "application/vnd.jupyter.widget-view+json": {
       "model_id": "4bd72e9c140d4ef4bb698d0813a865b1",
       "version_major": 2,
       "version_minor": 0
      },
      "text/plain": [
       "Image Batches:   0%|          | 0/13 [00:00<?, ?it/s]"
      ]
     },
     "metadata": {},
     "output_type": "display_data"
    },
    {
     "data": {
      "application/vnd.jupyter.widget-view+json": {
       "model_id": "5608635eaaef4f0e9ab988d53594b318",
       "version_major": 2,
       "version_minor": 0
      },
      "text/plain": [
       "Image Batches:   0%|          | 0/26 [00:00<?, ?it/s]"
      ]
     },
     "metadata": {},
     "output_type": "display_data"
    },
    {
     "data": {
      "application/vnd.jupyter.widget-view+json": {
       "model_id": "a047081596354fe6805fc186f833707d",
       "version_major": 2,
       "version_minor": 0
      },
      "text/plain": [
       "Image Batches:   0%|          | 0/13 [00:00<?, ?it/s]"
      ]
     },
     "metadata": {},
     "output_type": "display_data"
    },
    {
     "data": {
      "application/vnd.jupyter.widget-view+json": {
       "model_id": "f53e7637082a4a2ebf261ea5a9986030",
       "version_major": 2,
       "version_minor": 0
      },
      "text/plain": [
       "Image Batches:   0%|          | 0/13 [00:00<?, ?it/s]"
      ]
     },
     "metadata": {},
     "output_type": "display_data"
    },
    {
     "data": {
      "application/vnd.jupyter.widget-view+json": {
       "model_id": "247b717a63c747d0aea865c714089726",
       "version_major": 2,
       "version_minor": 0
      },
      "text/plain": [
       "Image Batches:   0%|          | 0/13 [00:00<?, ?it/s]"
      ]
     },
     "metadata": {},
     "output_type": "display_data"
    },
    {
     "data": {
      "application/vnd.jupyter.widget-view+json": {
       "model_id": "fa1e1e03b36f4827a268481781279c67",
       "version_major": 2,
       "version_minor": 0
      },
      "text/plain": [
       "Image Batches:   0%|          | 0/13 [00:00<?, ?it/s]"
      ]
     },
     "metadata": {},
     "output_type": "display_data"
    },
    {
     "data": {
      "application/vnd.jupyter.widget-view+json": {
       "model_id": "ef3f4ab727794da99334650047881390",
       "version_major": 2,
       "version_minor": 0
      },
      "text/plain": [
       "Image Batches:   0%|          | 0/13 [00:00<?, ?it/s]"
      ]
     },
     "metadata": {},
     "output_type": "display_data"
    },
    {
     "data": {
      "application/vnd.jupyter.widget-view+json": {
       "model_id": "fa183fef05d64be3923edac4f5b2546a",
       "version_major": 2,
       "version_minor": 0
      },
      "text/plain": [
       "Image Batches:   0%|          | 0/26 [00:00<?, ?it/s]"
      ]
     },
     "metadata": {},
     "output_type": "display_data"
    },
    {
     "data": {
      "application/vnd.jupyter.widget-view+json": {
       "model_id": "58499d7c775d414894f50f1d4b040b28",
       "version_major": 2,
       "version_minor": 0
      },
      "text/plain": [
       "Image Batches:   0%|          | 0/14 [00:00<?, ?it/s]"
      ]
     },
     "metadata": {},
     "output_type": "display_data"
    },
    {
     "data": {
      "application/vnd.jupyter.widget-view+json": {
       "model_id": "abadb23c97734b949aca5189afe2dbc6",
       "version_major": 2,
       "version_minor": 0
      },
      "text/plain": [
       "Image Batches:   0%|          | 0/13 [00:00<?, ?it/s]"
      ]
     },
     "metadata": {},
     "output_type": "display_data"
    },
    {
     "data": {
      "application/vnd.jupyter.widget-view+json": {
       "model_id": "059dfd575cf042a081024d6ebe2818c4",
       "version_major": 2,
       "version_minor": 0
      },
      "text/plain": [
       "Image Batches:   0%|          | 0/13 [00:00<?, ?it/s]"
      ]
     },
     "metadata": {},
     "output_type": "display_data"
    },
    {
     "data": {
      "application/vnd.jupyter.widget-view+json": {
       "model_id": "05cabdc53c924b19baf2dcf372e77ff6",
       "version_major": 2,
       "version_minor": 0
      },
      "text/plain": [
       "Image Batches:   0%|          | 0/13 [00:00<?, ?it/s]"
      ]
     },
     "metadata": {},
     "output_type": "display_data"
    },
    {
     "data": {
      "application/vnd.jupyter.widget-view+json": {
       "model_id": "d267328e02a34ece93c11eeeddcd16c6",
       "version_major": 2,
       "version_minor": 0
      },
      "text/plain": [
       "Image Batches:   0%|          | 0/13 [00:00<?, ?it/s]"
      ]
     },
     "metadata": {},
     "output_type": "display_data"
    },
    {
     "data": {
      "application/vnd.jupyter.widget-view+json": {
       "model_id": "c06bc2fd893a48738d29df98c7d08643",
       "version_major": 2,
       "version_minor": 0
      },
      "text/plain": [
       "Image Batches:   0%|          | 0/13 [00:00<?, ?it/s]"
      ]
     },
     "metadata": {},
     "output_type": "display_data"
    },
    {
     "data": {
      "application/vnd.jupyter.widget-view+json": {
       "model_id": "bfbd3b101cee437299f1805b0498957c",
       "version_major": 2,
       "version_minor": 0
      },
      "text/plain": [
       "Image Batches:   0%|          | 0/13 [00:00<?, ?it/s]"
      ]
     },
     "metadata": {},
     "output_type": "display_data"
    },
    {
     "data": {
      "application/vnd.jupyter.widget-view+json": {
       "model_id": "e455305aab6f4f86999debab9a50103f",
       "version_major": 2,
       "version_minor": 0
      },
      "text/plain": [
       "Image Batches:   0%|          | 0/13 [00:00<?, ?it/s]"
      ]
     },
     "metadata": {},
     "output_type": "display_data"
    },
    {
     "data": {
      "application/vnd.jupyter.widget-view+json": {
       "model_id": "a8feeb53ea5c44b8bb2a5bdf0ef3fbd1",
       "version_major": 2,
       "version_minor": 0
      },
      "text/plain": [
       "Image Batches:   0%|          | 0/16 [00:00<?, ?it/s]"
      ]
     },
     "metadata": {},
     "output_type": "display_data"
    },
    {
     "data": {
      "application/vnd.jupyter.widget-view+json": {
       "model_id": "8f46e32534bb48ad93657e9a0ee1eac8",
       "version_major": 2,
       "version_minor": 0
      },
      "text/plain": [
       "Image Batches:   0%|          | 0/13 [00:00<?, ?it/s]"
      ]
     },
     "metadata": {},
     "output_type": "display_data"
    },
    {
     "data": {
      "application/vnd.jupyter.widget-view+json": {
       "model_id": "27fe19bd08ee494abc90c74d7f5a507b",
       "version_major": 2,
       "version_minor": 0
      },
      "text/plain": [
       "Image Batches:   0%|          | 0/31 [00:00<?, ?it/s]"
      ]
     },
     "metadata": {},
     "output_type": "display_data"
    },
    {
     "data": {
      "application/vnd.jupyter.widget-view+json": {
       "model_id": "3ffa03198fa2476ba0e56f4e806cef07",
       "version_major": 2,
       "version_minor": 0
      },
      "text/plain": [
       "Image Batches:   0%|          | 0/13 [00:00<?, ?it/s]"
      ]
     },
     "metadata": {},
     "output_type": "display_data"
    },
    {
     "data": {
      "application/vnd.jupyter.widget-view+json": {
       "model_id": "37a80f043af140a2a7fc166bcae91fed",
       "version_major": 2,
       "version_minor": 0
      },
      "text/plain": [
       "Image Batches:   0%|          | 0/13 [00:00<?, ?it/s]"
      ]
     },
     "metadata": {},
     "output_type": "display_data"
    },
    {
     "data": {
      "application/vnd.jupyter.widget-view+json": {
       "model_id": "452ed526ec7d46d68d571e3cc568c1a3",
       "version_major": 2,
       "version_minor": 0
      },
      "text/plain": [
       "Image Batches:   0%|          | 0/13 [00:00<?, ?it/s]"
      ]
     },
     "metadata": {},
     "output_type": "display_data"
    },
    {
     "data": {
      "application/vnd.jupyter.widget-view+json": {
       "model_id": "7ad7a54e84fd4ca493a89cb4f2134eee",
       "version_major": 2,
       "version_minor": 0
      },
      "text/plain": [
       "Image Batches:   0%|          | 0/13 [00:00<?, ?it/s]"
      ]
     },
     "metadata": {},
     "output_type": "display_data"
    },
    {
     "data": {
      "application/vnd.jupyter.widget-view+json": {
       "model_id": "63ca7577621440eaa2a8b11119d653fc",
       "version_major": 2,
       "version_minor": 0
      },
      "text/plain": [
       "Image Batches:   0%|          | 0/13 [00:00<?, ?it/s]"
      ]
     },
     "metadata": {},
     "output_type": "display_data"
    },
    {
     "data": {
      "application/vnd.jupyter.widget-view+json": {
       "model_id": "bce3982b0b264232b1cc68163ef1fbbe",
       "version_major": 2,
       "version_minor": 0
      },
      "text/plain": [
       "Image Batches:   0%|          | 0/13 [00:00<?, ?it/s]"
      ]
     },
     "metadata": {},
     "output_type": "display_data"
    },
    {
     "data": {
      "application/vnd.jupyter.widget-view+json": {
       "model_id": "681e4465e8b04584bab4bf3f557419c8",
       "version_major": 2,
       "version_minor": 0
      },
      "text/plain": [
       "Image Batches:   0%|          | 0/13 [00:00<?, ?it/s]"
      ]
     },
     "metadata": {},
     "output_type": "display_data"
    },
    {
     "data": {
      "application/vnd.jupyter.widget-view+json": {
       "model_id": "150506ef69844ec7a21de10be3df3a07",
       "version_major": 2,
       "version_minor": 0
      },
      "text/plain": [
       "Image Batches:   0%|          | 0/26 [00:00<?, ?it/s]"
      ]
     },
     "metadata": {},
     "output_type": "display_data"
    },
    {
     "data": {
      "application/vnd.jupyter.widget-view+json": {
       "model_id": "901b5446503c4f70aed8f6cf33ecbf09",
       "version_major": 2,
       "version_minor": 0
      },
      "text/plain": [
       "Image Batches:   0%|          | 0/13 [00:00<?, ?it/s]"
      ]
     },
     "metadata": {},
     "output_type": "display_data"
    },
    {
     "data": {
      "application/vnd.jupyter.widget-view+json": {
       "model_id": "d5ff62d309cf4d0d866880ebafb8a798",
       "version_major": 2,
       "version_minor": 0
      },
      "text/plain": [
       "Image Batches:   0%|          | 0/13 [00:00<?, ?it/s]"
      ]
     },
     "metadata": {},
     "output_type": "display_data"
    },
    {
     "data": {
      "application/vnd.jupyter.widget-view+json": {
       "model_id": "9489db63d6ce4deba8b2edef8c753310",
       "version_major": 2,
       "version_minor": 0
      },
      "text/plain": [
       "Image Batches:   0%|          | 0/13 [00:00<?, ?it/s]"
      ]
     },
     "metadata": {},
     "output_type": "display_data"
    },
    {
     "data": {
      "application/vnd.jupyter.widget-view+json": {
       "model_id": "d98bf3e8fab940e68d8645176c599884",
       "version_major": 2,
       "version_minor": 0
      },
      "text/plain": [
       "Image Batches:   0%|          | 0/13 [00:00<?, ?it/s]"
      ]
     },
     "metadata": {},
     "output_type": "display_data"
    },
    {
     "data": {
      "application/vnd.jupyter.widget-view+json": {
       "model_id": "2c43e606ef7940b6879f483c1035cd90",
       "version_major": 2,
       "version_minor": 0
      },
      "text/plain": [
       "Image Batches:   0%|          | 0/24 [00:00<?, ?it/s]"
      ]
     },
     "metadata": {},
     "output_type": "display_data"
    },
    {
     "data": {
      "application/vnd.jupyter.widget-view+json": {
       "model_id": "7bd3324a6ca445d9b54ade0b6dbc6fee",
       "version_major": 2,
       "version_minor": 0
      },
      "text/plain": [
       "Image Batches:   0%|          | 0/28 [00:00<?, ?it/s]"
      ]
     },
     "metadata": {},
     "output_type": "display_data"
    },
    {
     "data": {
      "application/vnd.jupyter.widget-view+json": {
       "model_id": "30028014f631478590e9658e01e98068",
       "version_major": 2,
       "version_minor": 0
      },
      "text/plain": [
       "Image Batches:   0%|          | 0/27 [00:00<?, ?it/s]"
      ]
     },
     "metadata": {},
     "output_type": "display_data"
    },
    {
     "data": {
      "application/vnd.jupyter.widget-view+json": {
       "model_id": "b040c0ba79b045f99539bb6409717adf",
       "version_major": 2,
       "version_minor": 0
      },
      "text/plain": [
       "Image Batches:   0%|          | 0/13 [00:00<?, ?it/s]"
      ]
     },
     "metadata": {},
     "output_type": "display_data"
    },
    {
     "data": {
      "application/vnd.jupyter.widget-view+json": {
       "model_id": "29d949f0d09846519a0004dbafaf211d",
       "version_major": 2,
       "version_minor": 0
      },
      "text/plain": [
       "Image Batches:   0%|          | 0/13 [00:00<?, ?it/s]"
      ]
     },
     "metadata": {},
     "output_type": "display_data"
    },
    {
     "data": {
      "application/vnd.jupyter.widget-view+json": {
       "model_id": "8a87c6da4ad242deaba741be92ab7443",
       "version_major": 2,
       "version_minor": 0
      },
      "text/plain": [
       "Image Batches:   0%|          | 0/13 [00:00<?, ?it/s]"
      ]
     },
     "metadata": {},
     "output_type": "display_data"
    },
    {
     "data": {
      "application/vnd.jupyter.widget-view+json": {
       "model_id": "7171a67c3c3a480dabf618403f526af1",
       "version_major": 2,
       "version_minor": 0
      },
      "text/plain": [
       "Image Batches:   0%|          | 0/13 [00:00<?, ?it/s]"
      ]
     },
     "metadata": {},
     "output_type": "display_data"
    },
    {
     "data": {
      "application/vnd.jupyter.widget-view+json": {
       "model_id": "2ec32c3843d84011ac7c3a10c3c918f7",
       "version_major": 2,
       "version_minor": 0
      },
      "text/plain": [
       "Image Batches:   0%|          | 0/13 [00:00<?, ?it/s]"
      ]
     },
     "metadata": {},
     "output_type": "display_data"
    },
    {
     "data": {
      "application/vnd.jupyter.widget-view+json": {
       "model_id": "177a32fc75fe4fcf98afbe790ab8459a",
       "version_major": 2,
       "version_minor": 0
      },
      "text/plain": [
       "Image Batches:   0%|          | 0/13 [00:00<?, ?it/s]"
      ]
     },
     "metadata": {},
     "output_type": "display_data"
    },
    {
     "data": {
      "application/vnd.jupyter.widget-view+json": {
       "model_id": "436d9eba295d4a51999e31c4d97368e8",
       "version_major": 2,
       "version_minor": 0
      },
      "text/plain": [
       "Image Batches:   0%|          | 0/13 [00:00<?, ?it/s]"
      ]
     },
     "metadata": {},
     "output_type": "display_data"
    },
    {
     "data": {
      "application/vnd.jupyter.widget-view+json": {
       "model_id": "87f5fc7fb145424988d80673bdcd4614",
       "version_major": 2,
       "version_minor": 0
      },
      "text/plain": [
       "Image Batches:   0%|          | 0/26 [00:00<?, ?it/s]"
      ]
     },
     "metadata": {},
     "output_type": "display_data"
    },
    {
     "data": {
      "application/vnd.jupyter.widget-view+json": {
       "model_id": "b505acf30b4841e0acc98d8909df9c08",
       "version_major": 2,
       "version_minor": 0
      },
      "text/plain": [
       "Image Batches:   0%|          | 0/13 [00:00<?, ?it/s]"
      ]
     },
     "metadata": {},
     "output_type": "display_data"
    },
    {
     "data": {
      "application/vnd.jupyter.widget-view+json": {
       "model_id": "aaf41d3c6e504088b3a1478fe534582b",
       "version_major": 2,
       "version_minor": 0
      },
      "text/plain": [
       "Image Batches:   0%|          | 0/13 [00:00<?, ?it/s]"
      ]
     },
     "metadata": {},
     "output_type": "display_data"
    },
    {
     "data": {
      "application/vnd.jupyter.widget-view+json": {
       "model_id": "59ee792423ed4d0ea2e88eb6a761bb05",
       "version_major": 2,
       "version_minor": 0
      },
      "text/plain": [
       "Image Batches:   0%|          | 0/13 [00:00<?, ?it/s]"
      ]
     },
     "metadata": {},
     "output_type": "display_data"
    },
    {
     "data": {
      "application/vnd.jupyter.widget-view+json": {
       "model_id": "4f96576a130c4909bff014da691c1328",
       "version_major": 2,
       "version_minor": 0
      },
      "text/plain": [
       "Image Batches:   0%|          | 0/13 [00:00<?, ?it/s]"
      ]
     },
     "metadata": {},
     "output_type": "display_data"
    },
    {
     "data": {
      "application/vnd.jupyter.widget-view+json": {
       "model_id": "5bb20aa38ffb45faae9c5dd3d2064a35",
       "version_major": 2,
       "version_minor": 0
      },
      "text/plain": [
       "Image Batches:   0%|          | 0/13 [00:00<?, ?it/s]"
      ]
     },
     "metadata": {},
     "output_type": "display_data"
    },
    {
     "data": {
      "application/vnd.jupyter.widget-view+json": {
       "model_id": "b56c1c0648d44ed0a70ad0e15e29a5e8",
       "version_major": 2,
       "version_minor": 0
      },
      "text/plain": [
       "Image Batches:   0%|          | 0/25 [00:00<?, ?it/s]"
      ]
     },
     "metadata": {},
     "output_type": "display_data"
    },
    {
     "data": {
      "application/vnd.jupyter.widget-view+json": {
       "model_id": "f12cdeeda4f84672a9758e4801b87e2f",
       "version_major": 2,
       "version_minor": 0
      },
      "text/plain": [
       "Image Batches:   0%|          | 0/13 [00:00<?, ?it/s]"
      ]
     },
     "metadata": {},
     "output_type": "display_data"
    },
    {
     "data": {
      "application/vnd.jupyter.widget-view+json": {
       "model_id": "47db7d2be94b45a48b3f932024e7d31d",
       "version_major": 2,
       "version_minor": 0
      },
      "text/plain": [
       "Image Batches:   0%|          | 0/24 [00:00<?, ?it/s]"
      ]
     },
     "metadata": {},
     "output_type": "display_data"
    },
    {
     "data": {
      "application/vnd.jupyter.widget-view+json": {
       "model_id": "e1deb3c9d0214ad6b23b8c2037335265",
       "version_major": 2,
       "version_minor": 0
      },
      "text/plain": [
       "Image Batches:   0%|          | 0/13 [00:00<?, ?it/s]"
      ]
     },
     "metadata": {},
     "output_type": "display_data"
    },
    {
     "data": {
      "application/vnd.jupyter.widget-view+json": {
       "model_id": "18e39262001c41e4b7c7501ab7b6bf26",
       "version_major": 2,
       "version_minor": 0
      },
      "text/plain": [
       "Image Batches:   0%|          | 0/30 [00:00<?, ?it/s]"
      ]
     },
     "metadata": {},
     "output_type": "display_data"
    },
    {
     "data": {
      "application/vnd.jupyter.widget-view+json": {
       "model_id": "462233b5e4a34c9f83eda78f4a258b0c",
       "version_major": 2,
       "version_minor": 0
      },
      "text/plain": [
       "Image Batches:   0%|          | 0/13 [00:00<?, ?it/s]"
      ]
     },
     "metadata": {},
     "output_type": "display_data"
    },
    {
     "data": {
      "application/vnd.jupyter.widget-view+json": {
       "model_id": "809a28bd7c054ed9949e7dfeae0e2983",
       "version_major": 2,
       "version_minor": 0
      },
      "text/plain": [
       "Image Batches:   0%|          | 0/13 [00:00<?, ?it/s]"
      ]
     },
     "metadata": {},
     "output_type": "display_data"
    },
    {
     "data": {
      "application/vnd.jupyter.widget-view+json": {
       "model_id": "dc32a6fe8e294c859f99253e28780793",
       "version_major": 2,
       "version_minor": 0
      },
      "text/plain": [
       "Image Batches:   0%|          | 0/13 [00:00<?, ?it/s]"
      ]
     },
     "metadata": {},
     "output_type": "display_data"
    },
    {
     "data": {
      "application/vnd.jupyter.widget-view+json": {
       "model_id": "5c8cdce928c6422280fe98f955e6b21e",
       "version_major": 2,
       "version_minor": 0
      },
      "text/plain": [
       "Image Batches:   0%|          | 0/13 [00:00<?, ?it/s]"
      ]
     },
     "metadata": {},
     "output_type": "display_data"
    },
    {
     "data": {
      "application/vnd.jupyter.widget-view+json": {
       "model_id": "c32138d2f1614dcfa5b8f63bf1e45733",
       "version_major": 2,
       "version_minor": 0
      },
      "text/plain": [
       "Image Batches:   0%|          | 0/13 [00:00<?, ?it/s]"
      ]
     },
     "metadata": {},
     "output_type": "display_data"
    },
    {
     "data": {
      "application/vnd.jupyter.widget-view+json": {
       "model_id": "eeaee9b4d98b4afa8f911894a90b2984",
       "version_major": 2,
       "version_minor": 0
      },
      "text/plain": [
       "Image Batches:   0%|          | 0/13 [00:00<?, ?it/s]"
      ]
     },
     "metadata": {},
     "output_type": "display_data"
    },
    {
     "data": {
      "application/vnd.jupyter.widget-view+json": {
       "model_id": "81bbb2c0a3fb42909de37e10c461e203",
       "version_major": 2,
       "version_minor": 0
      },
      "text/plain": [
       "Image Batches:   0%|          | 0/13 [00:00<?, ?it/s]"
      ]
     },
     "metadata": {},
     "output_type": "display_data"
    },
    {
     "data": {
      "application/vnd.jupyter.widget-view+json": {
       "model_id": "346891130a7f46439959e51f3a727acf",
       "version_major": 2,
       "version_minor": 0
      },
      "text/plain": [
       "Image Batches:   0%|          | 0/13 [00:00<?, ?it/s]"
      ]
     },
     "metadata": {},
     "output_type": "display_data"
    },
    {
     "data": {
      "application/vnd.jupyter.widget-view+json": {
       "model_id": "eb38469c67064b93bdd87d4647967b79",
       "version_major": 2,
       "version_minor": 0
      },
      "text/plain": [
       "Image Batches:   0%|          | 0/13 [00:00<?, ?it/s]"
      ]
     },
     "metadata": {},
     "output_type": "display_data"
    },
    {
     "data": {
      "application/vnd.jupyter.widget-view+json": {
       "model_id": "8f0c957ff0da4c0c92afa23f79f597b2",
       "version_major": 2,
       "version_minor": 0
      },
      "text/plain": [
       "Image Batches:   0%|          | 0/13 [00:00<?, ?it/s]"
      ]
     },
     "metadata": {},
     "output_type": "display_data"
    },
    {
     "data": {
      "application/vnd.jupyter.widget-view+json": {
       "model_id": "7e7fb52f3abd45a49c45e102e9eaa934",
       "version_major": 2,
       "version_minor": 0
      },
      "text/plain": [
       "Image Batches:   0%|          | 0/14 [00:00<?, ?it/s]"
      ]
     },
     "metadata": {},
     "output_type": "display_data"
    },
    {
     "data": {
      "application/vnd.jupyter.widget-view+json": {
       "model_id": "0125672731e3485db9de2b73cb10f8d6",
       "version_major": 2,
       "version_minor": 0
      },
      "text/plain": [
       "Image Batches:   0%|          | 0/13 [00:00<?, ?it/s]"
      ]
     },
     "metadata": {},
     "output_type": "display_data"
    },
    {
     "data": {
      "application/vnd.jupyter.widget-view+json": {
       "model_id": "b11e2e99f683487caba13568a243da3e",
       "version_major": 2,
       "version_minor": 0
      },
      "text/plain": [
       "Image Batches:   0%|          | 0/13 [00:00<?, ?it/s]"
      ]
     },
     "metadata": {},
     "output_type": "display_data"
    },
    {
     "data": {
      "application/vnd.jupyter.widget-view+json": {
       "model_id": "169a641f62774330af1f158d9eb840f9",
       "version_major": 2,
       "version_minor": 0
      },
      "text/plain": [
       "Videos:   0%|          | 0/267 [00:00<?, ?it/s]"
      ]
     },
     "metadata": {},
     "output_type": "display_data"
    },
    {
     "data": {
      "application/vnd.jupyter.widget-view+json": {
       "model_id": "4f42dc4c03834e2e90fed29ff9b344b7",
       "version_major": 2,
       "version_minor": 0
      },
      "text/plain": [
       "Image Batches:   0%|          | 0/13 [00:00<?, ?it/s]"
      ]
     },
     "metadata": {},
     "output_type": "display_data"
    },
    {
     "data": {
      "application/vnd.jupyter.widget-view+json": {
       "model_id": "0357150a5676491e81245662da10415c",
       "version_major": 2,
       "version_minor": 0
      },
      "text/plain": [
       "Image Batches:   0%|          | 0/25 [00:00<?, ?it/s]"
      ]
     },
     "metadata": {},
     "output_type": "display_data"
    },
    {
     "data": {
      "application/vnd.jupyter.widget-view+json": {
       "model_id": "8977335555be4065999feab4faf96d71",
       "version_major": 2,
       "version_minor": 0
      },
      "text/plain": [
       "Image Batches:   0%|          | 0/10 [00:00<?, ?it/s]"
      ]
     },
     "metadata": {},
     "output_type": "display_data"
    },
    {
     "data": {
      "application/vnd.jupyter.widget-view+json": {
       "model_id": "4b708be9613f4cb78e36daad3268be23",
       "version_major": 2,
       "version_minor": 0
      },
      "text/plain": [
       "Image Batches:   0%|          | 0/13 [00:00<?, ?it/s]"
      ]
     },
     "metadata": {},
     "output_type": "display_data"
    },
    {
     "data": {
      "application/vnd.jupyter.widget-view+json": {
       "model_id": "491662f413ab479a8e70694d162a915a",
       "version_major": 2,
       "version_minor": 0
      },
      "text/plain": [
       "Image Batches:   0%|          | 0/13 [00:00<?, ?it/s]"
      ]
     },
     "metadata": {},
     "output_type": "display_data"
    },
    {
     "data": {
      "application/vnd.jupyter.widget-view+json": {
       "model_id": "619558ca60e04b088d1ae52d0ae76e31",
       "version_major": 2,
       "version_minor": 0
      },
      "text/plain": [
       "Image Batches:   0%|          | 0/14 [00:00<?, ?it/s]"
      ]
     },
     "metadata": {},
     "output_type": "display_data"
    },
    {
     "data": {
      "application/vnd.jupyter.widget-view+json": {
       "model_id": "b011eb879a3f4d9c9c6a60dd786141a8",
       "version_major": 2,
       "version_minor": 0
      },
      "text/plain": [
       "Image Batches:   0%|          | 0/13 [00:00<?, ?it/s]"
      ]
     },
     "metadata": {},
     "output_type": "display_data"
    },
    {
     "data": {
      "application/vnd.jupyter.widget-view+json": {
       "model_id": "aedc77910bf945c093dedce26a192bc9",
       "version_major": 2,
       "version_minor": 0
      },
      "text/plain": [
       "Image Batches:   0%|          | 0/13 [00:00<?, ?it/s]"
      ]
     },
     "metadata": {},
     "output_type": "display_data"
    },
    {
     "data": {
      "application/vnd.jupyter.widget-view+json": {
       "model_id": "d9743df040584adea57c6a84261a479e",
       "version_major": 2,
       "version_minor": 0
      },
      "text/plain": [
       "Image Batches:   0%|          | 0/13 [00:00<?, ?it/s]"
      ]
     },
     "metadata": {},
     "output_type": "display_data"
    },
    {
     "data": {
      "application/vnd.jupyter.widget-view+json": {
       "model_id": "8a5b2ee09aca41c6b5158f44ef076a1d",
       "version_major": 2,
       "version_minor": 0
      },
      "text/plain": [
       "Image Batches:   0%|          | 0/13 [00:00<?, ?it/s]"
      ]
     },
     "metadata": {},
     "output_type": "display_data"
    },
    {
     "data": {
      "application/vnd.jupyter.widget-view+json": {
       "model_id": "99953c4620e54d63be648882fb2d8a0a",
       "version_major": 2,
       "version_minor": 0
      },
      "text/plain": [
       "Image Batches:   0%|          | 0/26 [00:00<?, ?it/s]"
      ]
     },
     "metadata": {},
     "output_type": "display_data"
    },
    {
     "data": {
      "application/vnd.jupyter.widget-view+json": {
       "model_id": "b5ea733aa3e04987951601a694ce6745",
       "version_major": 2,
       "version_minor": 0
      },
      "text/plain": [
       "Image Batches:   0%|          | 0/13 [00:00<?, ?it/s]"
      ]
     },
     "metadata": {},
     "output_type": "display_data"
    },
    {
     "data": {
      "application/vnd.jupyter.widget-view+json": {
       "model_id": "5c448717f23d4a7ebcd475bef385f64e",
       "version_major": 2,
       "version_minor": 0
      },
      "text/plain": [
       "Image Batches:   0%|          | 0/13 [00:00<?, ?it/s]"
      ]
     },
     "metadata": {},
     "output_type": "display_data"
    },
    {
     "data": {
      "application/vnd.jupyter.widget-view+json": {
       "model_id": "2dddbd2f3866420cac3ba8fe49c1b620",
       "version_major": 2,
       "version_minor": 0
      },
      "text/plain": [
       "Image Batches:   0%|          | 0/13 [00:00<?, ?it/s]"
      ]
     },
     "metadata": {},
     "output_type": "display_data"
    },
    {
     "data": {
      "application/vnd.jupyter.widget-view+json": {
       "model_id": "76c969869fef45bfb1fe9a6e0f148363",
       "version_major": 2,
       "version_minor": 0
      },
      "text/plain": [
       "Image Batches:   0%|          | 0/11 [00:00<?, ?it/s]"
      ]
     },
     "metadata": {},
     "output_type": "display_data"
    },
    {
     "data": {
      "application/vnd.jupyter.widget-view+json": {
       "model_id": "c9125c99c4544a11a2b8f76a14cc1aa4",
       "version_major": 2,
       "version_minor": 0
      },
      "text/plain": [
       "Image Batches:   0%|          | 0/13 [00:00<?, ?it/s]"
      ]
     },
     "metadata": {},
     "output_type": "display_data"
    },
    {
     "data": {
      "application/vnd.jupyter.widget-view+json": {
       "model_id": "8d64a223461545f89a9f21e9b523bdd4",
       "version_major": 2,
       "version_minor": 0
      },
      "text/plain": [
       "Image Batches:   0%|          | 0/13 [00:00<?, ?it/s]"
      ]
     },
     "metadata": {},
     "output_type": "display_data"
    },
    {
     "data": {
      "application/vnd.jupyter.widget-view+json": {
       "model_id": "a1fb0492a813423fbb91db0d33a66310",
       "version_major": 2,
       "version_minor": 0
      },
      "text/plain": [
       "Image Batches:   0%|          | 0/13 [00:00<?, ?it/s]"
      ]
     },
     "metadata": {},
     "output_type": "display_data"
    },
    {
     "data": {
      "application/vnd.jupyter.widget-view+json": {
       "model_id": "4bc87becf35b498690df3a02917e96da",
       "version_major": 2,
       "version_minor": 0
      },
      "text/plain": [
       "Image Batches:   0%|          | 0/13 [00:00<?, ?it/s]"
      ]
     },
     "metadata": {},
     "output_type": "display_data"
    },
    {
     "data": {
      "application/vnd.jupyter.widget-view+json": {
       "model_id": "ba8332cbe06241a9adf66778c4c33cc7",
       "version_major": 2,
       "version_minor": 0
      },
      "text/plain": [
       "Image Batches:   0%|          | 0/13 [00:00<?, ?it/s]"
      ]
     },
     "metadata": {},
     "output_type": "display_data"
    },
    {
     "data": {
      "application/vnd.jupyter.widget-view+json": {
       "model_id": "036999a4de714576b0ba16f9b8276059",
       "version_major": 2,
       "version_minor": 0
      },
      "text/plain": [
       "Image Batches:   0%|          | 0/13 [00:00<?, ?it/s]"
      ]
     },
     "metadata": {},
     "output_type": "display_data"
    },
    {
     "data": {
      "application/vnd.jupyter.widget-view+json": {
       "model_id": "ea53de89db744333bcf868537e258b2f",
       "version_major": 2,
       "version_minor": 0
      },
      "text/plain": [
       "Image Batches:   0%|          | 0/14 [00:00<?, ?it/s]"
      ]
     },
     "metadata": {},
     "output_type": "display_data"
    },
    {
     "data": {
      "application/vnd.jupyter.widget-view+json": {
       "model_id": "8f3f508ac76f461d9889cceccc89486c",
       "version_major": 2,
       "version_minor": 0
      },
      "text/plain": [
       "Image Batches:   0%|          | 0/16 [00:00<?, ?it/s]"
      ]
     },
     "metadata": {},
     "output_type": "display_data"
    },
    {
     "data": {
      "application/vnd.jupyter.widget-view+json": {
       "model_id": "63d185227c3a4467a7649b0ee9f8bfbc",
       "version_major": 2,
       "version_minor": 0
      },
      "text/plain": [
       "Image Batches:   0%|          | 0/13 [00:00<?, ?it/s]"
      ]
     },
     "metadata": {},
     "output_type": "display_data"
    },
    {
     "data": {
      "application/vnd.jupyter.widget-view+json": {
       "model_id": "55c53f10eb9743c6ae0584098922b7bc",
       "version_major": 2,
       "version_minor": 0
      },
      "text/plain": [
       "Image Batches:   0%|          | 0/13 [00:00<?, ?it/s]"
      ]
     },
     "metadata": {},
     "output_type": "display_data"
    },
    {
     "data": {
      "application/vnd.jupyter.widget-view+json": {
       "model_id": "004f6341a70948488fb431df3beee8b8",
       "version_major": 2,
       "version_minor": 0
      },
      "text/plain": [
       "Image Batches:   0%|          | 0/25 [00:00<?, ?it/s]"
      ]
     },
     "metadata": {},
     "output_type": "display_data"
    },
    {
     "data": {
      "application/vnd.jupyter.widget-view+json": {
       "model_id": "0ffae349d90b4798b248ec294ce9521e",
       "version_major": 2,
       "version_minor": 0
      },
      "text/plain": [
       "Image Batches:   0%|          | 0/13 [00:00<?, ?it/s]"
      ]
     },
     "metadata": {},
     "output_type": "display_data"
    },
    {
     "data": {
      "application/vnd.jupyter.widget-view+json": {
       "model_id": "7d9019ff5d0d4202b650c1df1dc0713d",
       "version_major": 2,
       "version_minor": 0
      },
      "text/plain": [
       "Image Batches:   0%|          | 0/13 [00:00<?, ?it/s]"
      ]
     },
     "metadata": {},
     "output_type": "display_data"
    },
    {
     "data": {
      "application/vnd.jupyter.widget-view+json": {
       "model_id": "ab5b930fc66045d4a4181d87d6e87c7e",
       "version_major": 2,
       "version_minor": 0
      },
      "text/plain": [
       "Image Batches:   0%|          | 0/17 [00:00<?, ?it/s]"
      ]
     },
     "metadata": {},
     "output_type": "display_data"
    },
    {
     "data": {
      "application/vnd.jupyter.widget-view+json": {
       "model_id": "f45e278d1eb84bc5b50e1c8ee3c32d47",
       "version_major": 2,
       "version_minor": 0
      },
      "text/plain": [
       "Image Batches:   0%|          | 0/13 [00:00<?, ?it/s]"
      ]
     },
     "metadata": {},
     "output_type": "display_data"
    },
    {
     "data": {
      "application/vnd.jupyter.widget-view+json": {
       "model_id": "2ca3b8fdf57444398f8441c7aca211e0",
       "version_major": 2,
       "version_minor": 0
      },
      "text/plain": [
       "Image Batches:   0%|          | 0/13 [00:00<?, ?it/s]"
      ]
     },
     "metadata": {},
     "output_type": "display_data"
    },
    {
     "data": {
      "application/vnd.jupyter.widget-view+json": {
       "model_id": "d707a3637c3d434e895d61e71da72d56",
       "version_major": 2,
       "version_minor": 0
      },
      "text/plain": [
       "Image Batches:   0%|          | 0/13 [00:00<?, ?it/s]"
      ]
     },
     "metadata": {},
     "output_type": "display_data"
    },
    {
     "data": {
      "application/vnd.jupyter.widget-view+json": {
       "model_id": "7b19a3541dce408eb37f45ab13bbae77",
       "version_major": 2,
       "version_minor": 0
      },
      "text/plain": [
       "Image Batches:   0%|          | 0/14 [00:00<?, ?it/s]"
      ]
     },
     "metadata": {},
     "output_type": "display_data"
    },
    {
     "data": {
      "application/vnd.jupyter.widget-view+json": {
       "model_id": "f286ca311cde4bdf9d21323aaa357b0a",
       "version_major": 2,
       "version_minor": 0
      },
      "text/plain": [
       "Image Batches:   0%|          | 0/13 [00:00<?, ?it/s]"
      ]
     },
     "metadata": {},
     "output_type": "display_data"
    },
    {
     "data": {
      "application/vnd.jupyter.widget-view+json": {
       "model_id": "a1f0958cb08f406aa911ba98d2823429",
       "version_major": 2,
       "version_minor": 0
      },
      "text/plain": [
       "Image Batches:   0%|          | 0/14 [00:00<?, ?it/s]"
      ]
     },
     "metadata": {},
     "output_type": "display_data"
    },
    {
     "data": {
      "application/vnd.jupyter.widget-view+json": {
       "model_id": "42deb3893cf04e16a43c398e35767520",
       "version_major": 2,
       "version_minor": 0
      },
      "text/plain": [
       "Image Batches:   0%|          | 0/13 [00:00<?, ?it/s]"
      ]
     },
     "metadata": {},
     "output_type": "display_data"
    },
    {
     "data": {
      "application/vnd.jupyter.widget-view+json": {
       "model_id": "13e5009c72f94e749ba2095b1d4f2abc",
       "version_major": 2,
       "version_minor": 0
      },
      "text/plain": [
       "Image Batches:   0%|          | 0/13 [00:00<?, ?it/s]"
      ]
     },
     "metadata": {},
     "output_type": "display_data"
    },
    {
     "data": {
      "application/vnd.jupyter.widget-view+json": {
       "model_id": "aef73bb9a53946f589412a050bb56490",
       "version_major": 2,
       "version_minor": 0
      },
      "text/plain": [
       "Image Batches:   0%|          | 0/13 [00:00<?, ?it/s]"
      ]
     },
     "metadata": {},
     "output_type": "display_data"
    },
    {
     "data": {
      "application/vnd.jupyter.widget-view+json": {
       "model_id": "152adceed0d34765b31f5d530398c4c8",
       "version_major": 2,
       "version_minor": 0
      },
      "text/plain": [
       "Image Batches:   0%|          | 0/13 [00:00<?, ?it/s]"
      ]
     },
     "metadata": {},
     "output_type": "display_data"
    },
    {
     "data": {
      "application/vnd.jupyter.widget-view+json": {
       "model_id": "4a911d6bec6646c585110cb551407756",
       "version_major": 2,
       "version_minor": 0
      },
      "text/plain": [
       "Image Batches:   0%|          | 0/11 [00:00<?, ?it/s]"
      ]
     },
     "metadata": {},
     "output_type": "display_data"
    },
    {
     "data": {
      "application/vnd.jupyter.widget-view+json": {
       "model_id": "c53ef1e156494fddaab7d510e033acf0",
       "version_major": 2,
       "version_minor": 0
      },
      "text/plain": [
       "Image Batches:   0%|          | 0/13 [00:00<?, ?it/s]"
      ]
     },
     "metadata": {},
     "output_type": "display_data"
    },
    {
     "data": {
      "application/vnd.jupyter.widget-view+json": {
       "model_id": "30a5c6acb4db452ab81d19f2cf7c76a2",
       "version_major": 2,
       "version_minor": 0
      },
      "text/plain": [
       "Image Batches:   0%|          | 0/13 [00:00<?, ?it/s]"
      ]
     },
     "metadata": {},
     "output_type": "display_data"
    },
    {
     "data": {
      "application/vnd.jupyter.widget-view+json": {
       "model_id": "4988febb4a2642c0b20ff6137f784cfe",
       "version_major": 2,
       "version_minor": 0
      },
      "text/plain": [
       "Image Batches:   0%|          | 0/12 [00:00<?, ?it/s]"
      ]
     },
     "metadata": {},
     "output_type": "display_data"
    },
    {
     "data": {
      "application/vnd.jupyter.widget-view+json": {
       "model_id": "0e245b7b0eb74c2f8a259fcf99cb7dc9",
       "version_major": 2,
       "version_minor": 0
      },
      "text/plain": [
       "Image Batches:   0%|          | 0/24 [00:00<?, ?it/s]"
      ]
     },
     "metadata": {},
     "output_type": "display_data"
    },
    {
     "data": {
      "application/vnd.jupyter.widget-view+json": {
       "model_id": "45bdaae3c1d74f08a0dbb13380c8fe3e",
       "version_major": 2,
       "version_minor": 0
      },
      "text/plain": [
       "Image Batches:   0%|          | 0/28 [00:00<?, ?it/s]"
      ]
     },
     "metadata": {},
     "output_type": "display_data"
    },
    {
     "data": {
      "application/vnd.jupyter.widget-view+json": {
       "model_id": "febf0fda70df4a688827abd7e8752f82",
       "version_major": 2,
       "version_minor": 0
      },
      "text/plain": [
       "Image Batches:   0%|          | 0/29 [00:00<?, ?it/s]"
      ]
     },
     "metadata": {},
     "output_type": "display_data"
    },
    {
     "data": {
      "application/vnd.jupyter.widget-view+json": {
       "model_id": "96a03b16ef00413eafe46450d083d1d9",
       "version_major": 2,
       "version_minor": 0
      },
      "text/plain": [
       "Image Batches:   0%|          | 0/13 [00:00<?, ?it/s]"
      ]
     },
     "metadata": {},
     "output_type": "display_data"
    },
    {
     "data": {
      "application/vnd.jupyter.widget-view+json": {
       "model_id": "7eff8d4e0cf0497e953ed6d7e401b06b",
       "version_major": 2,
       "version_minor": 0
      },
      "text/plain": [
       "Image Batches:   0%|          | 0/13 [00:00<?, ?it/s]"
      ]
     },
     "metadata": {},
     "output_type": "display_data"
    },
    {
     "data": {
      "application/vnd.jupyter.widget-view+json": {
       "model_id": "6a150a0a91014787a63abe753747882f",
       "version_major": 2,
       "version_minor": 0
      },
      "text/plain": [
       "Image Batches:   0%|          | 0/24 [00:00<?, ?it/s]"
      ]
     },
     "metadata": {},
     "output_type": "display_data"
    },
    {
     "data": {
      "application/vnd.jupyter.widget-view+json": {
       "model_id": "f28d1aaa90804e7ca7d61a5dabb819ca",
       "version_major": 2,
       "version_minor": 0
      },
      "text/plain": [
       "Image Batches:   0%|          | 0/13 [00:00<?, ?it/s]"
      ]
     },
     "metadata": {},
     "output_type": "display_data"
    },
    {
     "data": {
      "application/vnd.jupyter.widget-view+json": {
       "model_id": "c9eba6f643ec464aa93e11d73de71ea5",
       "version_major": 2,
       "version_minor": 0
      },
      "text/plain": [
       "Image Batches:   0%|          | 0/13 [00:00<?, ?it/s]"
      ]
     },
     "metadata": {},
     "output_type": "display_data"
    },
    {
     "data": {
      "application/vnd.jupyter.widget-view+json": {
       "model_id": "745dd512d50c43deb1caf835dac6c682",
       "version_major": 2,
       "version_minor": 0
      },
      "text/plain": [
       "Image Batches:   0%|          | 0/13 [00:00<?, ?it/s]"
      ]
     },
     "metadata": {},
     "output_type": "display_data"
    },
    {
     "data": {
      "application/vnd.jupyter.widget-view+json": {
       "model_id": "92c1aef9c74b4ac8a7b3f381d2034bb3",
       "version_major": 2,
       "version_minor": 0
      },
      "text/plain": [
       "Image Batches:   0%|          | 0/13 [00:00<?, ?it/s]"
      ]
     },
     "metadata": {},
     "output_type": "display_data"
    },
    {
     "data": {
      "application/vnd.jupyter.widget-view+json": {
       "model_id": "035b59ccc0344e80a0b54298149d21b7",
       "version_major": 2,
       "version_minor": 0
      },
      "text/plain": [
       "Image Batches:   0%|          | 0/13 [00:00<?, ?it/s]"
      ]
     },
     "metadata": {},
     "output_type": "display_data"
    },
    {
     "data": {
      "application/vnd.jupyter.widget-view+json": {
       "model_id": "c6de9e08937a4f9682fc2c5c5761dd07",
       "version_major": 2,
       "version_minor": 0
      },
      "text/plain": [
       "Image Batches:   0%|          | 0/13 [00:00<?, ?it/s]"
      ]
     },
     "metadata": {},
     "output_type": "display_data"
    },
    {
     "data": {
      "application/vnd.jupyter.widget-view+json": {
       "model_id": "d4ee5b94519e48fcaea2394ae0fc9188",
       "version_major": 2,
       "version_minor": 0
      },
      "text/plain": [
       "Image Batches:   0%|          | 0/13 [00:00<?, ?it/s]"
      ]
     },
     "metadata": {},
     "output_type": "display_data"
    },
    {
     "data": {
      "application/vnd.jupyter.widget-view+json": {
       "model_id": "d0e48902f4ae4ce0992a07d1f8252cc4",
       "version_major": 2,
       "version_minor": 0
      },
      "text/plain": [
       "Image Batches:   0%|          | 0/14 [00:00<?, ?it/s]"
      ]
     },
     "metadata": {},
     "output_type": "display_data"
    },
    {
     "data": {
      "application/vnd.jupyter.widget-view+json": {
       "model_id": "0a2b82d8252e45daab56398e1d6f4661",
       "version_major": 2,
       "version_minor": 0
      },
      "text/plain": [
       "Image Batches:   0%|          | 0/24 [00:00<?, ?it/s]"
      ]
     },
     "metadata": {},
     "output_type": "display_data"
    },
    {
     "data": {
      "application/vnd.jupyter.widget-view+json": {
       "model_id": "d091bd300e19480daf2c44f0f65f270f",
       "version_major": 2,
       "version_minor": 0
      },
      "text/plain": [
       "Image Batches:   0%|          | 0/13 [00:00<?, ?it/s]"
      ]
     },
     "metadata": {},
     "output_type": "display_data"
    },
    {
     "data": {
      "application/vnd.jupyter.widget-view+json": {
       "model_id": "7256c97cdd7c4768aceb4c026bc72eef",
       "version_major": 2,
       "version_minor": 0
      },
      "text/plain": [
       "Image Batches:   0%|          | 0/13 [00:00<?, ?it/s]"
      ]
     },
     "metadata": {},
     "output_type": "display_data"
    },
    {
     "data": {
      "application/vnd.jupyter.widget-view+json": {
       "model_id": "0cbf1e36b5694a98a44322b7b2bd05d8",
       "version_major": 2,
       "version_minor": 0
      },
      "text/plain": [
       "Image Batches:   0%|          | 0/12 [00:00<?, ?it/s]"
      ]
     },
     "metadata": {},
     "output_type": "display_data"
    },
    {
     "data": {
      "application/vnd.jupyter.widget-view+json": {
       "model_id": "c01dfc6f02b94d64b6ab7d28f38f21be",
       "version_major": 2,
       "version_minor": 0
      },
      "text/plain": [
       "Image Batches:   0%|          | 0/13 [00:00<?, ?it/s]"
      ]
     },
     "metadata": {},
     "output_type": "display_data"
    },
    {
     "data": {
      "application/vnd.jupyter.widget-view+json": {
       "model_id": "c88b796764b441f4a1600ed401d1b177",
       "version_major": 2,
       "version_minor": 0
      },
      "text/plain": [
       "Image Batches:   0%|          | 0/13 [00:00<?, ?it/s]"
      ]
     },
     "metadata": {},
     "output_type": "display_data"
    },
    {
     "data": {
      "application/vnd.jupyter.widget-view+json": {
       "model_id": "88200a1cb56043df8926835e6387da1c",
       "version_major": 2,
       "version_minor": 0
      },
      "text/plain": [
       "Image Batches:   0%|          | 0/13 [00:00<?, ?it/s]"
      ]
     },
     "metadata": {},
     "output_type": "display_data"
    },
    {
     "data": {
      "application/vnd.jupyter.widget-view+json": {
       "model_id": "2d28f8f583994859839c11acd3f9926b",
       "version_major": 2,
       "version_minor": 0
      },
      "text/plain": [
       "Image Batches:   0%|          | 0/13 [00:00<?, ?it/s]"
      ]
     },
     "metadata": {},
     "output_type": "display_data"
    },
    {
     "data": {
      "application/vnd.jupyter.widget-view+json": {
       "model_id": "44af86c85edd4a2eb0bb57bc9f0d6763",
       "version_major": 2,
       "version_minor": 0
      },
      "text/plain": [
       "Image Batches:   0%|          | 0/13 [00:00<?, ?it/s]"
      ]
     },
     "metadata": {},
     "output_type": "display_data"
    },
    {
     "data": {
      "application/vnd.jupyter.widget-view+json": {
       "model_id": "bbfb1430ed5944529ee98cbbc1bdbc08",
       "version_major": 2,
       "version_minor": 0
      },
      "text/plain": [
       "Image Batches:   0%|          | 0/13 [00:00<?, ?it/s]"
      ]
     },
     "metadata": {},
     "output_type": "display_data"
    },
    {
     "data": {
      "application/vnd.jupyter.widget-view+json": {
       "model_id": "b52617035992401087ee21dc27411ecc",
       "version_major": 2,
       "version_minor": 0
      },
      "text/plain": [
       "Image Batches:   0%|          | 0/13 [00:00<?, ?it/s]"
      ]
     },
     "metadata": {},
     "output_type": "display_data"
    },
    {
     "data": {
      "application/vnd.jupyter.widget-view+json": {
       "model_id": "1a932bec787149d1aa7146d767491371",
       "version_major": 2,
       "version_minor": 0
      },
      "text/plain": [
       "Image Batches:   0%|          | 0/14 [00:00<?, ?it/s]"
      ]
     },
     "metadata": {},
     "output_type": "display_data"
    },
    {
     "data": {
      "application/vnd.jupyter.widget-view+json": {
       "model_id": "535c428802314e32b721b33ee9230d10",
       "version_major": 2,
       "version_minor": 0
      },
      "text/plain": [
       "Image Batches:   0%|          | 0/14 [00:00<?, ?it/s]"
      ]
     },
     "metadata": {},
     "output_type": "display_data"
    },
    {
     "data": {
      "application/vnd.jupyter.widget-view+json": {
       "model_id": "dab15b729d68431cb273e009d7b9efe3",
       "version_major": 2,
       "version_minor": 0
      },
      "text/plain": [
       "Image Batches:   0%|          | 0/13 [00:00<?, ?it/s]"
      ]
     },
     "metadata": {},
     "output_type": "display_data"
    },
    {
     "data": {
      "application/vnd.jupyter.widget-view+json": {
       "model_id": "5ea081730dc449ed972de9bb19ac608e",
       "version_major": 2,
       "version_minor": 0
      },
      "text/plain": [
       "Image Batches:   0%|          | 0/24 [00:00<?, ?it/s]"
      ]
     },
     "metadata": {},
     "output_type": "display_data"
    },
    {
     "data": {
      "application/vnd.jupyter.widget-view+json": {
       "model_id": "db245e2986404755bb7b3050e4946cca",
       "version_major": 2,
       "version_minor": 0
      },
      "text/plain": [
       "Image Batches:   0%|          | 0/13 [00:00<?, ?it/s]"
      ]
     },
     "metadata": {},
     "output_type": "display_data"
    },
    {
     "data": {
      "application/vnd.jupyter.widget-view+json": {
       "model_id": "81aec033b04c4f90a7b69044fbd00307",
       "version_major": 2,
       "version_minor": 0
      },
      "text/plain": [
       "Image Batches:   0%|          | 0/13 [00:00<?, ?it/s]"
      ]
     },
     "metadata": {},
     "output_type": "display_data"
    },
    {
     "data": {
      "application/vnd.jupyter.widget-view+json": {
       "model_id": "6c6ea411a36e4556b2ef2f8c55105027",
       "version_major": 2,
       "version_minor": 0
      },
      "text/plain": [
       "Image Batches:   0%|          | 0/14 [00:00<?, ?it/s]"
      ]
     },
     "metadata": {},
     "output_type": "display_data"
    },
    {
     "data": {
      "application/vnd.jupyter.widget-view+json": {
       "model_id": "4ae00a366989400eb2a35322b68d28bf",
       "version_major": 2,
       "version_minor": 0
      },
      "text/plain": [
       "Image Batches:   0%|          | 0/13 [00:00<?, ?it/s]"
      ]
     },
     "metadata": {},
     "output_type": "display_data"
    },
    {
     "data": {
      "application/vnd.jupyter.widget-view+json": {
       "model_id": "f3af5c1abdc742bb8fc3e9d51efe5d43",
       "version_major": 2,
       "version_minor": 0
      },
      "text/plain": [
       "Image Batches:   0%|          | 0/25 [00:00<?, ?it/s]"
      ]
     },
     "metadata": {},
     "output_type": "display_data"
    },
    {
     "data": {
      "application/vnd.jupyter.widget-view+json": {
       "model_id": "85fb9f7f85ce40ad9542ae06dde03418",
       "version_major": 2,
       "version_minor": 0
      },
      "text/plain": [
       "Image Batches:   0%|          | 0/13 [00:00<?, ?it/s]"
      ]
     },
     "metadata": {},
     "output_type": "display_data"
    },
    {
     "data": {
      "application/vnd.jupyter.widget-view+json": {
       "model_id": "96ee4a939cb54c988cf2cc25b987e34a",
       "version_major": 2,
       "version_minor": 0
      },
      "text/plain": [
       "Image Batches:   0%|          | 0/14 [00:00<?, ?it/s]"
      ]
     },
     "metadata": {},
     "output_type": "display_data"
    },
    {
     "data": {
      "application/vnd.jupyter.widget-view+json": {
       "model_id": "61e161073583494b839c8776a475f299",
       "version_major": 2,
       "version_minor": 0
      },
      "text/plain": [
       "Image Batches:   0%|          | 0/13 [00:00<?, ?it/s]"
      ]
     },
     "metadata": {},
     "output_type": "display_data"
    },
    {
     "data": {
      "application/vnd.jupyter.widget-view+json": {
       "model_id": "76a893b0e45c4694852c2b97ecc7f442",
       "version_major": 2,
       "version_minor": 0
      },
      "text/plain": [
       "Image Batches:   0%|          | 0/13 [00:00<?, ?it/s]"
      ]
     },
     "metadata": {},
     "output_type": "display_data"
    },
    {
     "data": {
      "application/vnd.jupyter.widget-view+json": {
       "model_id": "5320a5e0d7d944d687cdc9c14cd7f657",
       "version_major": 2,
       "version_minor": 0
      },
      "text/plain": [
       "Image Batches:   0%|          | 0/13 [00:00<?, ?it/s]"
      ]
     },
     "metadata": {},
     "output_type": "display_data"
    },
    {
     "data": {
      "application/vnd.jupyter.widget-view+json": {
       "model_id": "c1ae56a440dc41a5b7f83ee39616feed",
       "version_major": 2,
       "version_minor": 0
      },
      "text/plain": [
       "Image Batches:   0%|          | 0/13 [00:00<?, ?it/s]"
      ]
     },
     "metadata": {},
     "output_type": "display_data"
    },
    {
     "data": {
      "application/vnd.jupyter.widget-view+json": {
       "model_id": "c79a80f2945148f6b0f6da7a3ade096d",
       "version_major": 2,
       "version_minor": 0
      },
      "text/plain": [
       "Image Batches:   0%|          | 0/13 [00:00<?, ?it/s]"
      ]
     },
     "metadata": {},
     "output_type": "display_data"
    },
    {
     "data": {
      "application/vnd.jupyter.widget-view+json": {
       "model_id": "c406348f11dd48b595ce6d93efdedde9",
       "version_major": 2,
       "version_minor": 0
      },
      "text/plain": [
       "Image Batches:   0%|          | 0/25 [00:00<?, ?it/s]"
      ]
     },
     "metadata": {},
     "output_type": "display_data"
    },
    {
     "data": {
      "application/vnd.jupyter.widget-view+json": {
       "model_id": "334b86897c5d469188dcadd11db75ecd",
       "version_major": 2,
       "version_minor": 0
      },
      "text/plain": [
       "Image Batches:   0%|          | 0/13 [00:00<?, ?it/s]"
      ]
     },
     "metadata": {},
     "output_type": "display_data"
    },
    {
     "data": {
      "application/vnd.jupyter.widget-view+json": {
       "model_id": "7a29dc07de7f4565873b91910a21c482",
       "version_major": 2,
       "version_minor": 0
      },
      "text/plain": [
       "Image Batches:   0%|          | 0/4 [00:00<?, ?it/s]"
      ]
     },
     "metadata": {},
     "output_type": "display_data"
    },
    {
     "data": {
      "application/vnd.jupyter.widget-view+json": {
       "model_id": "a2f4a9b9ce6a4603a9bfd156a26e3ea0",
       "version_major": 2,
       "version_minor": 0
      },
      "text/plain": [
       "Image Batches:   0%|          | 0/13 [00:00<?, ?it/s]"
      ]
     },
     "metadata": {},
     "output_type": "display_data"
    },
    {
     "data": {
      "application/vnd.jupyter.widget-view+json": {
       "model_id": "c1cb12befaf54026bbd1697ce5b13d55",
       "version_major": 2,
       "version_minor": 0
      },
      "text/plain": [
       "Image Batches:   0%|          | 0/14 [00:00<?, ?it/s]"
      ]
     },
     "metadata": {},
     "output_type": "display_data"
    },
    {
     "data": {
      "application/vnd.jupyter.widget-view+json": {
       "model_id": "b8c730c92df54d6fb59539001664c02a",
       "version_major": 2,
       "version_minor": 0
      },
      "text/plain": [
       "Image Batches:   0%|          | 0/14 [00:00<?, ?it/s]"
      ]
     },
     "metadata": {},
     "output_type": "display_data"
    },
    {
     "data": {
      "application/vnd.jupyter.widget-view+json": {
       "model_id": "a6cbaebeeb244105a2419738e3a87d08",
       "version_major": 2,
       "version_minor": 0
      },
      "text/plain": [
       "Image Batches:   0%|          | 0/13 [00:00<?, ?it/s]"
      ]
     },
     "metadata": {},
     "output_type": "display_data"
    },
    {
     "data": {
      "application/vnd.jupyter.widget-view+json": {
       "model_id": "30c1ffcb0e26477394c29f0337187911",
       "version_major": 2,
       "version_minor": 0
      },
      "text/plain": [
       "Image Batches:   0%|          | 0/26 [00:00<?, ?it/s]"
      ]
     },
     "metadata": {},
     "output_type": "display_data"
    },
    {
     "data": {
      "application/vnd.jupyter.widget-view+json": {
       "model_id": "6a77e626f6904d93bedf336e5750c1ba",
       "version_major": 2,
       "version_minor": 0
      },
      "text/plain": [
       "Image Batches:   0%|          | 0/13 [00:00<?, ?it/s]"
      ]
     },
     "metadata": {},
     "output_type": "display_data"
    },
    {
     "data": {
      "application/vnd.jupyter.widget-view+json": {
       "model_id": "db7d1e4d224743949dcc6abb7cbcf085",
       "version_major": 2,
       "version_minor": 0
      },
      "text/plain": [
       "Image Batches:   0%|          | 0/13 [00:00<?, ?it/s]"
      ]
     },
     "metadata": {},
     "output_type": "display_data"
    },
    {
     "data": {
      "application/vnd.jupyter.widget-view+json": {
       "model_id": "28777c7c4ec9416ba2417eae7b2c8fc9",
       "version_major": 2,
       "version_minor": 0
      },
      "text/plain": [
       "Image Batches:   0%|          | 0/13 [00:00<?, ?it/s]"
      ]
     },
     "metadata": {},
     "output_type": "display_data"
    },
    {
     "data": {
      "application/vnd.jupyter.widget-view+json": {
       "model_id": "3de06a497ac54e2c91ccde6b2aff603e",
       "version_major": 2,
       "version_minor": 0
      },
      "text/plain": [
       "Image Batches:   0%|          | 0/14 [00:00<?, ?it/s]"
      ]
     },
     "metadata": {},
     "output_type": "display_data"
    },
    {
     "data": {
      "application/vnd.jupyter.widget-view+json": {
       "model_id": "51190051c7754ed38ca2676842f75337",
       "version_major": 2,
       "version_minor": 0
      },
      "text/plain": [
       "Image Batches:   0%|          | 0/13 [00:00<?, ?it/s]"
      ]
     },
     "metadata": {},
     "output_type": "display_data"
    },
    {
     "data": {
      "application/vnd.jupyter.widget-view+json": {
       "model_id": "d4b6473a4dfb466985e28c521ceafe06",
       "version_major": 2,
       "version_minor": 0
      },
      "text/plain": [
       "Image Batches:   0%|          | 0/13 [00:00<?, ?it/s]"
      ]
     },
     "metadata": {},
     "output_type": "display_data"
    },
    {
     "data": {
      "application/vnd.jupyter.widget-view+json": {
       "model_id": "4bd994b6f3e94051b71f9eaf621f5f7a",
       "version_major": 2,
       "version_minor": 0
      },
      "text/plain": [
       "Image Batches:   0%|          | 0/13 [00:00<?, ?it/s]"
      ]
     },
     "metadata": {},
     "output_type": "display_data"
    },
    {
     "data": {
      "application/vnd.jupyter.widget-view+json": {
       "model_id": "3f41f5f37d1649419340dbed57347d0b",
       "version_major": 2,
       "version_minor": 0
      },
      "text/plain": [
       "Image Batches:   0%|          | 0/13 [00:00<?, ?it/s]"
      ]
     },
     "metadata": {},
     "output_type": "display_data"
    },
    {
     "data": {
      "application/vnd.jupyter.widget-view+json": {
       "model_id": "fe925188ac744c10aa0264dbfbd9fcae",
       "version_major": 2,
       "version_minor": 0
      },
      "text/plain": [
       "Image Batches:   0%|          | 0/13 [00:00<?, ?it/s]"
      ]
     },
     "metadata": {},
     "output_type": "display_data"
    },
    {
     "data": {
      "application/vnd.jupyter.widget-view+json": {
       "model_id": "e4090ce100d649b98700d4e388bab863",
       "version_major": 2,
       "version_minor": 0
      },
      "text/plain": [
       "Image Batches:   0%|          | 0/13 [00:00<?, ?it/s]"
      ]
     },
     "metadata": {},
     "output_type": "display_data"
    },
    {
     "data": {
      "application/vnd.jupyter.widget-view+json": {
       "model_id": "1c3eccb57a7c445091628ad2f44a952d",
       "version_major": 2,
       "version_minor": 0
      },
      "text/plain": [
       "Image Batches:   0%|          | 0/13 [00:00<?, ?it/s]"
      ]
     },
     "metadata": {},
     "output_type": "display_data"
    },
    {
     "data": {
      "application/vnd.jupyter.widget-view+json": {
       "model_id": "2d72b4cea74a4104a11ddced823e3efe",
       "version_major": 2,
       "version_minor": 0
      },
      "text/plain": [
       "Image Batches:   0%|          | 0/13 [00:00<?, ?it/s]"
      ]
     },
     "metadata": {},
     "output_type": "display_data"
    },
    {
     "data": {
      "application/vnd.jupyter.widget-view+json": {
       "model_id": "2142771f9b23439cb429c2ade48126f9",
       "version_major": 2,
       "version_minor": 0
      },
      "text/plain": [
       "Image Batches:   0%|          | 0/13 [00:00<?, ?it/s]"
      ]
     },
     "metadata": {},
     "output_type": "display_data"
    },
    {
     "data": {
      "application/vnd.jupyter.widget-view+json": {
       "model_id": "620a943b8d584a029c8d6b0f3595c82b",
       "version_major": 2,
       "version_minor": 0
      },
      "text/plain": [
       "Image Batches:   0%|          | 0/13 [00:00<?, ?it/s]"
      ]
     },
     "metadata": {},
     "output_type": "display_data"
    },
    {
     "data": {
      "application/vnd.jupyter.widget-view+json": {
       "model_id": "fb7db520acf24dc89799b8e2ac9328d5",
       "version_major": 2,
       "version_minor": 0
      },
      "text/plain": [
       "Image Batches:   0%|          | 0/13 [00:00<?, ?it/s]"
      ]
     },
     "metadata": {},
     "output_type": "display_data"
    },
    {
     "data": {
      "application/vnd.jupyter.widget-view+json": {
       "model_id": "4f5af2ed791c49d6b5e6dedc6cdc2c28",
       "version_major": 2,
       "version_minor": 0
      },
      "text/plain": [
       "Image Batches:   0%|          | 0/14 [00:00<?, ?it/s]"
      ]
     },
     "metadata": {},
     "output_type": "display_data"
    },
    {
     "data": {
      "application/vnd.jupyter.widget-view+json": {
       "model_id": "7a89fe7efbc24c88ac41a51270475c15",
       "version_major": 2,
       "version_minor": 0
      },
      "text/plain": [
       "Image Batches:   0%|          | 0/13 [00:00<?, ?it/s]"
      ]
     },
     "metadata": {},
     "output_type": "display_data"
    },
    {
     "data": {
      "application/vnd.jupyter.widget-view+json": {
       "model_id": "1a2359b180844cd69a20eb0469ab568d",
       "version_major": 2,
       "version_minor": 0
      },
      "text/plain": [
       "Image Batches:   0%|          | 0/1 [00:00<?, ?it/s]"
      ]
     },
     "metadata": {},
     "output_type": "display_data"
    },
    {
     "data": {
      "application/vnd.jupyter.widget-view+json": {
       "model_id": "9d2b94de47af4bbc9bce4095b954358a",
       "version_major": 2,
       "version_minor": 0
      },
      "text/plain": [
       "Image Batches:   0%|          | 0/13 [00:00<?, ?it/s]"
      ]
     },
     "metadata": {},
     "output_type": "display_data"
    },
    {
     "data": {
      "application/vnd.jupyter.widget-view+json": {
       "model_id": "2e0fde1c05104ee6925c0aa58d26fc52",
       "version_major": 2,
       "version_minor": 0
      },
      "text/plain": [
       "Image Batches:   0%|          | 0/13 [00:00<?, ?it/s]"
      ]
     },
     "metadata": {},
     "output_type": "display_data"
    },
    {
     "data": {
      "application/vnd.jupyter.widget-view+json": {
       "model_id": "68c140931fa84e3f94e4d2d205a1bb95",
       "version_major": 2,
       "version_minor": 0
      },
      "text/plain": [
       "Image Batches:   0%|          | 0/13 [00:00<?, ?it/s]"
      ]
     },
     "metadata": {},
     "output_type": "display_data"
    },
    {
     "data": {
      "application/vnd.jupyter.widget-view+json": {
       "model_id": "5497411af9e24231b205ab0437e4f60a",
       "version_major": 2,
       "version_minor": 0
      },
      "text/plain": [
       "Image Batches:   0%|          | 0/13 [00:00<?, ?it/s]"
      ]
     },
     "metadata": {},
     "output_type": "display_data"
    },
    {
     "data": {
      "application/vnd.jupyter.widget-view+json": {
       "model_id": "32691ed1064b49fb83875591157a1f9c",
       "version_major": 2,
       "version_minor": 0
      },
      "text/plain": [
       "Image Batches:   0%|          | 0/13 [00:00<?, ?it/s]"
      ]
     },
     "metadata": {},
     "output_type": "display_data"
    },
    {
     "data": {
      "application/vnd.jupyter.widget-view+json": {
       "model_id": "34264fb7545f48bdadde1b95a4f0423f",
       "version_major": 2,
       "version_minor": 0
      },
      "text/plain": [
       "Image Batches:   0%|          | 0/13 [00:00<?, ?it/s]"
      ]
     },
     "metadata": {},
     "output_type": "display_data"
    },
    {
     "data": {
      "application/vnd.jupyter.widget-view+json": {
       "model_id": "13d41095620c434692e21ab68a40df14",
       "version_major": 2,
       "version_minor": 0
      },
      "text/plain": [
       "Image Batches:   0%|          | 0/13 [00:00<?, ?it/s]"
      ]
     },
     "metadata": {},
     "output_type": "display_data"
    },
    {
     "data": {
      "application/vnd.jupyter.widget-view+json": {
       "model_id": "80cfe11abfe2467e9ba45ef683a90057",
       "version_major": 2,
       "version_minor": 0
      },
      "text/plain": [
       "Image Batches:   0%|          | 0/13 [00:00<?, ?it/s]"
      ]
     },
     "metadata": {},
     "output_type": "display_data"
    },
    {
     "data": {
      "application/vnd.jupyter.widget-view+json": {
       "model_id": "61fb92a91ae64dc4ab7da18a74a15086",
       "version_major": 2,
       "version_minor": 0
      },
      "text/plain": [
       "Image Batches:   0%|          | 0/13 [00:00<?, ?it/s]"
      ]
     },
     "metadata": {},
     "output_type": "display_data"
    },
    {
     "data": {
      "application/vnd.jupyter.widget-view+json": {
       "model_id": "9461d68a4804459b92ba80f12ccc38b3",
       "version_major": 2,
       "version_minor": 0
      },
      "text/plain": [
       "Image Batches:   0%|          | 0/13 [00:00<?, ?it/s]"
      ]
     },
     "metadata": {},
     "output_type": "display_data"
    },
    {
     "data": {
      "application/vnd.jupyter.widget-view+json": {
       "model_id": "ea71c2556071459ba8da404e06f146c2",
       "version_major": 2,
       "version_minor": 0
      },
      "text/plain": [
       "Image Batches:   0%|          | 0/13 [00:00<?, ?it/s]"
      ]
     },
     "metadata": {},
     "output_type": "display_data"
    },
    {
     "data": {
      "application/vnd.jupyter.widget-view+json": {
       "model_id": "78bad31a1776420abeef3c3198cb1766",
       "version_major": 2,
       "version_minor": 0
      },
      "text/plain": [
       "Image Batches:   0%|          | 0/13 [00:00<?, ?it/s]"
      ]
     },
     "metadata": {},
     "output_type": "display_data"
    },
    {
     "data": {
      "application/vnd.jupyter.widget-view+json": {
       "model_id": "6ca94d1e6a044e7fbd29bb34ea002c8a",
       "version_major": 2,
       "version_minor": 0
      },
      "text/plain": [
       "Image Batches:   0%|          | 0/13 [00:00<?, ?it/s]"
      ]
     },
     "metadata": {},
     "output_type": "display_data"
    },
    {
     "data": {
      "application/vnd.jupyter.widget-view+json": {
       "model_id": "ef09586f8ad3491e80c125f5d14a97d2",
       "version_major": 2,
       "version_minor": 0
      },
      "text/plain": [
       "Image Batches:   0%|          | 0/14 [00:00<?, ?it/s]"
      ]
     },
     "metadata": {},
     "output_type": "display_data"
    },
    {
     "data": {
      "application/vnd.jupyter.widget-view+json": {
       "model_id": "fb1e3e696e9f48ef941a3e2b0381ecc5",
       "version_major": 2,
       "version_minor": 0
      },
      "text/plain": [
       "Image Batches:   0%|          | 0/13 [00:00<?, ?it/s]"
      ]
     },
     "metadata": {},
     "output_type": "display_data"
    },
    {
     "data": {
      "application/vnd.jupyter.widget-view+json": {
       "model_id": "ad3ba7ce598b4e39874d18cb7c37506c",
       "version_major": 2,
       "version_minor": 0
      },
      "text/plain": [
       "Image Batches:   0%|          | 0/13 [00:00<?, ?it/s]"
      ]
     },
     "metadata": {},
     "output_type": "display_data"
    },
    {
     "data": {
      "application/vnd.jupyter.widget-view+json": {
       "model_id": "350049a6f4db40649604ddc1975b8e16",
       "version_major": 2,
       "version_minor": 0
      },
      "text/plain": [
       "Image Batches:   0%|          | 0/13 [00:00<?, ?it/s]"
      ]
     },
     "metadata": {},
     "output_type": "display_data"
    },
    {
     "data": {
      "application/vnd.jupyter.widget-view+json": {
       "model_id": "c76af3debe544f909fe85c93a71f9e28",
       "version_major": 2,
       "version_minor": 0
      },
      "text/plain": [
       "Image Batches:   0%|          | 0/14 [00:00<?, ?it/s]"
      ]
     },
     "metadata": {},
     "output_type": "display_data"
    },
    {
     "data": {
      "application/vnd.jupyter.widget-view+json": {
       "model_id": "233edbecc6874d50b1b736bdf27f64de",
       "version_major": 2,
       "version_minor": 0
      },
      "text/plain": [
       "Image Batches:   0%|          | 0/13 [00:00<?, ?it/s]"
      ]
     },
     "metadata": {},
     "output_type": "display_data"
    },
    {
     "data": {
      "application/vnd.jupyter.widget-view+json": {
       "model_id": "602670674815415ea086ac71cc3c5253",
       "version_major": 2,
       "version_minor": 0
      },
      "text/plain": [
       "Image Batches:   0%|          | 0/13 [00:00<?, ?it/s]"
      ]
     },
     "metadata": {},
     "output_type": "display_data"
    },
    {
     "data": {
      "application/vnd.jupyter.widget-view+json": {
       "model_id": "854648085a0141e09f8abe9fa84dad7c",
       "version_major": 2,
       "version_minor": 0
      },
      "text/plain": [
       "Image Batches:   0%|          | 0/13 [00:00<?, ?it/s]"
      ]
     },
     "metadata": {},
     "output_type": "display_data"
    },
    {
     "data": {
      "application/vnd.jupyter.widget-view+json": {
       "model_id": "da3f002134454df6a537521bb6184e5a",
       "version_major": 2,
       "version_minor": 0
      },
      "text/plain": [
       "Image Batches:   0%|          | 0/13 [00:00<?, ?it/s]"
      ]
     },
     "metadata": {},
     "output_type": "display_data"
    },
    {
     "data": {
      "application/vnd.jupyter.widget-view+json": {
       "model_id": "c6dba78b01534f418c4f49a4c19c2659",
       "version_major": 2,
       "version_minor": 0
      },
      "text/plain": [
       "Image Batches:   0%|          | 0/13 [00:00<?, ?it/s]"
      ]
     },
     "metadata": {},
     "output_type": "display_data"
    },
    {
     "data": {
      "application/vnd.jupyter.widget-view+json": {
       "model_id": "283a235f4da441e3ab1b023ac5b7e648",
       "version_major": 2,
       "version_minor": 0
      },
      "text/plain": [
       "Image Batches:   0%|          | 0/30 [00:00<?, ?it/s]"
      ]
     },
     "metadata": {},
     "output_type": "display_data"
    },
    {
     "data": {
      "application/vnd.jupyter.widget-view+json": {
       "model_id": "256ef09768fc4a608b1290231a2c9e31",
       "version_major": 2,
       "version_minor": 0
      },
      "text/plain": [
       "Image Batches:   0%|          | 0/13 [00:00<?, ?it/s]"
      ]
     },
     "metadata": {},
     "output_type": "display_data"
    },
    {
     "data": {
      "application/vnd.jupyter.widget-view+json": {
       "model_id": "c2b79cf6aa43498d9b69fd099b0403a1",
       "version_major": 2,
       "version_minor": 0
      },
      "text/plain": [
       "Image Batches:   0%|          | 0/13 [00:00<?, ?it/s]"
      ]
     },
     "metadata": {},
     "output_type": "display_data"
    },
    {
     "data": {
      "application/vnd.jupyter.widget-view+json": {
       "model_id": "7b34f03936b445bcbcde8cc936bb9479",
       "version_major": 2,
       "version_minor": 0
      },
      "text/plain": [
       "Image Batches:   0%|          | 0/13 [00:00<?, ?it/s]"
      ]
     },
     "metadata": {},
     "output_type": "display_data"
    },
    {
     "data": {
      "application/vnd.jupyter.widget-view+json": {
       "model_id": "c5060a444b3d4409ba8f791b5b462d70",
       "version_major": 2,
       "version_minor": 0
      },
      "text/plain": [
       "Image Batches:   0%|          | 0/13 [00:00<?, ?it/s]"
      ]
     },
     "metadata": {},
     "output_type": "display_data"
    },
    {
     "data": {
      "application/vnd.jupyter.widget-view+json": {
       "model_id": "bb27642de81f4767b408a42153c583da",
       "version_major": 2,
       "version_minor": 0
      },
      "text/plain": [
       "Image Batches:   0%|          | 0/13 [00:00<?, ?it/s]"
      ]
     },
     "metadata": {},
     "output_type": "display_data"
    },
    {
     "data": {
      "application/vnd.jupyter.widget-view+json": {
       "model_id": "adf230d7e2254054959a479415d5af37",
       "version_major": 2,
       "version_minor": 0
      },
      "text/plain": [
       "Image Batches:   0%|          | 0/13 [00:00<?, ?it/s]"
      ]
     },
     "metadata": {},
     "output_type": "display_data"
    },
    {
     "data": {
      "application/vnd.jupyter.widget-view+json": {
       "model_id": "708f2e8a8ec54a39999df753b401d0da",
       "version_major": 2,
       "version_minor": 0
      },
      "text/plain": [
       "Image Batches:   0%|          | 0/13 [00:00<?, ?it/s]"
      ]
     },
     "metadata": {},
     "output_type": "display_data"
    },
    {
     "data": {
      "application/vnd.jupyter.widget-view+json": {
       "model_id": "4d1049dc09414ee9beaa23d1265c1f6a",
       "version_major": 2,
       "version_minor": 0
      },
      "text/plain": [
       "Image Batches:   0%|          | 0/26 [00:00<?, ?it/s]"
      ]
     },
     "metadata": {},
     "output_type": "display_data"
    },
    {
     "data": {
      "application/vnd.jupyter.widget-view+json": {
       "model_id": "47f93732dadd4430be6046f3556fda3b",
       "version_major": 2,
       "version_minor": 0
      },
      "text/plain": [
       "Image Batches:   0%|          | 0/13 [00:00<?, ?it/s]"
      ]
     },
     "metadata": {},
     "output_type": "display_data"
    },
    {
     "data": {
      "application/vnd.jupyter.widget-view+json": {
       "model_id": "ed41357f733e4469977e3faeeb746c75",
       "version_major": 2,
       "version_minor": 0
      },
      "text/plain": [
       "Image Batches:   0%|          | 0/13 [00:00<?, ?it/s]"
      ]
     },
     "metadata": {},
     "output_type": "display_data"
    },
    {
     "data": {
      "application/vnd.jupyter.widget-view+json": {
       "model_id": "5aa139da43d34e8a97fd8e286c521b56",
       "version_major": 2,
       "version_minor": 0
      },
      "text/plain": [
       "Image Batches:   0%|          | 0/13 [00:00<?, ?it/s]"
      ]
     },
     "metadata": {},
     "output_type": "display_data"
    },
    {
     "data": {
      "application/vnd.jupyter.widget-view+json": {
       "model_id": "b6ae6e9d727f40858ec90a66c273f60f",
       "version_major": 2,
       "version_minor": 0
      },
      "text/plain": [
       "Image Batches:   0%|          | 0/13 [00:00<?, ?it/s]"
      ]
     },
     "metadata": {},
     "output_type": "display_data"
    },
    {
     "data": {
      "application/vnd.jupyter.widget-view+json": {
       "model_id": "1cfab0b301d94bd68a56ce61ac0ccfb5",
       "version_major": 2,
       "version_minor": 0
      },
      "text/plain": [
       "Image Batches:   0%|          | 0/25 [00:00<?, ?it/s]"
      ]
     },
     "metadata": {},
     "output_type": "display_data"
    },
    {
     "data": {
      "application/vnd.jupyter.widget-view+json": {
       "model_id": "c9f3444fe40a43abb5e9256a9d0b541b",
       "version_major": 2,
       "version_minor": 0
      },
      "text/plain": [
       "Image Batches:   0%|          | 0/9 [00:00<?, ?it/s]"
      ]
     },
     "metadata": {},
     "output_type": "display_data"
    },
    {
     "data": {
      "application/vnd.jupyter.widget-view+json": {
       "model_id": "7b1e62b1cc734f3bad13677c8b51470a",
       "version_major": 2,
       "version_minor": 0
      },
      "text/plain": [
       "Image Batches:   0%|          | 0/13 [00:00<?, ?it/s]"
      ]
     },
     "metadata": {},
     "output_type": "display_data"
    },
    {
     "data": {
      "application/vnd.jupyter.widget-view+json": {
       "model_id": "49ec17e3925e461182fefd7ce99c2448",
       "version_major": 2,
       "version_minor": 0
      },
      "text/plain": [
       "Image Batches:   0%|          | 0/12 [00:00<?, ?it/s]"
      ]
     },
     "metadata": {},
     "output_type": "display_data"
    },
    {
     "data": {
      "application/vnd.jupyter.widget-view+json": {
       "model_id": "1bb8629369d3465b87519ccd111faeff",
       "version_major": 2,
       "version_minor": 0
      },
      "text/plain": [
       "Image Batches:   0%|          | 0/13 [00:00<?, ?it/s]"
      ]
     },
     "metadata": {},
     "output_type": "display_data"
    },
    {
     "data": {
      "application/vnd.jupyter.widget-view+json": {
       "model_id": "537c91303c2f4030b676a745658fcc0b",
       "version_major": 2,
       "version_minor": 0
      },
      "text/plain": [
       "Image Batches:   0%|          | 0/13 [00:00<?, ?it/s]"
      ]
     },
     "metadata": {},
     "output_type": "display_data"
    },
    {
     "data": {
      "application/vnd.jupyter.widget-view+json": {
       "model_id": "bfd5b4c244884d68be08fb914bf5fad3",
       "version_major": 2,
       "version_minor": 0
      },
      "text/plain": [
       "Image Batches:   0%|          | 0/13 [00:00<?, ?it/s]"
      ]
     },
     "metadata": {},
     "output_type": "display_data"
    },
    {
     "data": {
      "application/vnd.jupyter.widget-view+json": {
       "model_id": "5cccffdda1a04d24ae6b9b414d62f3c5",
       "version_major": 2,
       "version_minor": 0
      },
      "text/plain": [
       "Image Batches:   0%|          | 0/13 [00:00<?, ?it/s]"
      ]
     },
     "metadata": {},
     "output_type": "display_data"
    },
    {
     "data": {
      "application/vnd.jupyter.widget-view+json": {
       "model_id": "f6ed4b92d58e4c3ca2b994affb6a574a",
       "version_major": 2,
       "version_minor": 0
      },
      "text/plain": [
       "Image Batches:   0%|          | 0/13 [00:00<?, ?it/s]"
      ]
     },
     "metadata": {},
     "output_type": "display_data"
    },
    {
     "data": {
      "application/vnd.jupyter.widget-view+json": {
       "model_id": "f295fe07f2af45e69459573cfe21b314",
       "version_major": 2,
       "version_minor": 0
      },
      "text/plain": [
       "Image Batches:   0%|          | 0/14 [00:00<?, ?it/s]"
      ]
     },
     "metadata": {},
     "output_type": "display_data"
    },
    {
     "data": {
      "application/vnd.jupyter.widget-view+json": {
       "model_id": "8a5b496c47ac4eae84bf7d4efe9a2541",
       "version_major": 2,
       "version_minor": 0
      },
      "text/plain": [
       "Image Batches:   0%|          | 0/13 [00:00<?, ?it/s]"
      ]
     },
     "metadata": {},
     "output_type": "display_data"
    },
    {
     "data": {
      "application/vnd.jupyter.widget-view+json": {
       "model_id": "1ee032b5f9ca4559b02d643b62c94ba9",
       "version_major": 2,
       "version_minor": 0
      },
      "text/plain": [
       "Image Batches:   0%|          | 0/12 [00:00<?, ?it/s]"
      ]
     },
     "metadata": {},
     "output_type": "display_data"
    },
    {
     "data": {
      "application/vnd.jupyter.widget-view+json": {
       "model_id": "194fc1b4694848d6944f066ade9235c7",
       "version_major": 2,
       "version_minor": 0
      },
      "text/plain": [
       "Image Batches:   0%|          | 0/14 [00:00<?, ?it/s]"
      ]
     },
     "metadata": {},
     "output_type": "display_data"
    },
    {
     "data": {
      "application/vnd.jupyter.widget-view+json": {
       "model_id": "dfd1f339406b404c9354d2f6bdb47797",
       "version_major": 2,
       "version_minor": 0
      },
      "text/plain": [
       "Image Batches:   0%|          | 0/15 [00:00<?, ?it/s]"
      ]
     },
     "metadata": {},
     "output_type": "display_data"
    },
    {
     "data": {
      "application/vnd.jupyter.widget-view+json": {
       "model_id": "c2362b4a3b5e4d848755a1853e8f4ae9",
       "version_major": 2,
       "version_minor": 0
      },
      "text/plain": [
       "Image Batches:   0%|          | 0/13 [00:00<?, ?it/s]"
      ]
     },
     "metadata": {},
     "output_type": "display_data"
    },
    {
     "data": {
      "application/vnd.jupyter.widget-view+json": {
       "model_id": "98a8ce0fb57f427295be285e0d62d0b8",
       "version_major": 2,
       "version_minor": 0
      },
      "text/plain": [
       "Image Batches:   0%|          | 0/13 [00:00<?, ?it/s]"
      ]
     },
     "metadata": {},
     "output_type": "display_data"
    },
    {
     "data": {
      "application/vnd.jupyter.widget-view+json": {
       "model_id": "51251229d6614548838b31e399c3da71",
       "version_major": 2,
       "version_minor": 0
      },
      "text/plain": [
       "Image Batches:   0%|          | 0/13 [00:00<?, ?it/s]"
      ]
     },
     "metadata": {},
     "output_type": "display_data"
    },
    {
     "data": {
      "application/vnd.jupyter.widget-view+json": {
       "model_id": "554f55a4c00443dd8d418d57abe2f160",
       "version_major": 2,
       "version_minor": 0
      },
      "text/plain": [
       "Image Batches:   0%|          | 0/13 [00:00<?, ?it/s]"
      ]
     },
     "metadata": {},
     "output_type": "display_data"
    },
    {
     "data": {
      "application/vnd.jupyter.widget-view+json": {
       "model_id": "863b096a27724f9e9755b823801f10c0",
       "version_major": 2,
       "version_minor": 0
      },
      "text/plain": [
       "Image Batches:   0%|          | 0/13 [00:00<?, ?it/s]"
      ]
     },
     "metadata": {},
     "output_type": "display_data"
    },
    {
     "data": {
      "application/vnd.jupyter.widget-view+json": {
       "model_id": "4ed7d82d875d453cb2f216cf641d70a8",
       "version_major": 2,
       "version_minor": 0
      },
      "text/plain": [
       "Image Batches:   0%|          | 0/13 [00:00<?, ?it/s]"
      ]
     },
     "metadata": {},
     "output_type": "display_data"
    },
    {
     "data": {
      "application/vnd.jupyter.widget-view+json": {
       "model_id": "0aea7df370cc4372a483f90e7fefebf4",
       "version_major": 2,
       "version_minor": 0
      },
      "text/plain": [
       "Image Batches:   0%|          | 0/13 [00:00<?, ?it/s]"
      ]
     },
     "metadata": {},
     "output_type": "display_data"
    },
    {
     "data": {
      "application/vnd.jupyter.widget-view+json": {
       "model_id": "93d6e0f7968e4403bf101dcdcaa25a4d",
       "version_major": 2,
       "version_minor": 0
      },
      "text/plain": [
       "Image Batches:   0%|          | 0/13 [00:00<?, ?it/s]"
      ]
     },
     "metadata": {},
     "output_type": "display_data"
    },
    {
     "data": {
      "application/vnd.jupyter.widget-view+json": {
       "model_id": "2b9b7600522a469aa79bb89e55fb99ee",
       "version_major": 2,
       "version_minor": 0
      },
      "text/plain": [
       "Image Batches:   0%|          | 0/13 [00:00<?, ?it/s]"
      ]
     },
     "metadata": {},
     "output_type": "display_data"
    },
    {
     "data": {
      "application/vnd.jupyter.widget-view+json": {
       "model_id": "815584a0243a4daeb7cebb3c95acc31c",
       "version_major": 2,
       "version_minor": 0
      },
      "text/plain": [
       "Image Batches:   0%|          | 0/14 [00:00<?, ?it/s]"
      ]
     },
     "metadata": {},
     "output_type": "display_data"
    },
    {
     "data": {
      "application/vnd.jupyter.widget-view+json": {
       "model_id": "6a9f011371f84b6285f4b1d05bcf7d66",
       "version_major": 2,
       "version_minor": 0
      },
      "text/plain": [
       "Image Batches:   0%|          | 0/20 [00:00<?, ?it/s]"
      ]
     },
     "metadata": {},
     "output_type": "display_data"
    },
    {
     "data": {
      "application/vnd.jupyter.widget-view+json": {
       "model_id": "83b6da5cd06b4e49977c04325694a51c",
       "version_major": 2,
       "version_minor": 0
      },
      "text/plain": [
       "Image Batches:   0%|          | 0/13 [00:00<?, ?it/s]"
      ]
     },
     "metadata": {},
     "output_type": "display_data"
    },
    {
     "data": {
      "application/vnd.jupyter.widget-view+json": {
       "model_id": "b5516dee3c064abc9bdd70f7c42acc03",
       "version_major": 2,
       "version_minor": 0
      },
      "text/plain": [
       "Image Batches:   0%|          | 0/9 [00:00<?, ?it/s]"
      ]
     },
     "metadata": {},
     "output_type": "display_data"
    },
    {
     "data": {
      "application/vnd.jupyter.widget-view+json": {
       "model_id": "5f3c2dd0b15346a5939348d3d14794f9",
       "version_major": 2,
       "version_minor": 0
      },
      "text/plain": [
       "Image Batches:   0%|          | 0/13 [00:00<?, ?it/s]"
      ]
     },
     "metadata": {},
     "output_type": "display_data"
    },
    {
     "data": {
      "application/vnd.jupyter.widget-view+json": {
       "model_id": "bb57eb70ca31459fbe6b75d32804e419",
       "version_major": 2,
       "version_minor": 0
      },
      "text/plain": [
       "Image Batches:   0%|          | 0/10 [00:00<?, ?it/s]"
      ]
     },
     "metadata": {},
     "output_type": "display_data"
    },
    {
     "data": {
      "application/vnd.jupyter.widget-view+json": {
       "model_id": "6d5ee7d2aaa8421299d036e779c56779",
       "version_major": 2,
       "version_minor": 0
      },
      "text/plain": [
       "Image Batches:   0%|          | 0/12 [00:00<?, ?it/s]"
      ]
     },
     "metadata": {},
     "output_type": "display_data"
    },
    {
     "data": {
      "application/vnd.jupyter.widget-view+json": {
       "model_id": "a46f8ea34ab44efa8da3970bb7cb7598",
       "version_major": 2,
       "version_minor": 0
      },
      "text/plain": [
       "Image Batches:   0%|          | 0/13 [00:00<?, ?it/s]"
      ]
     },
     "metadata": {},
     "output_type": "display_data"
    },
    {
     "data": {
      "application/vnd.jupyter.widget-view+json": {
       "model_id": "96bd35e2672e4c5cb87f8e8a28ec36b2",
       "version_major": 2,
       "version_minor": 0
      },
      "text/plain": [
       "Image Batches:   0%|          | 0/13 [00:00<?, ?it/s]"
      ]
     },
     "metadata": {},
     "output_type": "display_data"
    },
    {
     "data": {
      "application/vnd.jupyter.widget-view+json": {
       "model_id": "d9d1425b555d4af6aa85e6330fb92b3e",
       "version_major": 2,
       "version_minor": 0
      },
      "text/plain": [
       "Image Batches:   0%|          | 0/13 [00:00<?, ?it/s]"
      ]
     },
     "metadata": {},
     "output_type": "display_data"
    },
    {
     "data": {
      "application/vnd.jupyter.widget-view+json": {
       "model_id": "6566e4ecba2d4c09bcd6af0314293133",
       "version_major": 2,
       "version_minor": 0
      },
      "text/plain": [
       "Image Batches:   0%|          | 0/13 [00:00<?, ?it/s]"
      ]
     },
     "metadata": {},
     "output_type": "display_data"
    },
    {
     "data": {
      "application/vnd.jupyter.widget-view+json": {
       "model_id": "012b9d81d9f54fba823a5a0832576186",
       "version_major": 2,
       "version_minor": 0
      },
      "text/plain": [
       "Image Batches:   0%|          | 0/13 [00:00<?, ?it/s]"
      ]
     },
     "metadata": {},
     "output_type": "display_data"
    },
    {
     "data": {
      "application/vnd.jupyter.widget-view+json": {
       "model_id": "4a81a51d208f419abf2394b9579d7f03",
       "version_major": 2,
       "version_minor": 0
      },
      "text/plain": [
       "Image Batches:   0%|          | 0/13 [00:00<?, ?it/s]"
      ]
     },
     "metadata": {},
     "output_type": "display_data"
    },
    {
     "data": {
      "application/vnd.jupyter.widget-view+json": {
       "model_id": "e4d2fe6e870841e3b62e67ec5fd54350",
       "version_major": 2,
       "version_minor": 0
      },
      "text/plain": [
       "Image Batches:   0%|          | 0/13 [00:00<?, ?it/s]"
      ]
     },
     "metadata": {},
     "output_type": "display_data"
    },
    {
     "data": {
      "application/vnd.jupyter.widget-view+json": {
       "model_id": "b19cee8269c64632bf0c673e43b01495",
       "version_major": 2,
       "version_minor": 0
      },
      "text/plain": [
       "Image Batches:   0%|          | 0/13 [00:00<?, ?it/s]"
      ]
     },
     "metadata": {},
     "output_type": "display_data"
    },
    {
     "data": {
      "application/vnd.jupyter.widget-view+json": {
       "model_id": "b71615ed81cf4bbd8a2aea37c28dce5e",
       "version_major": 2,
       "version_minor": 0
      },
      "text/plain": [
       "Image Batches:   0%|          | 0/13 [00:00<?, ?it/s]"
      ]
     },
     "metadata": {},
     "output_type": "display_data"
    },
    {
     "data": {
      "application/vnd.jupyter.widget-view+json": {
       "model_id": "96e214f63a75418a903fc97066caa3d9",
       "version_major": 2,
       "version_minor": 0
      },
      "text/plain": [
       "Image Batches:   0%|          | 0/13 [00:00<?, ?it/s]"
      ]
     },
     "metadata": {},
     "output_type": "display_data"
    },
    {
     "data": {
      "application/vnd.jupyter.widget-view+json": {
       "model_id": "a7949859cfe54deea3354fa8ef88b39b",
       "version_major": 2,
       "version_minor": 0
      },
      "text/plain": [
       "Image Batches:   0%|          | 0/13 [00:00<?, ?it/s]"
      ]
     },
     "metadata": {},
     "output_type": "display_data"
    },
    {
     "data": {
      "application/vnd.jupyter.widget-view+json": {
       "model_id": "93c01c0c3e454101815a7aa89ae52cf7",
       "version_major": 2,
       "version_minor": 0
      },
      "text/plain": [
       "Image Batches:   0%|          | 0/13 [00:00<?, ?it/s]"
      ]
     },
     "metadata": {},
     "output_type": "display_data"
    },
    {
     "data": {
      "application/vnd.jupyter.widget-view+json": {
       "model_id": "7df71e2318354e3cac5f628e1d890829",
       "version_major": 2,
       "version_minor": 0
      },
      "text/plain": [
       "Image Batches:   0%|          | 0/13 [00:00<?, ?it/s]"
      ]
     },
     "metadata": {},
     "output_type": "display_data"
    },
    {
     "data": {
      "application/vnd.jupyter.widget-view+json": {
       "model_id": "b113bf9dc2594fa794dcd5da79867fdd",
       "version_major": 2,
       "version_minor": 0
      },
      "text/plain": [
       "Image Batches:   0%|          | 0/13 [00:00<?, ?it/s]"
      ]
     },
     "metadata": {},
     "output_type": "display_data"
    },
    {
     "data": {
      "application/vnd.jupyter.widget-view+json": {
       "model_id": "1628901073ac4a909e841ab1e71fafcb",
       "version_major": 2,
       "version_minor": 0
      },
      "text/plain": [
       "Image Batches:   0%|          | 0/13 [00:00<?, ?it/s]"
      ]
     },
     "metadata": {},
     "output_type": "display_data"
    },
    {
     "data": {
      "application/vnd.jupyter.widget-view+json": {
       "model_id": "7b73e7b370344d44ade2c52a675f51de",
       "version_major": 2,
       "version_minor": 0
      },
      "text/plain": [
       "Image Batches:   0%|          | 0/13 [00:00<?, ?it/s]"
      ]
     },
     "metadata": {},
     "output_type": "display_data"
    },
    {
     "data": {
      "application/vnd.jupyter.widget-view+json": {
       "model_id": "114552262e344c669ee0c713aa952d85",
       "version_major": 2,
       "version_minor": 0
      },
      "text/plain": [
       "Image Batches:   0%|          | 0/13 [00:00<?, ?it/s]"
      ]
     },
     "metadata": {},
     "output_type": "display_data"
    },
    {
     "data": {
      "application/vnd.jupyter.widget-view+json": {
       "model_id": "cc23fe2de71742a88f881102dc469b60",
       "version_major": 2,
       "version_minor": 0
      },
      "text/plain": [
       "Image Batches:   0%|          | 0/13 [00:00<?, ?it/s]"
      ]
     },
     "metadata": {},
     "output_type": "display_data"
    },
    {
     "data": {
      "application/vnd.jupyter.widget-view+json": {
       "model_id": "eb823d6bd4864cd1b1d2e00d5b2dc2ac",
       "version_major": 2,
       "version_minor": 0
      },
      "text/plain": [
       "Image Batches:   0%|          | 0/13 [00:00<?, ?it/s]"
      ]
     },
     "metadata": {},
     "output_type": "display_data"
    },
    {
     "data": {
      "application/vnd.jupyter.widget-view+json": {
       "model_id": "f503960381af4665a027090f6bd45652",
       "version_major": 2,
       "version_minor": 0
      },
      "text/plain": [
       "Image Batches:   0%|          | 0/26 [00:00<?, ?it/s]"
      ]
     },
     "metadata": {},
     "output_type": "display_data"
    },
    {
     "data": {
      "application/vnd.jupyter.widget-view+json": {
       "model_id": "3682d71949374ac4977accd7c73402e2",
       "version_major": 2,
       "version_minor": 0
      },
      "text/plain": [
       "Image Batches:   0%|          | 0/13 [00:00<?, ?it/s]"
      ]
     },
     "metadata": {},
     "output_type": "display_data"
    },
    {
     "data": {
      "application/vnd.jupyter.widget-view+json": {
       "model_id": "5c180e3ac0644bc6ae9e9e90f47b3a3f",
       "version_major": 2,
       "version_minor": 0
      },
      "text/plain": [
       "Image Batches:   0%|          | 0/13 [00:00<?, ?it/s]"
      ]
     },
     "metadata": {},
     "output_type": "display_data"
    },
    {
     "data": {
      "application/vnd.jupyter.widget-view+json": {
       "model_id": "460fc69eedac45829202d4d56fca4a76",
       "version_major": 2,
       "version_minor": 0
      },
      "text/plain": [
       "Image Batches:   0%|          | 0/13 [00:00<?, ?it/s]"
      ]
     },
     "metadata": {},
     "output_type": "display_data"
    },
    {
     "data": {
      "application/vnd.jupyter.widget-view+json": {
       "model_id": "e7993221398e41948851f883b621930d",
       "version_major": 2,
       "version_minor": 0
      },
      "text/plain": [
       "Image Batches:   0%|          | 0/13 [00:00<?, ?it/s]"
      ]
     },
     "metadata": {},
     "output_type": "display_data"
    },
    {
     "data": {
      "application/vnd.jupyter.widget-view+json": {
       "model_id": "1f367151251e4f8dafdc4c08ae158c15",
       "version_major": 2,
       "version_minor": 0
      },
      "text/plain": [
       "Image Batches:   0%|          | 0/14 [00:00<?, ?it/s]"
      ]
     },
     "metadata": {},
     "output_type": "display_data"
    },
    {
     "data": {
      "application/vnd.jupyter.widget-view+json": {
       "model_id": "b092d86473954cbe908e557968522572",
       "version_major": 2,
       "version_minor": 0
      },
      "text/plain": [
       "Image Batches:   0%|          | 0/13 [00:00<?, ?it/s]"
      ]
     },
     "metadata": {},
     "output_type": "display_data"
    },
    {
     "data": {
      "application/vnd.jupyter.widget-view+json": {
       "model_id": "3cf1c568a51340eda605f97da9fcb70e",
       "version_major": 2,
       "version_minor": 0
      },
      "text/plain": [
       "Image Batches:   0%|          | 0/13 [00:00<?, ?it/s]"
      ]
     },
     "metadata": {},
     "output_type": "display_data"
    },
    {
     "data": {
      "application/vnd.jupyter.widget-view+json": {
       "model_id": "c6c282f572f04f6c83dda5d8b64690c9",
       "version_major": 2,
       "version_minor": 0
      },
      "text/plain": [
       "Image Batches:   0%|          | 0/26 [00:00<?, ?it/s]"
      ]
     },
     "metadata": {},
     "output_type": "display_data"
    },
    {
     "data": {
      "application/vnd.jupyter.widget-view+json": {
       "model_id": "da7cac75153c461e812406ac68c87f2a",
       "version_major": 2,
       "version_minor": 0
      },
      "text/plain": [
       "Image Batches:   0%|          | 0/13 [00:00<?, ?it/s]"
      ]
     },
     "metadata": {},
     "output_type": "display_data"
    },
    {
     "data": {
      "application/vnd.jupyter.widget-view+json": {
       "model_id": "150988b76ed74b91bd2449be4b185198",
       "version_major": 2,
       "version_minor": 0
      },
      "text/plain": [
       "Image Batches:   0%|          | 0/13 [00:00<?, ?it/s]"
      ]
     },
     "metadata": {},
     "output_type": "display_data"
    },
    {
     "data": {
      "application/vnd.jupyter.widget-view+json": {
       "model_id": "1836e9c870354618b612da51f53dfa3e",
       "version_major": 2,
       "version_minor": 0
      },
      "text/plain": [
       "Image Batches:   0%|          | 0/13 [00:00<?, ?it/s]"
      ]
     },
     "metadata": {},
     "output_type": "display_data"
    },
    {
     "data": {
      "application/vnd.jupyter.widget-view+json": {
       "model_id": "3b93873393c6486d994b982d80a9db34",
       "version_major": 2,
       "version_minor": 0
      },
      "text/plain": [
       "Image Batches:   0%|          | 0/13 [00:00<?, ?it/s]"
      ]
     },
     "metadata": {},
     "output_type": "display_data"
    },
    {
     "data": {
      "application/vnd.jupyter.widget-view+json": {
       "model_id": "cddb259118bc45a9a65ca807c2a13b2c",
       "version_major": 2,
       "version_minor": 0
      },
      "text/plain": [
       "Image Batches:   0%|          | 0/13 [00:00<?, ?it/s]"
      ]
     },
     "metadata": {},
     "output_type": "display_data"
    },
    {
     "data": {
      "application/vnd.jupyter.widget-view+json": {
       "model_id": "048b3f5e265c4620a18477d8fb9a1bbd",
       "version_major": 2,
       "version_minor": 0
      },
      "text/plain": [
       "Image Batches:   0%|          | 0/26 [00:00<?, ?it/s]"
      ]
     },
     "metadata": {},
     "output_type": "display_data"
    },
    {
     "data": {
      "application/vnd.jupyter.widget-view+json": {
       "model_id": "84491e8cc8594e2aa3aefcb58f0c7350",
       "version_major": 2,
       "version_minor": 0
      },
      "text/plain": [
       "Image Batches:   0%|          | 0/14 [00:00<?, ?it/s]"
      ]
     },
     "metadata": {},
     "output_type": "display_data"
    },
    {
     "data": {
      "application/vnd.jupyter.widget-view+json": {
       "model_id": "8c1e1a9f212a475cb90c3de56185fb7b",
       "version_major": 2,
       "version_minor": 0
      },
      "text/plain": [
       "Image Batches:   0%|          | 0/13 [00:00<?, ?it/s]"
      ]
     },
     "metadata": {},
     "output_type": "display_data"
    },
    {
     "data": {
      "application/vnd.jupyter.widget-view+json": {
       "model_id": "16f008ce45d344acb04463b5cfdf5c58",
       "version_major": 2,
       "version_minor": 0
      },
      "text/plain": [
       "Image Batches:   0%|          | 0/13 [00:00<?, ?it/s]"
      ]
     },
     "metadata": {},
     "output_type": "display_data"
    },
    {
     "data": {
      "application/vnd.jupyter.widget-view+json": {
       "model_id": "86c28641d4a54b6e863663dbd30c157d",
       "version_major": 2,
       "version_minor": 0
      },
      "text/plain": [
       "Image Batches:   0%|          | 0/13 [00:00<?, ?it/s]"
      ]
     },
     "metadata": {},
     "output_type": "display_data"
    },
    {
     "data": {
      "application/vnd.jupyter.widget-view+json": {
       "model_id": "b658bcc4ec3742388492728167b3068f",
       "version_major": 2,
       "version_minor": 0
      },
      "text/plain": [
       "Image Batches:   0%|          | 0/13 [00:00<?, ?it/s]"
      ]
     },
     "metadata": {},
     "output_type": "display_data"
    },
    {
     "data": {
      "application/vnd.jupyter.widget-view+json": {
       "model_id": "1fb33d179994487dac5dba37a1ee1af4",
       "version_major": 2,
       "version_minor": 0
      },
      "text/plain": [
       "Image Batches:   0%|          | 0/13 [00:00<?, ?it/s]"
      ]
     },
     "metadata": {},
     "output_type": "display_data"
    },
    {
     "data": {
      "application/vnd.jupyter.widget-view+json": {
       "model_id": "db5e4bea29a548a7a36dcf411d96874a",
       "version_major": 2,
       "version_minor": 0
      },
      "text/plain": [
       "Image Batches:   0%|          | 0/13 [00:00<?, ?it/s]"
      ]
     },
     "metadata": {},
     "output_type": "display_data"
    },
    {
     "data": {
      "application/vnd.jupyter.widget-view+json": {
       "model_id": "a0b5e4f94e244a83adba4278cbb60d9f",
       "version_major": 2,
       "version_minor": 0
      },
      "text/plain": [
       "Image Batches:   0%|          | 0/13 [00:00<?, ?it/s]"
      ]
     },
     "metadata": {},
     "output_type": "display_data"
    },
    {
     "data": {
      "application/vnd.jupyter.widget-view+json": {
       "model_id": "da093effdf204d7ab7a02a4c7ebd596b",
       "version_major": 2,
       "version_minor": 0
      },
      "text/plain": [
       "Image Batches:   0%|          | 0/16 [00:00<?, ?it/s]"
      ]
     },
     "metadata": {},
     "output_type": "display_data"
    },
    {
     "data": {
      "application/vnd.jupyter.widget-view+json": {
       "model_id": "05377b98251e4ed38b0bcb619cc8b806",
       "version_major": 2,
       "version_minor": 0
      },
      "text/plain": [
       "Image Batches:   0%|          | 0/13 [00:00<?, ?it/s]"
      ]
     },
     "metadata": {},
     "output_type": "display_data"
    },
    {
     "data": {
      "application/vnd.jupyter.widget-view+json": {
       "model_id": "5285ff991cb743b8968c4a3662ec1ada",
       "version_major": 2,
       "version_minor": 0
      },
      "text/plain": [
       "Image Batches:   0%|          | 0/31 [00:00<?, ?it/s]"
      ]
     },
     "metadata": {},
     "output_type": "display_data"
    },
    {
     "data": {
      "application/vnd.jupyter.widget-view+json": {
       "model_id": "4e55d8f591f646a8a872c597cd1d8c9c",
       "version_major": 2,
       "version_minor": 0
      },
      "text/plain": [
       "Image Batches:   0%|          | 0/13 [00:00<?, ?it/s]"
      ]
     },
     "metadata": {},
     "output_type": "display_data"
    },
    {
     "data": {
      "application/vnd.jupyter.widget-view+json": {
       "model_id": "af71b9786bd443afadcd11362da002b4",
       "version_major": 2,
       "version_minor": 0
      },
      "text/plain": [
       "Image Batches:   0%|          | 0/13 [00:00<?, ?it/s]"
      ]
     },
     "metadata": {},
     "output_type": "display_data"
    },
    {
     "data": {
      "application/vnd.jupyter.widget-view+json": {
       "model_id": "d35bae32ef664ce9841f6274cadc473e",
       "version_major": 2,
       "version_minor": 0
      },
      "text/plain": [
       "Image Batches:   0%|          | 0/13 [00:00<?, ?it/s]"
      ]
     },
     "metadata": {},
     "output_type": "display_data"
    },
    {
     "data": {
      "application/vnd.jupyter.widget-view+json": {
       "model_id": "4af8136aeea14a73bd41d1e78f62c018",
       "version_major": 2,
       "version_minor": 0
      },
      "text/plain": [
       "Image Batches:   0%|          | 0/13 [00:00<?, ?it/s]"
      ]
     },
     "metadata": {},
     "output_type": "display_data"
    },
    {
     "data": {
      "application/vnd.jupyter.widget-view+json": {
       "model_id": "5d6ef2aa4e98484fb198b23c3d7c2a6f",
       "version_major": 2,
       "version_minor": 0
      },
      "text/plain": [
       "Image Batches:   0%|          | 0/13 [00:00<?, ?it/s]"
      ]
     },
     "metadata": {},
     "output_type": "display_data"
    },
    {
     "data": {
      "application/vnd.jupyter.widget-view+json": {
       "model_id": "039d671742264123aa974b2cbd280f8f",
       "version_major": 2,
       "version_minor": 0
      },
      "text/plain": [
       "Image Batches:   0%|          | 0/13 [00:00<?, ?it/s]"
      ]
     },
     "metadata": {},
     "output_type": "display_data"
    },
    {
     "data": {
      "application/vnd.jupyter.widget-view+json": {
       "model_id": "e9d36998b93541d8a467eefd5c34a0c0",
       "version_major": 2,
       "version_minor": 0
      },
      "text/plain": [
       "Image Batches:   0%|          | 0/13 [00:00<?, ?it/s]"
      ]
     },
     "metadata": {},
     "output_type": "display_data"
    },
    {
     "data": {
      "application/vnd.jupyter.widget-view+json": {
       "model_id": "174b83aba05440d5b7ff86d00ece85a2",
       "version_major": 2,
       "version_minor": 0
      },
      "text/plain": [
       "Image Batches:   0%|          | 0/26 [00:00<?, ?it/s]"
      ]
     },
     "metadata": {},
     "output_type": "display_data"
    },
    {
     "data": {
      "application/vnd.jupyter.widget-view+json": {
       "model_id": "e4332453188a44978649ff1bf7209bf5",
       "version_major": 2,
       "version_minor": 0
      },
      "text/plain": [
       "Image Batches:   0%|          | 0/13 [00:00<?, ?it/s]"
      ]
     },
     "metadata": {},
     "output_type": "display_data"
    },
    {
     "data": {
      "application/vnd.jupyter.widget-view+json": {
       "model_id": "eedfd5527be14d14abc38018ad1d1419",
       "version_major": 2,
       "version_minor": 0
      },
      "text/plain": [
       "Image Batches:   0%|          | 0/13 [00:00<?, ?it/s]"
      ]
     },
     "metadata": {},
     "output_type": "display_data"
    },
    {
     "data": {
      "application/vnd.jupyter.widget-view+json": {
       "model_id": "c9c137101ddc41b7bbd615d0733bbd27",
       "version_major": 2,
       "version_minor": 0
      },
      "text/plain": [
       "Image Batches:   0%|          | 0/13 [00:00<?, ?it/s]"
      ]
     },
     "metadata": {},
     "output_type": "display_data"
    },
    {
     "data": {
      "application/vnd.jupyter.widget-view+json": {
       "model_id": "02d33a96d29c4c6383530374bba2f379",
       "version_major": 2,
       "version_minor": 0
      },
      "text/plain": [
       "Image Batches:   0%|          | 0/13 [00:00<?, ?it/s]"
      ]
     },
     "metadata": {},
     "output_type": "display_data"
    },
    {
     "data": {
      "application/vnd.jupyter.widget-view+json": {
       "model_id": "388a50b919154ea3b85eface9fc507be",
       "version_major": 2,
       "version_minor": 0
      },
      "text/plain": [
       "Image Batches:   0%|          | 0/24 [00:00<?, ?it/s]"
      ]
     },
     "metadata": {},
     "output_type": "display_data"
    },
    {
     "data": {
      "application/vnd.jupyter.widget-view+json": {
       "model_id": "43e2f427042941a8827ab25e869cf50f",
       "version_major": 2,
       "version_minor": 0
      },
      "text/plain": [
       "Image Batches:   0%|          | 0/28 [00:00<?, ?it/s]"
      ]
     },
     "metadata": {},
     "output_type": "display_data"
    },
    {
     "data": {
      "application/vnd.jupyter.widget-view+json": {
       "model_id": "9e3263d899684033a19dab1ef8fb814b",
       "version_major": 2,
       "version_minor": 0
      },
      "text/plain": [
       "Image Batches:   0%|          | 0/27 [00:00<?, ?it/s]"
      ]
     },
     "metadata": {},
     "output_type": "display_data"
    },
    {
     "data": {
      "application/vnd.jupyter.widget-view+json": {
       "model_id": "63571c2223564aeab15521a74e09f62f",
       "version_major": 2,
       "version_minor": 0
      },
      "text/plain": [
       "Image Batches:   0%|          | 0/13 [00:00<?, ?it/s]"
      ]
     },
     "metadata": {},
     "output_type": "display_data"
    },
    {
     "data": {
      "application/vnd.jupyter.widget-view+json": {
       "model_id": "734e14f05c1f4b53bfb033e5365edb48",
       "version_major": 2,
       "version_minor": 0
      },
      "text/plain": [
       "Image Batches:   0%|          | 0/13 [00:00<?, ?it/s]"
      ]
     },
     "metadata": {},
     "output_type": "display_data"
    },
    {
     "data": {
      "application/vnd.jupyter.widget-view+json": {
       "model_id": "ffb2173b81b64e0d8c8c69fb87b59769",
       "version_major": 2,
       "version_minor": 0
      },
      "text/plain": [
       "Image Batches:   0%|          | 0/13 [00:00<?, ?it/s]"
      ]
     },
     "metadata": {},
     "output_type": "display_data"
    },
    {
     "data": {
      "application/vnd.jupyter.widget-view+json": {
       "model_id": "e9d665ec4c7c426a9b9324b2b43791ac",
       "version_major": 2,
       "version_minor": 0
      },
      "text/plain": [
       "Image Batches:   0%|          | 0/13 [00:00<?, ?it/s]"
      ]
     },
     "metadata": {},
     "output_type": "display_data"
    },
    {
     "data": {
      "application/vnd.jupyter.widget-view+json": {
       "model_id": "5e035e12c3ce440fb768c9633b1a88f5",
       "version_major": 2,
       "version_minor": 0
      },
      "text/plain": [
       "Image Batches:   0%|          | 0/13 [00:00<?, ?it/s]"
      ]
     },
     "metadata": {},
     "output_type": "display_data"
    },
    {
     "data": {
      "application/vnd.jupyter.widget-view+json": {
       "model_id": "83c6deb707ac454b8a76959e62cbc6ff",
       "version_major": 2,
       "version_minor": 0
      },
      "text/plain": [
       "Image Batches:   0%|          | 0/13 [00:00<?, ?it/s]"
      ]
     },
     "metadata": {},
     "output_type": "display_data"
    },
    {
     "data": {
      "application/vnd.jupyter.widget-view+json": {
       "model_id": "38852072c15e4c65b8711f9a0685c7cb",
       "version_major": 2,
       "version_minor": 0
      },
      "text/plain": [
       "Image Batches:   0%|          | 0/13 [00:00<?, ?it/s]"
      ]
     },
     "metadata": {},
     "output_type": "display_data"
    },
    {
     "data": {
      "application/vnd.jupyter.widget-view+json": {
       "model_id": "47be6a5a4fd94d28be87b42c48ca9178",
       "version_major": 2,
       "version_minor": 0
      },
      "text/plain": [
       "Image Batches:   0%|          | 0/26 [00:00<?, ?it/s]"
      ]
     },
     "metadata": {},
     "output_type": "display_data"
    },
    {
     "data": {
      "application/vnd.jupyter.widget-view+json": {
       "model_id": "f92b3b54af4242b3bca63defd93ae2bc",
       "version_major": 2,
       "version_minor": 0
      },
      "text/plain": [
       "Image Batches:   0%|          | 0/13 [00:00<?, ?it/s]"
      ]
     },
     "metadata": {},
     "output_type": "display_data"
    },
    {
     "data": {
      "application/vnd.jupyter.widget-view+json": {
       "model_id": "a973a0c593be4fe0a0b38bb8594bae58",
       "version_major": 2,
       "version_minor": 0
      },
      "text/plain": [
       "Image Batches:   0%|          | 0/13 [00:00<?, ?it/s]"
      ]
     },
     "metadata": {},
     "output_type": "display_data"
    },
    {
     "data": {
      "application/vnd.jupyter.widget-view+json": {
       "model_id": "231b2ad6114340a8b3905edc487d95d3",
       "version_major": 2,
       "version_minor": 0
      },
      "text/plain": [
       "Image Batches:   0%|          | 0/13 [00:00<?, ?it/s]"
      ]
     },
     "metadata": {},
     "output_type": "display_data"
    },
    {
     "data": {
      "application/vnd.jupyter.widget-view+json": {
       "model_id": "a8c4022de6ab40e4bbc6ea1962ca6112",
       "version_major": 2,
       "version_minor": 0
      },
      "text/plain": [
       "Image Batches:   0%|          | 0/13 [00:00<?, ?it/s]"
      ]
     },
     "metadata": {},
     "output_type": "display_data"
    },
    {
     "data": {
      "application/vnd.jupyter.widget-view+json": {
       "model_id": "7525f3f8d1704c32a767e4693e7179df",
       "version_major": 2,
       "version_minor": 0
      },
      "text/plain": [
       "Image Batches:   0%|          | 0/13 [00:00<?, ?it/s]"
      ]
     },
     "metadata": {},
     "output_type": "display_data"
    },
    {
     "data": {
      "application/vnd.jupyter.widget-view+json": {
       "model_id": "b1706a8423a74bbba024330217a839c0",
       "version_major": 2,
       "version_minor": 0
      },
      "text/plain": [
       "Image Batches:   0%|          | 0/25 [00:00<?, ?it/s]"
      ]
     },
     "metadata": {},
     "output_type": "display_data"
    },
    {
     "data": {
      "application/vnd.jupyter.widget-view+json": {
       "model_id": "38c10de24ebb4368a0335c355fc91a6d",
       "version_major": 2,
       "version_minor": 0
      },
      "text/plain": [
       "Image Batches:   0%|          | 0/13 [00:00<?, ?it/s]"
      ]
     },
     "metadata": {},
     "output_type": "display_data"
    },
    {
     "data": {
      "application/vnd.jupyter.widget-view+json": {
       "model_id": "a16f44f8025d413abaa4a10ff4f10703",
       "version_major": 2,
       "version_minor": 0
      },
      "text/plain": [
       "Image Batches:   0%|          | 0/24 [00:00<?, ?it/s]"
      ]
     },
     "metadata": {},
     "output_type": "display_data"
    },
    {
     "data": {
      "application/vnd.jupyter.widget-view+json": {
       "model_id": "059718a157044e89b6760e206f39d8e5",
       "version_major": 2,
       "version_minor": 0
      },
      "text/plain": [
       "Image Batches:   0%|          | 0/13 [00:00<?, ?it/s]"
      ]
     },
     "metadata": {},
     "output_type": "display_data"
    },
    {
     "data": {
      "application/vnd.jupyter.widget-view+json": {
       "model_id": "fbff182bc2b843ecacfe230442c2c9b7",
       "version_major": 2,
       "version_minor": 0
      },
      "text/plain": [
       "Image Batches:   0%|          | 0/30 [00:00<?, ?it/s]"
      ]
     },
     "metadata": {},
     "output_type": "display_data"
    },
    {
     "data": {
      "application/vnd.jupyter.widget-view+json": {
       "model_id": "50bb541959c8497b9d37a3472a0e57f0",
       "version_major": 2,
       "version_minor": 0
      },
      "text/plain": [
       "Image Batches:   0%|          | 0/13 [00:00<?, ?it/s]"
      ]
     },
     "metadata": {},
     "output_type": "display_data"
    },
    {
     "data": {
      "application/vnd.jupyter.widget-view+json": {
       "model_id": "8c60cc83acdb4f4c9513bd80b96bbe4b",
       "version_major": 2,
       "version_minor": 0
      },
      "text/plain": [
       "Image Batches:   0%|          | 0/13 [00:00<?, ?it/s]"
      ]
     },
     "metadata": {},
     "output_type": "display_data"
    },
    {
     "data": {
      "application/vnd.jupyter.widget-view+json": {
       "model_id": "52307c69740d409eb7a958ed2736b8dd",
       "version_major": 2,
       "version_minor": 0
      },
      "text/plain": [
       "Image Batches:   0%|          | 0/13 [00:00<?, ?it/s]"
      ]
     },
     "metadata": {},
     "output_type": "display_data"
    },
    {
     "data": {
      "application/vnd.jupyter.widget-view+json": {
       "model_id": "7639dc76311147f3bb8585e483e0ac10",
       "version_major": 2,
       "version_minor": 0
      },
      "text/plain": [
       "Image Batches:   0%|          | 0/13 [00:00<?, ?it/s]"
      ]
     },
     "metadata": {},
     "output_type": "display_data"
    },
    {
     "data": {
      "application/vnd.jupyter.widget-view+json": {
       "model_id": "4c2b1a899b5548fc82d25efb242ee7cd",
       "version_major": 2,
       "version_minor": 0
      },
      "text/plain": [
       "Image Batches:   0%|          | 0/13 [00:00<?, ?it/s]"
      ]
     },
     "metadata": {},
     "output_type": "display_data"
    },
    {
     "data": {
      "application/vnd.jupyter.widget-view+json": {
       "model_id": "6f05c87d1052429f808a4dc8a0d8c349",
       "version_major": 2,
       "version_minor": 0
      },
      "text/plain": [
       "Image Batches:   0%|          | 0/13 [00:00<?, ?it/s]"
      ]
     },
     "metadata": {},
     "output_type": "display_data"
    },
    {
     "data": {
      "application/vnd.jupyter.widget-view+json": {
       "model_id": "d2beab91767c4a1cac2020e60e9a912d",
       "version_major": 2,
       "version_minor": 0
      },
      "text/plain": [
       "Image Batches:   0%|          | 0/13 [00:00<?, ?it/s]"
      ]
     },
     "metadata": {},
     "output_type": "display_data"
    },
    {
     "data": {
      "application/vnd.jupyter.widget-view+json": {
       "model_id": "386dd17c8447474b9a222aec6ef90609",
       "version_major": 2,
       "version_minor": 0
      },
      "text/plain": [
       "Image Batches:   0%|          | 0/13 [00:00<?, ?it/s]"
      ]
     },
     "metadata": {},
     "output_type": "display_data"
    },
    {
     "data": {
      "application/vnd.jupyter.widget-view+json": {
       "model_id": "961a26e7c24946ef96bd61580cd1135b",
       "version_major": 2,
       "version_minor": 0
      },
      "text/plain": [
       "Image Batches:   0%|          | 0/13 [00:00<?, ?it/s]"
      ]
     },
     "metadata": {},
     "output_type": "display_data"
    },
    {
     "data": {
      "application/vnd.jupyter.widget-view+json": {
       "model_id": "d3cafa3523ad4ce3ba36f56f25440f31",
       "version_major": 2,
       "version_minor": 0
      },
      "text/plain": [
       "Image Batches:   0%|          | 0/13 [00:00<?, ?it/s]"
      ]
     },
     "metadata": {},
     "output_type": "display_data"
    },
    {
     "data": {
      "application/vnd.jupyter.widget-view+json": {
       "model_id": "81769a7c285942bc9d46186f080fb64c",
       "version_major": 2,
       "version_minor": 0
      },
      "text/plain": [
       "Image Batches:   0%|          | 0/14 [00:00<?, ?it/s]"
      ]
     },
     "metadata": {},
     "output_type": "display_data"
    },
    {
     "data": {
      "application/vnd.jupyter.widget-view+json": {
       "model_id": "98947bc0446947b6accf57941a089c3a",
       "version_major": 2,
       "version_minor": 0
      },
      "text/plain": [
       "Image Batches:   0%|          | 0/13 [00:00<?, ?it/s]"
      ]
     },
     "metadata": {},
     "output_type": "display_data"
    },
    {
     "data": {
      "application/vnd.jupyter.widget-view+json": {
       "model_id": "8cfb4131278241a38e56a5169ad01b11",
       "version_major": 2,
       "version_minor": 0
      },
      "text/plain": [
       "Image Batches:   0%|          | 0/13 [00:00<?, ?it/s]"
      ]
     },
     "metadata": {},
     "output_type": "display_data"
    },
    {
     "data": {
      "application/vnd.jupyter.widget-view+json": {
       "model_id": "fce6f12b7cf04116baa89180b608897e",
       "version_major": 2,
       "version_minor": 0
      },
      "text/plain": [
       "Videos:   0%|          | 0/267 [00:00<?, ?it/s]"
      ]
     },
     "metadata": {},
     "output_type": "display_data"
    },
    {
     "data": {
      "application/vnd.jupyter.widget-view+json": {
       "model_id": "8361d5baf4cb4dd698469af18f76f510",
       "version_major": 2,
       "version_minor": 0
      },
      "text/plain": [
       "Image Batches:   0%|          | 0/13 [00:00<?, ?it/s]"
      ]
     },
     "metadata": {},
     "output_type": "display_data"
    },
    {
     "data": {
      "application/vnd.jupyter.widget-view+json": {
       "model_id": "311e1891e2c046fd9797106243371790",
       "version_major": 2,
       "version_minor": 0
      },
      "text/plain": [
       "Image Batches:   0%|          | 0/25 [00:00<?, ?it/s]"
      ]
     },
     "metadata": {},
     "output_type": "display_data"
    },
    {
     "data": {
      "application/vnd.jupyter.widget-view+json": {
       "model_id": "ccbc6e3ac77b4c47a1f6f514f8574ebb",
       "version_major": 2,
       "version_minor": 0
      },
      "text/plain": [
       "Image Batches:   0%|          | 0/10 [00:00<?, ?it/s]"
      ]
     },
     "metadata": {},
     "output_type": "display_data"
    },
    {
     "data": {
      "application/vnd.jupyter.widget-view+json": {
       "model_id": "32554277d623469b83ea0ad496b03161",
       "version_major": 2,
       "version_minor": 0
      },
      "text/plain": [
       "Image Batches:   0%|          | 0/13 [00:00<?, ?it/s]"
      ]
     },
     "metadata": {},
     "output_type": "display_data"
    },
    {
     "data": {
      "application/vnd.jupyter.widget-view+json": {
       "model_id": "8b69c2f0ad874d1693ed5c0b32fd93d3",
       "version_major": 2,
       "version_minor": 0
      },
      "text/plain": [
       "Image Batches:   0%|          | 0/13 [00:00<?, ?it/s]"
      ]
     },
     "metadata": {},
     "output_type": "display_data"
    },
    {
     "data": {
      "application/vnd.jupyter.widget-view+json": {
       "model_id": "532facacb4b242be88e31bff5a923557",
       "version_major": 2,
       "version_minor": 0
      },
      "text/plain": [
       "Image Batches:   0%|          | 0/14 [00:00<?, ?it/s]"
      ]
     },
     "metadata": {},
     "output_type": "display_data"
    },
    {
     "data": {
      "application/vnd.jupyter.widget-view+json": {
       "model_id": "64575e363a6c4a49932878103c6b3167",
       "version_major": 2,
       "version_minor": 0
      },
      "text/plain": [
       "Image Batches:   0%|          | 0/13 [00:00<?, ?it/s]"
      ]
     },
     "metadata": {},
     "output_type": "display_data"
    },
    {
     "data": {
      "application/vnd.jupyter.widget-view+json": {
       "model_id": "ccce877dd549470a8a59ac5639ab94f5",
       "version_major": 2,
       "version_minor": 0
      },
      "text/plain": [
       "Image Batches:   0%|          | 0/13 [00:00<?, ?it/s]"
      ]
     },
     "metadata": {},
     "output_type": "display_data"
    },
    {
     "data": {
      "application/vnd.jupyter.widget-view+json": {
       "model_id": "b53e197c69d448fb863322c4288e56f9",
       "version_major": 2,
       "version_minor": 0
      },
      "text/plain": [
       "Image Batches:   0%|          | 0/13 [00:00<?, ?it/s]"
      ]
     },
     "metadata": {},
     "output_type": "display_data"
    },
    {
     "data": {
      "application/vnd.jupyter.widget-view+json": {
       "model_id": "e49bed25f0b24557884191191efb6ddf",
       "version_major": 2,
       "version_minor": 0
      },
      "text/plain": [
       "Image Batches:   0%|          | 0/13 [00:00<?, ?it/s]"
      ]
     },
     "metadata": {},
     "output_type": "display_data"
    },
    {
     "data": {
      "application/vnd.jupyter.widget-view+json": {
       "model_id": "b727d7d45c724150a21ba0988f735190",
       "version_major": 2,
       "version_minor": 0
      },
      "text/plain": [
       "Image Batches:   0%|          | 0/26 [00:00<?, ?it/s]"
      ]
     },
     "metadata": {},
     "output_type": "display_data"
    },
    {
     "data": {
      "application/vnd.jupyter.widget-view+json": {
       "model_id": "1172baf109f44b3c9e3d9559024bc66b",
       "version_major": 2,
       "version_minor": 0
      },
      "text/plain": [
       "Image Batches:   0%|          | 0/13 [00:00<?, ?it/s]"
      ]
     },
     "metadata": {},
     "output_type": "display_data"
    },
    {
     "data": {
      "application/vnd.jupyter.widget-view+json": {
       "model_id": "c43711f12e6f40f3b441d1b7b3f1b8e3",
       "version_major": 2,
       "version_minor": 0
      },
      "text/plain": [
       "Image Batches:   0%|          | 0/13 [00:00<?, ?it/s]"
      ]
     },
     "metadata": {},
     "output_type": "display_data"
    },
    {
     "data": {
      "application/vnd.jupyter.widget-view+json": {
       "model_id": "39e9c3506e9f4033a0e1b561d1ba31f0",
       "version_major": 2,
       "version_minor": 0
      },
      "text/plain": [
       "Image Batches:   0%|          | 0/13 [00:00<?, ?it/s]"
      ]
     },
     "metadata": {},
     "output_type": "display_data"
    },
    {
     "data": {
      "application/vnd.jupyter.widget-view+json": {
       "model_id": "189b68f00b6146848eb448e69875e66b",
       "version_major": 2,
       "version_minor": 0
      },
      "text/plain": [
       "Image Batches:   0%|          | 0/11 [00:00<?, ?it/s]"
      ]
     },
     "metadata": {},
     "output_type": "display_data"
    },
    {
     "data": {
      "application/vnd.jupyter.widget-view+json": {
       "model_id": "b662dc02eb9a4a7d8a6597febd86df18",
       "version_major": 2,
       "version_minor": 0
      },
      "text/plain": [
       "Image Batches:   0%|          | 0/13 [00:00<?, ?it/s]"
      ]
     },
     "metadata": {},
     "output_type": "display_data"
    },
    {
     "data": {
      "application/vnd.jupyter.widget-view+json": {
       "model_id": "42c7f324c95d41658553b449ea6606c5",
       "version_major": 2,
       "version_minor": 0
      },
      "text/plain": [
       "Image Batches:   0%|          | 0/13 [00:00<?, ?it/s]"
      ]
     },
     "metadata": {},
     "output_type": "display_data"
    },
    {
     "data": {
      "application/vnd.jupyter.widget-view+json": {
       "model_id": "0cd676c2e9094b898bb69d5bdb840d01",
       "version_major": 2,
       "version_minor": 0
      },
      "text/plain": [
       "Image Batches:   0%|          | 0/13 [00:00<?, ?it/s]"
      ]
     },
     "metadata": {},
     "output_type": "display_data"
    },
    {
     "data": {
      "application/vnd.jupyter.widget-view+json": {
       "model_id": "516bbcf1a93b47eeb894daef423f8aac",
       "version_major": 2,
       "version_minor": 0
      },
      "text/plain": [
       "Image Batches:   0%|          | 0/13 [00:00<?, ?it/s]"
      ]
     },
     "metadata": {},
     "output_type": "display_data"
    },
    {
     "data": {
      "application/vnd.jupyter.widget-view+json": {
       "model_id": "7d3689e7e88b4a009047a6be30a134f7",
       "version_major": 2,
       "version_minor": 0
      },
      "text/plain": [
       "Image Batches:   0%|          | 0/13 [00:00<?, ?it/s]"
      ]
     },
     "metadata": {},
     "output_type": "display_data"
    },
    {
     "data": {
      "application/vnd.jupyter.widget-view+json": {
       "model_id": "61e336311b544aa190c63cd0cf178ebe",
       "version_major": 2,
       "version_minor": 0
      },
      "text/plain": [
       "Image Batches:   0%|          | 0/13 [00:00<?, ?it/s]"
      ]
     },
     "metadata": {},
     "output_type": "display_data"
    },
    {
     "data": {
      "application/vnd.jupyter.widget-view+json": {
       "model_id": "619cdbdcd17b4d99a2bcc4f0d0406ddf",
       "version_major": 2,
       "version_minor": 0
      },
      "text/plain": [
       "Image Batches:   0%|          | 0/14 [00:00<?, ?it/s]"
      ]
     },
     "metadata": {},
     "output_type": "display_data"
    },
    {
     "data": {
      "application/vnd.jupyter.widget-view+json": {
       "model_id": "1a0012e0b7d4450e98ecb93b0bed8305",
       "version_major": 2,
       "version_minor": 0
      },
      "text/plain": [
       "Image Batches:   0%|          | 0/16 [00:00<?, ?it/s]"
      ]
     },
     "metadata": {},
     "output_type": "display_data"
    },
    {
     "data": {
      "application/vnd.jupyter.widget-view+json": {
       "model_id": "dedb37ff49f14e218a4d6ab646e765b1",
       "version_major": 2,
       "version_minor": 0
      },
      "text/plain": [
       "Image Batches:   0%|          | 0/13 [00:00<?, ?it/s]"
      ]
     },
     "metadata": {},
     "output_type": "display_data"
    },
    {
     "data": {
      "application/vnd.jupyter.widget-view+json": {
       "model_id": "9f4b212a1d0e404880c40901379b8e9f",
       "version_major": 2,
       "version_minor": 0
      },
      "text/plain": [
       "Image Batches:   0%|          | 0/13 [00:00<?, ?it/s]"
      ]
     },
     "metadata": {},
     "output_type": "display_data"
    },
    {
     "data": {
      "application/vnd.jupyter.widget-view+json": {
       "model_id": "943676159d424bd7af2775736dbed1ae",
       "version_major": 2,
       "version_minor": 0
      },
      "text/plain": [
       "Image Batches:   0%|          | 0/25 [00:00<?, ?it/s]"
      ]
     },
     "metadata": {},
     "output_type": "display_data"
    },
    {
     "data": {
      "application/vnd.jupyter.widget-view+json": {
       "model_id": "59432dfd2966428c9551a953b429b303",
       "version_major": 2,
       "version_minor": 0
      },
      "text/plain": [
       "Image Batches:   0%|          | 0/13 [00:00<?, ?it/s]"
      ]
     },
     "metadata": {},
     "output_type": "display_data"
    },
    {
     "data": {
      "application/vnd.jupyter.widget-view+json": {
       "model_id": "7940ea42d25d4a1f95b5d491177d062b",
       "version_major": 2,
       "version_minor": 0
      },
      "text/plain": [
       "Image Batches:   0%|          | 0/13 [00:00<?, ?it/s]"
      ]
     },
     "metadata": {},
     "output_type": "display_data"
    },
    {
     "data": {
      "application/vnd.jupyter.widget-view+json": {
       "model_id": "4116df1a47c4456cafa785c7b6b2584e",
       "version_major": 2,
       "version_minor": 0
      },
      "text/plain": [
       "Image Batches:   0%|          | 0/17 [00:00<?, ?it/s]"
      ]
     },
     "metadata": {},
     "output_type": "display_data"
    },
    {
     "data": {
      "application/vnd.jupyter.widget-view+json": {
       "model_id": "c173fa2b392740009776d8562088175a",
       "version_major": 2,
       "version_minor": 0
      },
      "text/plain": [
       "Image Batches:   0%|          | 0/13 [00:00<?, ?it/s]"
      ]
     },
     "metadata": {},
     "output_type": "display_data"
    },
    {
     "data": {
      "application/vnd.jupyter.widget-view+json": {
       "model_id": "1511df87044942ac9739c967371a45c7",
       "version_major": 2,
       "version_minor": 0
      },
      "text/plain": [
       "Image Batches:   0%|          | 0/13 [00:00<?, ?it/s]"
      ]
     },
     "metadata": {},
     "output_type": "display_data"
    },
    {
     "data": {
      "application/vnd.jupyter.widget-view+json": {
       "model_id": "239d52084296444884ca32f0b0a727b7",
       "version_major": 2,
       "version_minor": 0
      },
      "text/plain": [
       "Image Batches:   0%|          | 0/13 [00:00<?, ?it/s]"
      ]
     },
     "metadata": {},
     "output_type": "display_data"
    },
    {
     "data": {
      "application/vnd.jupyter.widget-view+json": {
       "model_id": "970060a7e2e74fa6ab804fa7f2fc85a4",
       "version_major": 2,
       "version_minor": 0
      },
      "text/plain": [
       "Image Batches:   0%|          | 0/14 [00:00<?, ?it/s]"
      ]
     },
     "metadata": {},
     "output_type": "display_data"
    },
    {
     "data": {
      "application/vnd.jupyter.widget-view+json": {
       "model_id": "6eae52a78ae84640984d04075b3e1cb6",
       "version_major": 2,
       "version_minor": 0
      },
      "text/plain": [
       "Image Batches:   0%|          | 0/13 [00:00<?, ?it/s]"
      ]
     },
     "metadata": {},
     "output_type": "display_data"
    },
    {
     "data": {
      "application/vnd.jupyter.widget-view+json": {
       "model_id": "efd5c5b69d1f4632b3b20340aadecc0b",
       "version_major": 2,
       "version_minor": 0
      },
      "text/plain": [
       "Image Batches:   0%|          | 0/14 [00:00<?, ?it/s]"
      ]
     },
     "metadata": {},
     "output_type": "display_data"
    },
    {
     "data": {
      "application/vnd.jupyter.widget-view+json": {
       "model_id": "d0c99456d6d441b297755ec99bc1044d",
       "version_major": 2,
       "version_minor": 0
      },
      "text/plain": [
       "Image Batches:   0%|          | 0/13 [00:00<?, ?it/s]"
      ]
     },
     "metadata": {},
     "output_type": "display_data"
    },
    {
     "data": {
      "application/vnd.jupyter.widget-view+json": {
       "model_id": "d734bbdd25d74053bc38912a4518dc98",
       "version_major": 2,
       "version_minor": 0
      },
      "text/plain": [
       "Image Batches:   0%|          | 0/13 [00:00<?, ?it/s]"
      ]
     },
     "metadata": {},
     "output_type": "display_data"
    },
    {
     "data": {
      "application/vnd.jupyter.widget-view+json": {
       "model_id": "ee0f2a606999489e95335651b259339a",
       "version_major": 2,
       "version_minor": 0
      },
      "text/plain": [
       "Image Batches:   0%|          | 0/13 [00:00<?, ?it/s]"
      ]
     },
     "metadata": {},
     "output_type": "display_data"
    },
    {
     "data": {
      "application/vnd.jupyter.widget-view+json": {
       "model_id": "58015289d91c44db9b7f7e6fbbecc28b",
       "version_major": 2,
       "version_minor": 0
      },
      "text/plain": [
       "Image Batches:   0%|          | 0/13 [00:00<?, ?it/s]"
      ]
     },
     "metadata": {},
     "output_type": "display_data"
    },
    {
     "data": {
      "application/vnd.jupyter.widget-view+json": {
       "model_id": "48df8c1fd0f34aebbfdbfecb6ee730fb",
       "version_major": 2,
       "version_minor": 0
      },
      "text/plain": [
       "Image Batches:   0%|          | 0/11 [00:00<?, ?it/s]"
      ]
     },
     "metadata": {},
     "output_type": "display_data"
    },
    {
     "data": {
      "application/vnd.jupyter.widget-view+json": {
       "model_id": "ec5705eb32b44754b042be98493e65d1",
       "version_major": 2,
       "version_minor": 0
      },
      "text/plain": [
       "Image Batches:   0%|          | 0/13 [00:00<?, ?it/s]"
      ]
     },
     "metadata": {},
     "output_type": "display_data"
    },
    {
     "data": {
      "application/vnd.jupyter.widget-view+json": {
       "model_id": "bffbc5e5a9874b36aa515e1f90a01554",
       "version_major": 2,
       "version_minor": 0
      },
      "text/plain": [
       "Image Batches:   0%|          | 0/13 [00:00<?, ?it/s]"
      ]
     },
     "metadata": {},
     "output_type": "display_data"
    },
    {
     "data": {
      "application/vnd.jupyter.widget-view+json": {
       "model_id": "53bef01692b44f03a6350c77ff37a1a3",
       "version_major": 2,
       "version_minor": 0
      },
      "text/plain": [
       "Image Batches:   0%|          | 0/12 [00:00<?, ?it/s]"
      ]
     },
     "metadata": {},
     "output_type": "display_data"
    },
    {
     "data": {
      "application/vnd.jupyter.widget-view+json": {
       "model_id": "71604605c4ca4aac877e62f2c9c0bf24",
       "version_major": 2,
       "version_minor": 0
      },
      "text/plain": [
       "Image Batches:   0%|          | 0/24 [00:00<?, ?it/s]"
      ]
     },
     "metadata": {},
     "output_type": "display_data"
    },
    {
     "data": {
      "application/vnd.jupyter.widget-view+json": {
       "model_id": "bff629ea3db646ff9e78bc160e082927",
       "version_major": 2,
       "version_minor": 0
      },
      "text/plain": [
       "Image Batches:   0%|          | 0/28 [00:00<?, ?it/s]"
      ]
     },
     "metadata": {},
     "output_type": "display_data"
    },
    {
     "data": {
      "application/vnd.jupyter.widget-view+json": {
       "model_id": "68826e4a25ed4b98a5adfbca05fc923c",
       "version_major": 2,
       "version_minor": 0
      },
      "text/plain": [
       "Image Batches:   0%|          | 0/29 [00:00<?, ?it/s]"
      ]
     },
     "metadata": {},
     "output_type": "display_data"
    },
    {
     "data": {
      "application/vnd.jupyter.widget-view+json": {
       "model_id": "46de021fa0394a6ca51ca36aa16f1202",
       "version_major": 2,
       "version_minor": 0
      },
      "text/plain": [
       "Image Batches:   0%|          | 0/13 [00:00<?, ?it/s]"
      ]
     },
     "metadata": {},
     "output_type": "display_data"
    },
    {
     "data": {
      "application/vnd.jupyter.widget-view+json": {
       "model_id": "6492cb164ca142edaa07cc04bd5b875a",
       "version_major": 2,
       "version_minor": 0
      },
      "text/plain": [
       "Image Batches:   0%|          | 0/13 [00:00<?, ?it/s]"
      ]
     },
     "metadata": {},
     "output_type": "display_data"
    },
    {
     "data": {
      "application/vnd.jupyter.widget-view+json": {
       "model_id": "92f7066fa37e4ef4a444181e5e368279",
       "version_major": 2,
       "version_minor": 0
      },
      "text/plain": [
       "Image Batches:   0%|          | 0/24 [00:00<?, ?it/s]"
      ]
     },
     "metadata": {},
     "output_type": "display_data"
    },
    {
     "data": {
      "application/vnd.jupyter.widget-view+json": {
       "model_id": "dc106f7279414d48b0f07b7656bab984",
       "version_major": 2,
       "version_minor": 0
      },
      "text/plain": [
       "Image Batches:   0%|          | 0/13 [00:00<?, ?it/s]"
      ]
     },
     "metadata": {},
     "output_type": "display_data"
    },
    {
     "data": {
      "application/vnd.jupyter.widget-view+json": {
       "model_id": "d2025431bff44b55953c9d5e9e2c56b4",
       "version_major": 2,
       "version_minor": 0
      },
      "text/plain": [
       "Image Batches:   0%|          | 0/13 [00:00<?, ?it/s]"
      ]
     },
     "metadata": {},
     "output_type": "display_data"
    },
    {
     "data": {
      "application/vnd.jupyter.widget-view+json": {
       "model_id": "f038355f23eb472eb6a0d7d06cae3291",
       "version_major": 2,
       "version_minor": 0
      },
      "text/plain": [
       "Image Batches:   0%|          | 0/13 [00:00<?, ?it/s]"
      ]
     },
     "metadata": {},
     "output_type": "display_data"
    },
    {
     "data": {
      "application/vnd.jupyter.widget-view+json": {
       "model_id": "d997b6af53194a1b88f71bb0123efeb0",
       "version_major": 2,
       "version_minor": 0
      },
      "text/plain": [
       "Image Batches:   0%|          | 0/13 [00:00<?, ?it/s]"
      ]
     },
     "metadata": {},
     "output_type": "display_data"
    },
    {
     "data": {
      "application/vnd.jupyter.widget-view+json": {
       "model_id": "787f66592bfa4d568ee51319f837156b",
       "version_major": 2,
       "version_minor": 0
      },
      "text/plain": [
       "Image Batches:   0%|          | 0/13 [00:00<?, ?it/s]"
      ]
     },
     "metadata": {},
     "output_type": "display_data"
    },
    {
     "data": {
      "application/vnd.jupyter.widget-view+json": {
       "model_id": "7da37ff9e24d4b148c54f4a23ed6ed0f",
       "version_major": 2,
       "version_minor": 0
      },
      "text/plain": [
       "Image Batches:   0%|          | 0/13 [00:00<?, ?it/s]"
      ]
     },
     "metadata": {},
     "output_type": "display_data"
    },
    {
     "data": {
      "application/vnd.jupyter.widget-view+json": {
       "model_id": "9808708caded43b1b387752bbee39cc7",
       "version_major": 2,
       "version_minor": 0
      },
      "text/plain": [
       "Image Batches:   0%|          | 0/13 [00:00<?, ?it/s]"
      ]
     },
     "metadata": {},
     "output_type": "display_data"
    },
    {
     "data": {
      "application/vnd.jupyter.widget-view+json": {
       "model_id": "c681ba061da84b758a9dcfdc029712b9",
       "version_major": 2,
       "version_minor": 0
      },
      "text/plain": [
       "Image Batches:   0%|          | 0/14 [00:00<?, ?it/s]"
      ]
     },
     "metadata": {},
     "output_type": "display_data"
    },
    {
     "data": {
      "application/vnd.jupyter.widget-view+json": {
       "model_id": "3fdd0a72fc1047c5a00623ce8d4ddfb4",
       "version_major": 2,
       "version_minor": 0
      },
      "text/plain": [
       "Image Batches:   0%|          | 0/24 [00:00<?, ?it/s]"
      ]
     },
     "metadata": {},
     "output_type": "display_data"
    },
    {
     "data": {
      "application/vnd.jupyter.widget-view+json": {
       "model_id": "8fa16e74cf1f4bd681bfa78f2bfb4b42",
       "version_major": 2,
       "version_minor": 0
      },
      "text/plain": [
       "Image Batches:   0%|          | 0/13 [00:00<?, ?it/s]"
      ]
     },
     "metadata": {},
     "output_type": "display_data"
    },
    {
     "data": {
      "application/vnd.jupyter.widget-view+json": {
       "model_id": "8fe1ba467f884369ba28bed69b4a6afd",
       "version_major": 2,
       "version_minor": 0
      },
      "text/plain": [
       "Image Batches:   0%|          | 0/13 [00:00<?, ?it/s]"
      ]
     },
     "metadata": {},
     "output_type": "display_data"
    },
    {
     "data": {
      "application/vnd.jupyter.widget-view+json": {
       "model_id": "95a057d8a783470a8a1450320801766a",
       "version_major": 2,
       "version_minor": 0
      },
      "text/plain": [
       "Image Batches:   0%|          | 0/12 [00:00<?, ?it/s]"
      ]
     },
     "metadata": {},
     "output_type": "display_data"
    },
    {
     "data": {
      "application/vnd.jupyter.widget-view+json": {
       "model_id": "6e0bdf62c4b548249f8496d9b60b168f",
       "version_major": 2,
       "version_minor": 0
      },
      "text/plain": [
       "Image Batches:   0%|          | 0/13 [00:00<?, ?it/s]"
      ]
     },
     "metadata": {},
     "output_type": "display_data"
    },
    {
     "data": {
      "application/vnd.jupyter.widget-view+json": {
       "model_id": "56a01b140c314dd5b8e9e3d562c65033",
       "version_major": 2,
       "version_minor": 0
      },
      "text/plain": [
       "Image Batches:   0%|          | 0/13 [00:00<?, ?it/s]"
      ]
     },
     "metadata": {},
     "output_type": "display_data"
    },
    {
     "data": {
      "application/vnd.jupyter.widget-view+json": {
       "model_id": "d883d8604e8844578c2e952a00916411",
       "version_major": 2,
       "version_minor": 0
      },
      "text/plain": [
       "Image Batches:   0%|          | 0/13 [00:00<?, ?it/s]"
      ]
     },
     "metadata": {},
     "output_type": "display_data"
    },
    {
     "data": {
      "application/vnd.jupyter.widget-view+json": {
       "model_id": "19939c38ecbd47adb7aa166993267bc0",
       "version_major": 2,
       "version_minor": 0
      },
      "text/plain": [
       "Image Batches:   0%|          | 0/13 [00:00<?, ?it/s]"
      ]
     },
     "metadata": {},
     "output_type": "display_data"
    },
    {
     "data": {
      "application/vnd.jupyter.widget-view+json": {
       "model_id": "182dd25a523a47e9b1455afdf007ac1a",
       "version_major": 2,
       "version_minor": 0
      },
      "text/plain": [
       "Image Batches:   0%|          | 0/13 [00:00<?, ?it/s]"
      ]
     },
     "metadata": {},
     "output_type": "display_data"
    },
    {
     "data": {
      "application/vnd.jupyter.widget-view+json": {
       "model_id": "7856f5114e034942b365b1b42eb21d3c",
       "version_major": 2,
       "version_minor": 0
      },
      "text/plain": [
       "Image Batches:   0%|          | 0/13 [00:00<?, ?it/s]"
      ]
     },
     "metadata": {},
     "output_type": "display_data"
    },
    {
     "data": {
      "application/vnd.jupyter.widget-view+json": {
       "model_id": "d3c3fa01012940f28c854d3438abe650",
       "version_major": 2,
       "version_minor": 0
      },
      "text/plain": [
       "Image Batches:   0%|          | 0/13 [00:00<?, ?it/s]"
      ]
     },
     "metadata": {},
     "output_type": "display_data"
    },
    {
     "data": {
      "application/vnd.jupyter.widget-view+json": {
       "model_id": "d56b100451584f0c8205d435b620e2e3",
       "version_major": 2,
       "version_minor": 0
      },
      "text/plain": [
       "Image Batches:   0%|          | 0/14 [00:00<?, ?it/s]"
      ]
     },
     "metadata": {},
     "output_type": "display_data"
    },
    {
     "data": {
      "application/vnd.jupyter.widget-view+json": {
       "model_id": "63dbf0450ac341629e7449c41917b9d9",
       "version_major": 2,
       "version_minor": 0
      },
      "text/plain": [
       "Image Batches:   0%|          | 0/14 [00:00<?, ?it/s]"
      ]
     },
     "metadata": {},
     "output_type": "display_data"
    },
    {
     "data": {
      "application/vnd.jupyter.widget-view+json": {
       "model_id": "f7e7a4031fc14d23a983f55495a07159",
       "version_major": 2,
       "version_minor": 0
      },
      "text/plain": [
       "Image Batches:   0%|          | 0/13 [00:00<?, ?it/s]"
      ]
     },
     "metadata": {},
     "output_type": "display_data"
    },
    {
     "data": {
      "application/vnd.jupyter.widget-view+json": {
       "model_id": "d25b3fccd61845279cdd6679fd473b67",
       "version_major": 2,
       "version_minor": 0
      },
      "text/plain": [
       "Image Batches:   0%|          | 0/24 [00:00<?, ?it/s]"
      ]
     },
     "metadata": {},
     "output_type": "display_data"
    },
    {
     "data": {
      "application/vnd.jupyter.widget-view+json": {
       "model_id": "1e4ec5f1abd74adf8dda8ba05d61b7bb",
       "version_major": 2,
       "version_minor": 0
      },
      "text/plain": [
       "Image Batches:   0%|          | 0/13 [00:00<?, ?it/s]"
      ]
     },
     "metadata": {},
     "output_type": "display_data"
    },
    {
     "data": {
      "application/vnd.jupyter.widget-view+json": {
       "model_id": "70fbba75f7da4258bacf0b7be1363635",
       "version_major": 2,
       "version_minor": 0
      },
      "text/plain": [
       "Image Batches:   0%|          | 0/13 [00:00<?, ?it/s]"
      ]
     },
     "metadata": {},
     "output_type": "display_data"
    },
    {
     "data": {
      "application/vnd.jupyter.widget-view+json": {
       "model_id": "64a536357cd442c8831824e08913808d",
       "version_major": 2,
       "version_minor": 0
      },
      "text/plain": [
       "Image Batches:   0%|          | 0/14 [00:00<?, ?it/s]"
      ]
     },
     "metadata": {},
     "output_type": "display_data"
    },
    {
     "data": {
      "application/vnd.jupyter.widget-view+json": {
       "model_id": "10a49d8ac60140ed8d7d0f68fe415dda",
       "version_major": 2,
       "version_minor": 0
      },
      "text/plain": [
       "Image Batches:   0%|          | 0/13 [00:00<?, ?it/s]"
      ]
     },
     "metadata": {},
     "output_type": "display_data"
    },
    {
     "data": {
      "application/vnd.jupyter.widget-view+json": {
       "model_id": "e7022bc9c6124ca48eafcd571714102e",
       "version_major": 2,
       "version_minor": 0
      },
      "text/plain": [
       "Image Batches:   0%|          | 0/25 [00:00<?, ?it/s]"
      ]
     },
     "metadata": {},
     "output_type": "display_data"
    },
    {
     "data": {
      "application/vnd.jupyter.widget-view+json": {
       "model_id": "34c19198196a4885bbf039f41731ceec",
       "version_major": 2,
       "version_minor": 0
      },
      "text/plain": [
       "Image Batches:   0%|          | 0/13 [00:00<?, ?it/s]"
      ]
     },
     "metadata": {},
     "output_type": "display_data"
    },
    {
     "data": {
      "application/vnd.jupyter.widget-view+json": {
       "model_id": "805e189d8acb4bceadfb545cb596bd79",
       "version_major": 2,
       "version_minor": 0
      },
      "text/plain": [
       "Image Batches:   0%|          | 0/14 [00:00<?, ?it/s]"
      ]
     },
     "metadata": {},
     "output_type": "display_data"
    },
    {
     "data": {
      "application/vnd.jupyter.widget-view+json": {
       "model_id": "3c6c5c951a1941c59684bd4ff2684507",
       "version_major": 2,
       "version_minor": 0
      },
      "text/plain": [
       "Image Batches:   0%|          | 0/13 [00:00<?, ?it/s]"
      ]
     },
     "metadata": {},
     "output_type": "display_data"
    },
    {
     "data": {
      "application/vnd.jupyter.widget-view+json": {
       "model_id": "81e1bf620c0d4581a510faa93b464ea1",
       "version_major": 2,
       "version_minor": 0
      },
      "text/plain": [
       "Image Batches:   0%|          | 0/13 [00:00<?, ?it/s]"
      ]
     },
     "metadata": {},
     "output_type": "display_data"
    },
    {
     "data": {
      "application/vnd.jupyter.widget-view+json": {
       "model_id": "c3879f3059c14100a6daa2e3ef268431",
       "version_major": 2,
       "version_minor": 0
      },
      "text/plain": [
       "Image Batches:   0%|          | 0/13 [00:00<?, ?it/s]"
      ]
     },
     "metadata": {},
     "output_type": "display_data"
    },
    {
     "data": {
      "application/vnd.jupyter.widget-view+json": {
       "model_id": "b17155691858499fabc8a95e79a90dad",
       "version_major": 2,
       "version_minor": 0
      },
      "text/plain": [
       "Image Batches:   0%|          | 0/13 [00:00<?, ?it/s]"
      ]
     },
     "metadata": {},
     "output_type": "display_data"
    },
    {
     "data": {
      "application/vnd.jupyter.widget-view+json": {
       "model_id": "6f021697cd714e309dab48c78420fdd4",
       "version_major": 2,
       "version_minor": 0
      },
      "text/plain": [
       "Image Batches:   0%|          | 0/13 [00:00<?, ?it/s]"
      ]
     },
     "metadata": {},
     "output_type": "display_data"
    },
    {
     "data": {
      "application/vnd.jupyter.widget-view+json": {
       "model_id": "fc9f0b5fc76545e882fa006d77e9194b",
       "version_major": 2,
       "version_minor": 0
      },
      "text/plain": [
       "Image Batches:   0%|          | 0/25 [00:00<?, ?it/s]"
      ]
     },
     "metadata": {},
     "output_type": "display_data"
    },
    {
     "data": {
      "application/vnd.jupyter.widget-view+json": {
       "model_id": "9f52696b56bd4f91bf1ddb9f32514391",
       "version_major": 2,
       "version_minor": 0
      },
      "text/plain": [
       "Image Batches:   0%|          | 0/13 [00:00<?, ?it/s]"
      ]
     },
     "metadata": {},
     "output_type": "display_data"
    },
    {
     "data": {
      "application/vnd.jupyter.widget-view+json": {
       "model_id": "6112c294875f46d99151c09819a6b994",
       "version_major": 2,
       "version_minor": 0
      },
      "text/plain": [
       "Image Batches:   0%|          | 0/4 [00:00<?, ?it/s]"
      ]
     },
     "metadata": {},
     "output_type": "display_data"
    },
    {
     "data": {
      "application/vnd.jupyter.widget-view+json": {
       "model_id": "ca545b76c545481c9b5a7b29b5ad753f",
       "version_major": 2,
       "version_minor": 0
      },
      "text/plain": [
       "Image Batches:   0%|          | 0/13 [00:00<?, ?it/s]"
      ]
     },
     "metadata": {},
     "output_type": "display_data"
    },
    {
     "data": {
      "application/vnd.jupyter.widget-view+json": {
       "model_id": "a2af8a9fc30c4117bbd19e4ce1f85de6",
       "version_major": 2,
       "version_minor": 0
      },
      "text/plain": [
       "Image Batches:   0%|          | 0/14 [00:00<?, ?it/s]"
      ]
     },
     "metadata": {},
     "output_type": "display_data"
    },
    {
     "data": {
      "application/vnd.jupyter.widget-view+json": {
       "model_id": "ed2f872167a54e79bd823871e245ee45",
       "version_major": 2,
       "version_minor": 0
      },
      "text/plain": [
       "Image Batches:   0%|          | 0/14 [00:00<?, ?it/s]"
      ]
     },
     "metadata": {},
     "output_type": "display_data"
    },
    {
     "data": {
      "application/vnd.jupyter.widget-view+json": {
       "model_id": "190d92b358e447b68ac76e5184ed2068",
       "version_major": 2,
       "version_minor": 0
      },
      "text/plain": [
       "Image Batches:   0%|          | 0/13 [00:00<?, ?it/s]"
      ]
     },
     "metadata": {},
     "output_type": "display_data"
    },
    {
     "data": {
      "application/vnd.jupyter.widget-view+json": {
       "model_id": "65df89e0b4204c14bceb3483e343002f",
       "version_major": 2,
       "version_minor": 0
      },
      "text/plain": [
       "Image Batches:   0%|          | 0/26 [00:00<?, ?it/s]"
      ]
     },
     "metadata": {},
     "output_type": "display_data"
    },
    {
     "data": {
      "application/vnd.jupyter.widget-view+json": {
       "model_id": "d949f6a0e59f4be996dd1a1f24f92ce1",
       "version_major": 2,
       "version_minor": 0
      },
      "text/plain": [
       "Image Batches:   0%|          | 0/13 [00:00<?, ?it/s]"
      ]
     },
     "metadata": {},
     "output_type": "display_data"
    },
    {
     "data": {
      "application/vnd.jupyter.widget-view+json": {
       "model_id": "0abeb892fac94aaebb19c2fabb39770e",
       "version_major": 2,
       "version_minor": 0
      },
      "text/plain": [
       "Image Batches:   0%|          | 0/13 [00:00<?, ?it/s]"
      ]
     },
     "metadata": {},
     "output_type": "display_data"
    },
    {
     "data": {
      "application/vnd.jupyter.widget-view+json": {
       "model_id": "317acfca910b48198a5f6b7e70f3fbf3",
       "version_major": 2,
       "version_minor": 0
      },
      "text/plain": [
       "Image Batches:   0%|          | 0/13 [00:00<?, ?it/s]"
      ]
     },
     "metadata": {},
     "output_type": "display_data"
    },
    {
     "data": {
      "application/vnd.jupyter.widget-view+json": {
       "model_id": "1cc8f46067f540aabaf05cf6d6b1da96",
       "version_major": 2,
       "version_minor": 0
      },
      "text/plain": [
       "Image Batches:   0%|          | 0/14 [00:00<?, ?it/s]"
      ]
     },
     "metadata": {},
     "output_type": "display_data"
    },
    {
     "data": {
      "application/vnd.jupyter.widget-view+json": {
       "model_id": "ad57b61c729d4fb7baa5a46a3c3e772f",
       "version_major": 2,
       "version_minor": 0
      },
      "text/plain": [
       "Image Batches:   0%|          | 0/13 [00:00<?, ?it/s]"
      ]
     },
     "metadata": {},
     "output_type": "display_data"
    },
    {
     "data": {
      "application/vnd.jupyter.widget-view+json": {
       "model_id": "85525d9f88c34670af5deaa2bc9d9332",
       "version_major": 2,
       "version_minor": 0
      },
      "text/plain": [
       "Image Batches:   0%|          | 0/13 [00:00<?, ?it/s]"
      ]
     },
     "metadata": {},
     "output_type": "display_data"
    },
    {
     "data": {
      "application/vnd.jupyter.widget-view+json": {
       "model_id": "a48355f195174ca0ad12b039d67b3fb4",
       "version_major": 2,
       "version_minor": 0
      },
      "text/plain": [
       "Image Batches:   0%|          | 0/13 [00:00<?, ?it/s]"
      ]
     },
     "metadata": {},
     "output_type": "display_data"
    },
    {
     "data": {
      "application/vnd.jupyter.widget-view+json": {
       "model_id": "9e0f54e15f6f4041aff933688a6f99a5",
       "version_major": 2,
       "version_minor": 0
      },
      "text/plain": [
       "Image Batches:   0%|          | 0/13 [00:00<?, ?it/s]"
      ]
     },
     "metadata": {},
     "output_type": "display_data"
    },
    {
     "data": {
      "application/vnd.jupyter.widget-view+json": {
       "model_id": "09d56b76e7c84c27998e22a5bff862ae",
       "version_major": 2,
       "version_minor": 0
      },
      "text/plain": [
       "Image Batches:   0%|          | 0/13 [00:00<?, ?it/s]"
      ]
     },
     "metadata": {},
     "output_type": "display_data"
    },
    {
     "data": {
      "application/vnd.jupyter.widget-view+json": {
       "model_id": "20d6b07c636a4fd78ed2796d16673b53",
       "version_major": 2,
       "version_minor": 0
      },
      "text/plain": [
       "Image Batches:   0%|          | 0/13 [00:00<?, ?it/s]"
      ]
     },
     "metadata": {},
     "output_type": "display_data"
    },
    {
     "data": {
      "application/vnd.jupyter.widget-view+json": {
       "model_id": "2579fa0ef010476da5f9c348d2677068",
       "version_major": 2,
       "version_minor": 0
      },
      "text/plain": [
       "Image Batches:   0%|          | 0/13 [00:00<?, ?it/s]"
      ]
     },
     "metadata": {},
     "output_type": "display_data"
    },
    {
     "data": {
      "application/vnd.jupyter.widget-view+json": {
       "model_id": "0091fd3a00f64d7cbd24809fc3ab05db",
       "version_major": 2,
       "version_minor": 0
      },
      "text/plain": [
       "Image Batches:   0%|          | 0/13 [00:00<?, ?it/s]"
      ]
     },
     "metadata": {},
     "output_type": "display_data"
    },
    {
     "data": {
      "application/vnd.jupyter.widget-view+json": {
       "model_id": "ad51ead2f51e4c19b111479fc20aa1be",
       "version_major": 2,
       "version_minor": 0
      },
      "text/plain": [
       "Image Batches:   0%|          | 0/13 [00:00<?, ?it/s]"
      ]
     },
     "metadata": {},
     "output_type": "display_data"
    },
    {
     "data": {
      "application/vnd.jupyter.widget-view+json": {
       "model_id": "5090ad4801334ce08c97de3f20d89e90",
       "version_major": 2,
       "version_minor": 0
      },
      "text/plain": [
       "Image Batches:   0%|          | 0/13 [00:00<?, ?it/s]"
      ]
     },
     "metadata": {},
     "output_type": "display_data"
    },
    {
     "data": {
      "application/vnd.jupyter.widget-view+json": {
       "model_id": "9c08b649d9e64c6d8e1f65694026d24c",
       "version_major": 2,
       "version_minor": 0
      },
      "text/plain": [
       "Image Batches:   0%|          | 0/13 [00:00<?, ?it/s]"
      ]
     },
     "metadata": {},
     "output_type": "display_data"
    },
    {
     "data": {
      "application/vnd.jupyter.widget-view+json": {
       "model_id": "36cc1859c5fd42eba46d664c2c99fb91",
       "version_major": 2,
       "version_minor": 0
      },
      "text/plain": [
       "Image Batches:   0%|          | 0/14 [00:00<?, ?it/s]"
      ]
     },
     "metadata": {},
     "output_type": "display_data"
    },
    {
     "data": {
      "application/vnd.jupyter.widget-view+json": {
       "model_id": "9034dbe0e45e46ec8ec9ea613b90e5e3",
       "version_major": 2,
       "version_minor": 0
      },
      "text/plain": [
       "Image Batches:   0%|          | 0/13 [00:00<?, ?it/s]"
      ]
     },
     "metadata": {},
     "output_type": "display_data"
    },
    {
     "data": {
      "application/vnd.jupyter.widget-view+json": {
       "model_id": "ee0a2b303b504e64970cb9b986186838",
       "version_major": 2,
       "version_minor": 0
      },
      "text/plain": [
       "Image Batches:   0%|          | 0/1 [00:00<?, ?it/s]"
      ]
     },
     "metadata": {},
     "output_type": "display_data"
    },
    {
     "data": {
      "application/vnd.jupyter.widget-view+json": {
       "model_id": "9ca17d0de0104a41986715f9adb4468c",
       "version_major": 2,
       "version_minor": 0
      },
      "text/plain": [
       "Image Batches:   0%|          | 0/13 [00:00<?, ?it/s]"
      ]
     },
     "metadata": {},
     "output_type": "display_data"
    },
    {
     "data": {
      "application/vnd.jupyter.widget-view+json": {
       "model_id": "3f76207d8c3743aeb71cb988b66804d8",
       "version_major": 2,
       "version_minor": 0
      },
      "text/plain": [
       "Image Batches:   0%|          | 0/13 [00:00<?, ?it/s]"
      ]
     },
     "metadata": {},
     "output_type": "display_data"
    },
    {
     "data": {
      "application/vnd.jupyter.widget-view+json": {
       "model_id": "6c426f79d6774fb8bfe3d8845610e33c",
       "version_major": 2,
       "version_minor": 0
      },
      "text/plain": [
       "Image Batches:   0%|          | 0/13 [00:00<?, ?it/s]"
      ]
     },
     "metadata": {},
     "output_type": "display_data"
    },
    {
     "data": {
      "application/vnd.jupyter.widget-view+json": {
       "model_id": "5a7fe242de4b4e7280b850f353f7573a",
       "version_major": 2,
       "version_minor": 0
      },
      "text/plain": [
       "Image Batches:   0%|          | 0/13 [00:00<?, ?it/s]"
      ]
     },
     "metadata": {},
     "output_type": "display_data"
    },
    {
     "data": {
      "application/vnd.jupyter.widget-view+json": {
       "model_id": "57892f53d6d54f429682f0d1c9812612",
       "version_major": 2,
       "version_minor": 0
      },
      "text/plain": [
       "Image Batches:   0%|          | 0/13 [00:00<?, ?it/s]"
      ]
     },
     "metadata": {},
     "output_type": "display_data"
    },
    {
     "data": {
      "application/vnd.jupyter.widget-view+json": {
       "model_id": "040596ca970142548deeb627b9d0c1ea",
       "version_major": 2,
       "version_minor": 0
      },
      "text/plain": [
       "Image Batches:   0%|          | 0/13 [00:00<?, ?it/s]"
      ]
     },
     "metadata": {},
     "output_type": "display_data"
    },
    {
     "data": {
      "application/vnd.jupyter.widget-view+json": {
       "model_id": "0a6a629b4ccc4ef2b2de821bc93058ad",
       "version_major": 2,
       "version_minor": 0
      },
      "text/plain": [
       "Image Batches:   0%|          | 0/13 [00:00<?, ?it/s]"
      ]
     },
     "metadata": {},
     "output_type": "display_data"
    },
    {
     "data": {
      "application/vnd.jupyter.widget-view+json": {
       "model_id": "86f46a38677640d391962e2c04222261",
       "version_major": 2,
       "version_minor": 0
      },
      "text/plain": [
       "Image Batches:   0%|          | 0/13 [00:00<?, ?it/s]"
      ]
     },
     "metadata": {},
     "output_type": "display_data"
    },
    {
     "data": {
      "application/vnd.jupyter.widget-view+json": {
       "model_id": "4f1eb0edf98e4916a656087855611c32",
       "version_major": 2,
       "version_minor": 0
      },
      "text/plain": [
       "Image Batches:   0%|          | 0/13 [00:00<?, ?it/s]"
      ]
     },
     "metadata": {},
     "output_type": "display_data"
    },
    {
     "data": {
      "application/vnd.jupyter.widget-view+json": {
       "model_id": "e5724916ee53453883225b49bcb5acde",
       "version_major": 2,
       "version_minor": 0
      },
      "text/plain": [
       "Image Batches:   0%|          | 0/13 [00:00<?, ?it/s]"
      ]
     },
     "metadata": {},
     "output_type": "display_data"
    },
    {
     "data": {
      "application/vnd.jupyter.widget-view+json": {
       "model_id": "abe2c6cb415a4597821582fb5adfb42e",
       "version_major": 2,
       "version_minor": 0
      },
      "text/plain": [
       "Image Batches:   0%|          | 0/13 [00:00<?, ?it/s]"
      ]
     },
     "metadata": {},
     "output_type": "display_data"
    },
    {
     "data": {
      "application/vnd.jupyter.widget-view+json": {
       "model_id": "d13ab11a6fc84e5e9ece5ace8971937e",
       "version_major": 2,
       "version_minor": 0
      },
      "text/plain": [
       "Image Batches:   0%|          | 0/13 [00:00<?, ?it/s]"
      ]
     },
     "metadata": {},
     "output_type": "display_data"
    },
    {
     "data": {
      "application/vnd.jupyter.widget-view+json": {
       "model_id": "e7a3b1663fc84ad381af5699d4b25ee4",
       "version_major": 2,
       "version_minor": 0
      },
      "text/plain": [
       "Image Batches:   0%|          | 0/13 [00:00<?, ?it/s]"
      ]
     },
     "metadata": {},
     "output_type": "display_data"
    },
    {
     "data": {
      "application/vnd.jupyter.widget-view+json": {
       "model_id": "ee2a09a8c35841f193091d88334d2aaf",
       "version_major": 2,
       "version_minor": 0
      },
      "text/plain": [
       "Image Batches:   0%|          | 0/14 [00:00<?, ?it/s]"
      ]
     },
     "metadata": {},
     "output_type": "display_data"
    },
    {
     "data": {
      "application/vnd.jupyter.widget-view+json": {
       "model_id": "57c3b0bd886248819c4295916111b501",
       "version_major": 2,
       "version_minor": 0
      },
      "text/plain": [
       "Image Batches:   0%|          | 0/13 [00:00<?, ?it/s]"
      ]
     },
     "metadata": {},
     "output_type": "display_data"
    },
    {
     "data": {
      "application/vnd.jupyter.widget-view+json": {
       "model_id": "36855bacb05c4a5e91b16834f70a9088",
       "version_major": 2,
       "version_minor": 0
      },
      "text/plain": [
       "Image Batches:   0%|          | 0/13 [00:00<?, ?it/s]"
      ]
     },
     "metadata": {},
     "output_type": "display_data"
    },
    {
     "data": {
      "application/vnd.jupyter.widget-view+json": {
       "model_id": "ccf3893a112f4a3798d76a6a64577361",
       "version_major": 2,
       "version_minor": 0
      },
      "text/plain": [
       "Image Batches:   0%|          | 0/13 [00:00<?, ?it/s]"
      ]
     },
     "metadata": {},
     "output_type": "display_data"
    },
    {
     "data": {
      "application/vnd.jupyter.widget-view+json": {
       "model_id": "3ed010521aba4d788a26f3dcd77d2335",
       "version_major": 2,
       "version_minor": 0
      },
      "text/plain": [
       "Image Batches:   0%|          | 0/14 [00:00<?, ?it/s]"
      ]
     },
     "metadata": {},
     "output_type": "display_data"
    },
    {
     "data": {
      "application/vnd.jupyter.widget-view+json": {
       "model_id": "99865f6776864a80ad57a1e4958a6149",
       "version_major": 2,
       "version_minor": 0
      },
      "text/plain": [
       "Image Batches:   0%|          | 0/13 [00:00<?, ?it/s]"
      ]
     },
     "metadata": {},
     "output_type": "display_data"
    },
    {
     "data": {
      "application/vnd.jupyter.widget-view+json": {
       "model_id": "2fdf3846bd2f48dea65320a38d8791a7",
       "version_major": 2,
       "version_minor": 0
      },
      "text/plain": [
       "Image Batches:   0%|          | 0/13 [00:00<?, ?it/s]"
      ]
     },
     "metadata": {},
     "output_type": "display_data"
    },
    {
     "data": {
      "application/vnd.jupyter.widget-view+json": {
       "model_id": "f1df2bd08c094fbf884414e94a34669e",
       "version_major": 2,
       "version_minor": 0
      },
      "text/plain": [
       "Image Batches:   0%|          | 0/13 [00:00<?, ?it/s]"
      ]
     },
     "metadata": {},
     "output_type": "display_data"
    },
    {
     "data": {
      "application/vnd.jupyter.widget-view+json": {
       "model_id": "87d23fa6aaa24f78bd8c33019a31deb3",
       "version_major": 2,
       "version_minor": 0
      },
      "text/plain": [
       "Image Batches:   0%|          | 0/13 [00:00<?, ?it/s]"
      ]
     },
     "metadata": {},
     "output_type": "display_data"
    },
    {
     "data": {
      "application/vnd.jupyter.widget-view+json": {
       "model_id": "d56bbc9bfa134c108dc1646fd17256b3",
       "version_major": 2,
       "version_minor": 0
      },
      "text/plain": [
       "Image Batches:   0%|          | 0/13 [00:00<?, ?it/s]"
      ]
     },
     "metadata": {},
     "output_type": "display_data"
    },
    {
     "data": {
      "application/vnd.jupyter.widget-view+json": {
       "model_id": "3c16c25563cb44f5aaf382f970d2608a",
       "version_major": 2,
       "version_minor": 0
      },
      "text/plain": [
       "Image Batches:   0%|          | 0/30 [00:00<?, ?it/s]"
      ]
     },
     "metadata": {},
     "output_type": "display_data"
    },
    {
     "data": {
      "application/vnd.jupyter.widget-view+json": {
       "model_id": "a8253121b014434089749314f1d98543",
       "version_major": 2,
       "version_minor": 0
      },
      "text/plain": [
       "Image Batches:   0%|          | 0/13 [00:00<?, ?it/s]"
      ]
     },
     "metadata": {},
     "output_type": "display_data"
    },
    {
     "data": {
      "application/vnd.jupyter.widget-view+json": {
       "model_id": "8619609e4cad47a6accbd9fef78f18ed",
       "version_major": 2,
       "version_minor": 0
      },
      "text/plain": [
       "Image Batches:   0%|          | 0/13 [00:00<?, ?it/s]"
      ]
     },
     "metadata": {},
     "output_type": "display_data"
    },
    {
     "data": {
      "application/vnd.jupyter.widget-view+json": {
       "model_id": "5cb609700a24490a82145feb782993e9",
       "version_major": 2,
       "version_minor": 0
      },
      "text/plain": [
       "Image Batches:   0%|          | 0/13 [00:00<?, ?it/s]"
      ]
     },
     "metadata": {},
     "output_type": "display_data"
    },
    {
     "data": {
      "application/vnd.jupyter.widget-view+json": {
       "model_id": "5a7de605ce97486db71a21146d1c3743",
       "version_major": 2,
       "version_minor": 0
      },
      "text/plain": [
       "Image Batches:   0%|          | 0/13 [00:00<?, ?it/s]"
      ]
     },
     "metadata": {},
     "output_type": "display_data"
    },
    {
     "data": {
      "application/vnd.jupyter.widget-view+json": {
       "model_id": "0026bb5bf1de43908dccb58b72bddad7",
       "version_major": 2,
       "version_minor": 0
      },
      "text/plain": [
       "Image Batches:   0%|          | 0/13 [00:00<?, ?it/s]"
      ]
     },
     "metadata": {},
     "output_type": "display_data"
    },
    {
     "data": {
      "application/vnd.jupyter.widget-view+json": {
       "model_id": "a0113f8602cc421fab61456559a1915c",
       "version_major": 2,
       "version_minor": 0
      },
      "text/plain": [
       "Image Batches:   0%|          | 0/13 [00:00<?, ?it/s]"
      ]
     },
     "metadata": {},
     "output_type": "display_data"
    },
    {
     "data": {
      "application/vnd.jupyter.widget-view+json": {
       "model_id": "8c779c84d5b64ac693575314c34b1050",
       "version_major": 2,
       "version_minor": 0
      },
      "text/plain": [
       "Image Batches:   0%|          | 0/13 [00:00<?, ?it/s]"
      ]
     },
     "metadata": {},
     "output_type": "display_data"
    },
    {
     "data": {
      "application/vnd.jupyter.widget-view+json": {
       "model_id": "f61bd28f13204fe89856c9e1b931efe7",
       "version_major": 2,
       "version_minor": 0
      },
      "text/plain": [
       "Image Batches:   0%|          | 0/26 [00:00<?, ?it/s]"
      ]
     },
     "metadata": {},
     "output_type": "display_data"
    },
    {
     "data": {
      "application/vnd.jupyter.widget-view+json": {
       "model_id": "de6828e4ac0a4fd78683773e763c9b71",
       "version_major": 2,
       "version_minor": 0
      },
      "text/plain": [
       "Image Batches:   0%|          | 0/13 [00:00<?, ?it/s]"
      ]
     },
     "metadata": {},
     "output_type": "display_data"
    },
    {
     "data": {
      "application/vnd.jupyter.widget-view+json": {
       "model_id": "384621c977ee4a209fced8851dfa2563",
       "version_major": 2,
       "version_minor": 0
      },
      "text/plain": [
       "Image Batches:   0%|          | 0/13 [00:00<?, ?it/s]"
      ]
     },
     "metadata": {},
     "output_type": "display_data"
    },
    {
     "data": {
      "application/vnd.jupyter.widget-view+json": {
       "model_id": "98d87648ac94494f985a2dab0968460c",
       "version_major": 2,
       "version_minor": 0
      },
      "text/plain": [
       "Image Batches:   0%|          | 0/13 [00:00<?, ?it/s]"
      ]
     },
     "metadata": {},
     "output_type": "display_data"
    },
    {
     "data": {
      "application/vnd.jupyter.widget-view+json": {
       "model_id": "43c68dee53cd4f6489c4868184995b29",
       "version_major": 2,
       "version_minor": 0
      },
      "text/plain": [
       "Image Batches:   0%|          | 0/13 [00:00<?, ?it/s]"
      ]
     },
     "metadata": {},
     "output_type": "display_data"
    },
    {
     "data": {
      "application/vnd.jupyter.widget-view+json": {
       "model_id": "d96e77f8a4484bc496ce149e97f4a8da",
       "version_major": 2,
       "version_minor": 0
      },
      "text/plain": [
       "Image Batches:   0%|          | 0/25 [00:00<?, ?it/s]"
      ]
     },
     "metadata": {},
     "output_type": "display_data"
    },
    {
     "data": {
      "application/vnd.jupyter.widget-view+json": {
       "model_id": "ead244280c2c471daf4ca1e06f54a2ec",
       "version_major": 2,
       "version_minor": 0
      },
      "text/plain": [
       "Image Batches:   0%|          | 0/9 [00:00<?, ?it/s]"
      ]
     },
     "metadata": {},
     "output_type": "display_data"
    },
    {
     "data": {
      "application/vnd.jupyter.widget-view+json": {
       "model_id": "2b1214aa61664521a1b219640e1ba263",
       "version_major": 2,
       "version_minor": 0
      },
      "text/plain": [
       "Image Batches:   0%|          | 0/13 [00:00<?, ?it/s]"
      ]
     },
     "metadata": {},
     "output_type": "display_data"
    },
    {
     "data": {
      "application/vnd.jupyter.widget-view+json": {
       "model_id": "5383b9d3e1674a389f6573a4f7d6a267",
       "version_major": 2,
       "version_minor": 0
      },
      "text/plain": [
       "Image Batches:   0%|          | 0/12 [00:00<?, ?it/s]"
      ]
     },
     "metadata": {},
     "output_type": "display_data"
    },
    {
     "data": {
      "application/vnd.jupyter.widget-view+json": {
       "model_id": "96d9e49012fc4fc885b8252a2007ca10",
       "version_major": 2,
       "version_minor": 0
      },
      "text/plain": [
       "Image Batches:   0%|          | 0/13 [00:00<?, ?it/s]"
      ]
     },
     "metadata": {},
     "output_type": "display_data"
    },
    {
     "data": {
      "application/vnd.jupyter.widget-view+json": {
       "model_id": "af642ecfdb634fd0a3d1cc2b21a48de6",
       "version_major": 2,
       "version_minor": 0
      },
      "text/plain": [
       "Image Batches:   0%|          | 0/13 [00:00<?, ?it/s]"
      ]
     },
     "metadata": {},
     "output_type": "display_data"
    },
    {
     "data": {
      "application/vnd.jupyter.widget-view+json": {
       "model_id": "6ec135c5cda0405088282616ce86bfcf",
       "version_major": 2,
       "version_minor": 0
      },
      "text/plain": [
       "Image Batches:   0%|          | 0/13 [00:00<?, ?it/s]"
      ]
     },
     "metadata": {},
     "output_type": "display_data"
    },
    {
     "data": {
      "application/vnd.jupyter.widget-view+json": {
       "model_id": "8767394956964614a3456cfd697c794b",
       "version_major": 2,
       "version_minor": 0
      },
      "text/plain": [
       "Image Batches:   0%|          | 0/13 [00:00<?, ?it/s]"
      ]
     },
     "metadata": {},
     "output_type": "display_data"
    },
    {
     "data": {
      "application/vnd.jupyter.widget-view+json": {
       "model_id": "9e957e279b3e48c08bcbc4d78b3fe564",
       "version_major": 2,
       "version_minor": 0
      },
      "text/plain": [
       "Image Batches:   0%|          | 0/13 [00:00<?, ?it/s]"
      ]
     },
     "metadata": {},
     "output_type": "display_data"
    },
    {
     "data": {
      "application/vnd.jupyter.widget-view+json": {
       "model_id": "91d03a7b85984a6ca4a2f7e9fa0cd5d3",
       "version_major": 2,
       "version_minor": 0
      },
      "text/plain": [
       "Image Batches:   0%|          | 0/14 [00:00<?, ?it/s]"
      ]
     },
     "metadata": {},
     "output_type": "display_data"
    },
    {
     "data": {
      "application/vnd.jupyter.widget-view+json": {
       "model_id": "f4af7e2153c848eda5202833b7b3a4f7",
       "version_major": 2,
       "version_minor": 0
      },
      "text/plain": [
       "Image Batches:   0%|          | 0/13 [00:00<?, ?it/s]"
      ]
     },
     "metadata": {},
     "output_type": "display_data"
    },
    {
     "data": {
      "application/vnd.jupyter.widget-view+json": {
       "model_id": "6c10a257839f43a08ff4268f8467002e",
       "version_major": 2,
       "version_minor": 0
      },
      "text/plain": [
       "Image Batches:   0%|          | 0/12 [00:00<?, ?it/s]"
      ]
     },
     "metadata": {},
     "output_type": "display_data"
    },
    {
     "data": {
      "application/vnd.jupyter.widget-view+json": {
       "model_id": "bdfef65472644d0d833eaee0e070b5d8",
       "version_major": 2,
       "version_minor": 0
      },
      "text/plain": [
       "Image Batches:   0%|          | 0/14 [00:00<?, ?it/s]"
      ]
     },
     "metadata": {},
     "output_type": "display_data"
    },
    {
     "data": {
      "application/vnd.jupyter.widget-view+json": {
       "model_id": "5f4013ba549840e1a50f786110dc0abe",
       "version_major": 2,
       "version_minor": 0
      },
      "text/plain": [
       "Image Batches:   0%|          | 0/15 [00:00<?, ?it/s]"
      ]
     },
     "metadata": {},
     "output_type": "display_data"
    },
    {
     "data": {
      "application/vnd.jupyter.widget-view+json": {
       "model_id": "7a3388226c0e413c9a6a40dfcab63572",
       "version_major": 2,
       "version_minor": 0
      },
      "text/plain": [
       "Image Batches:   0%|          | 0/13 [00:00<?, ?it/s]"
      ]
     },
     "metadata": {},
     "output_type": "display_data"
    },
    {
     "data": {
      "application/vnd.jupyter.widget-view+json": {
       "model_id": "c6b1182125854a7fabd50bdd48f130ee",
       "version_major": 2,
       "version_minor": 0
      },
      "text/plain": [
       "Image Batches:   0%|          | 0/13 [00:00<?, ?it/s]"
      ]
     },
     "metadata": {},
     "output_type": "display_data"
    },
    {
     "data": {
      "application/vnd.jupyter.widget-view+json": {
       "model_id": "a28509dc13e9495ca9f17dc8c655ecac",
       "version_major": 2,
       "version_minor": 0
      },
      "text/plain": [
       "Image Batches:   0%|          | 0/13 [00:00<?, ?it/s]"
      ]
     },
     "metadata": {},
     "output_type": "display_data"
    },
    {
     "data": {
      "application/vnd.jupyter.widget-view+json": {
       "model_id": "649faba57c11451b86b2340cdbfee4e2",
       "version_major": 2,
       "version_minor": 0
      },
      "text/plain": [
       "Image Batches:   0%|          | 0/13 [00:00<?, ?it/s]"
      ]
     },
     "metadata": {},
     "output_type": "display_data"
    },
    {
     "data": {
      "application/vnd.jupyter.widget-view+json": {
       "model_id": "1535f23126504ae2aa1df26a366240dd",
       "version_major": 2,
       "version_minor": 0
      },
      "text/plain": [
       "Image Batches:   0%|          | 0/13 [00:00<?, ?it/s]"
      ]
     },
     "metadata": {},
     "output_type": "display_data"
    },
    {
     "data": {
      "application/vnd.jupyter.widget-view+json": {
       "model_id": "7e1dbbbf42724cfca5728f3a5e590145",
       "version_major": 2,
       "version_minor": 0
      },
      "text/plain": [
       "Image Batches:   0%|          | 0/13 [00:00<?, ?it/s]"
      ]
     },
     "metadata": {},
     "output_type": "display_data"
    },
    {
     "data": {
      "application/vnd.jupyter.widget-view+json": {
       "model_id": "f89b92e2f7594771ad7d7747e2d208bb",
       "version_major": 2,
       "version_minor": 0
      },
      "text/plain": [
       "Image Batches:   0%|          | 0/13 [00:00<?, ?it/s]"
      ]
     },
     "metadata": {},
     "output_type": "display_data"
    },
    {
     "data": {
      "application/vnd.jupyter.widget-view+json": {
       "model_id": "f2d6bc47364e4570bede86a50f75655f",
       "version_major": 2,
       "version_minor": 0
      },
      "text/plain": [
       "Image Batches:   0%|          | 0/13 [00:00<?, ?it/s]"
      ]
     },
     "metadata": {},
     "output_type": "display_data"
    },
    {
     "data": {
      "application/vnd.jupyter.widget-view+json": {
       "model_id": "a88c593529194aa5a55fea0208e87755",
       "version_major": 2,
       "version_minor": 0
      },
      "text/plain": [
       "Image Batches:   0%|          | 0/13 [00:00<?, ?it/s]"
      ]
     },
     "metadata": {},
     "output_type": "display_data"
    },
    {
     "data": {
      "application/vnd.jupyter.widget-view+json": {
       "model_id": "32a0b0bb0d834b2a97522d5d40e73250",
       "version_major": 2,
       "version_minor": 0
      },
      "text/plain": [
       "Image Batches:   0%|          | 0/14 [00:00<?, ?it/s]"
      ]
     },
     "metadata": {},
     "output_type": "display_data"
    },
    {
     "data": {
      "application/vnd.jupyter.widget-view+json": {
       "model_id": "b8d5a018c79d48219dc29a8e5f2bc6ce",
       "version_major": 2,
       "version_minor": 0
      },
      "text/plain": [
       "Image Batches:   0%|          | 0/20 [00:00<?, ?it/s]"
      ]
     },
     "metadata": {},
     "output_type": "display_data"
    },
    {
     "data": {
      "application/vnd.jupyter.widget-view+json": {
       "model_id": "c16c465e6ceb447cac6ec771aa248547",
       "version_major": 2,
       "version_minor": 0
      },
      "text/plain": [
       "Image Batches:   0%|          | 0/13 [00:00<?, ?it/s]"
      ]
     },
     "metadata": {},
     "output_type": "display_data"
    },
    {
     "data": {
      "application/vnd.jupyter.widget-view+json": {
       "model_id": "fe1bf9ba013541cdaf97b27e86866739",
       "version_major": 2,
       "version_minor": 0
      },
      "text/plain": [
       "Image Batches:   0%|          | 0/9 [00:00<?, ?it/s]"
      ]
     },
     "metadata": {},
     "output_type": "display_data"
    },
    {
     "data": {
      "application/vnd.jupyter.widget-view+json": {
       "model_id": "31d138bd50d448b9b953a58500b17f67",
       "version_major": 2,
       "version_minor": 0
      },
      "text/plain": [
       "Image Batches:   0%|          | 0/13 [00:00<?, ?it/s]"
      ]
     },
     "metadata": {},
     "output_type": "display_data"
    },
    {
     "data": {
      "application/vnd.jupyter.widget-view+json": {
       "model_id": "dc2525eb0b2c40968d72a94bff07fee4",
       "version_major": 2,
       "version_minor": 0
      },
      "text/plain": [
       "Image Batches:   0%|          | 0/10 [00:00<?, ?it/s]"
      ]
     },
     "metadata": {},
     "output_type": "display_data"
    },
    {
     "data": {
      "application/vnd.jupyter.widget-view+json": {
       "model_id": "b244b24bc1514d73893c7441cb1b032c",
       "version_major": 2,
       "version_minor": 0
      },
      "text/plain": [
       "Image Batches:   0%|          | 0/12 [00:00<?, ?it/s]"
      ]
     },
     "metadata": {},
     "output_type": "display_data"
    },
    {
     "data": {
      "application/vnd.jupyter.widget-view+json": {
       "model_id": "5a266b2a94ad4e359f6471d55d812814",
       "version_major": 2,
       "version_minor": 0
      },
      "text/plain": [
       "Image Batches:   0%|          | 0/13 [00:00<?, ?it/s]"
      ]
     },
     "metadata": {},
     "output_type": "display_data"
    },
    {
     "data": {
      "application/vnd.jupyter.widget-view+json": {
       "model_id": "a959b0890c214c609a174d5e75ec809f",
       "version_major": 2,
       "version_minor": 0
      },
      "text/plain": [
       "Image Batches:   0%|          | 0/13 [00:00<?, ?it/s]"
      ]
     },
     "metadata": {},
     "output_type": "display_data"
    },
    {
     "data": {
      "application/vnd.jupyter.widget-view+json": {
       "model_id": "79c59ab8fae84856b2de81ae555bfce7",
       "version_major": 2,
       "version_minor": 0
      },
      "text/plain": [
       "Image Batches:   0%|          | 0/13 [00:00<?, ?it/s]"
      ]
     },
     "metadata": {},
     "output_type": "display_data"
    },
    {
     "data": {
      "application/vnd.jupyter.widget-view+json": {
       "model_id": "d6a18dec42c940f5ad406223257c419f",
       "version_major": 2,
       "version_minor": 0
      },
      "text/plain": [
       "Image Batches:   0%|          | 0/13 [00:00<?, ?it/s]"
      ]
     },
     "metadata": {},
     "output_type": "display_data"
    },
    {
     "data": {
      "application/vnd.jupyter.widget-view+json": {
       "model_id": "de8e715f3cf64fdeba07256122bfa392",
       "version_major": 2,
       "version_minor": 0
      },
      "text/plain": [
       "Image Batches:   0%|          | 0/13 [00:00<?, ?it/s]"
      ]
     },
     "metadata": {},
     "output_type": "display_data"
    },
    {
     "data": {
      "application/vnd.jupyter.widget-view+json": {
       "model_id": "55512c99ef164001b6dce5f951492128",
       "version_major": 2,
       "version_minor": 0
      },
      "text/plain": [
       "Image Batches:   0%|          | 0/13 [00:00<?, ?it/s]"
      ]
     },
     "metadata": {},
     "output_type": "display_data"
    },
    {
     "data": {
      "application/vnd.jupyter.widget-view+json": {
       "model_id": "5647b19dfa1c4489833a3512b392b28f",
       "version_major": 2,
       "version_minor": 0
      },
      "text/plain": [
       "Image Batches:   0%|          | 0/13 [00:00<?, ?it/s]"
      ]
     },
     "metadata": {},
     "output_type": "display_data"
    },
    {
     "data": {
      "application/vnd.jupyter.widget-view+json": {
       "model_id": "e8b0daad66cd497592cd5c47d827e54e",
       "version_major": 2,
       "version_minor": 0
      },
      "text/plain": [
       "Image Batches:   0%|          | 0/13 [00:00<?, ?it/s]"
      ]
     },
     "metadata": {},
     "output_type": "display_data"
    },
    {
     "data": {
      "application/vnd.jupyter.widget-view+json": {
       "model_id": "fe8a162411b14a4bb87a5c6c3f6bce25",
       "version_major": 2,
       "version_minor": 0
      },
      "text/plain": [
       "Image Batches:   0%|          | 0/13 [00:00<?, ?it/s]"
      ]
     },
     "metadata": {},
     "output_type": "display_data"
    },
    {
     "data": {
      "application/vnd.jupyter.widget-view+json": {
       "model_id": "fb07826c658e45dbbac63025edd0b957",
       "version_major": 2,
       "version_minor": 0
      },
      "text/plain": [
       "Image Batches:   0%|          | 0/13 [00:00<?, ?it/s]"
      ]
     },
     "metadata": {},
     "output_type": "display_data"
    },
    {
     "data": {
      "application/vnd.jupyter.widget-view+json": {
       "model_id": "a131ebceda454b11b536105b9cec0f01",
       "version_major": 2,
       "version_minor": 0
      },
      "text/plain": [
       "Image Batches:   0%|          | 0/13 [00:00<?, ?it/s]"
      ]
     },
     "metadata": {},
     "output_type": "display_data"
    },
    {
     "data": {
      "application/vnd.jupyter.widget-view+json": {
       "model_id": "d3ca31412e0e4e07b633bebf3b31cf4c",
       "version_major": 2,
       "version_minor": 0
      },
      "text/plain": [
       "Image Batches:   0%|          | 0/13 [00:00<?, ?it/s]"
      ]
     },
     "metadata": {},
     "output_type": "display_data"
    },
    {
     "data": {
      "application/vnd.jupyter.widget-view+json": {
       "model_id": "5559011aa08c4c4c93e1ea1da8aa2175",
       "version_major": 2,
       "version_minor": 0
      },
      "text/plain": [
       "Image Batches:   0%|          | 0/13 [00:00<?, ?it/s]"
      ]
     },
     "metadata": {},
     "output_type": "display_data"
    },
    {
     "data": {
      "application/vnd.jupyter.widget-view+json": {
       "model_id": "139f8dbe867c4bc3b831f2dea0fdbaa8",
       "version_major": 2,
       "version_minor": 0
      },
      "text/plain": [
       "Image Batches:   0%|          | 0/13 [00:00<?, ?it/s]"
      ]
     },
     "metadata": {},
     "output_type": "display_data"
    },
    {
     "data": {
      "application/vnd.jupyter.widget-view+json": {
       "model_id": "4c991f48d5d947c0bee4c815b709c945",
       "version_major": 2,
       "version_minor": 0
      },
      "text/plain": [
       "Image Batches:   0%|          | 0/13 [00:00<?, ?it/s]"
      ]
     },
     "metadata": {},
     "output_type": "display_data"
    },
    {
     "data": {
      "application/vnd.jupyter.widget-view+json": {
       "model_id": "4c4c063dc513433389d3435e491a6c9a",
       "version_major": 2,
       "version_minor": 0
      },
      "text/plain": [
       "Image Batches:   0%|          | 0/13 [00:00<?, ?it/s]"
      ]
     },
     "metadata": {},
     "output_type": "display_data"
    },
    {
     "data": {
      "application/vnd.jupyter.widget-view+json": {
       "model_id": "30d825033cf04245a528d781efe767ba",
       "version_major": 2,
       "version_minor": 0
      },
      "text/plain": [
       "Image Batches:   0%|          | 0/13 [00:00<?, ?it/s]"
      ]
     },
     "metadata": {},
     "output_type": "display_data"
    },
    {
     "data": {
      "application/vnd.jupyter.widget-view+json": {
       "model_id": "9348800bf8a94ec999e6978def5ee97b",
       "version_major": 2,
       "version_minor": 0
      },
      "text/plain": [
       "Image Batches:   0%|          | 0/13 [00:00<?, ?it/s]"
      ]
     },
     "metadata": {},
     "output_type": "display_data"
    },
    {
     "data": {
      "application/vnd.jupyter.widget-view+json": {
       "model_id": "b04f1062816a47cc9641ae76829e5b4b",
       "version_major": 2,
       "version_minor": 0
      },
      "text/plain": [
       "Image Batches:   0%|          | 0/13 [00:00<?, ?it/s]"
      ]
     },
     "metadata": {},
     "output_type": "display_data"
    },
    {
     "data": {
      "application/vnd.jupyter.widget-view+json": {
       "model_id": "89f60203d73f4f8eaabc9003e55f50f2",
       "version_major": 2,
       "version_minor": 0
      },
      "text/plain": [
       "Image Batches:   0%|          | 0/26 [00:00<?, ?it/s]"
      ]
     },
     "metadata": {},
     "output_type": "display_data"
    },
    {
     "data": {
      "application/vnd.jupyter.widget-view+json": {
       "model_id": "8ea5a4d27ddd4c9f89be4887316eb487",
       "version_major": 2,
       "version_minor": 0
      },
      "text/plain": [
       "Image Batches:   0%|          | 0/13 [00:00<?, ?it/s]"
      ]
     },
     "metadata": {},
     "output_type": "display_data"
    },
    {
     "data": {
      "application/vnd.jupyter.widget-view+json": {
       "model_id": "876f3e2ed5b54122b4ad0911d27206bd",
       "version_major": 2,
       "version_minor": 0
      },
      "text/plain": [
       "Image Batches:   0%|          | 0/13 [00:00<?, ?it/s]"
      ]
     },
     "metadata": {},
     "output_type": "display_data"
    },
    {
     "data": {
      "application/vnd.jupyter.widget-view+json": {
       "model_id": "351e80f629d447e6ad6123aecd8bb3aa",
       "version_major": 2,
       "version_minor": 0
      },
      "text/plain": [
       "Image Batches:   0%|          | 0/13 [00:00<?, ?it/s]"
      ]
     },
     "metadata": {},
     "output_type": "display_data"
    },
    {
     "data": {
      "application/vnd.jupyter.widget-view+json": {
       "model_id": "d1772eb2261240518f1ba50b8152984f",
       "version_major": 2,
       "version_minor": 0
      },
      "text/plain": [
       "Image Batches:   0%|          | 0/13 [00:00<?, ?it/s]"
      ]
     },
     "metadata": {},
     "output_type": "display_data"
    },
    {
     "data": {
      "application/vnd.jupyter.widget-view+json": {
       "model_id": "3a61f5ddc3434682b4be7ef95e269d4b",
       "version_major": 2,
       "version_minor": 0
      },
      "text/plain": [
       "Image Batches:   0%|          | 0/14 [00:00<?, ?it/s]"
      ]
     },
     "metadata": {},
     "output_type": "display_data"
    },
    {
     "data": {
      "application/vnd.jupyter.widget-view+json": {
       "model_id": "00dd569fbed34ba18037065f9b7fa164",
       "version_major": 2,
       "version_minor": 0
      },
      "text/plain": [
       "Image Batches:   0%|          | 0/13 [00:00<?, ?it/s]"
      ]
     },
     "metadata": {},
     "output_type": "display_data"
    },
    {
     "data": {
      "application/vnd.jupyter.widget-view+json": {
       "model_id": "9d2c461bdfbb46539a53eddb7d5ed0ee",
       "version_major": 2,
       "version_minor": 0
      },
      "text/plain": [
       "Image Batches:   0%|          | 0/13 [00:00<?, ?it/s]"
      ]
     },
     "metadata": {},
     "output_type": "display_data"
    },
    {
     "data": {
      "application/vnd.jupyter.widget-view+json": {
       "model_id": "3814035da63e45a8bd0dc5c58dc2d898",
       "version_major": 2,
       "version_minor": 0
      },
      "text/plain": [
       "Image Batches:   0%|          | 0/26 [00:00<?, ?it/s]"
      ]
     },
     "metadata": {},
     "output_type": "display_data"
    },
    {
     "data": {
      "application/vnd.jupyter.widget-view+json": {
       "model_id": "1507a3b9a8a54c6b9448d125b16cd7f7",
       "version_major": 2,
       "version_minor": 0
      },
      "text/plain": [
       "Image Batches:   0%|          | 0/13 [00:00<?, ?it/s]"
      ]
     },
     "metadata": {},
     "output_type": "display_data"
    },
    {
     "data": {
      "application/vnd.jupyter.widget-view+json": {
       "model_id": "1d57a00fe1e14a22844b17127ca8c8c2",
       "version_major": 2,
       "version_minor": 0
      },
      "text/plain": [
       "Image Batches:   0%|          | 0/13 [00:00<?, ?it/s]"
      ]
     },
     "metadata": {},
     "output_type": "display_data"
    },
    {
     "data": {
      "application/vnd.jupyter.widget-view+json": {
       "model_id": "891da090c4cf40cc86d5171e106596a0",
       "version_major": 2,
       "version_minor": 0
      },
      "text/plain": [
       "Image Batches:   0%|          | 0/13 [00:00<?, ?it/s]"
      ]
     },
     "metadata": {},
     "output_type": "display_data"
    },
    {
     "data": {
      "application/vnd.jupyter.widget-view+json": {
       "model_id": "69c11f2f73a341e7a7c14177b57fde1e",
       "version_major": 2,
       "version_minor": 0
      },
      "text/plain": [
       "Image Batches:   0%|          | 0/13 [00:00<?, ?it/s]"
      ]
     },
     "metadata": {},
     "output_type": "display_data"
    },
    {
     "data": {
      "application/vnd.jupyter.widget-view+json": {
       "model_id": "a0af2735f0014113b2e9dcc0abca2145",
       "version_major": 2,
       "version_minor": 0
      },
      "text/plain": [
       "Image Batches:   0%|          | 0/13 [00:00<?, ?it/s]"
      ]
     },
     "metadata": {},
     "output_type": "display_data"
    },
    {
     "data": {
      "application/vnd.jupyter.widget-view+json": {
       "model_id": "ca3ac0edd9b94e3daa22fa10af756252",
       "version_major": 2,
       "version_minor": 0
      },
      "text/plain": [
       "Image Batches:   0%|          | 0/26 [00:00<?, ?it/s]"
      ]
     },
     "metadata": {},
     "output_type": "display_data"
    },
    {
     "data": {
      "application/vnd.jupyter.widget-view+json": {
       "model_id": "1bbbee5d51b442c683913f4f280c9c95",
       "version_major": 2,
       "version_minor": 0
      },
      "text/plain": [
       "Image Batches:   0%|          | 0/14 [00:00<?, ?it/s]"
      ]
     },
     "metadata": {},
     "output_type": "display_data"
    },
    {
     "data": {
      "application/vnd.jupyter.widget-view+json": {
       "model_id": "7ae1de6465bc4959ae652312a1c11916",
       "version_major": 2,
       "version_minor": 0
      },
      "text/plain": [
       "Image Batches:   0%|          | 0/13 [00:00<?, ?it/s]"
      ]
     },
     "metadata": {},
     "output_type": "display_data"
    },
    {
     "data": {
      "application/vnd.jupyter.widget-view+json": {
       "model_id": "0dc14debda844ad1a94fc6e0805cf006",
       "version_major": 2,
       "version_minor": 0
      },
      "text/plain": [
       "Image Batches:   0%|          | 0/13 [00:00<?, ?it/s]"
      ]
     },
     "metadata": {},
     "output_type": "display_data"
    },
    {
     "data": {
      "application/vnd.jupyter.widget-view+json": {
       "model_id": "f7ef4c23ddd640d7a7077c670c424bc9",
       "version_major": 2,
       "version_minor": 0
      },
      "text/plain": [
       "Image Batches:   0%|          | 0/13 [00:00<?, ?it/s]"
      ]
     },
     "metadata": {},
     "output_type": "display_data"
    },
    {
     "data": {
      "application/vnd.jupyter.widget-view+json": {
       "model_id": "ca6815fcd94340f682af6be10c613b32",
       "version_major": 2,
       "version_minor": 0
      },
      "text/plain": [
       "Image Batches:   0%|          | 0/13 [00:00<?, ?it/s]"
      ]
     },
     "metadata": {},
     "output_type": "display_data"
    },
    {
     "data": {
      "application/vnd.jupyter.widget-view+json": {
       "model_id": "f2a0ee4583584d0db4776eb0b5f635f2",
       "version_major": 2,
       "version_minor": 0
      },
      "text/plain": [
       "Image Batches:   0%|          | 0/13 [00:00<?, ?it/s]"
      ]
     },
     "metadata": {},
     "output_type": "display_data"
    },
    {
     "data": {
      "application/vnd.jupyter.widget-view+json": {
       "model_id": "241c36d96cf84c4982a237ec05da884c",
       "version_major": 2,
       "version_minor": 0
      },
      "text/plain": [
       "Image Batches:   0%|          | 0/13 [00:00<?, ?it/s]"
      ]
     },
     "metadata": {},
     "output_type": "display_data"
    },
    {
     "data": {
      "application/vnd.jupyter.widget-view+json": {
       "model_id": "3f72ab11c87b4fb69ecc4ee31103a998",
       "version_major": 2,
       "version_minor": 0
      },
      "text/plain": [
       "Image Batches:   0%|          | 0/13 [00:00<?, ?it/s]"
      ]
     },
     "metadata": {},
     "output_type": "display_data"
    },
    {
     "data": {
      "application/vnd.jupyter.widget-view+json": {
       "model_id": "2f5ef1c2c5304d248b6efa618e16415e",
       "version_major": 2,
       "version_minor": 0
      },
      "text/plain": [
       "Image Batches:   0%|          | 0/16 [00:00<?, ?it/s]"
      ]
     },
     "metadata": {},
     "output_type": "display_data"
    },
    {
     "data": {
      "application/vnd.jupyter.widget-view+json": {
       "model_id": "d69a7ccb10e64a82bcb8d35f8f22d5ac",
       "version_major": 2,
       "version_minor": 0
      },
      "text/plain": [
       "Image Batches:   0%|          | 0/13 [00:00<?, ?it/s]"
      ]
     },
     "metadata": {},
     "output_type": "display_data"
    },
    {
     "data": {
      "application/vnd.jupyter.widget-view+json": {
       "model_id": "5e1d467cf8364f359a9d5d533d3925c6",
       "version_major": 2,
       "version_minor": 0
      },
      "text/plain": [
       "Image Batches:   0%|          | 0/31 [00:00<?, ?it/s]"
      ]
     },
     "metadata": {},
     "output_type": "display_data"
    },
    {
     "data": {
      "application/vnd.jupyter.widget-view+json": {
       "model_id": "9b7668fbfb224f8f8febfa8c0479af97",
       "version_major": 2,
       "version_minor": 0
      },
      "text/plain": [
       "Image Batches:   0%|          | 0/13 [00:00<?, ?it/s]"
      ]
     },
     "metadata": {},
     "output_type": "display_data"
    },
    {
     "data": {
      "application/vnd.jupyter.widget-view+json": {
       "model_id": "3b67578e7f844f93b85fec3a09d4e375",
       "version_major": 2,
       "version_minor": 0
      },
      "text/plain": [
       "Image Batches:   0%|          | 0/13 [00:00<?, ?it/s]"
      ]
     },
     "metadata": {},
     "output_type": "display_data"
    },
    {
     "data": {
      "application/vnd.jupyter.widget-view+json": {
       "model_id": "ac7f8e10655746c3bd2ee44f9ab1c458",
       "version_major": 2,
       "version_minor": 0
      },
      "text/plain": [
       "Image Batches:   0%|          | 0/13 [00:00<?, ?it/s]"
      ]
     },
     "metadata": {},
     "output_type": "display_data"
    },
    {
     "data": {
      "application/vnd.jupyter.widget-view+json": {
       "model_id": "0f364917978e4b749975c1a1a5cce9f9",
       "version_major": 2,
       "version_minor": 0
      },
      "text/plain": [
       "Image Batches:   0%|          | 0/13 [00:00<?, ?it/s]"
      ]
     },
     "metadata": {},
     "output_type": "display_data"
    },
    {
     "data": {
      "application/vnd.jupyter.widget-view+json": {
       "model_id": "34724d1b3a634736a1ee9445a404296c",
       "version_major": 2,
       "version_minor": 0
      },
      "text/plain": [
       "Image Batches:   0%|          | 0/13 [00:00<?, ?it/s]"
      ]
     },
     "metadata": {},
     "output_type": "display_data"
    },
    {
     "data": {
      "application/vnd.jupyter.widget-view+json": {
       "model_id": "7e3b34cdce67481fa8e7896b433a2845",
       "version_major": 2,
       "version_minor": 0
      },
      "text/plain": [
       "Image Batches:   0%|          | 0/13 [00:00<?, ?it/s]"
      ]
     },
     "metadata": {},
     "output_type": "display_data"
    },
    {
     "data": {
      "application/vnd.jupyter.widget-view+json": {
       "model_id": "a2e249ec00ab4800a1db0750a934d319",
       "version_major": 2,
       "version_minor": 0
      },
      "text/plain": [
       "Image Batches:   0%|          | 0/13 [00:00<?, ?it/s]"
      ]
     },
     "metadata": {},
     "output_type": "display_data"
    },
    {
     "data": {
      "application/vnd.jupyter.widget-view+json": {
       "model_id": "570d1735f42d4420a7050053f0e6b436",
       "version_major": 2,
       "version_minor": 0
      },
      "text/plain": [
       "Image Batches:   0%|          | 0/26 [00:00<?, ?it/s]"
      ]
     },
     "metadata": {},
     "output_type": "display_data"
    },
    {
     "data": {
      "application/vnd.jupyter.widget-view+json": {
       "model_id": "020887db1f3f4e1aa021475e8aa694cc",
       "version_major": 2,
       "version_minor": 0
      },
      "text/plain": [
       "Image Batches:   0%|          | 0/13 [00:00<?, ?it/s]"
      ]
     },
     "metadata": {},
     "output_type": "display_data"
    },
    {
     "data": {
      "application/vnd.jupyter.widget-view+json": {
       "model_id": "251310a200ff4cd080d81f56f7c53c52",
       "version_major": 2,
       "version_minor": 0
      },
      "text/plain": [
       "Image Batches:   0%|          | 0/13 [00:00<?, ?it/s]"
      ]
     },
     "metadata": {},
     "output_type": "display_data"
    },
    {
     "data": {
      "application/vnd.jupyter.widget-view+json": {
       "model_id": "f90ac1cc9cc44d39bd7921ac5d14bec5",
       "version_major": 2,
       "version_minor": 0
      },
      "text/plain": [
       "Image Batches:   0%|          | 0/13 [00:00<?, ?it/s]"
      ]
     },
     "metadata": {},
     "output_type": "display_data"
    },
    {
     "data": {
      "application/vnd.jupyter.widget-view+json": {
       "model_id": "269828fc766c483f81bcbb42edb96887",
       "version_major": 2,
       "version_minor": 0
      },
      "text/plain": [
       "Image Batches:   0%|          | 0/13 [00:00<?, ?it/s]"
      ]
     },
     "metadata": {},
     "output_type": "display_data"
    },
    {
     "data": {
      "application/vnd.jupyter.widget-view+json": {
       "model_id": "015a4ffb85b640a48856c3f9b7624902",
       "version_major": 2,
       "version_minor": 0
      },
      "text/plain": [
       "Image Batches:   0%|          | 0/24 [00:00<?, ?it/s]"
      ]
     },
     "metadata": {},
     "output_type": "display_data"
    },
    {
     "data": {
      "application/vnd.jupyter.widget-view+json": {
       "model_id": "9638bb1c3af148cca97110c42da1480f",
       "version_major": 2,
       "version_minor": 0
      },
      "text/plain": [
       "Image Batches:   0%|          | 0/28 [00:00<?, ?it/s]"
      ]
     },
     "metadata": {},
     "output_type": "display_data"
    },
    {
     "data": {
      "application/vnd.jupyter.widget-view+json": {
       "model_id": "c8ca98a61d5e4e5a9359a8d7f7ab75ae",
       "version_major": 2,
       "version_minor": 0
      },
      "text/plain": [
       "Image Batches:   0%|          | 0/27 [00:00<?, ?it/s]"
      ]
     },
     "metadata": {},
     "output_type": "display_data"
    },
    {
     "data": {
      "application/vnd.jupyter.widget-view+json": {
       "model_id": "17ec9daceb2546609988c599b4cad5de",
       "version_major": 2,
       "version_minor": 0
      },
      "text/plain": [
       "Image Batches:   0%|          | 0/13 [00:00<?, ?it/s]"
      ]
     },
     "metadata": {},
     "output_type": "display_data"
    },
    {
     "ename": "KeyboardInterrupt",
     "evalue": "",
     "output_type": "error",
     "traceback": [
      "\u001b[31m---------------------------------------------------------------------------\u001b[39m",
      "\u001b[31mKeyboardInterrupt\u001b[39m                         Traceback (most recent call last)",
      "\u001b[36mCell\u001b[39m\u001b[36m \u001b[39m\u001b[32mIn[34]\u001b[39m\u001b[32m, line 43\u001b[39m\n\u001b[32m     41\u001b[39m batch_paths = image_files[i:i+batch_size]\n\u001b[32m     42\u001b[39m images = [Image.open(p).convert(\u001b[33m\"\u001b[39m\u001b[33mRGB\u001b[39m\u001b[33m\"\u001b[39m) \u001b[38;5;28;01mfor\u001b[39;00m p \u001b[38;5;129;01min\u001b[39;00m batch_paths]\n\u001b[32m---> \u001b[39m\u001b[32m43\u001b[39m inputs = \u001b[43mprocessor\u001b[49m\u001b[43m(\u001b[49m\u001b[43mimages\u001b[49m\u001b[43m=\u001b[49m\u001b[43mimages\u001b[49m\u001b[43m,\u001b[49m\u001b[43m \u001b[49m\u001b[43mreturn_tensors\u001b[49m\u001b[43m=\u001b[49m\u001b[33;43m\"\u001b[39;49m\u001b[33;43mpt\u001b[39;49m\u001b[33;43m\"\u001b[39;49m\u001b[43m)\u001b[49m\n\u001b[32m     44\u001b[39m inputs = {k: v.to(device) \u001b[38;5;28;01mfor\u001b[39;00m k, v \u001b[38;5;129;01min\u001b[39;00m inputs.items()}\n\u001b[32m     46\u001b[39m batch_labels = torch.tensor([label] * \u001b[38;5;28mlen\u001b[39m(images), dtype=torch.float).unsqueeze(\u001b[32m1\u001b[39m).to(device)\n",
      "\u001b[36mFile \u001b[39m\u001b[32md:\\W\\VS\\VS Folder\\DFD\\env1\\Lib\\site-packages\\transformers\\image_processing_utils.py:42\u001b[39m, in \u001b[36mBaseImageProcessor.__call__\u001b[39m\u001b[34m(self, images, **kwargs)\u001b[39m\n\u001b[32m     40\u001b[39m \u001b[38;5;28;01mdef\u001b[39;00m\u001b[38;5;250m \u001b[39m\u001b[34m__call__\u001b[39m(\u001b[38;5;28mself\u001b[39m, images, **kwargs) -> BatchFeature:\n\u001b[32m     41\u001b[39m \u001b[38;5;250m    \u001b[39m\u001b[33;03m\"\"\"Preprocess an image or a batch of images.\"\"\"\u001b[39;00m\n\u001b[32m---> \u001b[39m\u001b[32m42\u001b[39m     \u001b[38;5;28;01mreturn\u001b[39;00m \u001b[38;5;28;43mself\u001b[39;49m\u001b[43m.\u001b[49m\u001b[43mpreprocess\u001b[49m\u001b[43m(\u001b[49m\u001b[43mimages\u001b[49m\u001b[43m,\u001b[49m\u001b[43m \u001b[49m\u001b[43m*\u001b[49m\u001b[43m*\u001b[49m\u001b[43mkwargs\u001b[49m\u001b[43m)\u001b[49m\n",
      "\u001b[36mFile \u001b[39m\u001b[32md:\\W\\VS\\VS Folder\\DFD\\env1\\Lib\\site-packages\\transformers\\utils\\generic.py:866\u001b[39m, in \u001b[36mfilter_out_non_signature_kwargs.<locals>.decorator.<locals>.wrapper\u001b[39m\u001b[34m(*args, **kwargs)\u001b[39m\n\u001b[32m    857\u001b[39m         cls_prefix = \u001b[33m\"\u001b[39m\u001b[33m\"\u001b[39m\n\u001b[32m    859\u001b[39m     warnings.warn(\n\u001b[32m    860\u001b[39m         \u001b[33mf\u001b[39m\u001b[33m\"\u001b[39m\u001b[33mThe following named arguments are not valid for `\u001b[39m\u001b[38;5;132;01m{\u001b[39;00mcls_prefix\u001b[38;5;132;01m}\u001b[39;00m\u001b[38;5;132;01m{\u001b[39;00mfunc.\u001b[34m__name__\u001b[39m\u001b[38;5;132;01m}\u001b[39;00m\u001b[33m`\u001b[39m\u001b[33m\"\u001b[39m\n\u001b[32m    861\u001b[39m         \u001b[33mf\u001b[39m\u001b[33m\"\u001b[39m\u001b[33m and were ignored: \u001b[39m\u001b[38;5;132;01m{\u001b[39;00minvalid_kwargs_names\u001b[38;5;132;01m}\u001b[39;00m\u001b[33m\"\u001b[39m,\n\u001b[32m    862\u001b[39m         \u001b[38;5;167;01mUserWarning\u001b[39;00m,\n\u001b[32m    863\u001b[39m         stacklevel=\u001b[32m2\u001b[39m,\n\u001b[32m    864\u001b[39m     )\n\u001b[32m--> \u001b[39m\u001b[32m866\u001b[39m \u001b[38;5;28;01mreturn\u001b[39;00m \u001b[43mfunc\u001b[49m\u001b[43m(\u001b[49m\u001b[43m*\u001b[49m\u001b[43margs\u001b[49m\u001b[43m,\u001b[49m\u001b[43m \u001b[49m\u001b[43m*\u001b[49m\u001b[43m*\u001b[49m\u001b[43mvalid_kwargs\u001b[49m\u001b[43m)\u001b[49m\n",
      "\u001b[36mFile \u001b[39m\u001b[32md:\\W\\VS\\VS Folder\\DFD\\env1\\Lib\\site-packages\\transformers\\models\\vit\\image_processing_vit.py:262\u001b[39m, in \u001b[36mViTImageProcessor.preprocess\u001b[39m\u001b[34m(self, images, do_resize, size, resample, do_rescale, rescale_factor, do_normalize, image_mean, image_std, return_tensors, data_format, input_data_format, do_convert_rgb)\u001b[39m\n\u001b[32m    258\u001b[39m     input_data_format = infer_channel_dimension_format(images[\u001b[32m0\u001b[39m])\n\u001b[32m    260\u001b[39m \u001b[38;5;28;01mif\u001b[39;00m do_resize:\n\u001b[32m    261\u001b[39m     images = [\n\u001b[32m--> \u001b[39m\u001b[32m262\u001b[39m         \u001b[38;5;28;43mself\u001b[39;49m\u001b[43m.\u001b[49m\u001b[43mresize\u001b[49m\u001b[43m(\u001b[49m\u001b[43mimage\u001b[49m\u001b[43m=\u001b[49m\u001b[43mimage\u001b[49m\u001b[43m,\u001b[49m\u001b[43m \u001b[49m\u001b[43msize\u001b[49m\u001b[43m=\u001b[49m\u001b[43msize_dict\u001b[49m\u001b[43m,\u001b[49m\u001b[43m \u001b[49m\u001b[43mresample\u001b[49m\u001b[43m=\u001b[49m\u001b[43mresample\u001b[49m\u001b[43m,\u001b[49m\u001b[43m \u001b[49m\u001b[43minput_data_format\u001b[49m\u001b[43m=\u001b[49m\u001b[43minput_data_format\u001b[49m\u001b[43m)\u001b[49m\n\u001b[32m    263\u001b[39m         \u001b[38;5;28;01mfor\u001b[39;00m image \u001b[38;5;129;01min\u001b[39;00m images\n\u001b[32m    264\u001b[39m     ]\n\u001b[32m    266\u001b[39m \u001b[38;5;28;01mif\u001b[39;00m do_rescale:\n\u001b[32m    267\u001b[39m     images = [\n\u001b[32m    268\u001b[39m         \u001b[38;5;28mself\u001b[39m.rescale(image=image, scale=rescale_factor, input_data_format=input_data_format)\n\u001b[32m    269\u001b[39m         \u001b[38;5;28;01mfor\u001b[39;00m image \u001b[38;5;129;01min\u001b[39;00m images\n\u001b[32m    270\u001b[39m     ]\n",
      "\u001b[36mFile \u001b[39m\u001b[32md:\\W\\VS\\VS Folder\\DFD\\env1\\Lib\\site-packages\\transformers\\models\\vit\\image_processing_vit.py:142\u001b[39m, in \u001b[36mViTImageProcessor.resize\u001b[39m\u001b[34m(self, image, size, resample, data_format, input_data_format, **kwargs)\u001b[39m\n\u001b[32m    140\u001b[39m     \u001b[38;5;28;01mraise\u001b[39;00m \u001b[38;5;167;01mValueError\u001b[39;00m(\u001b[33mf\u001b[39m\u001b[33m\"\u001b[39m\u001b[33mThe `size` dictionary must contain the keys `height` and `width`. Got \u001b[39m\u001b[38;5;132;01m{\u001b[39;00msize.keys()\u001b[38;5;132;01m}\u001b[39;00m\u001b[33m\"\u001b[39m)\n\u001b[32m    141\u001b[39m output_size = (size[\u001b[33m\"\u001b[39m\u001b[33mheight\u001b[39m\u001b[33m\"\u001b[39m], size[\u001b[33m\"\u001b[39m\u001b[33mwidth\u001b[39m\u001b[33m\"\u001b[39m])\n\u001b[32m--> \u001b[39m\u001b[32m142\u001b[39m \u001b[38;5;28;01mreturn\u001b[39;00m \u001b[43mresize\u001b[49m\u001b[43m(\u001b[49m\n\u001b[32m    143\u001b[39m \u001b[43m    \u001b[49m\u001b[43mimage\u001b[49m\u001b[43m,\u001b[49m\n\u001b[32m    144\u001b[39m \u001b[43m    \u001b[49m\u001b[43msize\u001b[49m\u001b[43m=\u001b[49m\u001b[43moutput_size\u001b[49m\u001b[43m,\u001b[49m\n\u001b[32m    145\u001b[39m \u001b[43m    \u001b[49m\u001b[43mresample\u001b[49m\u001b[43m=\u001b[49m\u001b[43mresample\u001b[49m\u001b[43m,\u001b[49m\n\u001b[32m    146\u001b[39m \u001b[43m    \u001b[49m\u001b[43mdata_format\u001b[49m\u001b[43m=\u001b[49m\u001b[43mdata_format\u001b[49m\u001b[43m,\u001b[49m\n\u001b[32m    147\u001b[39m \u001b[43m    \u001b[49m\u001b[43minput_data_format\u001b[49m\u001b[43m=\u001b[49m\u001b[43minput_data_format\u001b[49m\u001b[43m,\u001b[49m\n\u001b[32m    148\u001b[39m \u001b[43m    \u001b[49m\u001b[43m*\u001b[49m\u001b[43m*\u001b[49m\u001b[43mkwargs\u001b[49m\u001b[43m,\u001b[49m\n\u001b[32m    149\u001b[39m \u001b[43m\u001b[49m\u001b[43m)\u001b[49m\n",
      "\u001b[36mFile \u001b[39m\u001b[32md:\\W\\VS\\VS Folder\\DFD\\env1\\Lib\\site-packages\\transformers\\image_transforms.py:375\u001b[39m, in \u001b[36mresize\u001b[39m\u001b[34m(image, size, resample, reducing_gap, data_format, return_numpy, input_data_format)\u001b[39m\n\u001b[32m    372\u001b[39m resized_image = image.resize((width, height), resample=resample, reducing_gap=reducing_gap)\n\u001b[32m    374\u001b[39m \u001b[38;5;28;01mif\u001b[39;00m return_numpy:\n\u001b[32m--> \u001b[39m\u001b[32m375\u001b[39m     resized_image = \u001b[43mnp\u001b[49m\u001b[43m.\u001b[49m\u001b[43marray\u001b[49m\u001b[43m(\u001b[49m\u001b[43mresized_image\u001b[49m\u001b[43m)\u001b[49m\n\u001b[32m    376\u001b[39m     \u001b[38;5;66;03m# If the input image channel dimension was of size 1, then it is dropped when converting to a PIL image\u001b[39;00m\n\u001b[32m    377\u001b[39m     \u001b[38;5;66;03m# so we need to add it back if necessary.\u001b[39;00m\n\u001b[32m    378\u001b[39m     resized_image = np.expand_dims(resized_image, axis=-\u001b[32m1\u001b[39m) \u001b[38;5;28;01mif\u001b[39;00m resized_image.ndim == \u001b[32m2\u001b[39m \u001b[38;5;28;01melse\u001b[39;00m resized_image\n",
      "\u001b[31mKeyboardInterrupt\u001b[39m: "
     ]
    }
   ],
   "source": [
    "\n",
    "\n",
    "batch_size = 24\n",
    "labels = []\n",
    "video_paths = x_train\n",
    "video_labels = y_train\n",
    "total_batches = 0\n",
    "\n",
    "\n",
    "\n",
    "\n",
    "# x = ...  # your input tensor, shape (batch, 3, 224, 224)\n",
    "# outputs = vit(x)\n",
    "# cls_token = outputs.last_hidden_state[:, 0]  # [CLS] token\n",
    "# logits = classifier(cls_token)  # shape (batch, 1)\n",
    "\n",
    "num_epochs = 20  # Adjust as needed\n",
    "train_loss=np.zeros(num_epochs)\n",
    "\n",
    "start_time = time.time()\n",
    "\n",
    "epoch_bar = tqdm(range(num_epochs), desc='Epochs')\n",
    "for epoch in epoch_bar:\n",
    "    model.train()\n",
    "    classifier.train()\n",
    "\n",
    "    running_loss = 0.0\n",
    "    total_batches = 0\n",
    "\n",
    "    video_bar = tqdm(zip(video_paths, video_labels),desc='Videos', total=len(video_paths))\n",
    "    for path, label in video_bar:\n",
    "        image_files = sorted([ os.path.join(path, f)\n",
    "        for f in os.listdir(path)\n",
    "        if f.lower().endswith('.png')\n",
    "        ])\n",
    "\n",
    "        labels.extend([label] * len(image_files))  # Repeat label for each image\n",
    "\n",
    "        video_run_loss=0.0\n",
    "        batches = 0\n",
    "\n",
    "        for i in range(0, len(image_files), batch_size):\n",
    "            batch_paths = image_files[i:i+batch_size]\n",
    "            images = [Image.open(p).convert(\"RGB\") for p in batch_paths]\n",
    "            inputs = processor(images=images, return_tensors=\"pt\")\n",
    "            inputs = {k: v.to(device) for k, v in inputs.items()}\n",
    "\n",
    "            batch_labels = torch.tensor([label] * len(images), dtype=torch.float).unsqueeze(1).to(device)\n",
    "\n",
    "            optimizer.zero_grad()\n",
    "            outputs = model(**inputs)\n",
    "            cls_embeddings = outputs.last_hidden_state[:, 0, :]  # (batch, hidden_dim)\n",
    "            batch_logits = classifier(cls_embeddings)  # (batch, 1)\n",
    "            loss = criterion(batch_logits, batch_labels)\n",
    "            loss.backward()\n",
    "            optimizer.step()\n",
    "\n",
    "            loss_item = loss.item()\n",
    "            running_loss += loss_item\n",
    "            video_run_loss += loss_item\n",
    "\n",
    "            batches += 1\n",
    "            total_batches += 1\n",
    "\n",
    "            \n",
    "\n",
    "        video_loss = video_run_loss / batches if batches > 0 else 0\n",
    "        video_bar.set_postfix(Last_Loss=f'{video_loss:.4f}')\n",
    "        \n",
    "    avg_loss = running_loss / total_batches if total_batches > 0 else 0\n",
    "    train_loss[epoch] = avg_loss\n",
    "    epoch_bar.set_postfix(Curr_Loss=f'{avg_loss:.4f}')\n",
    "\n",
    "end_time = time.time()\n",
    "training_time = end_time - start_time\n",
    "\n",
    "# Save model backbone\n",
    "torch.save(model.state_dict(), 'vit_backbone.pth')\n",
    "\n",
    "# Save classifier head\n",
    "torch.save(classifier.state_dict(), 'vit_classifier_head.pth')\n",
    "\n"
   ]
  },
  {
   "cell_type": "code",
   "execution_count": 10,
   "id": "36a7579b",
   "metadata": {},
   "outputs": [
    {
     "name": "stdout",
     "output_type": "stream",
     "text": [
      "torch.Size([12, 3, 224, 224])\n",
      "Training completed in 222.35 minutes\n"
     ]
    }
   ],
   "source": [
    "print(inputs[\"pixel_values\"].shape)\n",
    "print(f\"Training completed in {training_time/60:.2f} minutes\")\n"
   ]
  },
  {
   "cell_type": "markdown",
   "id": "017bd15f",
   "metadata": {},
   "source": [
    "Log Loss Graph"
   ]
  },
  {
   "cell_type": "code",
   "execution_count": 11,
   "id": "6ea5f2f0",
   "metadata": {},
   "outputs": [
    {
     "data": {
      "image/png": "[encoded data removed]",
      "text/plain": [
       "<Figure size 1600x800 with 1 Axes>"
      ]
     },
     "metadata": {},
     "output_type": "display_data"
    }
   ],
   "source": [
    "epochs = list(range(1, num_epochs + 1))\n",
    "plt.figure(figsize=(16, 8))\n",
    "plt.plot(epochs, train_loss)\n",
    "plt.title('Training Log Loss')\n",
    "plt.xlabel('Epoch')\n",
    "plt.ylabel('Average Log Loss')\n",
    "plt.show()\n"
   ]
  },
  {
   "cell_type": "markdown",
   "id": "879e9e48",
   "metadata": {},
   "source": [
    "# Validation"
   ]
  },
  {
   "cell_type": "code",
   "execution_count": 36,
   "id": "6b8072c0",
   "metadata": {},
   "outputs": [],
   "source": [
    "model.load_state_dict(torch.load('vit_backbone.pth'))\n",
    "classifier.load_state_dict(torch.load('vit_classifier_head.pth'))\n",
    "model = model.to(device)\n",
    "classifier = classifier.to(device)\n",
    "\n"
   ]
  },
  {
   "cell_type": "markdown",
   "id": "9303bcfe",
   "metadata": {},
   "source": [
    "### Model and Data"
   ]
  },
  {
   "cell_type": "code",
   "execution_count": 26,
   "id": "572d85a5",
   "metadata": {},
   "outputs": [],
   "source": [
    "data = np.load('train_test_split.npz', allow_pickle=True)\n",
    "x_val = data['x_val']\n",
    "y_val = data['y_val']\n"
   ]
  },
  {
   "cell_type": "code",
   "execution_count": null,
   "id": "328afd12",
   "metadata": {},
   "outputs": [
    {
     "data": {
      "application/vnd.jupyter.widget-view+json": {
       "model_id": "be3e8fb73cbd47b7829c2d12ec48a024",
       "version_major": 2,
       "version_minor": 0
      },
      "text/plain": [
       "Videos:   0%|          | 0/115 [00:00<?, ?it/s]"
      ]
     },
     "metadata": {},
     "output_type": "display_data"
    },
    {
     "data": {
      "application/vnd.jupyter.widget-view+json": {
       "model_id": "f59d8824149445adb4f33c45c07b53fd",
       "version_major": 2,
       "version_minor": 0
      },
      "text/plain": [
       "Image Batches:   0%|          | 0/13 [00:00<?, ?it/s]"
      ]
     },
     "metadata": {},
     "output_type": "display_data"
    },
    {
     "data": {
      "application/vnd.jupyter.widget-view+json": {
       "model_id": "54d23edcda194251893dc100f88873a3",
       "version_major": 2,
       "version_minor": 0
      },
      "text/plain": [
       "Image Batches:   0%|          | 0/25 [00:00<?, ?it/s]"
      ]
     },
     "metadata": {},
     "output_type": "display_data"
    },
    {
     "data": {
      "application/vnd.jupyter.widget-view+json": {
       "model_id": "d300d9bf7bdd4ca7bc60d7fc161c41ad",
       "version_major": 2,
       "version_minor": 0
      },
      "text/plain": [
       "Image Batches:   0%|          | 0/13 [00:00<?, ?it/s]"
      ]
     },
     "metadata": {},
     "output_type": "display_data"
    },
    {
     "data": {
      "application/vnd.jupyter.widget-view+json": {
       "model_id": "7e95bd8bc551491ebd9175dedcd849f9",
       "version_major": 2,
       "version_minor": 0
      },
      "text/plain": [
       "Image Batches:   0%|          | 0/13 [00:00<?, ?it/s]"
      ]
     },
     "metadata": {},
     "output_type": "display_data"
    },
    {
     "data": {
      "application/vnd.jupyter.widget-view+json": {
       "model_id": "bea0c200eff240f9bfe3c127398cb305",
       "version_major": 2,
       "version_minor": 0
      },
      "text/plain": [
       "Image Batches:   0%|          | 0/13 [00:00<?, ?it/s]"
      ]
     },
     "metadata": {},
     "output_type": "display_data"
    },
    {
     "data": {
      "application/vnd.jupyter.widget-view+json": {
       "model_id": "726faf93f010444896b9957dc39d599e",
       "version_major": 2,
       "version_minor": 0
      },
      "text/plain": [
       "Image Batches:   0%|          | 0/13 [00:00<?, ?it/s]"
      ]
     },
     "metadata": {},
     "output_type": "display_data"
    },
    {
     "data": {
      "application/vnd.jupyter.widget-view+json": {
       "model_id": "3e4cb057607b42299c26199c9c97b8eb",
       "version_major": 2,
       "version_minor": 0
      },
      "text/plain": [
       "Image Batches:   0%|          | 0/13 [00:00<?, ?it/s]"
      ]
     },
     "metadata": {},
     "output_type": "display_data"
    },
    {
     "data": {
      "application/vnd.jupyter.widget-view+json": {
       "model_id": "b6401c8772da4d83afc9fc29dbf9a463",
       "version_major": 2,
       "version_minor": 0
      },
      "text/plain": [
       "Image Batches:   0%|          | 0/13 [00:00<?, ?it/s]"
      ]
     },
     "metadata": {},
     "output_type": "display_data"
    },
    {
     "data": {
      "application/vnd.jupyter.widget-view+json": {
       "model_id": "50db3624e9424540b6a7535b5078b931",
       "version_major": 2,
       "version_minor": 0
      },
      "text/plain": [
       "Image Batches:   0%|          | 0/13 [00:00<?, ?it/s]"
      ]
     },
     "metadata": {},
     "output_type": "display_data"
    },
    {
     "data": {
      "application/vnd.jupyter.widget-view+json": {
       "model_id": "1f20a6ae60254b9a9a2f6559b42a2bfe",
       "version_major": 2,
       "version_minor": 0
      },
      "text/plain": [
       "Image Batches:   0%|          | 0/13 [00:00<?, ?it/s]"
      ]
     },
     "metadata": {},
     "output_type": "display_data"
    },
    {
     "data": {
      "application/vnd.jupyter.widget-view+json": {
       "model_id": "f8e9539426f74339a75097ee7824d056",
       "version_major": 2,
       "version_minor": 0
      },
      "text/plain": [
       "Image Batches:   0%|          | 0/14 [00:00<?, ?it/s]"
      ]
     },
     "metadata": {},
     "output_type": "display_data"
    },
    {
     "data": {
      "application/vnd.jupyter.widget-view+json": {
       "model_id": "361ef6410baf43d99eb42b92596182c1",
       "version_major": 2,
       "version_minor": 0
      },
      "text/plain": [
       "Image Batches:   0%|          | 0/13 [00:00<?, ?it/s]"
      ]
     },
     "metadata": {},
     "output_type": "display_data"
    },
    {
     "data": {
      "application/vnd.jupyter.widget-view+json": {
       "model_id": "62ee6e2e32834372a8601bcd14479e94",
       "version_major": 2,
       "version_minor": 0
      },
      "text/plain": [
       "Image Batches:   0%|          | 0/13 [00:00<?, ?it/s]"
      ]
     },
     "metadata": {},
     "output_type": "display_data"
    },
    {
     "data": {
      "application/vnd.jupyter.widget-view+json": {
       "model_id": "aeb83ff9782746498e16c6bae832f42a",
       "version_major": 2,
       "version_minor": 0
      },
      "text/plain": [
       "Image Batches:   0%|          | 0/13 [00:00<?, ?it/s]"
      ]
     },
     "metadata": {},
     "output_type": "display_data"
    },
    {
     "data": {
      "application/vnd.jupyter.widget-view+json": {
       "model_id": "81ca3ebd32734992a97994a6106f14bb",
       "version_major": 2,
       "version_minor": 0
      },
      "text/plain": [
       "Image Batches:   0%|          | 0/13 [00:00<?, ?it/s]"
      ]
     },
     "metadata": {},
     "output_type": "display_data"
    },
    {
     "data": {
      "application/vnd.jupyter.widget-view+json": {
       "model_id": "1c361b9abe47465b865ceb74c6246b2d",
       "version_major": 2,
       "version_minor": 0
      },
      "text/plain": [
       "Image Batches:   0%|          | 0/13 [00:00<?, ?it/s]"
      ]
     },
     "metadata": {},
     "output_type": "display_data"
    },
    {
     "data": {
      "application/vnd.jupyter.widget-view+json": {
       "model_id": "86b1b644e4b34ebab0abf6b21eee84c7",
       "version_major": 2,
       "version_minor": 0
      },
      "text/plain": [
       "Image Batches:   0%|          | 0/14 [00:00<?, ?it/s]"
      ]
     },
     "metadata": {},
     "output_type": "display_data"
    },
    {
     "data": {
      "application/vnd.jupyter.widget-view+json": {
       "model_id": "0a31d7c2c4774340a3446ac43e130b22",
       "version_major": 2,
       "version_minor": 0
      },
      "text/plain": [
       "Image Batches:   0%|          | 0/13 [00:00<?, ?it/s]"
      ]
     },
     "metadata": {},
     "output_type": "display_data"
    },
    {
     "data": {
      "application/vnd.jupyter.widget-view+json": {
       "model_id": "95f5ded8e66f4105a61bd67fd7be5e46",
       "version_major": 2,
       "version_minor": 0
      },
      "text/plain": [
       "Image Batches:   0%|          | 0/13 [00:00<?, ?it/s]"
      ]
     },
     "metadata": {},
     "output_type": "display_data"
    },
    {
     "data": {
      "application/vnd.jupyter.widget-view+json": {
       "model_id": "aeee8149e2814013a8ae8bb71bac7822",
       "version_major": 2,
       "version_minor": 0
      },
      "text/plain": [
       "Image Batches:   0%|          | 0/13 [00:00<?, ?it/s]"
      ]
     },
     "metadata": {},
     "output_type": "display_data"
    },
    {
     "data": {
      "application/vnd.jupyter.widget-view+json": {
       "model_id": "ed33cbb344134e39a6a5dde98d49b313",
       "version_major": 2,
       "version_minor": 0
      },
      "text/plain": [
       "Image Batches:   0%|          | 0/13 [00:00<?, ?it/s]"
      ]
     },
     "metadata": {},
     "output_type": "display_data"
    },
    {
     "data": {
      "application/vnd.jupyter.widget-view+json": {
       "model_id": "fbd1386f5dcc44ee8e346c6993efe449",
       "version_major": 2,
       "version_minor": 0
      },
      "text/plain": [
       "Image Batches:   0%|          | 0/13 [00:00<?, ?it/s]"
      ]
     },
     "metadata": {},
     "output_type": "display_data"
    },
    {
     "data": {
      "application/vnd.jupyter.widget-view+json": {
       "model_id": "84491ff61ea7457fbf25b4f9c5849bc4",
       "version_major": 2,
       "version_minor": 0
      },
      "text/plain": [
       "Image Batches:   0%|          | 0/13 [00:00<?, ?it/s]"
      ]
     },
     "metadata": {},
     "output_type": "display_data"
    },
    {
     "data": {
      "application/vnd.jupyter.widget-view+json": {
       "model_id": "eb0fabf970f74a6eba72695695ce103c",
       "version_major": 2,
       "version_minor": 0
      },
      "text/plain": [
       "Image Batches:   0%|          | 0/13 [00:00<?, ?it/s]"
      ]
     },
     "metadata": {},
     "output_type": "display_data"
    },
    {
     "data": {
      "application/vnd.jupyter.widget-view+json": {
       "model_id": "7017e157ca584bf7b5df649db07458f7",
       "version_major": 2,
       "version_minor": 0
      },
      "text/plain": [
       "Image Batches:   0%|          | 0/13 [00:00<?, ?it/s]"
      ]
     },
     "metadata": {},
     "output_type": "display_data"
    },
    {
     "data": {
      "application/vnd.jupyter.widget-view+json": {
       "model_id": "0cf8180b06584c36a4462eb0aaf10062",
       "version_major": 2,
       "version_minor": 0
      },
      "text/plain": [
       "Image Batches:   0%|          | 0/13 [00:00<?, ?it/s]"
      ]
     },
     "metadata": {},
     "output_type": "display_data"
    },
    {
     "data": {
      "application/vnd.jupyter.widget-view+json": {
       "model_id": "cd39426ae378407cb3caa9be3a6e456f",
       "version_major": 2,
       "version_minor": 0
      },
      "text/plain": [
       "Image Batches:   0%|          | 0/28 [00:00<?, ?it/s]"
      ]
     },
     "metadata": {},
     "output_type": "display_data"
    },
    {
     "data": {
      "application/vnd.jupyter.widget-view+json": {
       "model_id": "516ec44bd9784456aba9b3b404d5dbdb",
       "version_major": 2,
       "version_minor": 0
      },
      "text/plain": [
       "Image Batches:   0%|          | 0/13 [00:00<?, ?it/s]"
      ]
     },
     "metadata": {},
     "output_type": "display_data"
    },
    {
     "data": {
      "application/vnd.jupyter.widget-view+json": {
       "model_id": "aa45c9a96bc449baaa784d07b34a3b24",
       "version_major": 2,
       "version_minor": 0
      },
      "text/plain": [
       "Image Batches:   0%|          | 0/13 [00:00<?, ?it/s]"
      ]
     },
     "metadata": {},
     "output_type": "display_data"
    },
    {
     "data": {
      "application/vnd.jupyter.widget-view+json": {
       "model_id": "9b1afe8279054040a573cfe2b56de8eb",
       "version_major": 2,
       "version_minor": 0
      },
      "text/plain": [
       "Image Batches:   0%|          | 0/13 [00:00<?, ?it/s]"
      ]
     },
     "metadata": {},
     "output_type": "display_data"
    },
    {
     "data": {
      "application/vnd.jupyter.widget-view+json": {
       "model_id": "059240bfbfeb48af82e21fdbad670003",
       "version_major": 2,
       "version_minor": 0
      },
      "text/plain": [
       "Image Batches:   0%|          | 0/13 [00:00<?, ?it/s]"
      ]
     },
     "metadata": {},
     "output_type": "display_data"
    },
    {
     "data": {
      "application/vnd.jupyter.widget-view+json": {
       "model_id": "31c441a8907a49989e634dddc6a43ce1",
       "version_major": 2,
       "version_minor": 0
      },
      "text/plain": [
       "Image Batches:   0%|          | 0/13 [00:00<?, ?it/s]"
      ]
     },
     "metadata": {},
     "output_type": "display_data"
    },
    {
     "data": {
      "application/vnd.jupyter.widget-view+json": {
       "model_id": "ae7184771a2143ca95c3e3421af72905",
       "version_major": 2,
       "version_minor": 0
      },
      "text/plain": [
       "Image Batches:   0%|          | 0/13 [00:00<?, ?it/s]"
      ]
     },
     "metadata": {},
     "output_type": "display_data"
    },
    {
     "data": {
      "application/vnd.jupyter.widget-view+json": {
       "model_id": "0619fcedbc7a4415839514ec1a896c7c",
       "version_major": 2,
       "version_minor": 0
      },
      "text/plain": [
       "Image Batches:   0%|          | 0/13 [00:00<?, ?it/s]"
      ]
     },
     "metadata": {},
     "output_type": "display_data"
    },
    {
     "data": {
      "application/vnd.jupyter.widget-view+json": {
       "model_id": "7349d37c95ed42788e290d60bfcfac35",
       "version_major": 2,
       "version_minor": 0
      },
      "text/plain": [
       "Image Batches:   0%|          | 0/13 [00:00<?, ?it/s]"
      ]
     },
     "metadata": {},
     "output_type": "display_data"
    },
    {
     "data": {
      "application/vnd.jupyter.widget-view+json": {
       "model_id": "e68aae2c7b1a46918e10366193f3c518",
       "version_major": 2,
       "version_minor": 0
      },
      "text/plain": [
       "Image Batches:   0%|          | 0/13 [00:00<?, ?it/s]"
      ]
     },
     "metadata": {},
     "output_type": "display_data"
    },
    {
     "data": {
      "application/vnd.jupyter.widget-view+json": {
       "model_id": "43965a887c944d71a94aa48b9e69200d",
       "version_major": 2,
       "version_minor": 0
      },
      "text/plain": [
       "Image Batches:   0%|          | 0/13 [00:00<?, ?it/s]"
      ]
     },
     "metadata": {},
     "output_type": "display_data"
    },
    {
     "data": {
      "application/vnd.jupyter.widget-view+json": {
       "model_id": "b8860685658e48dbb4b4fd5400f02d36",
       "version_major": 2,
       "version_minor": 0
      },
      "text/plain": [
       "Image Batches:   0%|          | 0/13 [00:00<?, ?it/s]"
      ]
     },
     "metadata": {},
     "output_type": "display_data"
    },
    {
     "data": {
      "application/vnd.jupyter.widget-view+json": {
       "model_id": "bdf16ef8ddbd48d58364a67f08aee937",
       "version_major": 2,
       "version_minor": 0
      },
      "text/plain": [
       "Image Batches:   0%|          | 0/13 [00:00<?, ?it/s]"
      ]
     },
     "metadata": {},
     "output_type": "display_data"
    },
    {
     "data": {
      "application/vnd.jupyter.widget-view+json": {
       "model_id": "6b1bf7c36f3840c49ba0f2f766b9a3d0",
       "version_major": 2,
       "version_minor": 0
      },
      "text/plain": [
       "Image Batches:   0%|          | 0/13 [00:00<?, ?it/s]"
      ]
     },
     "metadata": {},
     "output_type": "display_data"
    },
    {
     "data": {
      "application/vnd.jupyter.widget-view+json": {
       "model_id": "0b376a0e9a0649e7b5d64ab519fb6edd",
       "version_major": 2,
       "version_minor": 0
      },
      "text/plain": [
       "Image Batches:   0%|          | 0/26 [00:00<?, ?it/s]"
      ]
     },
     "metadata": {},
     "output_type": "display_data"
    },
    {
     "data": {
      "application/vnd.jupyter.widget-view+json": {
       "model_id": "c55a14333e4a4245b5d718c6cc9f8b98",
       "version_major": 2,
       "version_minor": 0
      },
      "text/plain": [
       "Image Batches:   0%|          | 0/14 [00:00<?, ?it/s]"
      ]
     },
     "metadata": {},
     "output_type": "display_data"
    },
    {
     "data": {
      "application/vnd.jupyter.widget-view+json": {
       "model_id": "b7c9a33e622847a5b1fc5d5badfe1593",
       "version_major": 2,
       "version_minor": 0
      },
      "text/plain": [
       "Image Batches:   0%|          | 0/13 [00:00<?, ?it/s]"
      ]
     },
     "metadata": {},
     "output_type": "display_data"
    },
    {
     "data": {
      "application/vnd.jupyter.widget-view+json": {
       "model_id": "92f5fc9226334000a42a04abaa5a5e2c",
       "version_major": 2,
       "version_minor": 0
      },
      "text/plain": [
       "Image Batches:   0%|          | 0/13 [00:00<?, ?it/s]"
      ]
     },
     "metadata": {},
     "output_type": "display_data"
    },
    {
     "data": {
      "application/vnd.jupyter.widget-view+json": {
       "model_id": "9ce30552e7e54270a81addf0d31ec548",
       "version_major": 2,
       "version_minor": 0
      },
      "text/plain": [
       "Image Batches:   0%|          | 0/13 [00:00<?, ?it/s]"
      ]
     },
     "metadata": {},
     "output_type": "display_data"
    },
    {
     "data": {
      "application/vnd.jupyter.widget-view+json": {
       "model_id": "5c984d43cd164af2bb77a932600f1a72",
       "version_major": 2,
       "version_minor": 0
      },
      "text/plain": [
       "Image Batches:   0%|          | 0/13 [00:00<?, ?it/s]"
      ]
     },
     "metadata": {},
     "output_type": "display_data"
    },
    {
     "data": {
      "application/vnd.jupyter.widget-view+json": {
       "model_id": "662cf83d8f874018bd52c8f5adbc96b2",
       "version_major": 2,
       "version_minor": 0
      },
      "text/plain": [
       "Image Batches:   0%|          | 0/13 [00:00<?, ?it/s]"
      ]
     },
     "metadata": {},
     "output_type": "display_data"
    },
    {
     "data": {
      "application/vnd.jupyter.widget-view+json": {
       "model_id": "a8a53da7843747f684e71d8f841d484d",
       "version_major": 2,
       "version_minor": 0
      },
      "text/plain": [
       "Image Batches:   0%|          | 0/13 [00:00<?, ?it/s]"
      ]
     },
     "metadata": {},
     "output_type": "display_data"
    },
    {
     "data": {
      "application/vnd.jupyter.widget-view+json": {
       "model_id": "dd41b25224f544f88d9d3e5ff4f07250",
       "version_major": 2,
       "version_minor": 0
      },
      "text/plain": [
       "Image Batches:   0%|          | 0/13 [00:00<?, ?it/s]"
      ]
     },
     "metadata": {},
     "output_type": "display_data"
    },
    {
     "data": {
      "application/vnd.jupyter.widget-view+json": {
       "model_id": "f7692327d8554943a0377ae94d09286c",
       "version_major": 2,
       "version_minor": 0
      },
      "text/plain": [
       "Image Batches:   0%|          | 0/13 [00:00<?, ?it/s]"
      ]
     },
     "metadata": {},
     "output_type": "display_data"
    },
    {
     "data": {
      "application/vnd.jupyter.widget-view+json": {
       "model_id": "a7528d97c4534df9afc1ce2c4ca7fe71",
       "version_major": 2,
       "version_minor": 0
      },
      "text/plain": [
       "Image Batches:   0%|          | 0/26 [00:00<?, ?it/s]"
      ]
     },
     "metadata": {},
     "output_type": "display_data"
    },
    {
     "data": {
      "application/vnd.jupyter.widget-view+json": {
       "model_id": "ab57899e20ab4357a7cb0d1c7e1edc93",
       "version_major": 2,
       "version_minor": 0
      },
      "text/plain": [
       "Image Batches:   0%|          | 0/14 [00:00<?, ?it/s]"
      ]
     },
     "metadata": {},
     "output_type": "display_data"
    },
    {
     "data": {
      "application/vnd.jupyter.widget-view+json": {
       "model_id": "bce000c1a72e4bac9dddd114d670a2ea",
       "version_major": 2,
       "version_minor": 0
      },
      "text/plain": [
       "Image Batches:   0%|          | 0/13 [00:00<?, ?it/s]"
      ]
     },
     "metadata": {},
     "output_type": "display_data"
    },
    {
     "data": {
      "application/vnd.jupyter.widget-view+json": {
       "model_id": "7b9e672237d44125af5913cdfd5b2b1a",
       "version_major": 2,
       "version_minor": 0
      },
      "text/plain": [
       "Image Batches:   0%|          | 0/13 [00:00<?, ?it/s]"
      ]
     },
     "metadata": {},
     "output_type": "display_data"
    },
    {
     "data": {
      "application/vnd.jupyter.widget-view+json": {
       "model_id": "2b0a5c93c38a4d99921e25145d2306fc",
       "version_major": 2,
       "version_minor": 0
      },
      "text/plain": [
       "Image Batches:   0%|          | 0/13 [00:00<?, ?it/s]"
      ]
     },
     "metadata": {},
     "output_type": "display_data"
    },
    {
     "data": {
      "application/vnd.jupyter.widget-view+json": {
       "model_id": "c4cf411f07354c1c9af245145d3f510c",
       "version_major": 2,
       "version_minor": 0
      },
      "text/plain": [
       "Image Batches:   0%|          | 0/13 [00:00<?, ?it/s]"
      ]
     },
     "metadata": {},
     "output_type": "display_data"
    },
    {
     "data": {
      "application/vnd.jupyter.widget-view+json": {
       "model_id": "bf262f6e0dea493384282f100ff32a5f",
       "version_major": 2,
       "version_minor": 0
      },
      "text/plain": [
       "Image Batches:   0%|          | 0/13 [00:00<?, ?it/s]"
      ]
     },
     "metadata": {},
     "output_type": "display_data"
    },
    {
     "data": {
      "application/vnd.jupyter.widget-view+json": {
       "model_id": "39fe4a40db1c4567b119332dd77864ba",
       "version_major": 2,
       "version_minor": 0
      },
      "text/plain": [
       "Image Batches:   0%|          | 0/13 [00:00<?, ?it/s]"
      ]
     },
     "metadata": {},
     "output_type": "display_data"
    },
    {
     "data": {
      "application/vnd.jupyter.widget-view+json": {
       "model_id": "48125ac0c69b495f8ecf2a6c276d3272",
       "version_major": 2,
       "version_minor": 0
      },
      "text/plain": [
       "Image Batches:   0%|          | 0/13 [00:00<?, ?it/s]"
      ]
     },
     "metadata": {},
     "output_type": "display_data"
    },
    {
     "data": {
      "application/vnd.jupyter.widget-view+json": {
       "model_id": "03d1996a9d41402b8f0c9b83a86f2eac",
       "version_major": 2,
       "version_minor": 0
      },
      "text/plain": [
       "Image Batches:   0%|          | 0/13 [00:00<?, ?it/s]"
      ]
     },
     "metadata": {},
     "output_type": "display_data"
    },
    {
     "data": {
      "application/vnd.jupyter.widget-view+json": {
       "model_id": "51fa424150a6479cb52d956def09da3c",
       "version_major": 2,
       "version_minor": 0
      },
      "text/plain": [
       "Image Batches:   0%|          | 0/29 [00:00<?, ?it/s]"
      ]
     },
     "metadata": {},
     "output_type": "display_data"
    },
    {
     "data": {
      "application/vnd.jupyter.widget-view+json": {
       "model_id": "714cde328be143fb8e57a01230cf2d39",
       "version_major": 2,
       "version_minor": 0
      },
      "text/plain": [
       "Image Batches:   0%|          | 0/13 [00:00<?, ?it/s]"
      ]
     },
     "metadata": {},
     "output_type": "display_data"
    },
    {
     "data": {
      "application/vnd.jupyter.widget-view+json": {
       "model_id": "116c2dcfbf814eb79b8e696d0e488f10",
       "version_major": 2,
       "version_minor": 0
      },
      "text/plain": [
       "Image Batches:   0%|          | 0/13 [00:00<?, ?it/s]"
      ]
     },
     "metadata": {},
     "output_type": "display_data"
    },
    {
     "data": {
      "application/vnd.jupyter.widget-view+json": {
       "model_id": "43bd1b3b6336419086b22fcfff900ba1",
       "version_major": 2,
       "version_minor": 0
      },
      "text/plain": [
       "Image Batches:   0%|          | 0/13 [00:00<?, ?it/s]"
      ]
     },
     "metadata": {},
     "output_type": "display_data"
    },
    {
     "data": {
      "application/vnd.jupyter.widget-view+json": {
       "model_id": "dcf44648e2a64f3aa88118b3dbe6d715",
       "version_major": 2,
       "version_minor": 0
      },
      "text/plain": [
       "Image Batches:   0%|          | 0/14 [00:00<?, ?it/s]"
      ]
     },
     "metadata": {},
     "output_type": "display_data"
    },
    {
     "data": {
      "application/vnd.jupyter.widget-view+json": {
       "model_id": "1c543443930540b197e87b55d3fd56df",
       "version_major": 2,
       "version_minor": 0
      },
      "text/plain": [
       "Image Batches:   0%|          | 0/13 [00:00<?, ?it/s]"
      ]
     },
     "metadata": {},
     "output_type": "display_data"
    },
    {
     "data": {
      "application/vnd.jupyter.widget-view+json": {
       "model_id": "f2c856d97c65472f9d2850f95ce90a04",
       "version_major": 2,
       "version_minor": 0
      },
      "text/plain": [
       "Image Batches:   0%|          | 0/13 [00:00<?, ?it/s]"
      ]
     },
     "metadata": {},
     "output_type": "display_data"
    },
    {
     "data": {
      "application/vnd.jupyter.widget-view+json": {
       "model_id": "32a4768b9ad44934b267458d0c1705a9",
       "version_major": 2,
       "version_minor": 0
      },
      "text/plain": [
       "Image Batches:   0%|          | 0/13 [00:00<?, ?it/s]"
      ]
     },
     "metadata": {},
     "output_type": "display_data"
    },
    {
     "data": {
      "application/vnd.jupyter.widget-view+json": {
       "model_id": "4f5513a383a24aa291836e588ecfdc47",
       "version_major": 2,
       "version_minor": 0
      },
      "text/plain": [
       "Image Batches:   0%|          | 0/13 [00:00<?, ?it/s]"
      ]
     },
     "metadata": {},
     "output_type": "display_data"
    },
    {
     "data": {
      "application/vnd.jupyter.widget-view+json": {
       "model_id": "8e24fdfc327144369bf05bc126a4d340",
       "version_major": 2,
       "version_minor": 0
      },
      "text/plain": [
       "Image Batches:   0%|          | 0/13 [00:00<?, ?it/s]"
      ]
     },
     "metadata": {},
     "output_type": "display_data"
    },
    {
     "data": {
      "application/vnd.jupyter.widget-view+json": {
       "model_id": "907d23925e774b96922f9e8a03259b06",
       "version_major": 2,
       "version_minor": 0
      },
      "text/plain": [
       "Image Batches:   0%|          | 0/13 [00:00<?, ?it/s]"
      ]
     },
     "metadata": {},
     "output_type": "display_data"
    },
    {
     "data": {
      "application/vnd.jupyter.widget-view+json": {
       "model_id": "714e53a9688d43e09c3b564a4c0e1989",
       "version_major": 2,
       "version_minor": 0
      },
      "text/plain": [
       "Image Batches:   0%|          | 0/15 [00:00<?, ?it/s]"
      ]
     },
     "metadata": {},
     "output_type": "display_data"
    },
    {
     "data": {
      "application/vnd.jupyter.widget-view+json": {
       "model_id": "adf51cc6247246778d0e604e56690778",
       "version_major": 2,
       "version_minor": 0
      },
      "text/plain": [
       "Image Batches:   0%|          | 0/13 [00:00<?, ?it/s]"
      ]
     },
     "metadata": {},
     "output_type": "display_data"
    },
    {
     "data": {
      "application/vnd.jupyter.widget-view+json": {
       "model_id": "ef89c8274be84cdd9c5d504a4ce7c68f",
       "version_major": 2,
       "version_minor": 0
      },
      "text/plain": [
       "Image Batches:   0%|          | 0/11 [00:00<?, ?it/s]"
      ]
     },
     "metadata": {},
     "output_type": "display_data"
    },
    {
     "data": {
      "application/vnd.jupyter.widget-view+json": {
       "model_id": "a702c260d1a34bf689f4ac73bf49cb7e",
       "version_major": 2,
       "version_minor": 0
      },
      "text/plain": [
       "Image Batches:   0%|          | 0/13 [00:00<?, ?it/s]"
      ]
     },
     "metadata": {},
     "output_type": "display_data"
    },
    {
     "data": {
      "application/vnd.jupyter.widget-view+json": {
       "model_id": "509784c3542b43bd850d1817224771a6",
       "version_major": 2,
       "version_minor": 0
      },
      "text/plain": [
       "Image Batches:   0%|          | 0/15 [00:00<?, ?it/s]"
      ]
     },
     "metadata": {},
     "output_type": "display_data"
    },
    {
     "data": {
      "application/vnd.jupyter.widget-view+json": {
       "model_id": "42a39f5cdba34eb297efd8f5f9597428",
       "version_major": 2,
       "version_minor": 0
      },
      "text/plain": [
       "Image Batches:   0%|          | 0/13 [00:00<?, ?it/s]"
      ]
     },
     "metadata": {},
     "output_type": "display_data"
    },
    {
     "data": {
      "application/vnd.jupyter.widget-view+json": {
       "model_id": "631df2f027c743b882009306c9548cb6",
       "version_major": 2,
       "version_minor": 0
      },
      "text/plain": [
       "Image Batches:   0%|          | 0/13 [00:00<?, ?it/s]"
      ]
     },
     "metadata": {},
     "output_type": "display_data"
    },
    {
     "data": {
      "application/vnd.jupyter.widget-view+json": {
       "model_id": "14f76bda0dcb4175b92d37428b8066c1",
       "version_major": 2,
       "version_minor": 0
      },
      "text/plain": [
       "Image Batches:   0%|          | 0/13 [00:00<?, ?it/s]"
      ]
     },
     "metadata": {},
     "output_type": "display_data"
    },
    {
     "data": {
      "application/vnd.jupyter.widget-view+json": {
       "model_id": "c1772da876bc4f08adc8a3146fccc5f9",
       "version_major": 2,
       "version_minor": 0
      },
      "text/plain": [
       "Image Batches:   0%|          | 0/13 [00:00<?, ?it/s]"
      ]
     },
     "metadata": {},
     "output_type": "display_data"
    },
    {
     "data": {
      "application/vnd.jupyter.widget-view+json": {
       "model_id": "1f7707faf17843a3a360c7ff8b2898f1",
       "version_major": 2,
       "version_minor": 0
      },
      "text/plain": [
       "Image Batches:   0%|          | 0/13 [00:00<?, ?it/s]"
      ]
     },
     "metadata": {},
     "output_type": "display_data"
    },
    {
     "data": {
      "application/vnd.jupyter.widget-view+json": {
       "model_id": "734293fb2f1b4f0b968e46cfe0e62d3f",
       "version_major": 2,
       "version_minor": 0
      },
      "text/plain": [
       "Image Batches:   0%|          | 0/14 [00:00<?, ?it/s]"
      ]
     },
     "metadata": {},
     "output_type": "display_data"
    },
    {
     "data": {
      "application/vnd.jupyter.widget-view+json": {
       "model_id": "8667c47f847a487cb833050c685b8e38",
       "version_major": 2,
       "version_minor": 0
      },
      "text/plain": [
       "Image Batches:   0%|          | 0/13 [00:00<?, ?it/s]"
      ]
     },
     "metadata": {},
     "output_type": "display_data"
    },
    {
     "data": {
      "application/vnd.jupyter.widget-view+json": {
       "model_id": "2c0efa4a3504469d9fb4548253f95781",
       "version_major": 2,
       "version_minor": 0
      },
      "text/plain": [
       "Image Batches:   0%|          | 0/13 [00:00<?, ?it/s]"
      ]
     },
     "metadata": {},
     "output_type": "display_data"
    },
    {
     "data": {
      "application/vnd.jupyter.widget-view+json": {
       "model_id": "e8b82c536d5741999a3a05a7db6d5ffb",
       "version_major": 2,
       "version_minor": 0
      },
      "text/plain": [
       "Image Batches:   0%|          | 0/13 [00:00<?, ?it/s]"
      ]
     },
     "metadata": {},
     "output_type": "display_data"
    },
    {
     "data": {
      "application/vnd.jupyter.widget-view+json": {
       "model_id": "555ea6a48f5942e3b4e22a2adfc92294",
       "version_major": 2,
       "version_minor": 0
      },
      "text/plain": [
       "Image Batches:   0%|          | 0/14 [00:00<?, ?it/s]"
      ]
     },
     "metadata": {},
     "output_type": "display_data"
    },
    {
     "data": {
      "application/vnd.jupyter.widget-view+json": {
       "model_id": "9c9a8a8f130946789e8b93562df0f0d2",
       "version_major": 2,
       "version_minor": 0
      },
      "text/plain": [
       "Image Batches:   0%|          | 0/13 [00:00<?, ?it/s]"
      ]
     },
     "metadata": {},
     "output_type": "display_data"
    },
    {
     "data": {
      "application/vnd.jupyter.widget-view+json": {
       "model_id": "7d422a9366e241b18e25d8148cbbca29",
       "version_major": 2,
       "version_minor": 0
      },
      "text/plain": [
       "Image Batches:   0%|          | 0/13 [00:00<?, ?it/s]"
      ]
     },
     "metadata": {},
     "output_type": "display_data"
    },
    {
     "data": {
      "application/vnd.jupyter.widget-view+json": {
       "model_id": "7c4989794d0e4adc8f19b8d9e67fbbc8",
       "version_major": 2,
       "version_minor": 0
      },
      "text/plain": [
       "Image Batches:   0%|          | 0/13 [00:00<?, ?it/s]"
      ]
     },
     "metadata": {},
     "output_type": "display_data"
    },
    {
     "data": {
      "application/vnd.jupyter.widget-view+json": {
       "model_id": "78e4dac6e7b84735a343e1dd0264ca92",
       "version_major": 2,
       "version_minor": 0
      },
      "text/plain": [
       "Image Batches:   0%|          | 0/13 [00:00<?, ?it/s]"
      ]
     },
     "metadata": {},
     "output_type": "display_data"
    },
    {
     "data": {
      "application/vnd.jupyter.widget-view+json": {
       "model_id": "a9ac6a42c937413ea2fe846714bcf0c9",
       "version_major": 2,
       "version_minor": 0
      },
      "text/plain": [
       "Image Batches:   0%|          | 0/13 [00:00<?, ?it/s]"
      ]
     },
     "metadata": {},
     "output_type": "display_data"
    },
    {
     "data": {
      "application/vnd.jupyter.widget-view+json": {
       "model_id": "ebb0bb8427d44f0492dbd44b4761d128",
       "version_major": 2,
       "version_minor": 0
      },
      "text/plain": [
       "Image Batches:   0%|          | 0/13 [00:00<?, ?it/s]"
      ]
     },
     "metadata": {},
     "output_type": "display_data"
    },
    {
     "data": {
      "application/vnd.jupyter.widget-view+json": {
       "model_id": "bd7ed7efcdba4867816d79b07a3537ca",
       "version_major": 2,
       "version_minor": 0
      },
      "text/plain": [
       "Image Batches:   0%|          | 0/13 [00:00<?, ?it/s]"
      ]
     },
     "metadata": {},
     "output_type": "display_data"
    },
    {
     "data": {
      "application/vnd.jupyter.widget-view+json": {
       "model_id": "cee669fbf2154c28b762105d764f7b29",
       "version_major": 2,
       "version_minor": 0
      },
      "text/plain": [
       "Image Batches:   0%|          | 0/25 [00:00<?, ?it/s]"
      ]
     },
     "metadata": {},
     "output_type": "display_data"
    },
    {
     "data": {
      "application/vnd.jupyter.widget-view+json": {
       "model_id": "2c8a129939ac4f449b196427527ad472",
       "version_major": 2,
       "version_minor": 0
      },
      "text/plain": [
       "Image Batches:   0%|          | 0/13 [00:00<?, ?it/s]"
      ]
     },
     "metadata": {},
     "output_type": "display_data"
    },
    {
     "data": {
      "application/vnd.jupyter.widget-view+json": {
       "model_id": "b063699869e24dda9e25833fcfabfdfd",
       "version_major": 2,
       "version_minor": 0
      },
      "text/plain": [
       "Image Batches:   0%|          | 0/13 [00:00<?, ?it/s]"
      ]
     },
     "metadata": {},
     "output_type": "display_data"
    },
    {
     "data": {
      "application/vnd.jupyter.widget-view+json": {
       "model_id": "79f62d41acea47f99ebbf4f5044899a7",
       "version_major": 2,
       "version_minor": 0
      },
      "text/plain": [
       "Image Batches:   0%|          | 0/13 [00:00<?, ?it/s]"
      ]
     },
     "metadata": {},
     "output_type": "display_data"
    },
    {
     "data": {
      "application/vnd.jupyter.widget-view+json": {
       "model_id": "2dfe1801dc15492b9f8f12c44eb298ac",
       "version_major": 2,
       "version_minor": 0
      },
      "text/plain": [
       "Image Batches:   0%|          | 0/13 [00:00<?, ?it/s]"
      ]
     },
     "metadata": {},
     "output_type": "display_data"
    },
    {
     "data": {
      "application/vnd.jupyter.widget-view+json": {
       "model_id": "0bc8ad3143fa40cab44f6d468d642a1a",
       "version_major": 2,
       "version_minor": 0
      },
      "text/plain": [
       "Image Batches:   0%|          | 0/26 [00:00<?, ?it/s]"
      ]
     },
     "metadata": {},
     "output_type": "display_data"
    },
    {
     "data": {
      "application/vnd.jupyter.widget-view+json": {
       "model_id": "74592bee49824ccfb2988ef13145c4a6",
       "version_major": 2,
       "version_minor": 0
      },
      "text/plain": [
       "Image Batches:   0%|          | 0/13 [00:00<?, ?it/s]"
      ]
     },
     "metadata": {},
     "output_type": "display_data"
    },
    {
     "data": {
      "application/vnd.jupyter.widget-view+json": {
       "model_id": "0c534d6bd0be442b8a3932fb2144adb2",
       "version_major": 2,
       "version_minor": 0
      },
      "text/plain": [
       "Image Batches:   0%|          | 0/13 [00:00<?, ?it/s]"
      ]
     },
     "metadata": {},
     "output_type": "display_data"
    },
    {
     "data": {
      "application/vnd.jupyter.widget-view+json": {
       "model_id": "614da5949e374ef38143fe2f039ac59a",
       "version_major": 2,
       "version_minor": 0
      },
      "text/plain": [
       "Image Batches:   0%|          | 0/13 [00:00<?, ?it/s]"
      ]
     },
     "metadata": {},
     "output_type": "display_data"
    },
    {
     "data": {
      "application/vnd.jupyter.widget-view+json": {
       "model_id": "8db05a11c3f44d0888190036da6a408f",
       "version_major": 2,
       "version_minor": 0
      },
      "text/plain": [
       "Image Batches:   0%|          | 0/14 [00:00<?, ?it/s]"
      ]
     },
     "metadata": {},
     "output_type": "display_data"
    },
    {
     "data": {
      "application/vnd.jupyter.widget-view+json": {
       "model_id": "47b72f30de414b6ea662f56147143c2e",
       "version_major": 2,
       "version_minor": 0
      },
      "text/plain": [
       "Image Batches:   0%|          | 0/30 [00:00<?, ?it/s]"
      ]
     },
     "metadata": {},
     "output_type": "display_data"
    },
    {
     "data": {
      "application/vnd.jupyter.widget-view+json": {
       "model_id": "cc324a5b1af94278b263ed8c395e1913",
       "version_major": 2,
       "version_minor": 0
      },
      "text/plain": [
       "Image Batches:   0%|          | 0/13 [00:00<?, ?it/s]"
      ]
     },
     "metadata": {},
     "output_type": "display_data"
    },
    {
     "data": {
      "application/vnd.jupyter.widget-view+json": {
       "model_id": "c286f22e82b34249ae969df2371d5c4f",
       "version_major": 2,
       "version_minor": 0
      },
      "text/plain": [
       "Image Batches:   0%|          | 0/13 [00:00<?, ?it/s]"
      ]
     },
     "metadata": {},
     "output_type": "display_data"
    },
    {
     "data": {
      "application/vnd.jupyter.widget-view+json": {
       "model_id": "47a0d259938d4009971cb8dcf050ad94",
       "version_major": 2,
       "version_minor": 0
      },
      "text/plain": [
       "Image Batches:   0%|          | 0/25 [00:00<?, ?it/s]"
      ]
     },
     "metadata": {},
     "output_type": "display_data"
    },
    {
     "data": {
      "application/vnd.jupyter.widget-view+json": {
       "model_id": "affffcfab33b4a778b6d05fc36a00808",
       "version_major": 2,
       "version_minor": 0
      },
      "text/plain": [
       "Image Batches:   0%|          | 0/26 [00:00<?, ?it/s]"
      ]
     },
     "metadata": {},
     "output_type": "display_data"
    },
    {
     "data": {
      "application/vnd.jupyter.widget-view+json": {
       "model_id": "f1d333db4ceb4b3f9b72788a184a5b36",
       "version_major": 2,
       "version_minor": 0
      },
      "text/plain": [
       "Image Batches:   0%|          | 0/13 [00:00<?, ?it/s]"
      ]
     },
     "metadata": {},
     "output_type": "display_data"
    },
    {
     "data": {
      "application/vnd.jupyter.widget-view+json": {
       "model_id": "69576bec177c46038896a03d30e4738a",
       "version_major": 2,
       "version_minor": 0
      },
      "text/plain": [
       "Image Batches:   0%|          | 0/14 [00:00<?, ?it/s]"
      ]
     },
     "metadata": {},
     "output_type": "display_data"
    },
    {
     "data": {
      "application/vnd.jupyter.widget-view+json": {
       "model_id": "d42fe156183a4f30b6824711c8a5cdbb",
       "version_major": 2,
       "version_minor": 0
      },
      "text/plain": [
       "Image Batches:   0%|          | 0/26 [00:00<?, ?it/s]"
      ]
     },
     "metadata": {},
     "output_type": "display_data"
    },
    {
     "data": {
      "application/vnd.jupyter.widget-view+json": {
       "model_id": "df26dd4d46674b4293046c1fda85a904",
       "version_major": 2,
       "version_minor": 0
      },
      "text/plain": [
       "Image Batches:   0%|          | 0/13 [00:00<?, ?it/s]"
      ]
     },
     "metadata": {},
     "output_type": "display_data"
    },
    {
     "data": {
      "application/vnd.jupyter.widget-view+json": {
       "model_id": "35cab0ac1fad41bcb12f7fb365b1d2da",
       "version_major": 2,
       "version_minor": 0
      },
      "text/plain": [
       "Image Batches:   0%|          | 0/13 [00:00<?, ?it/s]"
      ]
     },
     "metadata": {},
     "output_type": "display_data"
    },
    {
     "data": {
      "application/vnd.jupyter.widget-view+json": {
       "model_id": "fd6d2cd80f384a7d8f070a813576ec15",
       "version_major": 2,
       "version_minor": 0
      },
      "text/plain": [
       "Image Batches:   0%|          | 0/13 [00:00<?, ?it/s]"
      ]
     },
     "metadata": {},
     "output_type": "display_data"
    },
    {
     "data": {
      "application/vnd.jupyter.widget-view+json": {
       "model_id": "c7f47bdd76ce4df5a9f3b104213ff2f0",
       "version_major": 2,
       "version_minor": 0
      },
      "text/plain": [
       "Image Batches:   0%|          | 0/24 [00:00<?, ?it/s]"
      ]
     },
     "metadata": {},
     "output_type": "display_data"
    },
    {
     "name": "stdout",
     "output_type": "stream",
     "text": [
      "Validation Accuracy: 82.75%\n",
      "Validation Log Loss: 0.4798\n",
      "Validation Time: 8.42 minutes\n",
      "Validation Single Inference Time: 0.01 seconds\n",
      "Validation FPS: 76.56 images/second\n"
     ]
    }
   ],
   "source": [
    "batch_size = 24\n",
    "video_paths = x_val\n",
    "video_labels = y_val\n",
    "labels = []\n",
    "\n",
    "model.eval()\n",
    "classifier.eval()\n",
    "\n",
    "running_loss = 0.0\n",
    "total_batches = 0\n",
    "total_images = 0\n",
    "correct = 0\n",
    "total = 0\n",
    "\n",
    "start_time = time.time()\n",
    "\n",
    "video_bar = tqdm(zip(video_paths, video_labels),desc='Videos', total=len(video_paths))\n",
    "for path, label in video_bar:\n",
    "    image_files = sorted([ os.path.join(path, f)\n",
    "    for f in os.listdir(path)\n",
    "    if f.lower().endswith('.png')\n",
    "    ])\n",
    "\n",
    "    labels.extend([label] * len(image_files))  # Repeat label for each image\n",
    "    total_images += len(image_files)\n",
    "\n",
    "    for i in tqdm(range(0, len(image_files), batch_size), desc='Image Batches', leave=False):\n",
    "        total_batches += 1\n",
    "        batch_paths = image_files[i:i+batch_size]\n",
    "        images = [Image.open(p).convert(\"RGB\") for p in batch_paths]\n",
    "        inputs = processor(images=images, return_tensors=\"pt\")\n",
    "        inputs = {k: v.to(device) for k, v in inputs.items()}\n",
    "\n",
    "        batch_labels = torch.tensor([label] * len(images), dtype=torch.float).unsqueeze(1).to(device)\n",
    "\n",
    "        with torch.no_grad():\n",
    "            outputs = model(**inputs)\n",
    "            cls_embeddings = outputs.last_hidden_state[:, 0, :]  # (batch, hidden_dim)\n",
    "            outputs = classifier(cls_embeddings)  # (batch, 1)\n",
    "\n",
    "            running_loss += criterion(outputs, batch_labels).item()\n",
    "            preds = (torch.sigmoid(outputs) > 0.5).int()\n",
    "            correct += (preds == batch_labels.int()).sum().item()\n",
    "            total += batch_labels.size(0)\n",
    "\n",
    "    accuracy = correct / total\n",
    "    val_loss = running_loss / total_batches if total_batches > 0 else 0\n",
    "\n",
    "end_time = time.time()\n",
    "vali_time = end_time - start_time\n",
    "vali_inf_time = vali_time / total_images\n",
    "vali_fps = total_images / vali_time\n",
    "\n",
    "print(f\"Validation Accuracy: {accuracy*100:.2f}%\")\n",
    "print(f\"Validation Log Loss: {val_loss:.4f}\")\n",
    "\n",
    "print(f\"Validation Time: {vali_time/60:.2f} minutes\")\n",
    "print(f\"Validation Single Inference Time: {vali_inf_time:.2f} seconds\")\n",
    "print(f\"Validation FPS: {vali_fps:.2f} images/second\")\n",
    "\n",
    "\n",
    "\n",
    "\n",
    "###########################################################################################################################\n",
    "\n",
    "# for path, label in tqdm(zip(video_paths, video_labels),desc='Videos', total=len(video_paths)):\n",
    "#     image_files = sorted([ os.path.join(path, f)\n",
    "#     for f in os.listdir(path)\n",
    "#     if f.lower().endswith('.png')\n",
    "#     ])\n",
    "\n",
    "#     feat_labels.extend([label] * len(image_files))  # Repeat label for each image\n",
    "\n",
    "#     for i in tqdm(range(0, len(image_files), batch_size), desc='Image Batches', leave=False):\n",
    "#         batch_paths = image_files[i:i+batch_size]\n",
    "#         images = [Image.open(p).convert(\"RGB\") for p in batch_paths]\n",
    "#         inputs = processor(images=images, return_tensors=\"pt\")\n",
    "#         inputs = {k: v.to(device) for k, v in inputs.items()}\n",
    "\n",
    "\n",
    "#         with torch.no_grad():\n",
    "#             outputs = model(**inputs)\n",
    "#             cls_embeddings = outputs.last_hidden_state[:, 0, :]  # (batch, hidden_dim)\n",
    "#             features.append(cls_embeddings.cpu())\n",
    "\n",
    "\n",
    "# val_features = torch.cat(features, dim=0)  # (total_num_images, hidden_dim)\n",
    "# val_feat_labels = torch.tensor(feat_labels)\n",
    "\n",
    "# torch.save(val_features, 'val_features.pt')\n",
    "# torch.save(val_feat_labels, 'val_feat_labels.pt')\n",
    "\n",
    "\n",
    "#########################################################################3#################################################\n",
    "\n",
    "# classifier.eval()\n",
    "# correct = 0\n",
    "# total = 0\n",
    "# batch_loss = 0.0\n",
    "# with torch.no_grad():\n",
    "#     batch_bar = tqdm(val_loader, desc='Batches')\n",
    "#     for features_batch, labels_batch in batch_bar:\n",
    "#         features_batch = features_batch.to(device)\n",
    "#         labels_batch = labels_batch.float().unsqueeze(1).to(device)\n",
    "#         outputs = classifier(features_batch)\n",
    "\n",
    "#         batch_loss += criterion(outputs, labels_batch).item()\n",
    "#         preds = (torch.sigmoid(outputs) > 0.5).int()\n",
    "#         correct += (preds == labels_batch.int()).sum().item()\n",
    "#         total += labels_batch.size(0)\n",
    "# accuracy = correct / total\n",
    "# val_loss = batch_loss / len(val_loader)\n",
    "# print(f\"Validation Accuracy: {accuracy*100:.2f}%\")\n",
    "# print(f\"Validation Log Loss: {val_loss:.4f}\")\n",
    "\n"
   ]
  },
  {
   "cell_type": "markdown",
   "id": "c1962210",
   "metadata": {},
   "source": [
    "Measuring Gflops"
   ]
  },
  {
   "cell_type": "code",
   "execution_count": 16,
   "id": "4f0f5b58",
   "metadata": {},
   "outputs": [
    {
     "name": "stdout",
     "output_type": "stream",
     "text": [
      "Total:4.37 GMac\n",
      "Module:  Global\n",
      "aten.convolution: 115.64 MMac\n",
      "aten.addmm: 4.25 GMac\n",
      "\n",
      "Module:  embeddings\n",
      "aten.convolution: 115.64 MMac\n",
      "\n",
      "Module:  encoder\n",
      "aten.addmm: 4.25 GMac\n",
      "\n",
      "Module:  pooler\n",
      "aten.addmm: 590.59 KMac\n",
      "\n",
      "FLOP: 8.73 GFLOP\n",
      "Params: 28.35 M\n"
     ]
    }
   ],
   "source": [
    "\n",
    "\n",
    "# Replace this with your actual model instance\n",
    "input_shape = (3, 224, 224)  # Typical for ViT, adjust as needed\n",
    "\n",
    "macs, params = get_model_complexity_info(\n",
    "    model, input_shape, as_strings=False, print_per_layer_stat=True, backend='aten'\n",
    ")\n",
    "print(f\"FLOP: {2*macs/1000000000:.2f} GFLOP\")\n",
    "print(f\"Params: {params/1000000:.2f} M\")\n"
   ]
  }
 ],
 "metadata": {
  "kernelspec": {
   "display_name": "env1",
   "language": "python",
   "name": "python3"
  },
  "language_info": {
   "codemirror_mode": {
    "name": "ipython",
    "version": 3
   },
   "file_extension": ".py",
   "mimetype": "text/x-python",
   "name": "python",
   "nbconvert_exporter": "python",
   "pygments_lexer": "ipython3",
   "version": "3.13.2"
  }
 },
 "nbformat": 4,
 "nbformat_minor": 5
}
